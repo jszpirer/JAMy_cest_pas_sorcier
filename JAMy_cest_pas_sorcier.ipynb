{
 "cells": [
  {
   "cell_type": "markdown",
   "id": "9e85cf4c",
   "metadata": {},
   "source": [
    "# JAMy_cest_pas_sorcier Project\n",
    "### Alexandre Flachs, Marie Giot & Jeanne Szpirer\n",
    "\n",
    "#### Participation to \"Flu Shot Learning: Predict H1N1 and Seasonal Flu Vaccines\" competition"
   ]
  },
  {
   "cell_type": "markdown",
   "id": "6bb999d2",
   "metadata": {},
   "source": [
    "First we need to charge all the data (training set features, test set features and training set labels)."
   ]
  },
  {
   "cell_type": "code",
   "execution_count": null,
   "id": "c86bb18a",
   "metadata": {},
   "outputs": [],
   "source": [
    "# Training set features\n",
    "training_set_features <- read.csv(\"training_set_features.csv\")\n",
    "dim(training_set_features)"
   ]
  },
  {
   "cell_type": "code",
   "execution_count": null,
   "id": "e52068c1",
   "metadata": {},
   "outputs": [],
   "source": [
    "# Test set features\n",
    "test_set_features <- read.csv(\"test_set_features.csv\")\n",
    "dim(test_set_features)"
   ]
  },
  {
   "cell_type": "code",
   "execution_count": null,
   "id": "c0362eed",
   "metadata": {},
   "outputs": [],
   "source": [
    "# Training set labels\n",
    "training_set_labels <- read.csv(\"training_set_labels.csv\")\n",
    "dim(training_set_labels)"
   ]
  },
  {
   "cell_type": "markdown",
   "id": "bfa48f23",
   "metadata": {},
   "source": [
    "We can see that the training features set and the training labels set has the same amount of lines, this is a first good sign because it means that we have an \"answer\" for every training line."
   ]
  }
 ],
 "metadata": {
  "kernelspec": {
   "display_name": "R",
   "language": "R",
   "name": "ir"
  },
  "language_info": {
   "codemirror_mode": "r",
   "file_extension": ".r",
   "mimetype": "text/x-r-source",
   "name": "R",
   "pygments_lexer": "r",
   "version": "4.1.2"
  }
 },
 "nbformat": 4,
 "nbformat_minor": 5
}
