{
 "cells": [
  {
   "cell_type": "markdown",
   "id": "f737ec72",
   "metadata": {},
   "source": [
    "# JAMy_cest_pas_sorcier Project\n",
    "### Alexandre Flachs, Marie Giot & Jeanne Szpirer\n",
    "\n",
    "#### Participation to \"Flu Shot Learning: Predict H1N1 and Seasonal Flu Vaccines\" competition"
   ]
  },
  {
   "cell_type": "markdown",
   "id": "47b81b39",
   "metadata": {},
   "source": [
    "First we need to charge all the data (training set features, test set features and training set labels)."
   ]
  },
  {
   "cell_type": "code",
   "execution_count": null,
   "id": "ffea63d2",
   "metadata": {},
   "outputs": [],
   "source": [
    "# Training set features\n",
    "training_set_features <- read.csv(\"training_set_features.csv\")\n",
    "dim(training_set_features)"
   ]
  },
  {
   "cell_type": "code",
   "execution_count": null,
   "id": "3ba809f6",
   "metadata": {},
   "outputs": [],
   "source": [
    "# Test set features\n",
    "test_set_features <- read.csv(\"test_set_features.csv\")\n",
    "dim(test_set_features)"
   ]
  },
  {
   "cell_type": "code",
   "execution_count": null,
   "id": "6cb34ce9",
   "metadata": {},
   "outputs": [],
   "source": [
    "# Training set labels\n",
    "training_set_labels <- read.csv(\"training_set_labels.csv\")\n",
    "dim(training_set_labels)"
   ]
  },
  {
   "cell_type": "markdown",
   "id": "0f27028b",
   "metadata": {},
   "source": [
    "We can see that the training features set and the training labels set has the same amount of lines, this is a first good sign because it means that we have an \"answer\" for every training line.\n",
    "Then we can check if there is any missing value."
   ]
  },
  {
   "cell_type": "code",
   "execution_count": null,
   "id": "86387a67",
   "metadata": {},
   "outputs": [],
   "source": [
    "# First method\n",
    "dim(na.omit(training_set_features))\n",
    "dim(na.omit(test_set_features))\n",
    "dim(na.omit(training_set_labels))\n",
    "\n",
    "# Second method\n",
    "apply(is.na(training_set_features),2,any)\n",
    "apply(is.na(test_set_features),2,any)\n",
    "apply(is.na(training_set_labels),2,any)"
   ]
  },
  {
   "cell_type": "markdown",
   "id": "17d08b17",
   "metadata": {},
   "source": [
    "There are missing values in the features sets(13 506 lines instead of 26 707 in training set and 13 513 lines instead of 26 708 in test set). We can replace them with mean values like we did in the practicals."
   ]
  }
 ],
 "metadata": {
  "kernelspec": {
   "display_name": "R",
   "language": "R",
   "name": "ir"
  },
  "language_info": {
   "codemirror_mode": "r",
   "file_extension": ".r",
   "mimetype": "text/x-r-source",
   "name": "R",
   "pygments_lexer": "r",
   "version": "4.1.2"
  }
 },
 "nbformat": 4,
 "nbformat_minor": 5
}
