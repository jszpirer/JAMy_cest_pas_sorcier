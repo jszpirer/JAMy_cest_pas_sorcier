{
 "cells": [
  {
   "cell_type": "markdown",
   "metadata": {},
   "source": [
    "# INFO-F-422 -  Statistical Foundations of Machine Learning \n",
    "\n",
    "### Alexandre Flachs - __[alexandre.flachs@ulb.be](mailto:alexandre.flachs@ulb.be) - Student ID 474748__\n",
    "### Marie Giot - __[marie.giot@ulb.be](mailto:marie.giot@ulb.be) - Student ID 474915__\n",
    "### Jeanne Szpirer - __[jeanne.szpirer@ulb.be](mailto:jeanne.szpirer@ulb.be) - Student ID 477286__\n",
    "\n",
    "### Video presentation: www.youtube.com/abcd1234\n",
    "\n",
    "## Flu Shot Learning: Predict H1N1 and Seasonal Flu Vaccines\n"
   ]
  },
  {
   "cell_type": "markdown",
   "metadata": {},
   "source": [
    "# Introduction\n"
   ]
  },
  {
   "cell_type": "markdown",
   "metadata": {},
   "source": [
    "The project's goal is to propose efficient machine learning methods to predict the likelihood of patients to get a vaccine for H1N1 or Seasonal Flu. This challenge was inititated by the \"Driven Data\" plateforme. Four different techniques are presented hereunder and their costs and their results will be discussed. The group also submitted its result on the Driven Data plateforme for the challenge in order to receive a score and compare it to the other paticipants."
   ]
  },
  {
   "cell_type": "markdown",
   "metadata": {},
   "source": [
    "# Data preprocessing\n",
    "\n",
    "Before working any model we need to preprocess the data to make it usefull. This pipeline in divided intro three parts :\n",
    "1. **Missing value imputation** : Replace missing values, possibly using other known values\n",
    "2. **Feature engineering** : Define useful features from available ones. \n",
    "3. **Feature selection** : Some features might be useless or give wrong indications to the model, we might need to remove some features.\n",
    "\n",
    "Let's start by importing our data, then develop each of the above parts."
   ]
  },
  {
   "cell_type": "code",
   "execution_count": 15,
   "metadata": {},
   "outputs": [
    {
     "data": {
      "text/html": [
       "<style>\n",
       ".list-inline {list-style: none; margin:0; padding: 0}\n",
       ".list-inline>li {display: inline-block}\n",
       ".list-inline>li:not(:last-child)::after {content: \"\\00b7\"; padding: 0 .5ex}\n",
       "</style>\n",
       "<ol class=list-inline><li>26707</li><li>36</li></ol>\n"
      ],
      "text/latex": [
       "\\begin{enumerate*}\n",
       "\\item 26707\n",
       "\\item 36\n",
       "\\end{enumerate*}\n"
      ],
      "text/markdown": [
       "1. 26707\n",
       "2. 36\n",
       "\n",
       "\n"
      ],
      "text/plain": [
       "[1] 26707    36"
      ]
     },
     "metadata": {},
     "output_type": "display_data"
    },
    {
     "data": {
      "text/html": [
       "<style>\n",
       ".list-inline {list-style: none; margin:0; padding: 0}\n",
       ".list-inline>li {display: inline-block}\n",
       ".list-inline>li:not(:last-child)::after {content: \"\\00b7\"; padding: 0 .5ex}\n",
       "</style>\n",
       "<ol class=list-inline><li>26708</li><li>36</li></ol>\n"
      ],
      "text/latex": [
       "\\begin{enumerate*}\n",
       "\\item 26708\n",
       "\\item 36\n",
       "\\end{enumerate*}\n"
      ],
      "text/markdown": [
       "1. 26708\n",
       "2. 36\n",
       "\n",
       "\n"
      ],
      "text/plain": [
       "[1] 26708    36"
      ]
     },
     "metadata": {},
     "output_type": "display_data"
    },
    {
     "data": {
      "text/html": [
       "<style>\n",
       ".list-inline {list-style: none; margin:0; padding: 0}\n",
       ".list-inline>li {display: inline-block}\n",
       ".list-inline>li:not(:last-child)::after {content: \"\\00b7\"; padding: 0 .5ex}\n",
       "</style>\n",
       "<ol class=list-inline><li>26707</li><li>3</li></ol>\n"
      ],
      "text/latex": [
       "\\begin{enumerate*}\n",
       "\\item 26707\n",
       "\\item 3\n",
       "\\end{enumerate*}\n"
      ],
      "text/markdown": [
       "1. 26707\n",
       "2. 3\n",
       "\n",
       "\n"
      ],
      "text/plain": [
       "[1] 26707     3"
      ]
     },
     "metadata": {},
     "output_type": "display_data"
    }
   ],
>>>>>>> 1ce82420c6d375376f7e32f28f696bf4f5adbab6
   "source": [
    "# Training set features\n",
    "training_set_features <- read.csv(\"training_set_features.csv\", stringsAsFactors = T, na.strings = c(\"NA\", \"\"))\n",
    "dim(training_set_features)\n",
    "\n",
    "# Test set features\n",
    "test_set_features <- read.csv(\"test_set_features.csv\", stringsAsFactors = T, na.strings = c(\"NA\", \"\"))\n",
    "dim(test_set_features)\n",
    "\n",
    "# Training set labels\n",
    "training_set_labels <- read.csv(\"training_set_labels.csv\", stringsAsFactors = T, na.strings = c(\"NA\", \"\"))\n",
    "dim(training_set_labels)"
   ]
  },
  {
   "cell_type": "markdown",
   "metadata": {},
   "source": [
    "We can see that the training features set and the training labels set has the same amount of lines, this is a first good sign because it means that we have an \"answer\" for every training line."
   ]
  },
  {
   "cell_type": "markdown",
   "metadata": {},
   "source": [
    "## Missing value imputation\n"
   ]
  },
  {
   "cell_type": "markdown",
   "metadata": {},
   "source": [
    "We summarize our data before doing any work."
   ]
  },
  {
   "cell_type": "code",
   "execution_count": 16,
   "metadata": {},
   "outputs": [
    {
     "data": {
      "text/plain": [
       " respondent_id    h1n1_concern   h1n1_knowledge  behavioral_antiviral_meds\n",
       " Min.   :    0   Min.   :0.000   Min.   :0.000   Min.   :0.00000          \n",
       " 1st Qu.: 6676   1st Qu.:1.000   1st Qu.:1.000   1st Qu.:0.00000          \n",
       " Median :13353   Median :2.000   Median :1.000   Median :0.00000          \n",
       " Mean   :13353   Mean   :1.618   Mean   :1.263   Mean   :0.04884          \n",
       " 3rd Qu.:20030   3rd Qu.:2.000   3rd Qu.:2.000   3rd Qu.:0.00000          \n",
       " Max.   :26706   Max.   :3.000   Max.   :2.000   Max.   :1.00000          \n",
       "                 NA's   :92      NA's   :116     NA's   :71               \n",
       " behavioral_avoidance behavioral_face_mask behavioral_wash_hands\n",
       " Min.   :0.0000       Min.   :0.00000      Min.   :0.0000       \n",
       " 1st Qu.:0.0000       1st Qu.:0.00000      1st Qu.:1.0000       \n",
       " Median :1.0000       Median :0.00000      Median :1.0000       \n",
       " Mean   :0.7256       Mean   :0.06898      Mean   :0.8256       \n",
       " 3rd Qu.:1.0000       3rd Qu.:0.00000      3rd Qu.:1.0000       \n",
       " Max.   :1.0000       Max.   :1.00000      Max.   :1.0000       \n",
       " NA's   :208          NA's   :19           NA's   :42           \n",
       " behavioral_large_gatherings behavioral_outside_home behavioral_touch_face\n",
       " Min.   :0.0000              Min.   :0.0000          Min.   :0.0000       \n",
       " 1st Qu.:0.0000              1st Qu.:0.0000          1st Qu.:0.0000       \n",
       " Median :0.0000              Median :0.0000          Median :1.0000       \n",
       " Mean   :0.3586              Mean   :0.3373          Mean   :0.6773       \n",
       " 3rd Qu.:1.0000              3rd Qu.:1.0000          3rd Qu.:1.0000       \n",
       " Max.   :1.0000              Max.   :1.0000          Max.   :1.0000       \n",
       " NA's   :87                  NA's   :82              NA's   :128          \n",
       " doctor_recc_h1n1 doctor_recc_seasonal chronic_med_condition\n",
       " Min.   :0.0000   Min.   :0.0000       Min.   :0.0000       \n",
       " 1st Qu.:0.0000   1st Qu.:0.0000       1st Qu.:0.0000       \n",
       " Median :0.0000   Median :0.0000       Median :0.0000       \n",
       " Mean   :0.2203   Mean   :0.3297       Mean   :0.2833       \n",
       " 3rd Qu.:0.0000   3rd Qu.:1.0000       3rd Qu.:1.0000       \n",
       " Max.   :1.0000   Max.   :1.0000       Max.   :1.0000       \n",
       " NA's   :2160     NA's   :2160         NA's   :971          \n",
       " child_under_6_months health_worker    health_insurance\n",
       " Min.   :0.0000       Min.   :0.0000   Min.   :0.00    \n",
       " 1st Qu.:0.0000       1st Qu.:0.0000   1st Qu.:1.00    \n",
       " Median :0.0000       Median :0.0000   Median :1.00    \n",
       " Mean   :0.0826       Mean   :0.1119   Mean   :0.88    \n",
       " 3rd Qu.:0.0000       3rd Qu.:0.0000   3rd Qu.:1.00    \n",
       " Max.   :1.0000       Max.   :1.0000   Max.   :1.00    \n",
       " NA's   :820          NA's   :804      NA's   :12274   \n",
       " opinion_h1n1_vacc_effective opinion_h1n1_risk opinion_h1n1_sick_from_vacc\n",
       " Min.   :1.000               Min.   :1.000     Min.   :1.000              \n",
       " 1st Qu.:3.000               1st Qu.:1.000     1st Qu.:1.000              \n",
       " Median :4.000               Median :2.000     Median :2.000              \n",
       " Mean   :3.851               Mean   :2.343     Mean   :2.358              \n",
       " 3rd Qu.:5.000               3rd Qu.:4.000     3rd Qu.:4.000              \n",
       " Max.   :5.000               Max.   :5.000     Max.   :5.000              \n",
       " NA's   :391                 NA's   :388       NA's   :395                \n",
       " opinion_seas_vacc_effective opinion_seas_risk opinion_seas_sick_from_vacc\n",
       " Min.   :1.000               Min.   :1.000     Min.   :1.000              \n",
       " 1st Qu.:4.000               1st Qu.:2.000     1st Qu.:1.000              \n",
       " Median :4.000               Median :2.000     Median :2.000              \n",
       " Mean   :4.026               Mean   :2.719     Mean   :2.118              \n",
       " 3rd Qu.:5.000               3rd Qu.:4.000     3rd Qu.:4.000              \n",
       " Max.   :5.000               Max.   :5.000     Max.   :5.000              \n",
       " NA's   :462                 NA's   :514       NA's   :537                \n",
       "         age_group               education                    race      \n",
       " 18 - 34 Years:5215   < 12 Years      : 2363   Black            : 2118  \n",
       " 35 - 44 Years:3848   12 Years        : 5797   Hispanic         : 1755  \n",
       " 45 - 54 Years:5238   College Graduate:10097   Other or Multiple: 1612  \n",
       " 55 - 64 Years:5563   Some College    : 7043   White            :21222  \n",
       " 65+ Years    :6843   NA's            : 1407                            \n",
       "                                                                        \n",
       "                                                                        \n",
       "     sex                          income_poverty      marital_status \n",
       " Female:15858   <= $75,000, Above Poverty:12777   Married    :13555  \n",
       " Male  :10849   > $75,000                : 6810   Not Married:11744  \n",
       "                Below Poverty            : 2697   NA's       : 1408  \n",
       "                NA's                     : 4423                      \n",
       "                                                                     \n",
       "                                                                     \n",
       "                                                                     \n",
       " rent_or_own           employment_status  hhs_geo_region\n",
       " Own :18736   Employed          :13560   lzgpxyit:4297  \n",
       " Rent: 5929   Not in Labor Force:10231   fpwskwrf:3265  \n",
       " NA's: 2042   Unemployed        : 1453   qufhixun:3102  \n",
       "              NA's              : 1463   oxchjgsf:2859  \n",
       "                                         kbazzjca:2858  \n",
       "                                         bhuqouqj:2846  \n",
       "                                         (Other) :7480  \n",
       "                    census_msa    household_adults household_children\n",
       " MSA, Not Principle  City:11645   Min.   :0.0000   Min.   :0.0000    \n",
       " MSA, Principle City     : 7864   1st Qu.:0.0000   1st Qu.:0.0000    \n",
       " Non-MSA                 : 7198   Median :1.0000   Median :0.0000    \n",
       "                                  Mean   :0.8865   Mean   :0.5346    \n",
       "                                  3rd Qu.:1.0000   3rd Qu.:1.0000    \n",
       "                                  Max.   :3.0000   Max.   :3.0000    \n",
       "                                  NA's   :249      NA's   :249       \n",
       " employment_industry employment_occupation\n",
       " fcxhlnwr: 2468      xtkaffoo: 1778       \n",
       " wxleyezf: 1804      mxkfnird: 1509       \n",
       " ldnlellj: 1231      emcorrxb: 1270       \n",
       " pxcmvdjn: 1037      cmhcxjea: 1247       \n",
       " atmlpfrs:  926      xgwztkwe: 1082       \n",
       " (Other) : 5911      (Other) : 6351       \n",
       " NA's    :13330      NA's    :13470       "
      ]
     },
     "metadata": {},
     "output_type": "display_data"
    }
   ],
>>>>>>> 1ce82420c6d375376f7e32f28f696bf4f5adbab6
   "source": [
    "summary(training_set_features)"
   ]
  },
  {
   "cell_type": "markdown",
   "metadata": {},
   "source": [
    "We see that we have many missing values, in most features. We can compare the number of lines left if we remove any line containing any missing value."
   ]
  },
  {
   "cell_type": "code",
   "execution_count": 17,
   "metadata": {},
   "outputs": [
    {
     "name": "stdout",
     "output_type": "stream",
     "text": [
      "Training set :  26707 -> 6437 \n",
      "Test set     :  26708 -> 6499 \n",
      "Training labs:  26707 -> 26707"
     ]
    }
   ],
>>>>>>> 1ce82420c6d375376f7e32f28f696bf4f5adbab6
   "source": [
    "# First method\n",
    "cat(\"Training set : \", dim(training_set_features)[1], \"->\", dim(na.omit(training_set_features))[1], \"\\n\")\n",
    "cat(\"Test set     : \", dim(test_set_features)[1], \"->\", dim(na.omit(test_set_features))[1], \"\\n\")\n",
    "cat(\"Training labs: \", dim(training_set_labels)[1], \"->\", dim(na.omit(training_set_labels))[1])\n"
   ]
  },
  {
   "cell_type": "markdown",
   "metadata": {},
   "source": [
    "At least no line from the training labels misses any value, we can thus use every entry from the training set for both targets.\n",
    "Counting the number of missing value per feature allows us to see if some of the could be useless. The health insurance, employment occupation and employment industry lines are the emptiest (almost half of the lines miss this data) but by intuition this might be a huge factor in the vaccination decision so we keep it for now."
   ]
  },
  {
   "cell_type": "code",
   "execution_count": 18,
   "metadata": {},
   "outputs": [
    {
     "name": "stdout",
     "output_type": "stream",
     "text": [
      "      employment_occupation         employment_industry \n",
      "                      13470                       13330 \n",
      "           health_insurance              income_poverty \n",
      "                      12274                        4423 \n",
      "           doctor_recc_h1n1        doctor_recc_seasonal \n",
      "                       2160                        2160 \n",
      "                rent_or_own           employment_status \n",
      "                       2042                        1463 \n",
      "             marital_status                   education \n",
      "                       1408                        1407 \n",
      "      chronic_med_condition        child_under_6_months \n",
      "                        971                         820 \n",
      "              health_worker opinion_seas_sick_from_vacc \n",
      "                        804                         537 \n",
      "          opinion_seas_risk opinion_seas_vacc_effective \n",
      "                        514                         462 \n",
      "opinion_h1n1_sick_from_vacc opinion_h1n1_vacc_effective \n",
      "                        395                         391 \n",
      "          opinion_h1n1_risk            household_adults \n",
      "                        388                         249 \n",
      "         household_children        behavioral_avoidance \n",
      "                        249                         208 \n",
      "      behavioral_touch_face              h1n1_knowledge \n",
      "                        128                         116 \n",
      "               h1n1_concern behavioral_large_gatherings \n",
      "                         92                          87 \n",
      "    behavioral_outside_home   behavioral_antiviral_meds \n",
      "                         82                          71 \n",
      "      behavioral_wash_hands        behavioral_face_mask \n",
      "                         42                          19 \n",
      "              respondent_id                   age_group \n",
      "                          0                           0 \n",
      "                       race                         sex \n",
      "                          0                           0 \n",
      "             hhs_geo_region                  census_msa \n",
      "                          0                           0 \n"
     ]
    }
   ],
>>>>>>> 1ce82420c6d375376f7e32f28f696bf4f5adbab6
   "source": [
    "# On peut aussi regarder si certaines colonnes n'ont vraiment quasi aucune valeur, dans ce cas, ça vaut pas vraiment la peine de garder\n",
    "a <- sapply(training_set_features, function(x) sum(is.na(x)))\n",
    "print(a[order(a, decreasing=T)])"
   ]
  },
  {
   "cell_type": "markdown",
   "metadata": {},
   "source": [
    "What happens if we remove these fields ?"
   ]
  },
  {
   "cell_type": "code",
   "execution_count": 19,
   "metadata": {},
   "outputs": [
    {
     "name": "stdout",
     "output_type": "stream",
     "text": [
      "Training set :  26707 -> 19642 \n",
      "Test set     :  26708 -> 19592 \n",
      "Training labels:  26707 -> 26707"
     ]
    }
   ],
>>>>>>> 1ce82420c6d375376f7e32f28f696bf4f5adbab6
   "source": [
    "useful_nas <- which(sapply(test_set_features, function(x) sum(is.na(x))) > 10000)\n",
    "\n",
    "cat(\"Training set : \",\n",
    "    dim(training_set_features[,-useful_nas])[1], \"->\",\n",
    "    dim(na.omit(training_set_features[,-useful_nas]))[1], \"\\n\")\n",
    "cat(\"Test set     : \", dim(test_set_features[,-useful_nas])[1], \"->\",\n",
    "    dim(na.omit(test_set_features[,-useful_nas]))[1], \"\\n\")\n",
    "cat(\"Training labels: \", dim(training_set_labels)[1], \"->\", dim(na.omit(training_set_labels))[1])\n"
   ]
  },
  {
   "cell_type": "markdown",
   "metadata": {},
   "source": [
    "There are much less lines containing missing values. We will thus manage the three most missed fields differently."
   ]
  },
  {
   "cell_type": "markdown",
   "metadata": {},
   "source": [
    "## Imputation of missing numerical values"
   ]
  },
  {
   "cell_type": "code",
   "execution_count": 20,
   "metadata": {},
   "outputs": [],
   "source": [
    "# Imputation will be the same for training and testing so we merge them\n",
    "features_set <- rbind(training_set_features, test_set_features)\n",
    "\n",
    "\n",
    "# Note the indexes of each dataset to get them back after\n",
    "tr_indexes <- 1:nrow(training_set_features)\n",
    "ts_indexes <- (nrow(training_set_features)+1):(nrow(training_set_features) + nrow(test_set_features))\n"
   ]
  },
  {
   "cell_type": "markdown",
   "metadata": {},
   "source": [
    "### Integer encoding of some variables"
   ]
  },
  {
   "cell_type": "code",
   "execution_count": 21,
   "metadata": {},
   "outputs": [
    {
     "data": {
      "text/html": [
       "<style>\n",
       ".list-inline {list-style: none; margin:0; padding: 0}\n",
       ".list-inline>li {display: inline-block}\n",
       ".list-inline>li:not(:last-child)::after {content: \"\\00b7\"; padding: 0 .5ex}\n",
       "</style>\n",
       "<ol class=list-inline><li>'18 - 34 Years'</li><li>'35 - 44 Years'</li><li>'45 - 54 Years'</li><li>'55 - 64 Years'</li><li>'65+ Years'</li></ol>\n"
      ],
      "text/latex": [
       "\\begin{enumerate*}\n",
       "\\item '18 - 34 Years'\n",
       "\\item '35 - 44 Years'\n",
       "\\item '45 - 54 Years'\n",
       "\\item '55 - 64 Years'\n",
       "\\item '65+ Years'\n",
       "\\end{enumerate*}\n"
      ],
      "text/markdown": [
       "1. '18 - 34 Years'\n",
       "2. '35 - 44 Years'\n",
       "3. '45 - 54 Years'\n",
       "4. '55 - 64 Years'\n",
       "5. '65+ Years'\n",
       "\n",
       "\n"
      ],
      "text/plain": [
       "[1] \"18 - 34 Years\" \"35 - 44 Years\" \"45 - 54 Years\" \"55 - 64 Years\"\n",
       "[5] \"65+ Years\"    "
      ]
     },
     "metadata": {},
     "output_type": "display_data"
    },
    {
     "data": {
      "text/html": [
       "<style>\n",
       ".list-inline {list-style: none; margin:0; padding: 0}\n",
       ".list-inline>li {display: inline-block}\n",
       ".list-inline>li:not(:last-child)::after {content: \"\\00b7\"; padding: 0 .5ex}\n",
       "</style>\n",
       "<ol class=list-inline><li>'&lt; 12 Years'</li><li>'12 Years'</li><li>'College Graduate'</li><li>'Some College'</li></ol>\n"
      ],
      "text/latex": [
       "\\begin{enumerate*}\n",
       "\\item '< 12 Years'\n",
       "\\item '12 Years'\n",
       "\\item 'College Graduate'\n",
       "\\item 'Some College'\n",
       "\\end{enumerate*}\n"
      ],
      "text/markdown": [
       "1. '&lt; 12 Years'\n",
       "2. '12 Years'\n",
       "3. 'College Graduate'\n",
       "4. 'Some College'\n",
       "\n",
       "\n"
      ],
      "text/plain": [
       "[1] \"< 12 Years\"       \"12 Years\"         \"College Graduate\" \"Some College\"    "
      ]
     },
     "metadata": {},
     "output_type": "display_data"
    },
    {
     "data": {
      "text/html": [
       "<style>\n",
       ".list-inline {list-style: none; margin:0; padding: 0}\n",
       ".list-inline>li {display: inline-block}\n",
       ".list-inline>li:not(:last-child)::after {content: \"\\00b7\"; padding: 0 .5ex}\n",
       "</style>\n",
       "<ol class=list-inline><li>'&lt;= $75,000, Above Poverty'</li><li>'&gt; $75,000'</li><li>'Below Poverty'</li></ol>\n"
      ],
      "text/latex": [
       "\\begin{enumerate*}\n",
       "\\item '<= \\$75,000, Above Poverty'\n",
       "\\item '> \\$75,000'\n",
       "\\item 'Below Poverty'\n",
       "\\end{enumerate*}\n"
      ],
      "text/markdown": [
       "1. '&lt;= $75,000, Above Poverty'\n",
       "2. '&gt; $75,000'\n",
       "3. 'Below Poverty'\n",
       "\n",
       "\n"
      ],
      "text/plain": [
       "[1] \"<= $75,000, Above Poverty\" \"> $75,000\"                \n",
       "[3] \"Below Poverty\"            "
      ]
     },
     "metadata": {},
     "output_type": "display_data"
    },
    {
     "data": {
      "text/html": [
       "<style>\n",
       ".list-inline {list-style: none; margin:0; padding: 0}\n",
       ".list-inline>li {display: inline-block}\n",
       ".list-inline>li:not(:last-child)::after {content: \"\\00b7\"; padding: 0 .5ex}\n",
       "</style>\n",
       "<ol class=list-inline><li><span style=white-space:pre-wrap>'MSA, Not Principle  City'</span></li><li>'MSA, Principle City'</li><li>'Non-MSA'</li></ol>\n"
      ],
      "text/latex": [
       "\\begin{enumerate*}\n",
       "\\item 'MSA, Not Principle  City'\n",
       "\\item 'MSA, Principle City'\n",
       "\\item 'Non-MSA'\n",
       "\\end{enumerate*}\n"
      ],
      "text/markdown": [
       "1. <span style=white-space:pre-wrap>'MSA, Not Principle  City'</span>\n",
       "2. 'MSA, Principle City'\n",
       "3. 'Non-MSA'\n",
       "\n",
       "\n"
      ],
      "text/plain": [
       "[1] \"MSA, Not Principle  City\" \"MSA, Principle City\"     \n",
       "[3] \"Non-MSA\"                 "
      ]
     },
     "metadata": {},
     "output_type": "display_data"
    }
   ],
>>>>>>> 1ce82420c6d375376f7e32f28f696bf4f5adbab6
   "source": [
    "levels(features_set[, \"age_group\"])\n",
    "levels(features_set[, \"age_group\"]) <- 0:4\n",
    "features_set[, \"age_group\"] <- as.numeric(features_set[, \"age_group\"])\n",
    "features_set[, \"age_group\"] <- (features_set[, \"age_group\"] - 1)/4\n",
    "\n",
    "levels(features_set[, \"education\"])\n",
    "levels(features_set[, \"education\"]) <- 0:3\n",
    "features_set[, \"education\"] <- as.numeric(features_set[, \"education\"])\n",
    "features_set[, \"education\"] <- (features_set[, \"education\"] - 1)/3\n",
    "\n",
    "levels(features_set[, \"income_poverty\"])\n",
    "levels(features_set[, \"income_poverty\"]) <- c(1, 2, 0)\n",
    "features_set[, \"income_poverty\"] <- as.numeric(features_set[, \"income_poverty\"])\n",
    "features_set[, \"income_poverty\"] <- (features_set[, \"income_poverty\"] - 1)/2\n",
    "\n",
    "levels(features_set[, \"census_msa\"])\n",
    "levels(features_set[, \"census_msa\"]) <- c(1, 2, 0)\n",
    "features_set[, \"census_msa\"] <- as.numeric(features_set[, \"census_msa\"])\n",
    "features_set[, \"census_msa\"] <- (features_set[, \"census_msa\"] - 1)/2\n"
   ]
  },
  {
   "cell_type": "markdown",
   "metadata": {},
   "source": [
    "### Non negative matrix factorization based imputation"
   ]
  },
  {
   "cell_type": "markdown",
   "metadata": {},
   "source": [
    "Non negative matrix factorization is a procedure which consists of approximating a matrix with non negative values as the product of two matrices having smaller dimensions. More formally, a matrix $M$ of dimension $m\\times n$ is decomposed into two matrices $W$ and $H$ of dimensions $m\\times p$ and $p\\times n$ respectively such that $M \\approx WH$.\n",
    "\n",
    "More details concerning the imputation method can be found here https://www.ncbi.nlm.nih.gov/pmc/articles/PMC8510447/"
   ]
  },
  {
   "cell_type": "markdown",
   "metadata": {},
   "source": [
    "PseudoCode :\n",
    "\n",
    "```pseudocode\n",
    "Consider M of dim m x n having missing values\n",
    "Fix N > 0\n",
    "Normalize M and replace NAs using mean imputation\n",
    "k1 <- floor(max(abs(rank(M) - N/2), 1))\n",
    "kN = min(abs(rX + N/2), m, n)\n",
    "\n",
    "# Compute approximation\n",
    "initialize X array of size kN-k1+1\n",
    "for k in 1...kN-k1+1 do\n",
    "    Compute the nNMF of M on non missing values and store the result in X[k]\n",
    "\n",
    "## Based on all X[k], reconstruct M\n",
    "# Weights based only on non missing values of M\n",
    "initialize d array of size kN-k1+1\n",
    "for k in 1...kN-k1+1 do\n",
    "    Compute d[k] = sum(X_ij - M_ij)/ nb_nonNA\n",
    "\n",
    "# Reconstruct\n",
    "Initialize divisor=0, M_hat of 0 with same dim as M\n",
    "for k in 1...kN-k1+1 do\n",
    "    M_hat += exp(-d[k])*X[k]\n",
    "    denum += exp(-d[k])\n",
    "M_hat <- M_hat/denum\n",
    "```\n",
    "\n",
    "\n",
    "After these steps, M_hat does not contain missing values and the imputation is based on local and global information."
   ]
  },
  {
   "cell_type": "code",
   "execution_count": 22,
   "metadata": {},
   "outputs": [
    {
     "data": {
      "text/plain": [
       "  h1n1_concern    h1n1_knowledge   behavioral_antiviral_meds\n",
       " Min.   :0.0000   Min.   :0.0000   Min.   :0.00000          \n",
       " 1st Qu.:0.3333   1st Qu.:0.5000   1st Qu.:0.00000          \n",
       " Median :0.6667   Median :0.5000   Median :0.00000          \n",
       " Mean   :0.5403   Mean   :0.6321   Mean   :0.04924          \n",
       " 3rd Qu.:0.6667   3rd Qu.:1.0000   3rd Qu.:0.00000          \n",
       " Max.   :1.0000   Max.   :1.0000   Max.   :1.00000          \n",
       " NA's   :177      NA's   :238      NA's   :150              \n",
       " behavioral_avoidance behavioral_face_mask behavioral_wash_hands\n",
       " Min.   :0.0000       Min.   :0.00000      Min.   :0.0000       \n",
       " 1st Qu.:0.0000       1st Qu.:0.00000      1st Qu.:1.0000       \n",
       " Median :1.0000       Median :0.00000      Median :1.0000       \n",
       " Mean   :0.7277       Mean   :0.06913      Mean   :0.8258       \n",
       " 3rd Qu.:1.0000       3rd Qu.:0.00000      3rd Qu.:1.0000       \n",
       " Max.   :1.0000       Max.   :1.00000      Max.   :1.0000       \n",
       " NA's   :421          NA's   :38           NA's   :82           \n",
       " behavioral_large_gatherings behavioral_outside_home behavioral_touch_face\n",
       " Min.   :0.0000              Min.   :0.0000          Min.   :0.0000       \n",
       " 1st Qu.:0.0000              1st Qu.:0.0000          1st Qu.:0.0000       \n",
       " Median :0.0000              Median :0.0000          Median :1.0000       \n",
       " Mean   :0.3551              Mean   :0.3373          Mean   :0.6805       \n",
       " 3rd Qu.:1.0000              3rd Qu.:1.0000          3rd Qu.:1.0000       \n",
       " Max.   :1.0000              Max.   :1.0000          Max.   :1.0000       \n",
       " NA's   :159                 NA's   :164             NA's   :256          \n",
       " doctor_recc_h1n1 doctor_recc_seasonal chronic_med_condition\n",
       " Min.   :0.000    Min.   :0.000        Min.   :0.0000       \n",
       " 1st Qu.:0.000    1st Qu.:0.000        1st Qu.:0.0000       \n",
       " Median :0.000    Median :0.000        Median :0.0000       \n",
       " Mean   :0.221    Mean   :0.332        Mean   :0.2821       \n",
       " 3rd Qu.:0.000    3rd Qu.:1.000        3rd Qu.:1.0000       \n",
       " Max.   :1.000    Max.   :1.000        Max.   :1.0000       \n",
       " NA's   :4320     NA's   :4320         NA's   :1903         \n",
       " child_under_6_months health_worker    opinion_h1n1_vacc_effective\n",
       " Min.   :0.0000       Min.   :0.0000   Min.   :0.0000             \n",
       " 1st Qu.:0.0000       1st Qu.:0.0000   1st Qu.:0.5000             \n",
       " Median :0.0000       Median :0.0000   Median :0.7500             \n",
       " Mean   :0.0845       Mean   :0.1117   Mean   :0.7119             \n",
       " 3rd Qu.:0.0000       3rd Qu.:0.0000   3rd Qu.:1.0000             \n",
       " Max.   :1.0000       Max.   :1.0000   Max.   :1.0000             \n",
       " NA's   :1633         NA's   :1593     NA's   :789                \n",
       " opinion_h1n1_risk opinion_h1n1_sick_from_vacc opinion_seas_vacc_effective\n",
       " Min.   :0.0000    Min.   :0.0000              Min.   :0.0000             \n",
       " 1st Qu.:0.0000    1st Qu.:0.0000              1st Qu.:0.7500             \n",
       " Median :0.2500    Median :0.2500              Median :0.7500             \n",
       " Mean   :0.3337    Mean   :0.3398              Mean   :0.7564             \n",
       " 3rd Qu.:0.7500    3rd Qu.:0.7500              3rd Qu.:1.0000             \n",
       " Max.   :1.0000    Max.   :1.0000              Max.   :1.0000             \n",
       " NA's   :768       NA's   :770                 NA's   :914                \n",
       " opinion_seas_risk opinion_seas_sick_from_vacc   age_group     \n",
       " Min.   :0.0000    Min.   :0.0000              Min.   :0.0000  \n",
       " 1st Qu.:0.2500    1st Qu.:0.0000              1st Qu.:0.2500  \n",
       " Median :0.2500    Median :0.2500              Median :0.5000  \n",
       " Mean   :0.4285    Mean   :0.2827              Mean   :0.5445  \n",
       " 3rd Qu.:0.7500    3rd Qu.:0.7500              3rd Qu.:1.0000  \n",
       " Max.   :1.0000    Max.   :1.0000              Max.   :1.0000  \n",
       " NA's   :1013      NA's   :1058                                \n",
       "   education      income_poverty    census_msa    household_adults\n",
       " Min.   :0.0000   Min.   :0.000   Min.   :0.000   Min.   :0.0000  \n",
       " 1st Qu.:0.3333   1st Qu.:0.000   1st Qu.:0.000   1st Qu.:0.0000  \n",
       " Median :0.6667   Median :0.000   Median :0.500   Median :0.3333  \n",
       " Mean   :0.6221   Mean   :0.272   Mean   :0.412   Mean   :0.2968  \n",
       " 3rd Qu.:1.0000   3rd Qu.:0.500   3rd Qu.:1.000   3rd Qu.:0.3333  \n",
       " Max.   :1.0000   Max.   :1.000   Max.   :1.000   Max.   :1.0000  \n",
       " NA's   :2814     NA's   :8920                    NA's   :474     \n",
       " household_children\n",
       " Min.   :0.0000    \n",
       " 1st Qu.:0.0000    \n",
       " Median :0.0000    \n",
       " Mean   :0.1797    \n",
       " 3rd Qu.:0.3333    \n",
       " Max.   :1.0000    \n",
       " NA's   :474       "
      ]
     },
     "metadata": {},
     "output_type": "display_data"
    }
   ],
>>>>>>> 1ce82420c6d375376f7e32f28f696bf4f5adbab6
   "source": [
    "library(NMFN)\n",
    "\n",
    "# We work only on the columns of numeric type\n",
    "numeric_variables_idx<-which(sapply(features_set[1,],class)!=\"factor\")\n",
    "numeric_variables_idx <- numeric_variables_idx[-c(1, 16)] # Remove resp ID and health insur\n",
    "\n",
    "# We need to normalize this data to use efficient nNMF\n",
    "library(\"caret\")\n",
    "\n",
    "ss <- preProcess(as.data.frame(features_set[, numeric_variables_idx]), method=c(\"range\"))\n",
    "features_set[,numeric_variables_idx] <- predict(ss, as.data.frame(features_set[, numeric_variables_idx]))\n",
    "summary(features_set[, numeric_variables_idx])\n"
   ]
  },
  {
   "cell_type": "code",
   "execution_count": 23,
   "metadata": {},
   "outputs": [],
   "source": [
    "# Define the function that will compute nmf\n",
    "nfm_mult_upd <- function(R, K, missing_idx, maxit=800, eps=2.2204e-16) {\n",
    "    # Using weighted multiplicative rule Zhu 2016\n",
    "    # init random W and H\n",
    "    print(paste(\"[INFO] : NMF with k=\", K))\n",
    "    R <- as.matrix(R)\n",
    "    I <- dim(R)[1]\n",
    "    J <- dim(R)[2]\n",
    "    M <- matrix(1, nrow = dim(R)[1], ncol = dim(R)[2])\n",
    "    M[missing_idx] <- 0\n",
    "    X <- R # Store original R\n",
    "    R <- R*M\n",
    "    W <- matrix(runif(I*K), nrow = I, ncol = K)\n",
    "    H <- matrix(runif(K*J), nrow = K, ncol = J)\n",
    "    \n",
    "    n <- 0\n",
    "    d1 <- 1000\n",
    "    d2 <- 1000\n",
    "    while(n < maxit && !(d1 < eps && d2 < eps)) {\n",
    "        if (n %% 100 == 0) {\n",
    "            print(paste(\"[INFO] : iter\", n, \" Relative error is :\", distance2(X, W%*%H)/distance2(X, R*0)))\n",
    "        }\n",
    "        newH <- H* (t(W) %*% R) / (t(W) %*% W %*% H)\n",
    "        newW <- W*(R %*% t(newH)) / ((W %*% newH) %*% t(newH))\n",
    "        \n",
    "        d1 <- distance2(newH, H)\n",
    "        d2 <- distance2(newW, W)\n",
    "        \n",
    "        H <- newH\n",
    "        W <- newW\n",
    "        n <- n+1\n",
    "    }\n",
    "    \n",
    "    Res <- W%*%H\n",
    "    #Res[missing_idx] <- X[missing_idx]\n",
    "    nmf <- list(\"res\"=Res, \"dst\"=distance2(R, Res)/distance2(R, 0))\n",
    "    return(nmf)\n",
    "}\n"
   ]
  },
  {
   "cell_type": "code",
   "execution_count": 24,
   "metadata": {},
   "outputs": [],
   "source": [
    "# 1: initialize by defining N and replace NAs by mean\n",
    "N <- 4\n",
    "\n",
    "replace_na_with_mean_value<-function(vec) {\n",
    "    mean_vec <- mean(as.numeric(vec), na.rm=TRUE)\n",
    "    vec[is.na(vec)]<-mean_vec\n",
    "    vec\n",
    "}\n",
    "\n",
    "X<-data.frame(apply(features_set[, numeric_variables_idx], MARGIN=2, replace_na_with_mean_value))\n",
    "miss_idx = which(is.na(features_set[,numeric_variables_idx]), arr.ind = T)\n",
    "non_miss_idx <- which(!is.na(features_set[,numeric_variables_idx]), arr.ind = T)\n",
    "\n"
   ]
  },
  {
   "cell_type": "code",
   "execution_count": 25,
   "metadata": {},
   "outputs": [
    {
     "name": "stderr",
     "output_type": "stream",
     "text": [
      "Warning message in rankMatrix(X):\n",
      "“rankMatrix(<large sparse Matrix>, method = 'tolNorm2') coerces to dense matrix.\n",
      " Probably should rather use method = 'qr' !?”\n"
     ]
    },
    {
     "data": {
      "text/html": [
       "<style>\n",
       ".list-inline {list-style: none; margin:0; padding: 0}\n",
       ".list-inline>li {display: inline-block}\n",
       ".list-inline>li:not(:last-child)::after {content: \"\\00b7\"; padding: 0 .5ex}\n",
       "</style>\n",
       "<ol class=list-inline><li>3</li><li>53415</li><li>26</li></ol>\n"
      ],
      "text/latex": [
       "\\begin{enumerate*}\n",
       "\\item 3\n",
       "\\item 53415\n",
       "\\item 26\n",
       "\\end{enumerate*}\n"
      ],
      "text/markdown": [
       "1. 3\n",
       "2. 53415\n",
       "3. 26\n",
       "\n",
       "\n"
      ],
      "text/plain": [
       "[1]     3 53415    26"
      ]
     },
     "metadata": {},
     "output_type": "display_data"
    },
    {
     "name": "stdout",
     "output_type": "stream",
     "text": [
      "[1] \"[INFO] : NMF with k= 24\"\n",
      "[1] \"[INFO] : iter 0  Relative error is : 103.130494788265\"\n",
      "[1] \"[INFO] : iter 100  Relative error is : 0.0420948592272461\"\n",
      "[1] \"[INFO] : iter 200  Relative error is : 0.0324217808893\"\n",
      "[1] \"[INFO] : iter 300  Relative error is : 0.0285657152045039\"\n",
      "[1] \"[INFO] : iter 400  Relative error is : 0.0250571173898849\"\n",
      "[1] \"[INFO] : iter 500  Relative error is : 0.0241950467311662\"\n",
      "[1] \"[INFO] : iter 600  Relative error is : 0.0236178918541121\"\n",
      "[1] \"[INFO] : iter 700  Relative error is : 0.0231313729691335\"\n",
      "[1] \"Computed nmf, final dist is 0.0142356060385097\"\n",
      "[1] \"[INFO] : NMF with k= 25\"\n",
      "[1] \"[INFO] : iter 0  Relative error is : 104.698536610332\"\n",
      "[1] \"[INFO] : iter 100  Relative error is : 0.0344862494678681\"\n",
      "[1] \"[INFO] : iter 200  Relative error is : 0.0242594406657472\"\n",
      "[1] \"[INFO] : iter 300  Relative error is : 0.0208354869968835\"\n",
      "[1] \"[INFO] : iter 400  Relative error is : 0.0196275030945937\"\n",
      "[1] \"[INFO] : iter 500  Relative error is : 0.0186179651054766\"\n",
      "[1] \"[INFO] : iter 600  Relative error is : 0.0183741901712837\"\n",
      "[1] \"[INFO] : iter 700  Relative error is : 0.018255388227289\"\n",
      "[1] \"Computed nmf, final dist is 0.00940633861315514\"\n",
      "[1] \"[INFO] : NMF with k= 26\"\n",
      "[1] \"[INFO] : iter 0  Relative error is : 110.189195207221\"\n",
      "[1] \"[INFO] : iter 100  Relative error is : 0.026825477769492\"\n",
      "[1] \"[INFO] : iter 200  Relative error is : 0.0192558967281999\"\n",
      "[1] \"[INFO] : iter 300  Relative error is : 0.0167517654318747\"\n",
      "[1] \"[INFO] : iter 400  Relative error is : 0.0159559447970868\"\n",
      "[1] \"[INFO] : iter 500  Relative error is : 0.0156027657262789\"\n",
      "[1] \"[INFO] : iter 600  Relative error is : 0.0153804322681304\"\n",
      "[1] \"[INFO] : iter 700  Relative error is : 0.0152585616573522\"\n",
      "[1] \"Computed nmf, final dist is 0.00674566686501041\"\n"
     ]
    }
   ],
   "source": [
    "# 2: nNMF for k=k1 to K=kN with masking missing values\n",
    "library(Matrix) # For rankMatrix \n",
    "rX <- rankMatrix(X)\n",
    "k1 = floor(max(abs(rX - N/2), 1))\n",
    "kN = min(abs(rX + N/2), dim(X)[1], dim(X)[2])\n",
    "\n",
    "X_hat = array(0, dim = c(kN-k1+1, nrow(X), ncol(X)))\n",
    "dim(X_hat)\n",
    "for (K in k1:kN) {\n",
    "    # compute NMF\n",
    "    nmf <- nfm_mult_upd(X, K, missing_idx = miss_idx, maxit=800)\n",
    "    print(paste(\"Computed nmf, final dist is\", nmf$dst))\n",
    "    X_hat[K-k1+1,,] <- nmf$res\n",
    "}\n"
   ]
  },
  {
   "cell_type": "code",
   "execution_count": 27,
   "metadata": {},
   "outputs": [],
   "source": [
    "# 3: weighted reconstruction\n",
    "d = array(0, dim = c(kN-k1+1))\n",
    "for (K in 1:(kN-k1+1)) {\n",
    "    # Reconstruction error based on non missing values\n",
    "    d[K] <- sum(abs(X_hat[K,,][non_miss_idx] - X[non_miss_idx]))/nrow(non_miss_idx)\n",
    "}\n",
    "\n",
    "X_hat_f <- matrix(0, nrow = nrow(X), ncol = ncol(X))\n",
    "denum <- 0\n",
    "for (K in 1:(kN-k1+1)) {\n",
    "    # Reconstruction matrix\n",
    "    X_hat_f <- X_hat_f + exp(-d[K])*X_hat[K,,]\n",
    "    denum <- denum + exp(-d[K])\n",
    "}\n",
    "X_hat_f <- X_hat_f / sum(exp(-d))\n"
   ]
  },
  {
   "cell_type": "code",
   "execution_count": 28,
   "metadata": {},
   "outputs": [
    {
     "data": {
      "text/plain": [
       "       V1                  V2                  V3          \n",
       " Min.   :0.0000113   Min.   :0.0000151   Min.   :0.000000  \n",
       " 1st Qu.:0.3325015   1st Qu.:0.4990168   1st Qu.:0.004583  \n",
       " Median :0.6630670   Median :0.5008547   Median :0.018643  \n",
       " Mean   :0.5401188   Mean   :0.6315248   Mean   :0.051889  \n",
       " 3rd Qu.:0.6692277   3rd Qu.:0.9991067   3rd Qu.:0.034996  \n",
       " Max.   :1.0122672   Max.   :1.0081726   Max.   :0.665061  "
      ]
     },
     "metadata": {},
     "output_type": "display_data"
    },
    {
     "data": {
      "text/plain": [
       "  h1n1_concern    h1n1_knowledge   behavioral_antiviral_meds\n",
       " Min.   :0.0000   Min.   :0.0000   Min.   :0.00000          \n",
       " 1st Qu.:0.3333   1st Qu.:0.5000   1st Qu.:0.00000          \n",
       " Median :0.6667   Median :0.5000   Median :0.00000          \n",
       " Mean   :0.5403   Mean   :0.6321   Mean   :0.04924          \n",
       " 3rd Qu.:0.6667   3rd Qu.:1.0000   3rd Qu.:0.00000          \n",
       " Max.   :1.0000   Max.   :1.0000   Max.   :1.00000          "
      ]
     },
     "metadata": {},
     "output_type": "display_data"
    }
   ],
   "source": [
    "summary(X_hat_f[, c(1, 2, 3)])\n",
    "summary(X[, c(1, 2, 3)])"
   ]
  },
  {
   "cell_type": "markdown",
   "metadata": {},
   "source": [
    "We see that we have similar summaries but if we looked at the variances the NNMF would give more realistic results"
   ]
  },
  {
   "cell_type": "code",
   "execution_count": 29,
   "metadata": {},
   "outputs": [],
   "source": [
    "# Replace in the feature set\n",
    "X[miss_idx] <- X_hat_f[miss_idx]\n",
    "features_set[, numeric_variables_idx] <- X"
   ]
  },
  {
   "cell_type": "markdown",
   "metadata": {},
   "source": [
    "## Feature engineering\n"
   ]
  },
  {
   "cell_type": "markdown",
   "metadata": {},
   "source": [
    "### Factor variables"
   ]
  },
  {
   "cell_type": "markdown",
   "metadata": {},
   "source": [
    "Now that we managed numerical variabels we can work on encoding the categorical ones which we did not work on yet.\n",
    "\n",
    "Getting back to the columns containing many missing values, we use one hot encoding and create a category \"missing\", considering that not having this piece of information could be meaning something."
   ]
  },
  {
   "cell_type": "code",
   "execution_count": 30,
   "metadata": {},
   "outputs": [],
   "source": [
    "useful_nas <- which(sapply(test_set_features, function(x) sum(is.na(x))) > 10000)\n",
    "\n",
    "library(fastDummies)\n",
    "features_set <- dummy_cols(features_set, \n",
    "                           select_columns = names(useful_nas),\n",
    "                           remove_selected_columns = T)\n",
    "\n",
    "## Change NAs to 0 for the new one hot encoded columns\n",
    "replace_na_with_0<-function(vec) {\n",
    "    vec[is.na(vec)]<-0\n",
    "    vec\n",
    "}\n",
    "\n",
    "useful_nas_feat_idx <- c(grep(\"health_insurance_*\", colnames(features_set)))\n",
    "useful_nas_feat_idx <- c(useful_nas_feat_idx, grep(\"employment_industry*\", colnames(features_set)))\n",
    "useful_nas_feat_idx <- c(useful_nas_feat_idx, grep(\"employment_occup*\", colnames(features_set)))\n",
    "\n",
    "features_set[,useful_nas_feat_idx] <- replace_na_with_0(features_set[,useful_nas_feat_idx])"
   ]
  },
  {
   "cell_type": "markdown",
   "metadata": {},
   "source": [
    "The remaining columns will be treated the same."
   ]
  },
  {
   "cell_type": "code",
   "execution_count": 31,
   "metadata": {},
   "outputs": [
    {
     "data": {
      "text/plain": [
       " respondent_id    h1n1_concern    h1n1_knowledge   behavioral_antiviral_meds\n",
       " Min.   :    0   Min.   :0.0000   Min.   :0.0000   Min.   :0.00000          \n",
       " 1st Qu.:13354   1st Qu.:0.3333   1st Qu.:0.5000   1st Qu.:0.00000          \n",
       " Median :26707   Median :0.6667   Median :0.5000   Median :0.00000          \n",
       " Mean   :26707   Mean   :0.5385   Mean   :0.6294   Mean   :0.04926          \n",
       " 3rd Qu.:40060   3rd Qu.:0.6667   3rd Qu.:1.0000   3rd Qu.:0.00000          \n",
       " Max.   :53414   Max.   :1.0000   Max.   :1.0000   Max.   :1.00000          \n",
       " behavioral_avoidance behavioral_face_mask behavioral_wash_hands\n",
       " Min.   :0.000        Min.   :0.00000      Min.   :0.0000       \n",
       " 1st Qu.:0.000        1st Qu.:0.00000      1st Qu.:1.0000       \n",
       " Median :1.000        Median :0.00000      Median :1.0000       \n",
       " Mean   :0.722        Mean   :0.06909      Mean   :0.8246       \n",
       " 3rd Qu.:1.000        3rd Qu.:0.00000      3rd Qu.:1.0000       \n",
       " Max.   :1.000        Max.   :1.00000      Max.   :1.0000       \n",
       " behavioral_large_gatherings behavioral_outside_home behavioral_touch_face\n",
       " Min.   :0.000               Min.   :0.0000          Min.   :0.0000       \n",
       " 1st Qu.:0.000               1st Qu.:0.0000          1st Qu.:0.0000       \n",
       " Median :0.000               Median :0.0000          Median :1.0000       \n",
       " Mean   :0.354               Mean   :0.3362          Mean   :0.6773       \n",
       " 3rd Qu.:1.000               3rd Qu.:1.0000          3rd Qu.:1.0000       \n",
       " Max.   :1.000               Max.   :1.0000          Max.   :1.0000       \n",
       " doctor_recc_h1n1    doctor_recc_seasonal chronic_med_condition\n",
       " Min.   :0.0000000   Min.   :0.0000       Min.   :0.0000       \n",
       " 1st Qu.:0.0000000   1st Qu.:0.0000       1st Qu.:0.0000       \n",
       " Median :0.0000000   Median :0.0000       Median :0.0000       \n",
       " Mean   :0.2036216   Mean   :0.3049       Mean   :0.2721       \n",
       " 3rd Qu.:0.0001812   3rd Qu.:1.0000       3rd Qu.:1.0000       \n",
       " Max.   :1.0000000   Max.   :1.0000       Max.   :1.0000       \n",
       " child_under_6_months health_worker    opinion_h1n1_vacc_effective\n",
       " Min.   :0.00000      Min.   :0.0000   Min.   :0.0000             \n",
       " 1st Qu.:0.00000      1st Qu.:0.0000   1st Qu.:0.5000             \n",
       " Median :0.00000      Median :0.0000   Median :0.7500             \n",
       " Mean   :0.08187      Mean   :0.1084   Mean   :0.7039             \n",
       " 3rd Qu.:0.00000      3rd Qu.:0.0000   3rd Qu.:1.0000             \n",
       " Max.   :1.00000      Max.   :1.0000   Max.   :1.0000             \n",
       " opinion_h1n1_risk opinion_h1n1_sick_from_vacc opinion_seas_vacc_effective\n",
       " Min.   :0.000     Min.   :0.0000              Min.   :0.0000             \n",
       " 1st Qu.:0.000     1st Qu.:0.0000              1st Qu.:0.7500             \n",
       " Median :0.250     Median :0.2500              Median :0.7500             \n",
       " Mean   :0.329     Mean   :0.3354              Mean   :0.7458             \n",
       " 3rd Qu.:0.750     3rd Qu.:0.7500              3rd Qu.:1.0000             \n",
       " Max.   :1.000     Max.   :1.0000              Max.   :1.0000             \n",
       " opinion_seas_risk opinion_seas_sick_from_vacc   age_group     \n",
       " Min.   :0.0000    Min.   :0.0000              Min.   :0.0000  \n",
       " 1st Qu.:0.2500    1st Qu.:0.0000              1st Qu.:0.2500  \n",
       " Median :0.2500    Median :0.2500              Median :0.5000  \n",
       " Mean   :0.4207    Mean   :0.2778              Mean   :0.5445  \n",
       " 3rd Qu.:0.7500    3rd Qu.:0.5000              3rd Qu.:1.0000  \n",
       " Max.   :1.0000    Max.   :1.0000              Max.   :1.0000  \n",
       "   education      income_poverty        census_msa    household_adults\n",
       " Min.   :0.0000   Min.   :0.0000000   Min.   :0.000   Min.   :0.0000  \n",
       " 1st Qu.:0.3333   1st Qu.:0.0000000   1st Qu.:0.000   1st Qu.:0.0000  \n",
       " Median :0.6667   Median :0.0001789   Median :0.500   Median :0.3333  \n",
       " Mean   :0.5906   Mean   :0.2267473   Mean   :0.412   Mean   :0.2942  \n",
       " 3rd Qu.:1.0000   3rd Qu.:0.5000000   3rd Qu.:1.000   3rd Qu.:0.3333  \n",
       " Max.   :1.0000   Max.   :1.0000000   Max.   :1.000   Max.   :1.0000  \n",
       " household_children health_insurance_0 health_insurance_1 health_insurance_NA\n",
       " Min.   :0.0000     Min.   :0.00000    Min.   :0.0000     Min.   :0.0000     \n",
       " 1st Qu.:0.0000     1st Qu.:0.00000    1st Qu.:0.0000     1st Qu.:0.0000     \n",
       " Median :0.0000     Median :0.00000    Median :0.0000     Median :0.0000     \n",
       " Mean   :0.1782     Mean   :0.06288    Mean   :0.4784     Mean   :0.4587     \n",
       " 3rd Qu.:0.3333     3rd Qu.:0.00000    3rd Qu.:1.0000     3rd Qu.:1.0000     \n",
       " Max.   :1.0000     Max.   :1.00000    Max.   :1.0000     Max.   :1.0000     \n",
       " employment_industry_arjwrbjb employment_industry_atmlpfrs\n",
       " Min.   :0.00000              Min.   :0.00000             \n",
       " 1st Qu.:0.00000              1st Qu.:0.00000             \n",
       " Median :0.00000              Median :0.00000             \n",
       " Mean   :0.03287              Mean   :0.03272             \n",
       " 3rd Qu.:0.00000              3rd Qu.:0.00000             \n",
       " Max.   :1.00000              Max.   :1.00000             \n",
       " employment_industry_cfqqtusy employment_industry_dotnnunm\n",
       " Min.   :0.00000              Min.   :0.000000            \n",
       " 1st Qu.:0.00000              1st Qu.:0.000000            \n",
       " Median :0.00000              Median :0.000000            \n",
       " Mean   :0.01178              Mean   :0.007882            \n",
       " 3rd Qu.:0.00000              3rd Qu.:0.000000            \n",
       " Max.   :1.00000              Max.   :1.000000            \n",
       " employment_industry_fcxhlnwr employment_industry_haxffmxo\n",
       " Min.   :0.00000              Min.   :0.000000            \n",
       " 1st Qu.:0.00000              1st Qu.:0.000000            \n",
       " Median :0.00000              Median :0.000000            \n",
       " Mean   :0.09271              Mean   :0.005766            \n",
       " 3rd Qu.:0.00000              3rd Qu.:0.000000            \n",
       " Max.   :1.00000              Max.   :1.000000            \n",
       " employment_industry_ldnlellj employment_industry_mcubkhph\n",
       " Min.   :0.00000              Min.   :0.00000             \n",
       " 1st Qu.:0.00000              1st Qu.:0.00000             \n",
       " Median :0.00000              Median :0.00000             \n",
       " Mean   :0.04596              Mean   :0.01005             \n",
       " 3rd Qu.:0.00000              3rd Qu.:0.00000             \n",
       " Max.   :1.00000              Max.   :1.00000             \n",
       " employment_industry_mfikgejo employment_industry_msuufmds\n",
       " Min.   :0.00000              Min.   :0.000000            \n",
       " 1st Qu.:0.00000              1st Qu.:0.000000            \n",
       " Median :0.00000              Median :0.000000            \n",
       " Mean   :0.02364              Mean   :0.004793            \n",
       " 3rd Qu.:0.00000              3rd Qu.:0.000000            \n",
       " Max.   :1.00000              Max.   :1.000000            \n",
       " employment_industry_nduyfdeo employment_industry_phxvnwax\n",
       " Min.   :0.00000              Min.   :0.000000            \n",
       " 1st Qu.:0.00000              1st Qu.:0.000000            \n",
       " Median :0.00000              Median :0.000000            \n",
       " Mean   :0.01082              Mean   :0.003183            \n",
       " 3rd Qu.:0.00000              3rd Qu.:0.000000            \n",
       " Max.   :1.00000              Max.   :1.000000            \n",
       " employment_industry_pxcmvdjn employment_industry_qnlwzans\n",
       " Min.   :0.0000               Min.   :0.0000000           \n",
       " 1st Qu.:0.0000               1st Qu.:0.0000000           \n",
       " Median :0.0000               Median :0.0000000           \n",
       " Mean   :0.0396               Mean   :0.0003557           \n",
       " 3rd Qu.:0.0000               3rd Qu.:0.0000000           \n",
       " Max.   :1.0000               Max.   :1.0000000           \n",
       " employment_industry_rucpziij employment_industry_saaquncn\n",
       " Min.   :0.00000              Min.   :0.00000             \n",
       " 1st Qu.:0.00000              1st Qu.:0.00000             \n",
       " Median :0.00000              Median :0.00000             \n",
       " Mean   :0.01986              Mean   :0.01266             \n",
       " 3rd Qu.:0.00000              3rd Qu.:0.00000             \n",
       " Max.   :1.00000              Max.   :1.00000             \n",
       " employment_industry_vjjrobsf employment_industry_wlfvacwt\n",
       " Min.   :0.00000              Min.   :0.000000            \n",
       " 1st Qu.:0.00000              1st Qu.:0.000000            \n",
       " Median :0.00000              Median :0.000000            \n",
       " Mean   :0.02048              Mean   :0.007994            \n",
       " 3rd Qu.:0.00000              3rd Qu.:0.000000            \n",
       " Max.   :1.00000              Max.   :1.000000            \n",
       " employment_industry_wxleyezf employment_industry_xicduogh\n",
       " Min.   :0.00000              Min.   :0.00000             \n",
       " 1st Qu.:0.00000              1st Qu.:0.00000             \n",
       " Median :0.00000              Median :0.00000             \n",
       " Mean   :0.06757              Mean   :0.03179             \n",
       " 3rd Qu.:0.00000              3rd Qu.:0.00000             \n",
       " Max.   :1.00000              Max.   :1.00000             \n",
       " employment_industry_xqicxuve employment_industry_NA\n",
       " Min.   :0.00000              Min.   :0.0000        \n",
       " 1st Qu.:0.00000              1st Qu.:0.0000        \n",
       " Median :0.00000              Median :0.0000        \n",
       " Mean   :0.01943              Mean   :0.4981        \n",
       " 3rd Qu.:0.00000              3rd Qu.:1.0000        \n",
       " Max.   :1.00000              Max.   :1.0000        \n",
       " employment_occupation_bxpfxfdn employment_occupation_ccgxvspp\n",
       " Min.   :0.00000                Min.   :0.00000               \n",
       " 1st Qu.:0.00000                1st Qu.:0.00000               \n",
       " Median :0.00000                Median :0.00000               \n",
       " Mean   :0.01239                Mean   :0.01327               \n",
       " 3rd Qu.:0.00000                3rd Qu.:0.00000               \n",
       " Max.   :1.00000                Max.   :1.00000               \n",
       " employment_occupation_cmhcxjea employment_occupation_dcjcmpih\n",
       " Min.   :0.00000                Min.   :0.000000              \n",
       " 1st Qu.:0.00000                1st Qu.:0.000000              \n",
       " Median :0.00000                Median :0.000000              \n",
       " Mean   :0.04626                Mean   :0.005785              \n",
       " 3rd Qu.:0.00000                3rd Qu.:0.000000              \n",
       " Max.   :1.00000                Max.   :1.000000              \n",
       " employment_occupation_dlvbwzss employment_occupation_emcorrxb\n",
       " Min.   :0.000000               Min.   :0.00000               \n",
       " 1st Qu.:0.000000               1st Qu.:0.00000               \n",
       " Median :0.000000               Median :0.00000               \n",
       " Mean   :0.008837               Mean   :0.04781               \n",
       " 3rd Qu.:0.000000               3rd Qu.:0.00000               \n",
       " Max.   :1.000000               Max.   :1.00000               \n",
       " employment_occupation_haliazsg employment_occupation_hfxkjkmi\n",
       " Min.   :0.00000                Min.   :0.00000               \n",
       " 1st Qu.:0.00000                1st Qu.:0.00000               \n",
       " Median :0.00000                Median :0.00000               \n",
       " Mean   :0.01116                Mean   :0.02791               \n",
       " 3rd Qu.:0.00000                3rd Qu.:0.00000               \n",
       " Max.   :1.00000                Max.   :1.00000               \n",
       " employment_occupation_hodpvpew employment_occupation_kldqjyjy\n",
       " Min.   :0.00000                Min.   :0.00000               \n",
       " 1st Qu.:0.00000                1st Qu.:0.00000               \n",
       " Median :0.00000                Median :0.00000               \n",
       " Mean   :0.00863                Mean   :0.01713               \n",
       " 3rd Qu.:0.00000                3rd Qu.:0.00000               \n",
       " Max.   :1.00000                Max.   :1.00000               \n",
       " employment_occupation_mxkfnird employment_occupation_oijqvulv\n",
       " Min.   :0.00000                Min.   :0.00000               \n",
       " 1st Qu.:0.00000                1st Qu.:0.00000               \n",
       " Median :0.00000                Median :0.00000               \n",
       " Mean   :0.05747                Mean   :0.01292               \n",
       " 3rd Qu.:0.00000                3rd Qu.:0.00000               \n",
       " Max.   :1.00000                Max.   :1.00000               \n",
       " employment_occupation_pvmttkik employment_occupation_qxajmpny\n",
       " Min.   :0.000000               Min.   :0.0000                \n",
       " 1st Qu.:0.000000               1st Qu.:0.0000                \n",
       " Median :0.000000               Median :0.0000                \n",
       " Mean   :0.003857               Mean   :0.0196                \n",
       " 3rd Qu.:0.000000               3rd Qu.:0.0000                \n",
       " Max.   :1.000000               Max.   :1.0000                \n",
       " employment_occupation_rcertsgn employment_occupation_tfqavkke\n",
       " Min.   :0.00000                Min.   :0.00000               \n",
       " 1st Qu.:0.00000                1st Qu.:0.00000               \n",
       " Median :0.00000                Median :0.00000               \n",
       " Mean   :0.01073                Mean   :0.01479               \n",
       " 3rd Qu.:0.00000                3rd Qu.:0.00000               \n",
       " Max.   :1.00000                Max.   :1.00000               \n",
       " employment_occupation_ukymxvdu employment_occupation_uqqtjvyb\n",
       " Min.   :0.00000                Min.   :0.00000               \n",
       " 1st Qu.:0.00000                1st Qu.:0.00000               \n",
       " Median :0.00000                Median :0.00000               \n",
       " Mean   :0.01312                Mean   :0.01784               \n",
       " 3rd Qu.:0.00000                3rd Qu.:0.00000               \n",
       " Max.   :1.00000                Max.   :1.00000               \n",
       " employment_occupation_vlluhbov employment_occupation_xgwztkwe\n",
       " Min.   :0.00000                Min.   :0.00000               \n",
       " 1st Qu.:0.00000                1st Qu.:0.00000               \n",
       " Median :0.00000                Median :0.00000               \n",
       " Mean   :0.01271                Mean   :0.04156               \n",
       " 3rd Qu.:0.00000                3rd Qu.:0.00000               \n",
       " Max.   :1.00000                Max.   :1.00000               \n",
       " employment_occupation_xqwwgdyp employment_occupation_xtkaffoo\n",
       " Min.   :0.00000                Min.   :0.00000               \n",
       " 1st Qu.:0.00000                1st Qu.:0.00000               \n",
       " Median :0.00000                Median :0.00000               \n",
       " Mean   :0.01797                Mean   :0.06601               \n",
       " 3rd Qu.:0.00000                3rd Qu.:0.00000               \n",
       " Max.   :1.00000                Max.   :1.00000               \n",
       " employment_occupation_xzmlyyjv employment_occupation_NA   race_Black     \n",
       " Min.   :0.000000               Min.   :0.0000           Min.   :0.00000  \n",
       " 1st Qu.:0.000000               1st Qu.:0.0000           1st Qu.:0.00000  \n",
       " Median :0.000000               Median :1.0000           Median :0.00000  \n",
       " Mean   :0.008687               Mean   :0.5035           Mean   :0.08035  \n",
       " 3rd Qu.:0.000000               3rd Qu.:1.0000           3rd Qu.:0.00000  \n",
       " Max.   :1.000000               Max.   :1.0000           Max.   :1.00000  \n",
       " race_Hispanic     race_Other or Multiple   race_White       sex_Female    \n",
       " Min.   :0.00000   Min.   :0.00000        Min.   :0.0000   Min.   :0.0000  \n",
       " 1st Qu.:0.00000   1st Qu.:0.00000        1st Qu.:1.0000   1st Qu.:0.0000  \n",
       " Median :0.00000   Median :0.00000        Median :1.0000   Median :1.0000  \n",
       " Mean   :0.06474   Mean   :0.05882        Mean   :0.7961   Mean   :0.5933  \n",
       " 3rd Qu.:0.00000   3rd Qu.:0.00000        3rd Qu.:1.0000   3rd Qu.:1.0000  \n",
       " Max.   :1.00000   Max.   :1.00000        Max.   :1.0000   Max.   :1.0000  \n",
       "    sex_Male      marital_status_Married marital_status_Not Married\n",
       " Min.   :0.0000   Min.   :0.0000         Min.   :0.0000            \n",
       " 1st Qu.:0.0000   1st Qu.:0.0000         1st Qu.:0.0000            \n",
       " Median :0.0000   Median :1.0000         Median :0.0000            \n",
       " Mean   :0.4067   Mean   :0.5074         Mean   :0.4392            \n",
       " 3rd Qu.:1.0000   3rd Qu.:1.0000         3rd Qu.:1.0000            \n",
       " Max.   :1.0000   Max.   :1.0000         Max.   :1.0000            \n",
       " marital_status_NA rent_or_own_Own  rent_or_own_Rent rent_or_own_NA   \n",
       " Min.   :0.00000   Min.   :0.0000   Min.   :0.0000   Min.   :0.00000  \n",
       " 1st Qu.:0.00000   1st Qu.:0.0000   1st Qu.:0.0000   1st Qu.:0.00000  \n",
       " Median :0.00000   Median :1.0000   Median :0.0000   Median :0.00000  \n",
       " Mean   :0.05336   Mean   :0.7012   Mean   :0.2224   Mean   :0.07635  \n",
       " 3rd Qu.:0.00000   3rd Qu.:1.0000   3rd Qu.:0.0000   3rd Qu.:0.00000  \n",
       " Max.   :1.00000   Max.   :1.0000   Max.   :1.0000   Max.   :1.00000  \n",
       " employment_status_Employed employment_status_Not in Labor Force\n",
       " Min.   :0.0000             Min.   :0.0000                      \n",
       " 1st Qu.:0.0000             1st Qu.:0.0000                      \n",
       " Median :1.0000             Median :0.0000                      \n",
       " Mean   :0.5091             Mean   :0.3805                      \n",
       " 3rd Qu.:1.0000             3rd Qu.:1.0000                      \n",
       " Max.   :1.0000             Max.   :1.0000                      \n",
       " employment_status_Unemployed employment_status_NA hhs_geo_region_atmpeygn\n",
       " Min.   :0.00000              Min.   :0.00000      Min.   :0.00000        \n",
       " 1st Qu.:0.00000              1st Qu.:0.00000      1st Qu.:0.00000        \n",
       " Median :0.00000              Median :0.00000      Median :0.00000        \n",
       " Mean   :0.05553              Mean   :0.05493      Mean   :0.07524        \n",
       " 3rd Qu.:0.00000              3rd Qu.:0.00000      3rd Qu.:0.00000        \n",
       " Max.   :1.00000              Max.   :1.00000      Max.   :1.00000        \n",
       " hhs_geo_region_bhuqouqj hhs_geo_region_dqpwygqj hhs_geo_region_fpwskwrf\n",
       " Min.   :0.000           Min.   :0.00000         Min.   :0.0000         \n",
       " 1st Qu.:0.000           1st Qu.:0.00000         1st Qu.:0.0000         \n",
       " Median :0.000           Median :0.00000         Median :0.0000         \n",
       " Mean   :0.107           Mean   :0.04263         Mean   :0.1218         \n",
       " 3rd Qu.:0.000           3rd Qu.:0.00000         3rd Qu.:0.0000         \n",
       " Max.   :1.000           Max.   :1.00000         Max.   :1.0000         \n",
       " hhs_geo_region_kbazzjca hhs_geo_region_lrircsnp hhs_geo_region_lzgpxyit\n",
       " Min.   :0.0000          Min.   :0.00000         Min.   :0.0000         \n",
       " 1st Qu.:0.0000          1st Qu.:0.00000         1st Qu.:0.0000         \n",
       " Median :0.0000          Median :0.00000         Median :0.0000         \n",
       " Mean   :0.1067          Mean   :0.07676         Mean   :0.1621         \n",
       " 3rd Qu.:0.0000          3rd Qu.:0.00000         3rd Qu.:0.0000         \n",
       " Max.   :1.0000          Max.   :1.00000         Max.   :1.0000         \n",
       " hhs_geo_region_mlyzmhmf hhs_geo_region_oxchjgsf hhs_geo_region_qufhixun\n",
       " Min.   :0.00000         Min.   :0.0000          Min.   :0.0000         \n",
       " 1st Qu.:0.00000         1st Qu.:0.0000          1st Qu.:0.0000         \n",
       " Median :0.00000         Median :0.0000          Median :0.0000         \n",
       " Mean   :0.08286         Mean   :0.1094          Mean   :0.1154         \n",
       " 3rd Qu.:0.00000         3rd Qu.:0.0000          3rd Qu.:0.0000         \n",
       " Max.   :1.00000         Max.   :1.0000          Max.   :1.0000         "
      ]
     },
     "metadata": {},
     "output_type": "display_data"
    }
   ],
   "source": [
    "factor_variables<-which(sapply(features_set[1,],class)==\"factor\")\n",
    "factor_col_names <- colnames(factor_variables)\n",
    "\n",
    "features_set_int_encoded <- dummy_cols(features_set,\n",
    "                                       select_columns = factor_col_names,\n",
    "                                       ignore_na = F,\n",
    "                                       remove_selected_columns = T)\n",
    "\n",
    "\n",
    "features_set_int_encoded <- replace_na_with_0(features_set_int_encoded)\n",
    "\n",
    "tr_set_enc <- features_set_int_encoded[tr_indexes,]\n",
    "ts_set_enc <- features_set_int_encoded[ts_indexes,]\n",
    "\n",
    "summary(features_set_int_encoded)"
   ]
  },
  {
   "cell_type": "markdown",
   "metadata": {},
   "source": [
    "## Feature selection\n"
   ]
  },
  {
   "cell_type": "markdown",
   "metadata": {},
   "source": [
    "PCA was used to select the best features. This technique creates new fewer but more representative features from the current set of features."
   ]
  },
  {
   "cell_type": "code",
   "execution_count": 32,
   "metadata": {},
   "outputs": [
    {
     "data": {
      "text/plain": [
       "Importance of components:\n",
       "                          PC1     PC2     PC3     PC4     PC5     PC6     PC7\n",
       "Standard deviation     1.0216 0.78047 0.75064 0.71340 0.66242 0.57355 0.55043\n",
       "Proportion of Variance 0.1218 0.07106 0.06574 0.05938 0.05119 0.03838 0.03535\n",
       "Cumulative Proportion  0.1218 0.19283 0.25857 0.31794 0.36914 0.40751 0.44286\n",
       "                           PC8     PC9    PC10    PC11    PC12   PC13    PC14\n",
       "Standard deviation     0.48565 0.46430 0.45429 0.42476 0.42044 0.4150 0.40549\n",
       "Proportion of Variance 0.02752 0.02515 0.02408 0.02105 0.02062 0.0201 0.01918\n",
       "Cumulative Proportion  0.47038 0.49553 0.51960 0.54065 0.56128 0.5814 0.60055\n",
       "                          PC15    PC16    PC17    PC18    PC19    PC20    PC21\n",
       "Standard deviation     0.38819 0.37759 0.36297 0.34807 0.34408 0.33600 0.33009\n",
       "Proportion of Variance 0.01758 0.01663 0.01537 0.01413 0.01381 0.01317 0.01271\n",
       "Cumulative Proportion  0.61814 0.63477 0.65014 0.66427 0.67809 0.69126 0.70397\n",
       "                          PC22    PC23    PC24    PC25    PC26    PC27    PC28\n",
       "Standard deviation     0.32045 0.31780 0.31590 0.30660 0.30333 0.30071 0.29909\n",
       "Proportion of Variance 0.01198 0.01178 0.01164 0.01097 0.01073 0.01055 0.01044\n",
       "Cumulative Proportion  0.71595 0.72773 0.73937 0.75034 0.76108 0.77163 0.78206\n",
       "                          PC29    PC30    PC31    PC32    PC33    PC34    PC35\n",
       "Standard deviation     0.29249 0.27951 0.27680 0.27048 0.26939 0.26711 0.26434\n",
       "Proportion of Variance 0.00998 0.00911 0.00894 0.00854 0.00847 0.00832 0.00815\n",
       "Cumulative Proportion  0.79204 0.80116 0.81010 0.81863 0.82710 0.83542 0.84357\n",
       "                          PC36    PC37    PC38    PC39    PC40   PC41    PC42\n",
       "Standard deviation     0.25587 0.25397 0.24773 0.24525 0.24206 0.2414 0.23803\n",
       "Proportion of Variance 0.00764 0.00752 0.00716 0.00702 0.00684 0.0068 0.00661\n",
       "Cumulative Proportion  0.85121 0.85874 0.86590 0.87291 0.87975 0.8865 0.89316\n",
       "                          PC43   PC44   PC45    PC46    PC47    PC48    PC49\n",
       "Standard deviation     0.23111 0.2211 0.2111 0.20972 0.20633 0.20545 0.20403\n",
       "Proportion of Variance 0.00623 0.0057 0.0052 0.00513 0.00497 0.00492 0.00486\n",
       "Cumulative Proportion  0.89939 0.9051 0.9103 0.91542 0.92039 0.92531 0.93017\n",
       "                         PC50    PC51    PC52    PC53    PC54    PC55    PC56\n",
       "Standard deviation     0.2007 0.18886 0.18111 0.17655 0.17245 0.16784 0.16537\n",
       "Proportion of Variance 0.0047 0.00416 0.00383 0.00364 0.00347 0.00329 0.00319\n",
       "Cumulative Proportion  0.9349 0.93902 0.94285 0.94649 0.94996 0.95324 0.95643\n",
       "                          PC57    PC58    PC59    PC60    PC61    PC62    PC63\n",
       "Standard deviation     0.16111 0.15795 0.15274 0.14407 0.13438 0.13010 0.12878\n",
       "Proportion of Variance 0.00303 0.00291 0.00272 0.00242 0.00211 0.00197 0.00193\n",
       "Cumulative Proportion  0.95946 0.96237 0.96509 0.96752 0.96962 0.97160 0.97353\n",
       "                          PC64    PC65    PC66   PC67    PC68    PC69    PC70\n",
       "Standard deviation     0.12145 0.11622 0.11510 0.1133 0.11167 0.10733 0.10525\n",
       "Proportion of Variance 0.00172 0.00158 0.00155 0.0015 0.00145 0.00134 0.00129\n",
       "Cumulative Proportion  0.97525 0.97683 0.97837 0.9799 0.98133 0.98267 0.98396\n",
       "                          PC71   PC72    PC73    PC74    PC75    PC76    PC77\n",
       "Standard deviation     0.10348 0.1013 0.09967 0.09589 0.09557 0.09321 0.09215\n",
       "Proportion of Variance 0.00125 0.0012 0.00116 0.00107 0.00107 0.00101 0.00099\n",
       "Cumulative Proportion  0.98521 0.9864 0.98757 0.98864 0.98971 0.99072 0.99171\n",
       "                          PC78    PC79    PC80    PC81    PC82    PC83    PC84\n",
       "Standard deviation     0.08926 0.08813 0.08791 0.08522 0.08355 0.08302 0.08160\n",
       "Proportion of Variance 0.00093 0.00091 0.00090 0.00085 0.00081 0.00080 0.00078\n",
       "Cumulative Proportion  0.99264 0.99355 0.99445 0.99530 0.99611 0.99691 0.99769\n",
       "                          PC85    PC86    PC87    PC88    PC89    PC90     PC91\n",
       "Standard deviation     0.07245 0.06855 0.06389 0.05504 0.04854 0.01928 0.003124\n",
       "Proportion of Variance 0.00061 0.00055 0.00048 0.00035 0.00027 0.00004 0.000000\n",
       "Cumulative Proportion  0.99830 0.99885 0.99933 0.99968 0.99996 1.00000 1.000000\n",
       "                            PC92      PC93      PC94     PC95      PC96\n",
       "Standard deviation     5.808e-14 1.348e-14 7.158e-15 6.46e-15 4.993e-15\n",
       "Proportion of Variance 0.000e+00 0.000e+00 0.000e+00 0.00e+00 0.000e+00\n",
       "Cumulative Proportion  1.000e+00 1.000e+00 1.000e+00 1.00e+00 1.000e+00\n",
       "                            PC97      PC98      PC99     PC100\n",
       "Standard deviation     1.787e-15 1.182e-15 4.537e-16 1.429e-16\n",
       "Proportion of Variance 0.000e+00 0.000e+00 0.000e+00 0.000e+00\n",
       "Cumulative Proportion  1.000e+00 1.000e+00 1.000e+00 1.000e+00"
      ]
     },
     "metadata": {},
     "output_type": "display_data"
    }
   ],
   "source": [
    "training_features <- tr_set_enc[, -c(1)]\n",
    "training_labels <- training_set_labels\n",
    "label_1 <- training_labels[,\"h1n1_vaccine\"]\n",
    "label_2 <- training_labels[, \"seasonal_vaccine\"]\n",
    "labels <- cbind(h1n1_vaccine=label_1, seasonal_vaccine=label_2)\n",
    "\n",
    "testing_features <- ts_set_enc[, -c(1)]\n",
    "feature_set <- rbind(training_features, testing_features)\n",
    "feature_set <- feature_set[, -c(1)] # remove resp id\n",
    "pca <- prcomp(feature_set)\n",
    "summary(pca)\n",
    "\n",
    "pca_feat_set <- pca$x[,1:54]\n",
    "\n",
    "library(\"caret\")\n",
    "\n",
    "ss <- preProcess(as.data.frame(pca_feat_set), method=c(\"range\"))\n",
    "pca_feat_set <- predict(ss, as.data.frame(pca_feat_set))\n",
    "\n",
    "pca_tr_set <- pca_feat_set[1:26707,]\n",
    "pca_ts_set <- pca_feat_set[26708:53415,]\n"
   ]
  },
  {
   "cell_type": "markdown",
   "metadata": {},
   "source": [
    "The choice of the 54 features was made on the basis of the analysis of the pca summary. Indeed, the standard deviations and variances allowed us to conclude that 54 features were sufficient to train a model. The cumulative proportion also shows that after taking 54 features, 95% of the variance of the problem was defined, which seems enough considering the division by tzo."
   ]
  },
  {
   "cell_type": "markdown",
   "metadata": {},
   "source": [
    "# Model selection\n"
   ]
  },
  {
   "cell_type": "markdown",
   "metadata": {},
   "source": [
    "One of the first thing to define is the way in which the models will be compared and evaluated. To fit with the way the Driven Data plateforne is evaluating scores, the ROC and AUC are used to estimate the efficienty of a method. Those two mesures are computed with the following code."
   ]
  },
  {
   "cell_type": "code",
   "execution_count": 33,
   "metadata": {},
   "outputs": [],
   "source": [
    "AUCROC <- function(Y_pred, Y, title_of_curve) {\n",
    "    thresholds <- seq(0,0.99,0.05)\n",
    "    FPR <- c()\n",
    "    TPR <- c()\n",
    "\n",
    "    for(threshold in thresholds){\n",
    "      Y_hat <- ifelse(Y_pred > threshold,1,0) \n",
    "      confusion_matrix <- table(Y_hat,Y)\n",
    "\n",
    "      if(dim(confusion_matrix)[1] < 2){ \n",
    "        if(rownames(confusion_matrix) == 0){\n",
    "          confusion_matrix <- rbind(confusion_matrix,c(0,0))\n",
    "          rownames(confusion_matrix)[2] <- 1\n",
    "        }\n",
    "        if(rownames(confusion_matrix) == 1){\n",
    "          confusion_matrix <- rbind(c(0,0),confusion_matrix)\n",
    "          rownames(confusion_matrix)[1] <- 0\n",
    "        }\n",
    "      }\n",
    "\n",
    "      FP <- confusion_matrix[2,1]\n",
    "      TP <- confusion_matrix[2,2]\n",
    "      N_N <- sum(confusion_matrix[,1]) # Total number of 0's\n",
    "      N_P <- sum(confusion_matrix[,2]) # Total number of 1's\n",
    "\n",
    "      FPR <- c(FPR,FP/N_N)\n",
    "      TPR <- c(TPR,TP/N_P)\n",
    "    }\n",
    "    FPR <- c(1, FPR, 0)\n",
    "    TPR <- c(1, TPR, 0)\n",
    "    plot.new()\n",
    "    plot(FPR,TPR)\n",
    "    lines(FPR,TPR,col=\"blue\")\n",
    "    lines(thresholds,thresholds,lty=2)\n",
    "    title(title_of_curve)\n",
    "    AUC <- sum(abs(diff(FPR)) * (head(TPR,-1)+tail(TPR,-1)))/2\n",
    "    return (AUC)\n",
    "}"
   ]
  },
  {
   "cell_type": "markdown",
   "metadata": {},
   "source": [
    "## Model 1\n",
    "First the linear model is going to be used. It is one the fastest model to train and it will give a good idea of the kind of relation that exists between features and labels. The only difference with the model viewed in practicals is that two outputs are predicted at a time, it means that the train set needs to have the two labels."
   ]
  },
  {
   "cell_type": "code",
   "execution_count": 34,
   "metadata": {},
   "outputs": [],
   "source": [
    "total_train_set <- cbind(pca_tr_set, labels)"
   ]
  },
  {
   "cell_type": "markdown",
   "metadata": {},
   "source": [
    "Before making the prediction for the given test values, it is important to check that the model fits by doing a cross-validation and calculating the AUC and ROC. First, the cross-validation with the multivariate linear model."
   ]
  },
  {
   "cell_type": "code",
   "execution_count": 35,
   "metadata": {},
   "outputs": [],
   "source": [
    "# Separation of the train in two groups in order to calculate the error between prediction and reality.\n",
    "vaccine_idx <- sample(1:nrow(total_train_set))\n",
    "half_split <- floor(nrow(total_train_set)/2)\n",
    "train_data_set <- total_train_set[vaccine_idx[1:half_split],]\n",
    "test_data <- total_train_set[vaccine_idx[(half_split+1):nrow(total_train_set)],]\n",
    "target_idx <- ncol(train_data_set)\n",
    "targets <- c(target_idx, target_idx-1)\n",
    "\n",
    "# Linear model & prediction\n",
    "model <- lm(cbind(h1n1_vaccine, seasonal_vaccine)~., data=train_data_set)\n",
    "Y_pred <- predict(model,test_data[,-targets])"
   ]
  },
  {
   "cell_type": "code",
   "execution_count": 36,
   "metadata": {},
   "outputs": [
    {
     "name": "stdout",
     "output_type": "stream",
     "text": [
      "[1] \"[INFO] - Training set size: 12017 - Testing set size 1336\"\n",
      "[1] \"[INFO] - Misclassification rate h1n1 - 1 fold: 0.159431137724551\"\n",
      "[1] \"[INFO] - Misclassification rate seasonal - 1 fold: 0.225299401197605\"\n",
      "[1] \"[INFO] - Training set size: 12017 - Testing set size 1336\"\n",
      "[1] \"[INFO] - Misclassification rate h1n1 - 2 fold: 0.147455089820359\"\n",
      "[1] \"[INFO] - Misclassification rate seasonal - 2 fold: 0.228293413173653\"\n",
      "[1] \"[INFO] - Training set size: 12017 - Testing set size 1336\"\n",
      "[1] \"[INFO] - Misclassification rate h1n1 - 3 fold: 0.169161676646707\"\n",
      "[1] \"[INFO] - Misclassification rate seasonal - 3 fold: 0.216317365269461\"\n",
      "[1] \"[INFO] - Training set size: 12017 - Testing set size 1336\"\n",
      "[1] \"[INFO] - Misclassification rate h1n1 - 4 fold: 0.148203592814371\"\n",
      "[1] \"[INFO] - Misclassification rate seasonal - 4 fold: 0.227544910179641\"\n",
      "[1] \"[INFO] - Training set size: 12017 - Testing set size 1336\"\n",
      "[1] \"[INFO] - Misclassification rate h1n1 - 5 fold: 0.150449101796407\"\n",
      "[1] \"[INFO] - Misclassification rate seasonal - 5 fold: 0.220808383233533\"\n",
      "[1] \"[INFO] - Training set size: 12017 - Testing set size 1336\"\n",
      "[1] \"[INFO] - Misclassification rate h1n1 - 6 fold: 0.154191616766467\"\n",
      "[1] \"[INFO] - Misclassification rate seasonal - 6 fold: 0.236526946107784\"\n",
      "[1] \"[INFO] - Training set size: 12017 - Testing set size 1336\"\n",
      "[1] \"[INFO] - Misclassification rate h1n1 - 7 fold: 0.167664670658683\"\n",
      "[1] \"[INFO] - Misclassification rate seasonal - 7 fold: 0.232784431137725\"\n",
      "[1] \"[INFO] - Training set size: 12017 - Testing set size 1336\"\n",
      "[1] \"[INFO] - Misclassification rate h1n1 - 8 fold: 0.163922155688623\"\n",
      "[1] \"[INFO] - Misclassification rate seasonal - 8 fold: 0.221556886227545\"\n",
      "[1] \"[INFO] - Training set size: 12017 - Testing set size 1336\"\n",
      "[1] \"[INFO] - Misclassification rate h1n1 - 9 fold: 0.167664670658683\"\n",
      "[1] \"[INFO] - Misclassification rate seasonal - 9 fold: 0.226796407185629\"\n",
      "[1] \"[INFO] - Training set size: 12024 - Testing set size 1329\"\n",
      "[1] \"[INFO] - Misclassification rate h1n1 - 10 fold: 0.153498871331828\"\n",
      "[1] \"[INFO] - Misclassification rate seasonal - 10 fold: 0.235515425131678\"\n",
      "[1] \"[INFO] - Mean misclassification rate h1n1: 0.158164258390668\"\n",
      "[1] \"[INFO] - Mean misclassification rate seasonal: 0.227144356884425\"\n"
     ]
    }
   ],
   "source": [
    "k = 10\n",
    "accuracy_vec_h1n1 <- array(0,k)\n",
    "accuracy_vec_seasonal <- array(0,k)\n",
    "threshold <- 0.5\n",
    "\n",
    "# 1. Shuffle the dataset randomly.\n",
    "vaccine_idx <- sample(1:nrow(train_data_set))\n",
    "\n",
    "# 2. Split the dataset into k groups\n",
    "max <- ceiling(nrow(train_data_set)/k)\n",
    "splits <- split(vaccine_idx, ceiling(seq_along(vaccine_idx)/max))\n",
    "\n",
    "# 3. For each unique group:\n",
    "for (i in 1:k){\n",
    "  #3.1 Take the group as a hold out or test data set\n",
    "  test_data <- train_data_set[splits[[i]],]\n",
    "  \n",
    "  #3.2 Take the remaining groups as a training data set\n",
    "  train_data <- train_data_set[-splits[[i]],]\n",
    "  print(paste(\"[INFO] - Training set size:\",dim(train_data)[1],\"- Testing set size\",dim(test_data)[1]))\n",
    "  \n",
    "  #3.3 Fit a model on the training set and evaluate it on the test set\n",
    "  model <- lm(cbind(h1n1_vaccine, seasonal_vaccine) ~ ., data=train_data)\n",
    "  Y_pred <- predict(model,test_data[,-targets])\n",
    "  Y_h1n1 <- test_data[,targets[2]]\n",
    "  Y_seasonal <- test_data[,targets[1]]\n",
    "  \n",
    "  #3.4 Store the prediction of the tree (2 is to take only the P(Y=\"spam\"|x))\n",
    "  Y_hat <- ifelse(Y_pred > threshold,1,0) \n",
    "  # Need one confusion matrix for h1n1 and one for seasonal\n",
    "  confusion_matrix_h1n1 <- table(Y_hat[,1],Y_h1n1)\n",
    "  confusion_matrix_seasonal <- table(Y_hat[,2],Y_seasonal)\n",
    "  \n",
    "  #3.5 Retain the evaluation score and discard the model\n",
    "  accuracy_vec_h1n1[i] = (confusion_matrix_h1n1[1,1]+confusion_matrix_h1n1[2,2])/sum(confusion_matrix_h1n1)\n",
    "  misclassification_rate = 1 - accuracy_vec_h1n1[i]\n",
    "  print(paste(\"[INFO] - Misclassification rate h1n1 -\",i,\"fold:\",misclassification_rate))\n",
    "  \n",
    "  accuracy_vec_seasonal[i] = (confusion_matrix_seasonal[1,1]+confusion_matrix_seasonal[2,2])/sum(confusion_matrix_seasonal)\n",
    "  misclassification_rate = 1 - accuracy_vec_seasonal[i]\n",
    "  print(paste(\"[INFO] - Misclassification rate seasonal -\",i,\"fold:\",misclassification_rate))\n",
    "  \n",
    "}\n",
    "\n",
    "#4. Summarize the skill of the model using the sample of model evaluation scores\n",
    "print(paste(\"[INFO] - Mean misclassification rate h1n1:\",1-mean(accuracy_vec_h1n1)))\n",
    "print(paste(\"[INFO] - Mean misclassification rate seasonal:\",1-mean(accuracy_vec_seasonal)))"
   ]
  },
  {
   "cell_type": "markdown",
   "metadata": {},
   "source": [
    "This gives us the misclassification rate for each of the targets. The missclassification rate is not perfect but is enough to decide to use this model for the first try.\n",
    "Then, the ROC and AUC for each of the target."
   ]
  },
  {
   "cell_type": "code",
   "execution_count": 37,
   "metadata": {},
   "outputs": [
    {
     "name": "stderr",
     "output_type": "stream",
     "text": [
      "Warning message in if (rownames(confusion_matrix) == 1) {:\n",
      "“the condition has length > 1 and only the first element will be used”\n"
     ]
    },
    {
     "data": {
      "image/png": "iVBORw0KGgoAAAANSUhEUgAAA0gAAANICAIAAAByhViMAAAACXBIWXMAABJ0AAASdAHeZh94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\nAERC2AEAROLfXSHfmHUY1UcAAAAASUVORK5CYII=",
      "text/plain": [
       "Plot with title “ROC Curve for seasonal vaccine”"
      ]
     },
     "metadata": {
      "image/png": {
       "height": 420,
       "width": 420
      }
     },
     "output_type": "display_data"
    },
    {
     "data": {
      "image/png": "iVBORw0KGgoAAAANSUhEUgAAA0gAAANICAIAAAByhViMAAAACXBIWXMAABJ0AAASdAHeZh94\nAAAgAElEQVR4nOzdeVxN+f8H8PdtsxVKSk1kCy3SHi0SyVYkW/bsNIbBMIzGbuxGxpZl0Ng1\niOwRRYUoLfayViiVCi33dn9/HL+rb1Mp6n66p9fz4TGP27nnnPu6t+g1n3M+5wjEYjEBAAAA\ngOyTYx0AAAAAACoHih0AAAAAT6DYAQAAAPAEih0AAAAAT6DYAQAAAPAEih0AAAAAT6DYAQAA\nAPAEih0AAAAAT6DYAQAAAPAEih0AAAAAT6DYAQAAAPAEih0AAAAAT6DYAQAAAPAEih0AAAAA\nT6DYAQAAAPAEih0AAAAAT6DYAQAAAPAEih0AAAAAT6DYAQAAAPAEih0AAAAAT6DYAQAAAPAE\nih0AAAAAT6DYAQAAAPAEih0AAAAAT6DYAQAAAPAEih0AAAAAT6DYAQAAAPAEih0AAAAAT6DY\nAQAAAPAEih0AAAAAT6DYAQAAAPAEih0AAAAAT6DYAQAAAPAEih0AAAAAT6DYAQAAAPAEih0A\nAAAAT6DYAQAAAPAEih0AAAAAT6DYAQAAAPAEih1AZXrz5o2gdHXr1jUxMZk3b97Hjx9L3PzZ\ns2fz58+3sLBo3LhxrVq1tLS0HB0d165dm5WVVfbrhoWFTZ48uV27dg0aNFBWVtbT0xs1atTp\n06crmr+y9lPdCIXCJUuWtGrVSklJSVlZed++fVX9ir6+vtw3XUVF5Rs2F4lEIpGociNVxT6l\n7zs/WAD+EwNA5Xn9+nV5/t61b98+Pz+/2LaLFy9WUlIqcX11dfVjx46V+IofPnzw8PAo7YW6\ndeuWnJxcnuSVtZ/qycfHp+jb2blzZ1W/4rZt27jXUlZWrui2W7Zs4bbNzMysrDxVsU8mvueD\nBagJMGIHwEBsbOyGDRuKLpk4ceLChQvz8/NLXD8tLW3gwIF79uwptrywsLBnz56HDh0q7YUu\nXbrUrVu3d+/elZ2nsvZTbZ06dYp7oKam9uOPP7Zr145tnjI8fvx4+fLl1X+fAFA9odgBVJXf\nfvtN+P8KCgrevXsnGTUhopMnT0oe79ixY8eOHdxjJSWl33777eLFiwkJCceOHRs2bBi3vLCw\ncPLkydHR0UVfYvfu3aGhodzjevXqrVy58vr160+fPj19+rStrS23/P79+wsWLCg7amXtp9pK\nSkriHowYMWLTpk2SN1V9ZGdnx8XFLVmypFOnTpK01XCfzE2cOJH7O5WZmck6C0C1xHrIEIBX\nih6K9fb2/u8KDg4O3LOqqqrckuzs7EaNGnEL1dTUwsLCim0iOfZERM7OzpLl2dnZTZo04Zar\nq6tHR0cX3SovL8/Kyop7VkFBISsrq7TMlbWf6kwyRFfiN6UqVOiI4d69e0v89/l7DptWxT4B\noPrDiB2AVOnq6nIPBAIB92Dv3r2SQ5ze3t6dOnUqtsmkSZP69OnDPb5w4UJ8fDz3+O+//5b0\nyNmzZ3fo0KHoVkpKSvPmzeMeC4XCu3fvlhbpG/YzYcIE7gR2R0fHoivv2rWLW66oqChZuHjx\nYm6hnp4eER0/ftzU1LRt27ZFn6pdu3ZOTk7RXbVv3557yt3dXbLw7t2748ePNzc3V1ZWbt26\n9ZAhQ8LCwkp7X5xBgwYJBIIHDx5wXy5btkwgECxevFiyQkFBwfr16/v169eyZcsGDRrY2NhM\nnDgxNja22H7KeBflsWPHjg4dOtStW7dFixZjx4599uxZ0WfFYnF5dlI0Q2Fh4bp16wwNDevU\nqdO8eXN3d3fJe6zQPst4lfJ8UwoKCnbv3u3o6Ni8efPatWs3a9bM1tZ248aNxTYkooyMjF9/\n/bVbt27q6urcrKA///yzoKCgoquVOHmiQp8M5xt+lgBkA+tmCcArXx2xs7e3557t1KkTt6R3\n797cEjU1tU+fPpW426K/ctatW8ct7N+/P7ekVq1a79+//+9WQqHwyf/Lzs4uLfM37Gf8+PHc\nJl26dCm65s6dO7nlCgoKkoWLFi3iFrZu3Xrfvn1co23evLlYLH748KHkfR0/flyySdHjhocP\nH+YWrl+/vsTJJXPmzCksLCzt3Q0cOPC/myxatIh7NiYmxtjY+L8rKCoqLly4sOhuy3gXJSo6\nYvfzzz8X27+6uvrr168lKycnJwf9v2XLlklWKza6JsnQqlWroUOHFttnrVq17t69W9F9/lf5\nvym5ubkdO3b876dHRO3bty/6I3fp0iVtbe3/rta2bds3b95UaLUSh0Ir9MmIv/VnCUAmoNgB\nVKYyit379++3b98ueXb37t3c8saNG3NLOnfuXNpu8/Ly5OQ+j697eHhwCyXDRW3btv2ezN+w\nn28rdpqampKDzpJKZGZmxi0ZN26cZJPdu3dzC+vVq/fhwwexWHz+/HnJR2djYzNmzBhLS0vJ\nkrVr15YW9f79+9euXWvWrBm35qhRo65du/bixQuxWPzx48eWLVtKdtKsWTNLS8tatWpJlvz9\n99/lfBf/VfQAOhEJBAJNTU3JMC0RjRkzpsQNAwMDJeuUVuwk+9TS0lJQUJAs6dGjR0X3WaJy\nflPmzp0r2W27du0cHBw0NTUlSxYsWMBt+O7dOzU1NW6hoqKimZmZqampZDXJ2QXlXK3sYlee\nT+abf5YAZAKKHUBlKuflTry8vLj1hUKhpLGNHTu2jD1LqknXrl25JZJGWPTEu2/wDfv5tmJH\nREpKSlOmTNmxY8eBAwe4Z9esWcM9paWlJRkskVx4ZejQoWKxWCgUGhgYcEuK1mVvb2/J7/h3\n796VEbjEc+wkm8vJye3atYtbmJycbGFhwS1XV1dPT08vz7v4r6LFztbW9uXLl2KxODExsVWr\nVtxCIyOjEjcsZ7Hr379/amqqWCxOS0uT9JL69etXdJ8lKs83RSwW6+vrc0t+//13yba9evXi\nFvbs2ZNb8tNPP0k+z9jYWG5h0SnY9+7dK/9qXy12ZX8y3/+zBFDN4Rw7AGnz9vbevHmz5Etx\n+c6Fkhw5kpxvJNmw6Alt36Cy9lMehw4d2rJly/jx4yXHyzw8PLhxrJSUlDt37hBRYWFhUFCQ\n5FkievDgwb1794hITk5u1qxZkr3NmTOHG5XJycm5cOFCRcP4+/tLXmXs2LHcYy0trd27d3OR\n0tLSrly5Up53Ubbdu3fr6OgQUYsWLSZOnMgtfPLkSUUDSygpKfn5+amrqxNRo0aNpk2bxi3P\nysqqlEvSlOebIhaLFy5ceOjQoUOHDkkCZGdnf/jwgXuclpbGPZBMAJ8wYYKRkRH3eMiQIc7O\nzq1bt27dujV34mY5VyvbVz+ZKvpZAqg+FL6+CgBUqmXLlmVkZGzatImI5OXlGzVqxP0KTEhI\nKG2TgoICyen2khmsampq3IYvXrz4njyVtZ+vUlFRkZzPJ6Gjo2Nvbx8SEkJEgYGB5ubmd+7c\n4fI0aNCgR48eRCQ5+b2wsFBVVbXEnZd4gnwZ8vPzJdWq6PwMIjIyMtLT03v06BER3b9/v1jm\nEt9FGerUqcPNt+BIjjYKhcIKBS5KR0dHWVlZ8qXkR+I7d1t0/1/9pggEgiFDhgiFwhs3bmzd\nujU2NvbRo0cPHjzIy8sruqvc3FzJz1Xnzp2LPlX0kGg5VytP8rI/mar4WQKoVjBiB1BVih7o\nEYlECQkJzs7O3FObN2+WnKIuOfAXHx9f2gWKY2NjJb+wJetLzo17+vRpiRtmZWVt/n/3798v\nLWdl7eerNDQ0SlwuGffi7l0m+UXu7u7OnfH2/Pnzr+48PT29QmGSkpIkH+kPP/xQ7FlugI2I\nEhMTiz1V2rsojby8fNEvi55m980kh+8rcZ/FfPWbQkTR0dEdOnSws7NbsGCBv7//hw8f3Nzc\nJIdiOdzpjNzjMj66cq72VV/9ZKriZwmgWsGIHYA0yMnJtWzZcsmSJZKjPPHx8Vyj6tWr17lz\n54goLS3N19dXcqZRUUuXLpU8lsyidXBw4G6okJOTs2/fPsnBRIkLFy5MnTqVe3zz5s3Ssn3P\nfsp5HJlTWv8YOHDgTz/9JBQKIyMjX79+LfmIJCd1NW3alHvQsGHDoqeLFaWlpVX+JET0ww8/\nKCgocN0uOTm52LOSGaCSl/7qu+CZr35T8vLyBgwYwBVfDw+PDRs2cDMnfvvtt7Nnz0r2U/T7\nUsZh4nKu9v2q4mcJoFrBiB2A9BSdM5iRkcE98PT0bNiwIfd4yZIlkZGRxbbatWvXiRMnuMdO\nTk6S04/Gjx/PnUtERMuXLy/WTgoKClatWsU9VlZWLjrBsJhv2I9kFKrY7+CUlJTSXqUM6urq\n3FimWCw+fPhweHg4t7Br167cCpIxxaysLBMTE9si2rRpw52AVfSgW3koKSlJ5jEcP3686FP3\n7t17/Pgx99jQ0PAb3hEPfPWbcvfuXclw5pIlSyQ/28UuAaiioiK5gonk7iacvn37tm/fvn37\n9v/++285V/v+91UVP0sA1QqKHYD0FL3OquQc8/r160suM5aWlmZnZ7d48eKQkJAXL14EBgaO\nGjVKMgVVSUlJ0rGIqEGDBgsXLuQeJyYmWllZ7du3LzExMS0tLSgoyNHRUdIRx4wZU/TSD8V8\nw34kl1mOj48PCAjgHl+6dGndunXf9slIDvwtXbqU+5QGDRokyayvr9+iRQsiKiwsLHpbsz17\n9mhoaDRp0kRbW7s8h9iKkZxad+DAAT8/P+7x69evPT09CwsLiahhw4aSO4XUQGV/U7KysiRr\nSq6zGBgYyB26LUpyBsKmTZuioqK4xwcPHjx16lRcXFxcXBx3dZVyrvadquhnCaAakf5EXAAe\nK/sCxdz5+JzVq1cXfcrT07Psv6oCgWDHjh3FdlhQUCA55a40ZmZmubm5Zceu6H4uX75c9Kkm\nTZoUOw+9tAsUlxYgOzu7Tp06Rfdw9erVoisUHa0xMTEZM2aMhYWF5ISqCRMmlP0GS7zcyYcP\nH5o3by7ZbatWrWxsbIrGKPqBl+ddFFXaLcVKvCJMUeW53EmxDJL5qkRU9LrH5dlnGcr+prx+\n/broCW0dOnTg7kshWSK5nktycrLkLhGKiopWVlZFf9gGDRpUodXKvtxJeT6Z7/xZAqjmMGIH\nID2SQ670n6td/P3337/99ltp42pqamqHDx+WDN1JKCgoXLp0ydXVtbRX7N+/f0BAQNGL7pao\novtxdHTs16+f5NnXr19nZGTUq1dPcipeRSkrK7u4uEi+1NbWtrOzK7qCu7u7t7c3dwg4Ojp6\n9+7dkZGR3LjayJEjt27d+g0vWrdu3ePHj0sOtiYkJISFhX369ImIFBUVvb29x40b921vhx/K\n/qZoampOnz5d8uXdu3djY2NbtGghGed78OBBXFwcEWlpae3fv5873F9QUHDz5k3JGLClpeWu\nXbu4x+Vc7ftVxc8SQPWBYgcgPY0bN5ac67Zz507u1x5HIBAsX7783r17v/zyi4mJiaqqqqKi\noqamZufOnVeuXJmQkDBo0KAS91m/fv2TJ09eunTJ09OzZcuWdevWVVdXt7W1HTt2bEhIyLFj\nxyQTPMtW0f0cPXp0xYoVpqam9erVU1NT69+//61bt0xMTL71s6Fhw4ZJHg8ePLjY9EYiWrp0\naUhIyPDhw42MjLhriAwYMCAkJMTPz6/YzNPyMzExuXPnzurVq11cXJo3b66iomJtbT1u3LjI\nyMilS5fWkHkSZSj7m7J27dqNGzcaGxvXq1fPzMxs5syZUVFRktkVQqFQ0sZcXV3j4+N//vln\ne3t7VVVVLS2trl277tixIyIiougtX8u52verip8lgGpCIP7WG0UDAAAAQLWCETsAAAAAnkCx\nAwAAAOAJFDsAAAAAnkCxAwAAAOAJFDsAAAAAnkCxAwAAAOAJFDsAAAAAnkCxAwAAAOAJFDsA\nAAAAnkCxAwAAAOAJFDsAAAAAnkCxAwAAAOAJFDsAAAAAnkCxAwAAAOAJFDsAAAAAnkCxAwAA\nAOAJFDsAAAAAnkCxAwAAAOAJFDsAAAAAnkCxAwAAAOAJFDsAAAAAnkCxAwAAAOAJFDsAAAAA\nnkCxAwAAAOAJFDsAAAAAnkCxAwAAAOAJFDsAAAAAnkCxAwAAAOAJFDsAAAAAnkCxAwAAAOAJ\nFDsAAAAAnkCxAwAAAOAJFDsAAAAAnkCxAwAAAOAJFDsAAAAAnkCxAwAAAOAJFDsAAAAAnkCx\nAwAAAOAJBdYBZMPdu3eFQiHrFAAAAFAtKCgodOjQgXWKEqDYfV1kZKSlpSXrFAAAAFCN3Lp1\ny8LCgnWK4lDsvi4/P5+I8vLylJSUWGcBAAAAxvLz82vVqsXVg+oG59gBAAAA8ASKHQAAAABP\noNgBAAAA8ASKHQAAAABPoNgBAAAA8ASKHQAAAABPoNgBAAAA8ISsXscuKysrOztbTk5OU1NT\nTg71FAAAAEDWRuzi4uJGjx6tpaXVoEEDHR0dbW1tJSUlHR2dYcOGXb9+nXU6AAAAAJZkacTu\np59+2rx5s1gs1tLSsra2btSoERGlp6e/evXq4MGDBw8eHD9+/I4dO1jHBAAAAGBDZordli1b\nNm3a1KNHjxUrVpiamhZ7Nj4+funSpTt37tTX1585cyaThAAAAABsCcRiMesM5WJra/vu3bu4\nuDgFhZLLqFgsdnBwKCwsvHbtWuW+dFhYmK2tLe4VCwAAAPT/94q9fv26jY0N6yzFycw5dnFx\ncR07diyt1RGRQCCwt7ePi4uTZioAAACA6kNmip2RkdGNGzdEIlEZ64SHhxsZGUktEgAAAEC1\nIjPFbvjw4Q8ePHB1dY2Njf3vs48ePRo+fHhwcHC/fv2knw0AAACgOpCZyRNeXl6xsbHbtm07\ne/Zs06ZNdXV11dTUBAJBRkbGy5cvnz59SkSenp6//PIL66QAAAAAbMhMsSOirVu3Tpo0afXq\n1RcvXpTMkJCXl9fQ0Bg6dOikSZMcHBzYJgQAAIDqJiYm5sCBA9wRv/bt2w8bNszY2Jh1qKoi\nM4diOSYmJgcOHEhNTc3IyHjx4kVKSkp+fn5ycvKBAwfQ6gAAAKCYlStXmpmZhYeHGxoaGhoa\nhoeHm5mZrVy5knWuqiJLI3ZFNWzYsGHDhqxTAAAAQPXl7++/cOHCo0eP9u/fX7Lw+PHjHh4e\nenp6AwYMYJitisjYiB0AAABAOf3xxx/Tpk0r2uqIqH///tOmTfvjjz9YpapSsjpi91+ZmZmO\njo5EFBUVVf6tCgsLQ0JChEJhGevEx8d/bzgAAACQrpycnKioqHXrfF+8oPR0Sk8nfX3S0iIi\ncnd3X7du3YcPH+rVq8c6ZiXjT7ETiUTR0dEV3er58+eDBw8uu9jl5eURUUFBAe48AQAAUB3k\n5Hzuaunp9O4dvXv35UvJn7S0ukR5Xbt+/t0tJ0eLF5O3NxGRmpqaWCzOyspCsau+6tevHxQU\nVNGtWrRo8fbt27LX8fX1nTx5sqzcew0AAEBGffpEGRll/UlJoeRkSk+nvLwvW9WuTaqqX/5o\na5OJCamqUv364smThy1bNqt3706qqqShQZLbVz158qR27drq6upM3maV4k+xU1RU7NatG+sU\nAAAA8D/KrmtcV8vIKKuuaWuTlha1bPk/BY77o6lJ8vKlvbL86dMUFLTol1/OCQQCydLCwkIf\nH58+ffooKipW6Rtngj/FDgAAQHZlZWVdu3bt3r17DRo0MDU1tbCwYJ3oK8pZ1969o/z8L1tV\nRl2rgOXLl1tbW48YMWLdunVNmjQhotevX8+aNevmzZs3b96shBeoflDsAAAAGPPz85s+fbpQ\nKNTX18/IyEhMTOzYseO+fftatGgh5SRl1DVJVyujrnFdTVW1auta+bVt2/by5cujR4/W0tJq\n3rw5ET179szIyOjy5ctt2rSRahRpQbEDAABg6ciRI+PGjVu9evWPP/7IzdJ7/vz5uHHjunXr\nFhUV1aBBg+9/iUqpa1paZGBQLepahZiZmd29ezc6Opq784SRkZGpqamcHG8v94ZiBwAAwExh\nYeGsWbO8vb1nzJghWairq3vq1Kn27dtv2LBh4cKFpW1bWl0r2tVKq2uSobXS6lqTJsSb8iMn\nJ2dmZmZmZsY6iDTIRrHbtGnT77//Xs6VMzIyqjQMAABAZYmKinr16pWXl5dkyf/XtTpduy7Y\nty+6RYuS61paGhUUfNlPsbpW4pFQntU1KJFsFLuePXs+fvzY19c3Ly9PRUVFV1eXdSIAAICK\nyc+ntDRKS6PUVHr79vPjyMhGCgrHBg9uzH2ZlkaSK6sqKIwoLOy5ahWpqX3+06YNNWr0+bHk\ngZoaqagwfWNQnchGsWvdurWPj0/v3r179uzp4OBw6tQp1okAAEBKxGLxs2fPnj592qxZs5Yt\nW1bPs6OysujNG5KUs7S0L9WN+/PmDWVnf15ZQYHU1T//kZNTFolSbGwKtLQU1dWpceMvje3v\nvzf5+vri7kdQIbJR7Dg9evTg6xwWAAAo0f79++fNm/fy5UsFBQWhUKipqblo0aJJkyYVvSxZ\nVcvI+J9joMUOiaak0KtXX05iK3Y5j5Ytydy8+IzRorMNPn2qp6Hxa9u2yqNGjSr2ukeOHHFw\ncJDa2wR+kKViR0SWlpYfP35knQIAAKRh48aNs2fP9vb2HjlyZPPmzV+9enXkyJFZs2YlJycv\nWbLk+/dfdPJB0bpW9PHbtyQSfV6/du0v5Yw7j63ol6qqpKNDFZ3DWqdOnTlz5vz888+tW7e2\nsbHhFopEorlz50ZHR/v5+X3/24QaRcaK3b59+1hHAAAAaUhOTp47d66vr6+npye3REdHZ+bM\nmXp6ev379x82bFi7du3K2PzTpxKG1op+mZRE799/Xvm/V82VTBSVVLeiN6SqXPPnz09JSbG3\nt7e3tzc2Nn7//n1oaOj79++PHz/esmXLKnlJ4C8ZK3YAAFBDHD9+XFNTc/To0cWWOzm5Ghp2\n37Qp2MOjXWnVLTX1yxSEEqeLFh1p09YmVVVpv7ui5OTktmzZMnr06JMnT96/f19VVXX69Okj\nRoxo1KgRy1ggm1DsAACgOkpMTGzduuu5c4LYWIqLo4cPKSWF0tLo0yciOhsTQ7t2fZ5/oKn5\n+UGbNqSuThoaX6YmqKvLzNU9rK2tra2tWacAmYdiBwAA1cK7dxQTQ/HxFBdHcXEUGbk8L6/2\ntWukr09GRuTuTlpan7va0qVTNTTkdu3ayDoyQLWDYgcAAAzk59Pjx3T7Nt27R/HxdO8eJSYS\nEWlpkbk52dmRuXn8zp0znj49paHxP/MRcnNzIyP/Xbp0KZvcANUbih0AAFQ5oZBevKD4+C9N\n7sEDKiwkLS0yNCQDA3J1JQMDMjOjunU/b5Kf3/7MmZTp0yf7+fkpKipyCwsLC7lbbw0ZMoTV\newGozlDsAACg8iUnfy5wkiaXm0sNG5KhIRka0sSJZGhIHTpQ48al7kFJSenff/91dnY2MzPz\n8PBo0aLFy5cv/f39nzx5EhgYqIKbLQCUBMUOAAC+V0bG58OpXJO7e5dyckhJiVq3JnNzGjSI\nFi4kQ0Oq6LU7jI2NY2Ji1q9ff/bs2cTExGbNmtnb2x8/flxHR6dq3geAzEOxAwCAisnKoseP\nvzS5yEh6/ZoUFKhZMzIwICcnmj6dDAxIX78SZqRqaGisXLmyMlID1AgodgAAUJaCAnr06H+O\nqz59SmLxl9PjBg36fIC1dm3WWQFqPBQ7AAA+EAqFfn5+Z8+evX//vrq6eocOHX788cdvuL+2\nSETPn//PcdWHD0kkIlVVMjAgQ0NyciJzczIxIWXlqngfAPBdUOwAAGRedna2i4tLTEzMkCFD\nJk+enJ6eHhQU1KFDh927d3t4eJS9rWSWA/ffqCj6+JHq1yc9PTIwoFGjyMCALC2pSRPpvBUA\n+C4odgAAMm/q1Klv3ryJi4v74YcfuCULFixYv3796NGjTUxMit5TNTOT4uK+NLm7dyk1lRQV\nSU/v82gcd3qcgQEJBIzeDAB8BxQ7AADZ9vr163379gUFBUlaHWfmzJkBAWcXLTrau/fvRS8C\nLC9PurpkYEDm5jRyJJmbU7t2JC/PKj4AVCYUOwAA2Xbr1q26des6ODgQUWYmXb5MkZGfb8z1\n9OlFsZjCw8nQkNq3p8GDyciIDAyoVi3WoQGgaqDYAQDIto8fP9aubb16tdyZMxQeTnXqkIUF\nGRpSnz6UkBBw/PiyR49usc4IAFKCYgcAIJM+fqSwMDp1ig4f7p+WNmTbNlG/fvILFlDnzqSk\n9Hmdn38ObtmyEdOYACBV333tSAAAkKLERPLxoe7dSU2N+vWje/do7lxFHR27QYPm+viQk9OX\nVpeUlLR3795BgwYxzQtQLmvWrNm2bRvrFHyAETsAgOpOMjgXEEDPn1PLluTkRNOmkbMzd7ac\noF07b1dXV5FINHPmTB0dnfz8/ODg4KlTpxobG48ePZp1fICyiEQiLy+vffv2HTt2jHUWPkCx\nAwCophITKSiITp2iixdJTo5sbWnKFOrbl/T1i6/Zs2fPM2fOeHl5/fnnnw0bNszJyREIBJ6e\nnuvWrVNQwL/zUH3l5eWNGDHi8uXLFy5csLW1ZR2HD/AXHgCgGvn0ia5fp6AgOnmS7t//PDj3\nzz/Uq9dX7vTQvXv3hw8fPn78+MGDB6qqqu3bt1dVVZVWaoBv8f79+969eycnJ4eFhbVt25Z1\nHJ5AsQMAYI8bnAsKorNnSSgkOzsaPfrzzbvKT05Orm3btvgFCbIiKSmpUaNG/v7+WlparLPw\nB4odAAAbQiFFRFBgIAUF0e3b1Lw5OTvT339Tjx5Uvz7rcABVz8DA4OTJk6xT8A2KHQCAVD17\nRhcuUFAQnT9PHz+StTUNGkS+vhUbnAOQXXl5ebVwjewqg2IHAFDlRCIKD/88OHfnDmlokLMz\n7dxJzs7UoAHrcABSdOTIEU9Pz7i4uJYtW7LOwk8odgAAVeXNGzp/ngID6cIFyskhExNycSFf\nXzIzI4GAdTgAqfvrr79mzJjh7e2NVld1UOwAACqTSETR0XTqFAUG0p07pK5OXdQdUWUAACAA\nSURBVLrQxo3Uty81bMg6HAAjYrF48eLFK1as8PPzGzZsGOs4fIZiBwBQCVJT6coVOnWKTp2i\n7GwyMSEnJ9qwgWxtMTgHQLNnz96+ffvp06ednJxYZ+E5FDsAgG/EDc5x1xAOC6NGjcjRkXx8\nyMWF1NRYhwOoTpydnceMGWNoaMg6CP+h2AEAVExaGgUH06lTdPo0ZWaSqSk5OdHKlWRjQ3K4\n/zZASZydnVlHqClQ7AAAvq6wkKKiPg/OhYeTqip17UorVpCrK+HSqgAlev78eVJSko2NDesg\nNQuKHQBAqd69o8uXP/e5lBQyMCBXV1q0iBwcSFGRdTiAauzWrVsuLi5ubm4odlKGYgcA/Jee\nnt6gQQN5eflyrh8f//mac1evUq1a1KULLVpEffrQDz9UaUwAnggKCnJ3d+/fv/+mTZtYZ6lx\ncD4IAPBWYmLisGHDGjdu3KhRIxUVFVtb28DAwNJWzsmhU6do0iTS0SEjI9q+nQwM6MwZSk+n\nU6do4kS0OoBy8fPz692795gxY/bs2aOIkW2pQ7EDAH66ffu2mZnZ69evN2/eHBMTc+LECQsL\ni/79+69cubLoaomJ5OND3buTmhoNHUrJybRgAb14QQkJ5ONDTk445ApQAc+fPx83btyGDRt8\nfHwEuNIPCzgUCwA8JBKJRo4c6erq6ufnx/12ad++vbOzs4ODw+DBgx0ceqelGQcG0tmz9PIl\ntWxJLi7066/UuTMpKbGODiDLdHV1U1JS1NXVWQepuVDsAICHrl+//vjx46tXrxYdM0hMpJcv\n3Rs0uGlvb1irFtnY0KxZ5OZGuroMkwLwDVodWzgUCwA8FBcX16ZNm8aNGxNReDh5eZGuLrVq\nRdu2UZs2ue3bz01Pp4sXafp0tDqA75WZmTlmzJiHDx+yDgJEKHYAwFdCocaqVaSvT3Z29PAh\n/forJSbS/fvUvfs5NbU7tWqxzgfAC0lJSfb29pGRkWq43Ur1gEOxAMAreXl04QIdPTro0aOJ\nGzcWjhwpN3EitWz5ZYXw8HDc1wigUty7d69Xr17a2tqBgYGNGjViHQeIMGIHALwRH09z51LT\npjR4MKmrqzdtOrF793ErVoiLtrqAgIDLly+PGTOGXUwAnggPD7e3t7e0tAwODkarqz4wYgcA\nsi0jg44eJV9funOHzM1p2TIaOpRUVAS3bk3p1q1bUtKrKVOm6OvrJycnnzlz5q+//lqyZImp\nqSnr1AAyLyIiYty4cStWrCj/pb9BClDsAEAmiUQUHEzbt1NAAKmr08iRdOgQ6el9WcHS0vL2\n7du//fbb+PHjMzIylJSUTE1Njxw54ubmxi41AH/MmDGDdQQoAYodAMiY+/dp717as4cyM6lv\nX/L3p169SKGkf8z09PSOHj1KRG/fvlVTU1MocSUAqAihUIi/StUZvjcAIBsyM+nIEfLzo+vX\nydyc5s2j4cOpnBfM0tDQqOJ0APwnFAonT54cHx8fHh7OOguUCsUOAKq1wkK6fJn8/Ojff6l+\nfRo8mDZtIhMT1rEAapgPHz4MGTLk5s2bp0+fZp0FyoJiBwDV1KNHdOAA7d1LL1+SoyPt2UNu\nbrhzKwADqamprq6uqampYWFhrVu3Zh0HyoJiBwDVS1YWnThB//xDly6Rvj5NnkxjxhAOpQKw\nkpeXZ2dnp6KiEhYWpqmpyToOfAWKHQBUC4WFFBZG//xDBw6QggINHkwLF5KdHetYADWeoqLi\n9OnTR44cqaKiwjoLfB2KHQAw9uoV7d9P27fTs2fUtStt3kyDBlGdOqxjAQAREcnJyXl5ebFO\nAeWFYgcAbOTm0qlTtH07XbpEbdvSyJE0diw1a8Y6FgAQEVFISEi7du0wo1zm4JZiACBtt2/T\npEmkoUETJpCWFl24QPfu0aJFaHUA1cXatWu7du169+5d1kGgwjBiBwBSkpxM//xDu3ZRQgJ1\n6kRr19Lw4VSvHutYAFCEWCyeO3fuhg0b9u3b1717d9ZxoMJQ7ACgauXl0cmT5OdH586RtjYN\nHUqTJlGLFqxjAcB/5Ofne3p6BgYGnjp1ytnZmXUc+BYodgBQVW7fJj8/OnCAPnwgFxc6e5a6\ndSOBgHUsACiFj4/P1atXr127ZmxszDoLfCMUOwCoZK9f0+HDtGcPRUeTuTktX07DhpGyMutY\nAPA1U6dOnThxYoMGDVgHgW+HYgcAlUMkouBg2r6dTpwgDQ0aMYKOHiVcox5AhtSpU6cOLjUk\n4zArFgC+V3w8zZ1L2trk6kpE9O+/9Pw5rVyJVgcgAyIiIqZMmcI6BVQaFDsA+EaZmbR9O9nZ\nkZERBQXRb7/Rq1d05Ai5upK8POtwAFAOp06d6tatmzz+xvIIDsUCQMUUFtLly+TnR/7+1LAh\nDRpEW7YQzrQGkDl79uyZMGHCrFmzVq5cyToLVBoUOwAorwcP6NAh2r2b3ryh7t1p717q358U\n8K8IgAxatmzZ4sWLt27dOn78eNZZoDLhn2QA+Ir37ykggP75hy5dIn198vKisWOpcWPWsQDg\nO4SGhh47dsyVOzEWeATFDgBKVlhIYWH0zz+0fz8pKdGgQbR6NZmaso4FAJXh/PnzrCNAlUCx\nA6hZ8vLyatWqVfY6L17QwYPk60svXpCjI+3eTW5upKgonYAAUFVEIhHmSfAeZsUC1Aj379/3\n8PDQ0dGpXbu2lpaWu7t7VFRUsXU+faKjR6l7d2renPbupUmTKCmJLl6kQYPQ6gBk3vPnz42N\njX18fFgHgaqFYgfAf5cuXTI3N8/MzFy1alVYWNiGDRvEYnHHjh2PHz/OrXD7Nk2aRBoaNHEi\ntWxJISF07x79+itparINDgCVIy4uzs7OTlNT09PTk3UWqFo4FAvAczk5OSNGjJg8efL69eu5\nJZ06dRoyZMjSpUtHj/4tKsr54MF6iYnUtStt3kwDB1LdumzzAkAlu3Llipubm5OT0759+2rX\nrs06DlQtjNgB8NyJEycKCgr++OMPyZLcXDp6lG7c8M7OjvP1zR8+nBIT6eJFGjUKrQ6Ab0JC\nQnr27Dl27NgjR46g1dUEGLED4LnY2FgrKyvuH/SsLJo7lw4cILGYhgwRODsva9bs1aJFO1hn\nBICqoqWl9ffffw8bNox1EJASFDsAnpPMg3vxglxcKD+fNm0id3eqW5dGjUooLMS0CAA+09PT\n09PTY50CpAeHYgF4Tl9f//bt21FRhba2VL8+XbtGI0ZQ3bokFotv3brVrl071gEBoJIVFBSc\nOXOGdQpgA8UOgOfc3NyysrpaW4ucnOjyZVJX/7x8586dz58/9/DwYJoOACpZdna2i4vL+PHj\n8/PzWWcBBnAoFoDn9u1r9OnTP2LxUnn5F+HhI1u1avXs2bMjR45s2bJly5YtTZs2ZR0QACrN\nmzdv+vTpk5mZGRISoqSkxDoOMIBiB8BbIhH9/DPt2EF+foKmTbvMnz+/e/fuBQUFCgoKpqam\ngYGBPXv2ZJ0RACrNkydPevTo0bhx4/Dw8Ma4nXNNhWIHwE85OTR0KIWH04UL1LkzEXUODQ3N\nz89/8eJF06ZNv3pXMQCQOYMHD9bX1z98+HC9evVYZwFmUOwAeCg5mVxdKSuLwsKoTZsvy5WU\nlFq3bs0uFwBUodOnT2toaOBusDUcJk8A8E1MDHXsSHXqUHj4/7Q6AOA3LS0ttDpAsQPglXPn\nyM6Ounb9nwmwAMBXPj4+Bw4cYJ0CqhEUOwD+8PEhFxeaOZN27ybMhwPgN5FINHXq1Hnz5qmp\nqbHOAtUIzrED4AORiGbMoO3bac8eGjGCdRoAqGJ5eXmjRo26ePHi+fPn7e3tWceBagTFDkDm\n5eTQsGF0/bpkAiwA8FlWVparq+vTp0+vXbtmYGDAOg5ULyh2ALKt6ATYtm1ZpwGAqvfo0SNF\nRcWwsDAdHR3WWaDaQbEDkGExMeTiQk2b0rlzhMuRAtQQFhYWQUFBrFNANYXJEwCy6vx5srcn\nGxu6dAmtDoD/xGIx6wggA1DsAGTS9u3k6kozZtDBg1S7Nus0AFDFjh8/rqqqmpKSwjoIVHco\ndgAyRiSi6dNp2jTatYsWLSKBgHUgAKhiW7duHTx48K+//qqlpcU6C1R3OMcOQJZ8+EBDh9L1\n63T+PDk4sE4DAFVMLBYvXrx4+fLlW7ZsmTBhAus4IANQ7ABkRnIy9e1LmZmYAAtQU8yZM2fb\ntm0nT57s1asX6ywgG3AoFkA2xMZSp05UqxaFh6PVAdQUVlZWISEhaHVQfjJf7N6/fx8ZGZmW\nlsY6CEAVOn+e7OyoY0dMgAWoWQYNGmRqaso6BcgSWSp279+/X7hwYf/+/VesWJGdnU1E69at\n09bWtrS0bNy4sbW19YMHD1hnBKh83ATYKVPo0CFMgAXgv6SkpNjYWNYpQFbJzDl26enpVlZW\nCQkJRHTixInLly+PGjXql19+0dPT69KlS1JS0rlz5zp16vTw4UMNDQ3WYQEqh0hE8+fTn3/S\nzp00ahTrNABQ9aKionr37u3m5rZ161bWWUAmycyI3bJlyxISEjZs2JCUlLR3794rV66MGzeu\nT58+cXFx27dvP3369OnTp7khPdZJASrHhw80YADt2EHnz6PVAdQIly9f7tKli5OT08aNG1ln\nAVklM8Xu7Nmzjo6O06dP19bWHjVq1IABAwoKCv744w8lJSVuhZ49e3bt2jU0NJRtToBKkZJC\nDg4UG0vXr1OXLqzTAEDV8/f379Onj6en5969exUVFVnHAVklM8XuxYsXbdq0kXzZtm1bItLT\n0yu6Tps2bZ49eyblYACVLjaWOnYkJSUKD6d27VinAYCq9/DhQw8Pj1WrVvn4+MjJycyvZqiG\nZOanp1mzZo8ePZJ8yT1+8uRJ0XUSEhKaN28u5WAAlevCBbK3J2trunSJcL4oQA3Rpk2bhISE\nadOmsQ4CMk9mil2vXr2Cg4O3bt2ampp68OBBf39/BQWF33//vaCggFvh4sWLFy9etLOzY5sT\n4Hvs2EF9+tDo0XToENWpwzoNAEiLQCDQ1dVlnQL4QGaKnbe3d8uWLb28vDQ0NIYNG2Zvb79t\n27aAgIAOHTp4eXm5ubn16tVLRUVl0aJFrJMCfAuxmBYtoqlTadcu8vEhHIoB4L2srKypU6e+\nePGCdRDgFZm53ImamlpkZOSaNWtiYmKsrKymT5/eoEGDt2/fLlmy5P79+0TUoUOHffv2NWnS\nhHVSgAr78IGGD6eQEDp3jhwdWacBgKqXkpLSq1ev/Px8XMwBKpfMFDsiUlVV/eOPP4oumTdv\n3qRJkx4+fKirq6utrc0qGMD3SEmhvn0pPZ2uXyd9fdZpAKDqJSQk9OzZs1GjRkFBQerq6qzj\nAK/I/PEeNTW1Tp06odWBjIqLo06dSEGBwsPR6gBqhBs3blhbWxsaGgYHB6PVQaWT+WIHILsu\nXiQ7O7K0pMuXMQEWoKY4c+bM8OHD//333zqYIQVVQJYOxZYtMzPT0dGRiKKiosq/VUZGhre3\nt1AoLGMd7hw+gMq1cyd5edGUKfTnn5gqAVCDLF68mHUE4DP+FDuRSBQdHc06BcDXicW0eDEt\nX06bNtGkSazTAAAAj/Cn2NWvXz8oKKiiW6mqqm7evLnsdXx9fXGnMqgsubnk6UkXLtCFC5gA\nC1AjiESiqVOnJiYmnj9/nnUW4D/+FDtFRcVu3bqxTgFQltevqW9fSkvDBFiAmuLTp09Dhw69\ndu1aYGAg6yxQI8hqscvKysrOzpaTk9PU1MRt9UAmxMWRiwtpaVFEBKZKANQIGRkZffv2ffXq\n1bVr19rhxs8gFTJWieLi4kaPHq2lpdWgQQMdHR1tbW0lJSUdHZ1hw4Zdv36ddTqAUgUFkZ0d\nWVhgAixATfHx40dbW9vs7OywsDC0OpAaWSp2P/30k7GxsZ+fn0AgsLa27t27d+/evS0tLQUC\nwcGDB+3s7CZMmMA6I0AJdu2i3r1p9Gg6cgR3gAWoKRQUFEaPHh0SEqKlpcU6C9QgMnModsuW\nLZs2berRo8eKFStMTU2LPRsfH7906dKdO3fq6+vPnDmTSUKA/5JMgP3rL5o8mXUaAJAiJSWl\nX3/9lXUKqHFkZsRu//79bdu2DQwM/G+rIyJDQ8ODBw/a29sfO3ZM+tkASpSbS8OG0fr1dPIk\nWh1ATXHz5s2srCzWKaDmkpliFxcX17FjRwWFUocYBQKBvb19XFycNFMBlCYtjZyc6MYNioig\nXr1YpwEAqfDx8bGxsbl9+zbrIFBzyUyxMzIyunHjhkgkKmOd8PBwIyMjqUUCKE18PFlaklBI\n4eFkYMA6DQBUPbFYvGjRojlz5vj5+TniGpXAjswUu+HDhz948MDV1TU2Nva/zz569Gj48OHB\nwcH9+vWTfjaAorgJsObmdPkyaWqyTgMAVU8oFE6YMGHdunUBAQHDhg1jHQdqNJmZPOHl5RUb\nG7tt27azZ882bdpUV1dXTU1NIBBkZGS8fPny6dOnROTp6fnLL7+wTgo12t9/0+TJuAMsQM2y\ncuXK06dPh4SElHgWOIA0CcRiMesMFRAdHb169eqLFy+mpaVxS+Tl5TU0NLp06TJp0iQHB4eq\neFFfX9/JkydnZ2crKytXxf6BHyQTYDdupClTWKcBACnKzMwUiUSNGjViHQSkJD8/v1atWtev\nX7exsWGdpTiZGbHjmJiYHDhwgIgyMzOzs7MVFRU1NDRw5wlgLi+PxoyhwEAKCKDevVmnAQDp\natiwIesIAJ/JaiVq2LBh06ZNmzRpglYHzL17R05OFBpKISFodQA1RWRk5Pz581mnACgOrQjg\nuzx+TJ06UX4+RUaSiQnrNAAgFefOnXN0dExPT2cdBKA4FDuAb3fpEllZUfv2FByMCbAANcU/\n//zTt2/fsWPHbtmyhXUWgOJQ7AC+0e7d1KsXjRpFR49S3bqs0wCAVKxcuXLs2LEbNmzw8fER\nCASs4wAUJ2OTJwCY+PjxIxHV/f/6JpkA6+NDXl5MkwGAFInFYn9//8OHD7u7u7POAlAyjNgB\nlCovL2/p0qV6enoqKioqKip6enqLFy9+/z53xAhav55OnECrA6hZBAJBZGQkWh1UZxixAyjZ\np0+fnJ2dExMT58yZ07FjRyK6cePGypU71q93U1Y2DgkRYKoEAABUNxixAyjZypUrnz17FhkZ\nOX36dGtra2tr6969p9WpE52bqzhgwBq0OoAaIikpyczMbM+ePayDAJQLih1ACcRi8c6dO3/7\n7TctLS1uyeXLZGlJHTrIr19/48iR9bJ1yxYA+Db37t3r1KmTioqKm5sb6ywA5YJiB1CCjIyM\n5ORkW1tb7su//6ZevWjcOPL3py5drN68eSO5qR0A8FVERISDg4O5ufm5c+dwbwmQFSh2AKUS\nCAQiEc2aRZMn08aNtHYtyckRd4EDjNgB8FtISEjXrl2HDBni7+9fp04d1nEAyguTJwBKoKqq\nqqWldfnyLW/v9teu0dmz1K3b56fCwsI0NTXV1dWZBgSAqlW/fv2//vpr3LhxrIMAVAyKHUAJ\nBAKBu/svs2fbNW0qun5dvl27z8vfvn27bNmyMWPG4CbFAPxmYmJigklSIIPwywmgBNeu0ZEj\nM+rVy8zNNb50aXNkZOTt27e3bNliYWHRpEkTb29v1gEBoPIJhcKwsDDWKQC+C4odQHE7dlC3\nbtS/v+DlS+Px4weuW7fOysrKwsJizZo1o0ePDg4OrlevHuuMAFDJPnz44ObmNmDAgMLCQtZZ\nAL4dDsUCfCES0fz5tG4dbdhAP/5IRLUXL168ePHi7OxsIlJRUWEdEACqRGpqqqura2pqamho\nKE60AJmGYgfwWVYWDR9O4eF04QI5Ov7PU6h0ADz27Nmznj17KikphYaGamtrs44D8F1Q7ACI\niJ48ob59SV6ebt2iFi1YpwEAKXJ1ddXV1fX398f/wgEPoNgB0MWLNGQIWVvToUPUoAHrNAAg\nXcePH9fV1VVUVGQdBKAS4EwCqOm2b6c+fWjkSAoMRKsDqIlat26NVge8gWIHNZdQSNOm0bRp\ntH07+fiQvDzrQAAgLb6+vqdPn2adAqDyodhBDZWeTj160MGDdP48eXqyTgMA0lJYWDhjxozp\n06dj9ivwEs6xg5ro8WNydaVatejWLWrenHUaAJCW/Px8T0/PwMDAkydPOjs7s44DUPnw/ytQ\n45w/T1ZW1Lo1hYai1QHUINnZ2b169bp69eq1a9fQ6oCvUOygZtm+nVxdadIkOnmS6tdnnQYA\npOj27dsfP34MCwszNjZmnQWgquBQLNQUQiFNn067dtHOnTRqFOs0ACB1Xbp0CQ8PZ50CoGqh\n2EGN8O4dDRxIDx9SSAhZWbFOAwAAUDVwKBb4Ly6OLC0pM5MiItDqAGqWU6dO6ejopKensw4C\nICUodsBzZ8+SnR2Zm9P169SsGes0ACBFO3fudHd3nzBhgpqaGussAFKCYgd85uNDrq40eTId\nPkx167JOAwBStGrVqilTpmzatGnhwoWsswBID86xA37Ky6PJk+nQIdq7l4YPZ50GAKRr9uzZ\nW7ZsOXbsmKurK+ssAFKFYgc8lJZGAwbQkycUEkKWlqzTAIDUtW3bNjg42Aon1ULNg2IHfBMT\nQ337kpoaRURQ06as0wAAC+PHj2cdAYANnGMHvHL6NNnbU8eOdP06Wh1AzfLmzZuEhATWKQAY\nQ7EDnhCLadUq6tePZsyggwepTh3WgQBAimJiYszMzDZs2MA6CABjOBQLfJCXRxMm0PHjdPQo\n9e/POg0ASNeVK1fc3NycnJzWrFnDOgsAYxixA5mXnEydO1NwMF25glYHUOMcO3asV69eo0eP\nPnLkSO3atVnHAWAMxQ5kW3Q0depE8vIUGUnm5qzTAIB0xcbGDh48eNmyZT4+PnJy+I0GgEOx\nIMuOHiVPT+rXj3btwkl1ADWRgYFBTEyMgYEB6yAA1QX+/wZkEjdVYuhQmj2bDhxAqwOooeTl\n5dHqAIpCsQPZk5tLI0bQsmX077+0aBHrNAAgXdnZ2XPmzElNTWUdBKA6QrEDGZOURPb2FBFB\nERHUrx/rNAAgXW/evHF0dAwICBAIBKyzAFRHKHYgSyIiyMKCatWi8HAyNGSdBgCk68mTJzY2\nNgoKCteuXVNXV2cdB6A6QrEDmXH4MHXtSi4udPkyaWiwTgMA0nXr1i0bGxt9ff1Lly41btyY\ndRyAagrFDmSAWEyLFtGIEbRwIe3YQUpKrAMBgNT9888/AwYMOHHiRL169VhnAai+cLkTqO5y\ncmjUKAoKouPHycWFdRoAYGTjxo2sIwDIABQ7qC7evn178ODB2NjYDx8+GBkZubm5GRoavnpF\n/frR+/d04wbp67OOCAAAUL3hUCxUCwEBAXp6ehs3bszLy2vQoEFAQICxsfG4cbssLKhePQoP\nR6sDqHFEItHPP//s4eHBOgiALMGIHbAXExMzePDg+fPne3t7S24KNGdO1Jo1+p07PwgKaqeo\nyDYgAEhbbm7uiBEjgoODAwICWGcBkCUYsQP2/vjjD2dn5wULFnCtTiSiuXPpzz9N+/a9npDg\nJC9fyDogAEhVZmZmjx49wsPDg4OD7ezsWMcBkCUYsQP2goOD169fzz3OyqKhQykigs6dozZt\n2jRrlvT48eO2bduyTQgAUpOTk2Nvb09EN27c0NHRYR0HQMZgxA7Yy8jI0NDQIKLYWLK0pMRE\nioigbt2IW5iRkcE6IABIj0Ag6NevX2hoKFodwDdAsQP2tLS0nj17tn8/depE7dpReDjp6RER\nPX36lHuWcT4AkKJ69eotW7asYcOGrIMAyCQcigX2evVy+/33+u/e0bJlNGcOSe4AuW3bNiMj\nI11dXabpAEAa4uPjW7VqVbt2bdZBAGQbRuyAsZcv6datNamp3Wxtl4wdm8q1ury8vOXLl2/e\nvHnt2rWsAwJAldu6dauJicmtW7dYBwGQeSh2wNKZM2RiQsrKShcvpqalHdHR0TE2Nra2tm7c\nuPGff/556NChHj16sM4IAFVILBYvWrRo2rRpW7Zs4eZMAMD3wKFYYEMsptWraf58+vFHWruW\nFBX1Y2JiQkNDuTtPGBoadunSRVlZmXVMAKhCIpHIy8tr//79AQEBvXv3Zh0HgA9Q7ICBtDQa\nMYLCw+nwYRow4PNCOTk5BwcHBwcHptEAQHoWL1584sSJ4OBgS0tL1lkAeAKHYkHaIiPJ0pLe\nvKE7d760OgCogaZMmRIdHY1WB1CJUOxAqrZvJ1tbsren69epVSvWaQCAKS0tLVzPCKByodiB\nlOTk0NChNH06bdpEfn5Uty7rQADAQnR0NGa7A1QdFDuQhocPqWNHCg+nkBCaMIF1GgBgJCgo\nqHPnzo8fP2YdBIC3UOygyh08SBYW1LIlRUURzqUBqLH8/f1dXV3HjBmzdetW1lkAeAvFDqqQ\nUEhz59KoUTRrFp04QaqqrAMBACPr1q3z8PBYuXKlj4+PnBx+9QBUFVzuBKrKq1c0eDA9eUJn\nz5KTE+s0AMBOQUHBtm3bDhw4MHjwYNZZAHgOxQ6qRHAwDR1KbdpQdDRpa7NOAwBMKSoq4rw6\nAOnAeDhUMrGYVq2i7t1pyBC6dAmtDgAAQHpQ7KAyvXtHvXvT8uV06BD5+JCiIutAAMBISkqK\nra2tv78/6yAANQuKHVSa27fJ0pJSUujOHRo4kHUaAGDnwYMHNjY2RNS1a1fWWQBqFhQ7qBzb\nt5ONDdnZUVgYtW7NOg0AsHPz5s3OnTsbGxtfvHhRTU2NdRyAmgXFDr7Xp080dixNm0arV+OW\nEgA13dWrVx0dHd3d3Y8dO1YX/xwASB1mxUJ5HTt2zN/f/969e3Xq1DE2Np4wYYKFhcWjRzRw\nIL1/TyEhZGXFOiIAsCYvL79mzRovLy/WQQBqKIzYwdcJhcLBgwePGDFCUVHR09OzX79+L1++\n7Nix45gxAVZW1KwZRUej1QEAEZGdnR1aHQBDGLGDr1u6dOnVq1cjIyMNHwRHtAAAIABJREFU\nDAy4Jb/8MnfgwAd79rQeNerp7t0tcBl5gJpMJBLdv3/fyMiIdRAAwIgdfE1BQcHGjRtXrlwp\naXVJSeTgQGFh7ZydN6Sm/ohWB1CTffr0acCAAT169GAdBACIUOzgqx48eJCZmeni4sJ9eeUK\nmZqSnBxFR9OECc0jIiLYxgMAhjIyMpydne/evXvp0iXWWQCACIdi4as+fvxIRCoqKkQkEtGo\nUdS3L23dSoqKpKKiwj0LADVQUlJSr169xGJxaGiojo4O6zgAQIQRO/gqXV1dgUBw7949Ijpz\nht6+pRUrPt9S4v79+82bN2cbDwBY6datW+PGja9fv45WB1B9oNjBVzRp0sTe3n7FihVisdjX\nlwYOpMaNiYiys7M3bdo0aNAg1gEBgI1Dhw6dPXu2fv36rIMAwBcodvB1Pj4+586dGzDg53Pn\naNIkEgqFYWFhXbt2VVRUnD17Nut0AMCGiYmJkpIS6xQA8D9Q7ODrTExMrly5EhFhJBI9cHFp\nWK9ePTs7u2bNml25cgX/sw5Qo+zduzckJIR1CgAoFSZPQLl06GAuJ2f+++/vrK33165du337\n9hoaGqxDAYD0iMXiuXPnbtiw4fjx46yzAECpUOygXE6fpvR0+vnnRmpqfVhnAQBpEwqFkydP\nPnz4cEBAQM+ePVnHAYBSodhBufj60qBBpKbGOgcASF1OTs6AAQNiYmJCQkJMTU1ZxwGAsqDY\nwde9eEEXLhDOqwGoma5cufLmzZuwsLAWLVqwzgIAX4FiB1+3fTu1aUM2NqxzAAALLi4uknvP\nAEA1h1mx8BVCIe3eTV5erHMAAADA18h8sXv79u2dO3c+fPjAOghvnTxJGRk0fDjrHAAgRefO\nnTMwMMjJyWEdBAAqRpaK3fPnzz09Pbdt28Z9GRkZaWpqqqmpaW5uXr9+/b59+7569YptQl7y\n9SUPD1JVZZ0DAKRl7969ffv2dXd3V1ZWZp0FACpGZs6xe/LkSceOHd+9e2diYkJEjx8/7ty5\nc25urrOzc8uWLe/fv3/q1KnIyMj4+HhVdJDK8/QpBQVRWBjrHAAgLT4+Pr/88ouPj48XzsAA\nkEEyU+zmzZuXnp6+Y8eOcePGcV/m5eVduHDBycmJW+Hw4cMeHh4LFiz466+/mCblle3byciI\nrK1Z5wAAqfj11183btx4+PBhd3d31lkA4FvIzKHY0NBQKyur8ePHCwQCIrpx40aPHj0krY6I\nhgwZ4uTkFBwczC4j3xQU0N69NHky6xwAIC3q6upBQUFodQCyS2ZG7D5+/NiqVSvJl/n5+dra\n2sXWadGixc2bN6Wbi89OnKCsLEybAKhBZs+ezToCAHwXmRmxs7CwuHLlSlZWFvellZXVrVu3\nxGKxZIXCwsLw8HDuDDyoFL6+NHQo1a/POgcAVKX09PTXr1+zTgEAlUNmit2iRYvS0tJ69OgR\nERFBREuXLk1MTJw/f75IJCKi3NzcadOmxcXFubm5sU7KEwkJFBxMkyaxzgEAVenevXsmJiar\nVq1iHQQAKofMHIrt3Lnz3r17R44c2alTp6ZNmzZv3lxDQ2PFihU7duxo3rz5o0ePsrKyPD09\nZ8yYwTopT/j6Uvv2ZGHBOgcAVJmIiAhXV1c7O7s//viDdRYAqBwyM2JHRB4eHgkJCTNnzhSJ\nRKGhoYmJiUSUlpYWFxdnY2Nz/vz53bt3s87IE/n5tHcvTZnCOgcAVJmAgICuXbsOGTLk33//\nrVOnDus4AFA5ZGbEjtOsWbN169atW7cuJycnMzOzoKCgbt26jRs3lpOTpYZa/R07Rh8/0tCh\nrHMAQNW4ffv2wIEDlyxZMm/ePNZZAKAyyVixk1BWVsYl0auOry8NG4ZpEwC8ZWRkFBYWZmlp\nyToIAFQyDHRBcU+e0NWrNHEi6xwAUGVq1aqFVgfAS7I6YvdfmZmZjo6ORBQVFVX+rZ4+fWpt\nbS0UCstYJy8vj4iKXlqF37ZuJXNzMjdnnQMAKtWHDx/Wr18/ffr0+hiNB+Av/hQ7kUgUHR1d\n0a10dXWPHDlSdrELDAz08fHh7njBe3l59M8/hBlyADyTmprq6uqampqKO8AC8Bt/il39+vWD\ngoIqupWcnFyXLl3KXichIeEbM8kgf3/KzaUhQ1jnAIDK8+zZs549e9aqVSs0NLRRo0as4wBA\nFeJPsVNUVOzWrRvrFDJv+3YaMYJUVFjnAIBKEhUV1bt3b2NjY39/fxX83QbgO1mdPJGVlZWU\nlJSSklJYWMg6C388eEChoTRhAuscAFB5/vzzz549ewYGBqLVAdQEMjZiFxcXt2bNmgsXLkju\nbCgvL9+kSZPOnTv/+OOPtra2bOPJOl9fsrIiU1PWOQCg8vj5+bGOAADSI0vF7qefftq8ebNY\nLNbS0rK2tubOFElPT3/16tXBgwcPHjw4fvz4HTt2sI4pq3Jzyc+P1q5lnQMAAAC+lcwUuy1b\ntmzatKlHjx4rVqww/c+YUnx8/NKlS3fu3Kmvrz9z5kwmCWXd0aMkEtHgwaxzAMD3KSwsnDt3\nbnZ29tatW1lnAQBpk5lz7Pbv39+2bdvAwMD/tjoiMvw/9u40oKpqYeP4OkwChuAEoijOEyZa\nOSGgJA7gbI5gF0pNcyxzqqvmUDnUrUwcSvMmaXq1tDQ1ZVJk8mqKAoqkookgSoAoAjKc9wO9\n1jUxxcNZZ+/z/32CfQaeluR5XGvvtV1ctm3b5uHhsWvXLv1nU4fPPxcvvyyqV5edA8BTKCoq\n8vf3/+KLL0aPHi07CwAJFFPsEhMTu3btamZW4RSjRqPx8PBITEzUZyrVOHdOxMSIceNk5wDw\nFO7cuTN48OAjR44cPny4R48esuMAkEAxS7Ht2rU7duxYaWmpqalpRc+JjY1t166dPlMp2r17\n98LDwxMSEoqLi2NiRnfu7NyhQ4VjC8DA3b5928PD4969e7Gxsc7OzrLjAJBDMTN2/v7+ycnJ\nAwcOTEhI+OujKSkp/v7+ERERgwcP1n82JYqJiWnVqtVLL720c+fOvXtD9++vdfbsjD179sjO\nBaCSSkpKevToERUVRasDjJliZuwmT56ckJCwfv36AwcONGzY0NnZuVatWhqNJicn5+rVq6mp\nqUKIwMDAWbNmyU6qAOfPn+/Xr9/o0aM/+uijGjVqfPWVOHdOO3lyveHDh4eGhnp6esoOCOCJ\n1axZc9WqVbJTAJBMo6x728fHx69cuTIkJCQrK6v8iKmpqb29fc+ePSdOnFhF55R8/vnnkyZN\nun379jPPPFMV769/Y8aM+e233w4ePFh+A9xu3USXLuLTT8WECRMSExNjY2NlBwTwuC5evNi4\nceNHnKMCQOfu3btXrVq16OhoNzc32VkepJgZu3IdOnT45ptvhBC5ubm3b982Nze3t7c3MVHM\ngrKB2L9//8aNG8tb3ZkzIi5ObNwohBATJkzo2rVrdnZ2rVq1JEcE8Bg2btz4+uuvR0VFdenS\nRXYWAAZBYcXuPjs7Ozs7O9kpFOnu3bt5eXn3z8L5+mvRvbtwcRFCiMaNG2u12uvXr1PsAMO3\nYsWK+fPnBwUF0eoA3KfUYodKs7KysrKyyszMLP82IkIMGfL7Q+U3aiu/pQcAg1VaWjp16tTg\n4ODdu3cPGDBAdhwABoRFTKOj0Wi8vLzKV7Tz88Xp08Ld/feHtm3b5uLi4uDgIDMfgL+zYMGC\nnTt3hoWF0eoAPIBiZ4wWLFjw3XffrVixIiZGq9GIzp2FEOLrr7/+17/+tXjxYtnpAPyNcePG\nnTx5smvXrrKDADA4LMUao65du27duvXVV181N7esUaP/5MnvHT9+/MKFCx999NFLL70kOx2A\nv9GsWTPZEQAYKGbsjNSIESMuXrzo4DCsQYPLpqamr7766vnz56dPny47F4CHS0xM3Fh++ToA\nVIwZO+NVu7b9tWviq68aDhvmLTsLgEc5fPjwkCFDRo4cOX78eNlZABg0ZuyM1+nT4vZtYXh7\nKwL4H7t37/bx8QkICFi/fr3sLAAMHcXOeEVFiRYtRL16snMAqNiqVatGjBjx3nvvrVq1is3Y\nAfwtlmKNV3T0HxudADBAd+/e/eCDD4KDg/38/GRnAaAMFDvjFRMjFi2SHQJAxaytre/vJQ4A\nj4OJfSN1+bJISxPdu8vOAQAAdIdiZ6SiokSdOqJVK9k5APyvzMxMb2/vgwcPyg4CQJEodkYq\nOlp07y40Gtk5APzJhQsX3Nzc7ty588ILL8jOAkCRKHZGKiqKdVjAsBw/ftzNza1NmzZhYWG1\na9eWHQeAIlHsjFFurjh7lmIHGJDIyEgvL6+BAwd+//331atXlx0HgFJR7IxRTIwwNxfPPy87\nB4D/d/fu3cWLF2/cuNHMjM0KAFQef4MYo+ho0bmzqFZNdg4A/69fv379+vWTnQKA4jFjZ4yi\notiaGJCvrKzs8uXLslMAUBWKndEpLhYnTnCCHSBZYWHhyJEjvby8ZAcBoCosxRqdEydEQYHo\n1k12DsCI5ebmDh48+MKFCwcOHJCdBYCqUOyMTnS0cHERtWrJzgEYq4yMDB8fn+Li4ri4uIYN\nG8qOA0BVWIo1OuVbEwOQxdPT09bWNioqilYHQOcodsZFqxUxMRQ7QKYvv/zy4MGDNWvWlB0E\ngAo9VbErLi5esWKFrqJAD1JSxI0bXBILyOTp6WlpaSk7BQB1qrDYHT9+3Nvbu06dOlZWVl27\ndg0NDRVC3L59e9WqVa+88sqwYcO8vb2bNm06b948PabF04qKEvXqiSZNZOcAjMyOHTtOnjwp\nOwUA9Xv4xRPx8fHdunUrLS0VQlhZWR07dszHxyc0NHT27NnHjx//8zPbtm2rj5jQkeho4eEh\nOwRgTLRa7cKFC1esWPH999/LzgJA/R4+Y7d48eLS0tKZM2fm5ubevXv3/Pnzzz333IABA44f\nPz516tSEhITr16+np6ffvXs3KSlJz4nxNLhyAtCn0tLSSZMmffLJJ99//72vr6/sOADU7+Ez\ndqdOnWrduvVHH32k0WiEEC1btvzss8+6du3avn371atX6zchdCYrS/zyCyfYAXqSn58/atSo\n48ePR0REdOrUSXYcAEbh4TN2V69edXFxKW915Z599lkhRJs2bfSUC1Xg6FFhbS1cXWXnAIzD\n3r17f/nll+joaFodAL15eLErKyuzsrL68xFra2shhLm5uT5CoWpER4tu3YQZm1IDejF69Ojz\n5883b95cdhAARoR97IxIVBQn2AEAoGYUO2NRUCBOnaLYAVUrJCSka9euxcXFsoMAMFIUO2Px\n3/+K0lLRtavsHIB6bd26dcCAAT179uSsFQCyVHi+VVhYmI+Pz+McPHDggO5zQdeiooSrq7Cx\nkZ0DUKlVq1a99dZby5cvnzVrluwsAIxXhcUuIyMjIyPjcQ5CEaKj2egEqCpvv/32J5988s03\n34wcOVJ2FgBG7eHF7sKFC3rOgSpVVibi4kRgoOwcgEqZmpoePHiwR48esoMAMHYPL3bNmjXT\ncw5UqcREkZMj3Nxk5wBU6r333pMdAQCEeMRSrBCisLAwJSXl2rVrzZs3b9q0qampqd5iQbei\no0WTJsLJSXYOQEXy8vLKysrs7OxkBwGAP1R4VeymTZvq16/v6urq6+vbsmXL5557LiEhQZ/J\noEPcIhbQreTkZFdX12XLlskOAgD/4+HFLjQ0dNy4cTk5Oe7u7qNGjWratOmZM2f69OmTl5en\n53zQCbYmBnTov//9r6enZ/v27d99913ZWQDgfzy82JX/M3THjh1Hjx7dvn17cnLy8OHDr1+/\nHhwcrN940IFr18SVK1wSC+jG3r17vby8BgwY8N1335XfaxEADMfDi925c+eef/75ESNGlH9r\nbm6+ZMkSIURSUpL+okFHjh4VdnaibVvZOQDlO3bs2LBhw+bOnbtp0yYz7rsMwPA8/C+mjIyM\nB67bb9GihRDizp07+ggFnYqOFm5uwoSbjABPrW3btmFhYZ6enrKDAMDDVfhp/8A/Rvm3qXJx\n5QSgKzY2NrQ6AIaMaRx1ysnJ+eCDD/r379+mTef4+LLLl7fk5OTIDgUoUkFBwSeffFJQUCA7\nCAD8PYqdCiUlJbVv337Tpk0uLi69es3XaLShocvbt2/PKZLAk8rOzvb29v7ss8+KiopkZwGA\nv1fhAmtkZOT9iycefXDnzp26z4XKunfv3pAhQ7p06bJlyxZLS8t33xVduojw8BNjx44dOnRo\nYmKihYWF7IyAMly7ds3Hx0er1R49epSNiAEoQoXF7tdff/31118f5yAMyvfff3/jxo0vv/zS\n0tJS/P8OdpaWll9++WWjRo1++OGHv1ZzAH915swZHx+f1q1b7969u0aNGrLjAMBjeXixi4+P\n13MO6EpcXJyHh4etra0QoqRE/Pe/Yto0IYSwtbX18PCIi4uj2AGPY/78+T179ty0aVO1atVk\nZwGAx/XwYufq6qrnHNCVu3fv2tjYlH/988/i7t0/Lom1sbHJz8+XlgxQlB9++EGj0chOAQBP\n5uEXT7Ro0WLWrFl6jgKdaNy48blz58q/DgkRrq6ibt3fHzp79myTJk2kJQMUhVYHQIkeXuwu\nXLiQmZmp5yjQiWHDhiUmJu7fv18IERIievf+/fi+ffuSkpKGDh0qMxxgwLRa7YIFC95++23Z\nQQCg8tjuRG1atmw5Z86c0aNHr1696dgx0bu3yMvL+/zzz8eMGTN37tyWLVvKDggYouLi4oCA\ngFWrVvW+/48hAFAg7iehQu+//36dOnXefvtgUZHfmDEts7Ku2tnZLVq06M0335QdDTBE+fn5\nI0aMOHXq1OHDh5977jnZcQCg8iosdoWFhb/99tvjvEXt2rV1lwc6oNFoZs6ceelSyYkTd2fP\n/qRx48Zt27a1srKSnQswRHl5eS+++GJeXl5MTAwnoQJQugqL3bfffvvtt98+zltotVrd5YHO\nRESYBQbWeOmll2QHAQxafn5++/btV6xYUff+dUYAoFgVFrs6deo0b95cn1GgQ+np4tw5wclC\nwN9ydHTctGmT7BQAoBsVFrt+/fp9/fXX+owCHQoJEbVri/btZecADFVGRka9evXY0wSAynBV\nrDqVb3Riwh8v8DCbN292dnbmFjsA1IdPfhXSakV4OOuwwMOtWrVq/Pjxn376aceOHWVnAQAd\nY7sTFUpIEBkZwttbdg7AwGi12tmzZwcFBW3dunXkyJGy4wCA7j282E2aNKlz5856jgJdCQkR\nrVuLhg1l5wAMzLx58zZt2hQSEuLh4SE7CwBUiYcXu3Xr1uk5B3QoNJR1WOAh/Pz8XnvttWbN\nmskOAgBVhaVYtbl3Txw9KiZPlp0DMDyurq6yIwBA1eLiCbWJjhZFRaJHD9k5AMNw/vz5nTt3\nyk4BAHpCsVObkBDRtauoUUN2DsAAREVFdevW7dChQ7KDAICeUOzUpnwHOwA//PBDnz59/Pz8\nPv/8c9lZAEBPKHaq8ttv4uRJih0gNm3aNGLEiDlz5gQFBZmwVTcAo8HFE6oSHi6eeUa88ILs\nHIBUOTk506dP37BhQ0BAgOwsAKBXFDtVCQkRL74ozM1l5wCkqlmzZm5urpkZf78BMDqsUKgK\nO9gB5Wh1AIwTxU49LlwQqakUOxipmzdvDho0KDo6WnYQAJCJf9SqR0iIcHYWLVrIzgHoXWpq\nar9+/WxsbFq1aiU7CwDIxIyderDRCYxTQkKCh4dHw4YNw8PD69SpIzsOAMhEsVOJ0lJx+LDw\n9padA9Cvo0ePuru7e3l5HThwoAYbcwMwehQ7lTh+XNy6JV58UXYOQL+uX78+e/bs4OBgc64G\nBwDOsVONkBDRoYOoW1d2DkC/RowYITsCABgQZuxUghPsYDy0Wu3NmzdlpwAAQ0SxU4Pbt0Vc\nHMUORqGoqMjPz8/Dw0N2EAAwRCzFqsGRI8LUVLi5yc4BVLE7d+4MHz78zJkz+/fvl50FAAwR\nxU4NQkKEp6ewspKdA6hK169f9/X1LSwsjI2NdXZ2lh0HAAwRS7FqwAl2UD2tVtu9e3crK6uo\nqChaHQBUhBk7xbt2TZw7R7GDymk0mk8//dTb29uKqWkAqBjFTvFCQoS9vWjfXnYOoIoNHDhQ\ndgQAMHQsxSpeSIjw9hYajewcQBXYs2fP+fPnZacAAMVQQ7H78ssvo6OjZaeQQ6sV4eGsw0Kd\nFi9e/NJLL6WmpsoOAgCKoYZiN378+C1btshOIceZM+L6ddGrl+wcgE6Vlpa+/vrrK1eu3L17\nd79+/WTHAQDFUMY5dmlpaadPn37EE65cubJv377yr/v376+XUAYhJES0aSMaNpSdA9CdoqKi\nsWPHhoeHHzp0qHv37rLjAICSKKPYhYWFBQYGPuIJBw4cOHDgQPnXWq1WH5kMAxudQH2+/vrr\nn3/+OTo6unXr1rKzAIDCKKPYDRs27PDhw1999dUzzzwzffr0GjVq/PnRefPmdenSZejQobLi\nyVJYKKKixLRpsnMAOjVu3LiAgABzc3PZQQBAeZRR7GxsbP7973/3799/4sSJ27ZtCw4Odnd3\nv//ovHnzOnbsOHfuXIkJpYiOFvfuCU9P2TkAndJoNLQ6AKgcJV08MXz48NOnTzdp0qRHjx7v\nvPNOcXGx7ESShYSIbt3E/05fAooUERHRr18/ozqPAgCqgpKKnRDCyckpNDR0xYoV//rXvzp3\n7pyUlCQ7kUycYAd12LFjh4+PT7t27TTsxwgAT0dhxU4IodFoZs2adezYsaKiohdeeOHTTz+V\nnUiC9PT0EydS4+MpdlC81atX+/n5zZs376OPPpKdBQAUT3nFrlyHDh1+/vnncePGvfnmm7Kz\n6E9hYeH8+fPr1KnToEGDTp3e1mpvrV4dkJGRITsXUEnz58+fNWtWcHDwokWLZGcBADVQxsUT\nD2VlZRUUFDR06ND4+HhXV1fZcarcvXv3fHx8Lly4sHLlSg8Pj4UL61++nHfx4vnOnTvHxMQ0\nZC87KFB2dvb+/ft7scU2AOiIgotduV69ehnJp8KaNWuSkpJOnjzp5OQkhIiLE3PmVB83LvLF\nF1984403vvvuO9kBgSe2du1a2REAQFWUuhRrhDZv3jx9+vTyVpeSIi5fFr17CwsLi6VLl+7Z\nsyc3N1d2QOCxFBQUFBQUyE4BAOqk+Bm7+3Jzc728vIQQp06devxXlZWVRUZGlpSUPOI5586d\ne9pwunD+/PkXXnih/OvwcNG4sWjeXAghOnXqVFJScvHixeeff15mPuAxXLhwoW/fvmPHjl28\neLHsLACgQuopdqWlpfHx8U/6qitXrowcOfLRxa6oqEgYwJ3KzMzM7uc8e1Z07Pj78fL9/MzM\n1PNHCbU6fvx4//79O3fuPGfOHNlZAECd1NMGatSoERoa+qSvatKkyY0bNx79nM8//3zSpEnS\nd9hydXU9fPjwgAEDhBBXr4pGjX4/fvjwYWtr6xYtWsgMB/yd0NDQYcOGDRs2bMOGDdxYAgCq\niHrOsTM3N1f3hRSTJk1at27diRMnhBBpaaJBAyGEyMrKmjdv3j/+8Q9ra2vJ+YCKxcTE+Pr6\nzpgx49///jetDgCqjlJn7PLy8m7fvm1iYuLg4GBiop56+gj+/v6HDx/29PScMmXKhQtLc3J+\nWbbsxzVr1tSvX3/FihWy0wGP0rJly7179/bt21d2EABQOYVVosTExICAAEdHR1tbWycnp/r1\n61tYWDg5Ofn5+UVHR8tOV7U0Gs3GjRs3bNhw7NjJ3FyLjz+euXPnzsmTJ0dGRtbgfrEwbHXq\n1KHVAYAeKGnGbtq0aWvWrNFqtY6Ojl26dKldu7YQIjs7Oy0tbdu2bdu2bRs/fvyGDRtkx6xa\n/v7+7u7+jRuLpKSDzZsrrJfDqBQWFm7ZsiUwMJArewBAbxTzF+7atWuDgoL69u27bNmyjvev\nCP1/SUlJS5cu3bhxY5s2bWbOnCklod6kpQmNRjg50epguHJycoYMGZKamjpq1CgbGxvZcQDA\nWCimHGzdurVVq1Y//vjjX1udEMLFxWXbtm0eHh67du3SfzY9S0sTdeoIS0vZOYAKpKene3l5\nZWVlRUdH0+oAQJ8UU+wSExO7du36iDUdjUbj4eGRmJioz1RSpKUJJyfZIYAKnD17tlu3btbW\n1pGRkdzCGAD0TDHFrl27dseOHSstLX3Ec2JjY9u1a6e3SLJcu0axg+GaOnVq586dw8PDy8+C\nBQDok2KKnb+/f3Jy8sCBAxMSEv76aEpKir+/f0RExODBg/WfTc+YsYMh279//86dOy05VwAA\nZFDMxROTJ09OSEhYv379gQMHGjZs6OzsXKtWLY1Gk5OTc/Xq1dTUVCFEYGDgrFmzZCetcmlp\nwtVVdgigAlQ6AJBIMcVOCLFu3bqJEyeuXLkyJCQkKiqq/KCpqam9vf2YMWMmTpzYo0cPuQn1\ng6VYGBStVvv+++9bWFhwB1gAkE5JxU4I0aFDh2+++UYIkZube/v2bXNzc3t7eyO580S5sjKR\nkUGxg6EoKSmZOHHijh07jOGCdAAwfAordvfZ2dnZ2dnJTiHB9euiuPj3G8UCcuXn548aNSou\nLu7gwYNubm6y4wAAFFvsjFZamhCCYgf5bt261bdv35s3b8bFxTVv3lx2HACAEAq6Khbl0tKE\nnZ1gz1dIl52d3bhx45iYGFodABgOZuwUhr1OYCCaNGmyfft22SkAAP+DGTuF4ZJYyHXr1i3Z\nEQAAFaLYKQzFDhJt3brV3t4+OTlZdhAAwMNR7BQmLY0rJyDHqlWrAgIC3n///datW8vOAgB4\nOM6xUxiKHfRPq9XOmzfv008/3bJly+jRo2XHAQBUiGKnJFotS7GQYM6cORs2bDh48GDPnj1l\nZwEAPApLsUqSlSUKCyl20LehQ4fGxcXR6gDA8DFjpyTluxNT7KBn3FUCAJSCGTsluXZNVK8u\nataUnQNG4MKFC4cOHZKdAgDwZCh2SsLuxNCPuLi4rl27fvvtt7IAY1wwAAAgAElEQVSDAACe\nDMVOSbhyAnqwd+/eXr16DRo0aO3atbKzAACeDMVOSdjrBFXtq6++GjZs2LRp0zZt2mRmxjm4\nAKAw/MWtJGlponNn2SGgXtevX3/ttdfWrVs3fvx42VkAAJVBsVOStDQxdKjsEFCvevXq5eTk\nVK9eXXYQAEAlsRSrJJxjh6pGqwMARaPYKUZurrh9m2IHHcvOzh41alR8fLzsIAAAHWApVjGu\nXROC3YmhU1euXPHx8bGwsGjAVTkAoArM2ClGWpqoVk3UrSs7B9QiMTHR3d29Xr16R44cqcsv\nFgCoAsVOMdLSRP36QqORnQOqEBUV5e7u7u7u/tNPP9na2sqOAwDQDYqdYnDbCehQcnLy9OnT\nt27damFhITsLAEBnOMdOMbgkFjrETnUAoErM2CkGM3Z4enfu3JEdAQBQhSh2isH9xPA0iouL\nX375ZXd3d9lBAABViKVYxWDGDpWWn58/YsSIU6dO7du3T3YWAEAVotgpw927IieHYofKyMzM\n7N+/f05OTmRkZIsWLWTHAQBUIYqdMqSlCcHuxHhyJSUl7u7utWrViouLY7M6AFA9zrFThrQ0\nYWoqHBxk54DSmJmZLVy4MDw8nFYHAMaAGTtlSEsTjo7CjD8uPLmXX35ZdgQAgJ4wY6cMXDmB\nJ3Lo0KFff/1VdgoAgL5R7JSB3Ynx+JYtW9a/f/9z587JDgIA0DfW9pQhLU00bSo7BAyeVqud\nPXt2UFDQ1q1b+/btKzsOAEDfKHbKcO2a8PCQHQKGraioKCAg4NChQ4cOHfL09JQdBwAgAcVO\nGTjHDn/r888/j4mJOXr0qIuLi+wsAAA5OMfO0OXm5h45EnvzprCxyZOdBQZt8uTJycnJtDoA\nMGYUO8OVkZHx0ksv1a5du1evf5SViQEDOvj6+l6+fFl2LhgoMzMza2tr2SkAADJR7AzUzZs3\n3d3d09PTIyIiDh5M0mhEZOT2oqIiNze3q1evyk4HQxEVFTVmzBjZKQAAhoJiZ6AWL15cvXr1\nsLAwT0/PGzcs7O2Fh0fnn376qUmTJnPnzpWdDgZh9+7dffr0sbe3lx0EAGAoKHYGavv27bNm\nzSpfWbu/iZ25ufnbb7/9/fffFxUVSc4H2TZt2jRq1Kg5c+asWrVKdhYAgKGg2BmiW7du/fbb\nb88++2z5t9euifr1f3/o2WefLSgoyMjIkBYOBmDRokWTJk364osvFi1aJDsLAMCAsN2JIbK0\ntNRoNHfv3i3/9pdfRMuWvz+Un59f/gRZ2WAIkpOTf/jhBx8fH9lBAACGhRk7Q1StWrX27dv/\n9NNP5d8mJ4tWrX5/6KeffmrUqJGDg4O0cDAA27dvp9UBAP6KYmeg3njjjU8++SQmJubePXHl\nimjdWgghTp8+/d57782YMUOj0cgOCH0rLi4uKSmRnQIAYNAodgYqICDglVde6dmz54gR75SU\niOPHt0yYMKFbt279+/d/4403ZKeDvqWmpj777LMfffSR7CAAAINGsTNQGo1m9erVP/zwQ1ZW\nHVPT2198sSQ7O/vrr7/++uuvTUz4UzMuCQkJHh4eTk5OkydPlp0FAGDQuHjCoPn4+Jw86VNa\nKuLiUmRngRzh4eFDhw4dNGjQpk2bzM3NZccBABg05n4M3fnzv59gByN09OhRHx+fSZMmBQcH\n0+oAAH+LGTtDd/68GDJEdghI0qRJk+3btw8dOlR2EACAMlDsDF1Kyh97ncDYODk5OZXfdQQA\ngMfAUqxBy8gQubksxRqXoqKinTt3arVa2UEAAMpDsTNoycnC1FQ0ayY7B/QlLy/P19f3zTff\nLCgokJ0FAKA8LMUatPPnRdOmolo12TmgF9evX/f19S0sLIyOjra2tpYdBwCgPMzYGTQuiTUe\nFy9e9PDwsLCwiIyMdHZ2lh0HAKBIFDuD9ue7xELdXn755bZt20ZERNSpU0d2FgCAUrEUa9CS\nk8VLL8kOAb3Yv3+/ra0tdwEGADwNip3hKiwUV6+yFGss7OzsZEcAACgeS7GGKyVFlJayFKtm\nH3744RdffCE7BQBAPSh2his5WdSqJerWlZ0DVaC0tHTixImLFi3iOgkAgA6xFGu4kpNZh1Wn\noqKisWPHhoeHHzp0qHv37rLjAADUg2JnuNjrRJVu3brl6+ubnp4eHR3dmj9gAIBOsRRruM6f\n5wQ7FUpLS6tVq1ZMTAytDgCgc8zYGSitlhk7dXJxcdm7d6/sFAAAdWLGzkBduybu3GHGTj3u\n3bsnOwIAQP0odgYqOVmYm4umTWXngC7s2LHDzs7u8uXLsoMAAFSOYmegzp8XzZoJc3PZOfDU\nVq9e7efnN2fOnMaNG8vOAgBQOc6xM1CcYKcCWq128eLFy5YtCw4O9vPzkx0HAKB+FDsDlZws\nnntOdgg8ndmzZ3/xxRf79u3z9vaWnQUAYBRYijVQyclcOaF4vXv3jomJodUBAPSGGTtDlJ8v\n0tJYilW8vn37yo4AADAuzNgZovPnhVYrWraUnQNP7sqVK7GxsbJTAACMFMXOEJ0/L+ztRe3a\nsnPgCR0/frxTp07BwcGygwAAjBTFzhBxMzElCg0N7dWrl6+v72effSY7CwDASFHsDFFyMifY\nKUxwcLCvr+/kyZP//e9/m7P9IABAEoqdIWLGTlkuX748bty4VatWLV++XKPRyI4DADBeXBVr\nKMrKyjZu3Lh9+/aEhKTffrus0XzQoIHL6NGjZefC32vcuHFGRkadOnVkBwEAGDtm7AzCvXv3\nBg4cOHfu3E6dOi1Z8m+t1urZZy1effXVwMDAsrIy2enw92h1AABDQLEzCB988MHJkyd//vnn\nFStWNG3qa2EhvvxyQXR09K5duzZu3Cg7HR4iJyfnlVdeSUlJkR0EAIA/UOzkKy0tXbdu3aJF\ni5o2bSqEOH9etGghzMxEx44d33zzzTVr1sgOiAelpaV5enqeOHGiZs2asrMAAPAHip18165d\nu3Hjxv0bT50//8clsd7e3omJicXFxdLC4S/Onj3bvXt3Gxubw4cP161bV3YcAAD+QLGT7969\ne0KIatWqlX/7yy+iefPfH6pWrVpZWRnFznDExMS4u7t36tQpPDy8NltIAwAMDMVOPicnJ2tr\n61OnTpV/e+mSaNr094dOnTpV/qi0cPhfMTEx48eP37Fjh6WlpewsAAA8iO1O5LO0tHzppZeW\nLl3au3dvc3PLX38VTZoIIURubu6HH37o7+8vOyD+MGvWLNkRAACoEDN2BmHFihWZmZleXl5b\nt0YWF4saNbK+//777t27W1tbv/POO7LTQZSUlMiOAADA36PYGQRHR8e4uLjGjRuPG/eeEKVd\nuzYYM2ZM9+7dIyMja9SoITudUSspKRk/frynp6fsIAAA/D2WYg2Fo6Pjtm3bevYsWby4NCws\nvkWLFmZm/OlIlp+fP2rUqLi4uD179sjOAgDA31Nedbhx40ZOTk6zZs3+2nuysrKKiooaNGgg\nJZhOXL1q1rq1aNOmjewgENnZ2QMHDszIyIiJiWnZsqXsOAAA/D0lLcXGx8e7uro6ODi0bt26\nYcOGmzdvfuAJL7/8spOTk5RsupKa+vuVE5CrsLCwW7duRUVFsbGxtDoAgFIopthdvHixW7du\niYmJ3t7evr6+ubm5gYGBa9eulZ1Lxyh2BsLc3Hz69OkREREODg6yswAA8LgUsxQ7f/78oqKi\nffv2+fj4CCFu3rzp5ub21ltv9erVq1WrVrLT6cylSxQ7g2BqajplyhTZKQAAeDKKmbE7duxY\nnz59yludEKJu3br79u3TaDSzZ8+WG0yH7t4VN278sTsx9C8yMvLmzZuyUwAAUEmKKXZZWVkN\nGzb885GWLVvOmjVr7969R48elZVKt1JThVbLjJ00H3300Ysvvnj69GnZQQAAqCTFFDtXV9eY\nmJgHDs6dO7dhw4avv/56+e1Wle7SJWFlJTinS/+0Wu3cuXP/+c9/btmyxdvbW3YcAAAqSTHF\nzsPD4+zZs9OmTSsqKrp/sHr16uvXr09KSgoICCgsLJQYTydSU0XTpkKjkZ3DyNy7d8/f33/d\nunV79+4dPXq07DgAAFSeYordwoULPTw8goKC6tatO3DgwPvHfX19FyxYsH379ubNm//8888S\nEz49LomV4tNPPz1y5EhUVFSfPn1kZwEA4KkopthZWlru2bNn3rx5DRo0uHTp0p8fWrJkyVdf\nffXMM88o/bT3S5e4ckKCqVOnnj17tn379rKDAADwtBRT7IQQdnZ2y5YtO3fuXFJS0gMPBQQE\nnDt3LjU1NTQ0VEo2nWDGTgpra2tbW1vZKQAA0AElFbtH02g0jRs37tWrl+wglXf5MsVOT2Jj\nY9mmDgCgPuopdkp386a4fZtipw979+719vY2MeGXHwCgNoq588Tfys3N9fLyEkKcOnXq8V+V\nk5Mzf/78kpKSRzzn3LlzTxvuMZSfN0ixq2pfffXVhAkT3nrrreXLl8vOAgCAjqmn2JWWlsbH\nx8tOUXmpqaJuXWFjIzuHqi1dunTJkiXr1q0bP3687CwAAOieeopdjRo1KnHlRM2aNdesWfPo\n53z++ed6uLkFd4nVg8jIyF27dv15uxwAANREPcXO3Nxc0VdOlO9OjCoVEhIiOwIAAFVIqeeP\n5+XlXbt2LSMjo6ysTHYW3WCvkyqimt8QAAD+lsKKXWJiYkBAgKOjo62trZOTU/369S0sLJyc\nnPz8/KKjo2WneyosxVaFK1eutG/ffvXq1bKDAACgD0oqdtOmTWvfvn1wcLBGo+nSpYuvr6+v\nr2+nTp00Gs22bdvc3d0nTJggO2MllZSItDSWYnXszJkzbm5uDg4OAQEBsrMAAKAPijnHbu3a\ntUFBQX379l22bFnHjh0feDQpKWnp0qUbN25s06bNzJkzpSR8GleviuJiZux06fDhw0OGDPH2\n9t6yZYulpaXsOAAA6INiZuy2bt3aqlWrH3/88a+tTgjh4uKybds2Dw+PXbt26T/b00tNFaam\nomFD2TnUIjIysl+/fq+++uqOHTtodQAA46GYYpeYmNi1a1czswqnGDUajYeHR2Jioj5T6cql\nS6JhQ2FuLjuHWtSrV2/Tpk0ff/wxt5cAABgVxSzFtmvX7tixY6WlpaamphU9JzY2tl27dvpM\npSvsdaJbLVu2bNmypewUAADom2LmM/z9/ZOTkwcOHJiQkPDXR1NSUvz9/SMiIgYPHqz/bE+P\nvU6eXnFx8U8//SQ7BQAAMilmxm7y5MkJCQnr168/cOBAw4YNnZ2da9WqpdFocnJyrl69mpqa\nKoQIDAycNWuW7KSVcemS4G4IT+POnTsvvfRSQkLClStXzFnSBgAYK8UUOyHEunXrJk6cuHLl\nypCQkKioqPKDpqam9vb2Y8aMmThxYo8ePeQmfFJpaWnffPNNQkJCfHyQk1NoUlJrFxcX2aGU\nJzMzs3///jk5OZGRkbQ6AIAxU1KxE0J06NDhm2++EULk5ubevn3b3Nzc3t5eoSfIb9269bXX\nXnN2du7S5cWiItvk5AOurqPefffdBQsWyI6mJJcuXerXr5+dnV1sbKy9vb3sOAAAyKSwYnef\nnZ2dnZ2d7BSVFxsbGxgY+OGHH86YMSMpSfPVVyIsbOOxY4NGjRrVqFEjNtR9fCNGjGjRosWO\nHTuqV68uOwsAAJIpcq5LBd5///0RI0a88cYbGo3m0iVRvbqwtxeDBg165513lixZIjudkuzd\nu3fPnj20OgAABMVOlsOHD48cObL86/JLYjUaIYQYNWrUpUuXfv31V5nhFKV+/fqP2AEHAACj\nQrGToLi4OD8/v27duuXf/vqraNz494fKD+bm5kqKpgyrV6/evn277BQAABgcip0E5ubmdevW\nLd+iRQhx/bpwdPz9oUuXLmk0Gsf73+N/lZWVTZs2bc6cOYo+wxIAgCpCsZNj4MCB69evLy0t\nFULcuCHuX825du3aLl263J/Mw58VFRX5+flt3br14MGD/fr1kx0HAACDQ7GTY+HChefOnRs7\nduzNmzczM4W9vcjPz583b96WLVs+/PBD2ekMUV5eXt++fWNiYo4ePerp6Sk7DgAAhohiJ4ez\ns3NYWNiZM2fq169/7txvn3wyr06dOsHBwd9//727u7vsdIYoOTnZxMQkJiaGPZwBAKiIUvex\nU4EOHTokJCRERcV4edX09X1hyJA9Hh4elpaWsnMZqM6dO4eHh8tOAQCAQaPYyWRiYtK6tXtZ\nmZgyZXjbtrLTAAAAhWMpVrIbN4QQwsFBdg6DtHv37po1a16/fl12EAAAlIFiJ1lmpjAzEzVr\nys5heNatWzdy5Mg5c+bUq1dPdhYAAJSBpVjJMjNF3brChIL9J1qtdvHixe+///7atWsnTJgg\nOw4AAIpBsZPsxg3WYR80e/bszz//fM+ePT4+PrKzAACgJMwUSfbn3YlRrnPnzpGRkbQ6AACe\nFDN2kmVmMmP3oJEjR8qOAACAIjFjJxkzduWuXbuWmJgoOwUAAMpGsZOs/H5iRu7UqVMvvPDC\n2rVrZQcBAEDZKHaSsRQbHh7es2dPb2/vVatWyc4CAICyUewku3nTqIvdt99+279//8DAwM2b\nN5ubm8uOAwCAsnHxhEx5eaKgwHiXYpOTk0ePHv2vf/1rxowZsrMAAKAGFDuZMjOFMOL7ibVq\n1erChQuNGzeWHQQAAJVgKVamGzeERiPq1pWdQxKNRkOrAwBAhyh2MmVmCjs7YWEhO4ce5eXl\nTZs27erVq7KDAACgQhQ7mYztfmIZGRmenp5hYWGWlpayswAAoEIUO5mMahO7ixcvenp6Wlpa\nRkZG1jXa5WcAAKoSxU4m45mxO3bsWJcuXVxcXCIiIurUqSM7DgAA6kSxk8l4dif+8ccf/f39\nv/vuOysrK9lZAABQLbY7kenGDeHqKjuEXixdulR2BAAA1I8ZO5mM6hw7AABQ1Sh2Mqn4HLvS\n0tLJkyf369dPdhAAAIwIS7HSFBWJW7fUOWNXUFAwZsyYqKioH3/8UXYWAACMCMVOmhs3hFar\nwhm7nJycQYMGpaWlRUVFtW7dWnYcAACMCMVOmhs3hFDdjWLv3r3bvXt3CwuLmJgYR0dH2XEA\nADAunGMnTWamsLISzzwjO4dOmZmZBQQEREZG0uoAANA/ZuykUeUmdhYWFnPnzpWdAgAAI8WM\nnTRquiT2+PHjeXl5slMAAGDsKHbS3LihkktiV61a1a1bt5MnT8oOAgCAsaPYSaOCpVitVrto\n0aI5c+YEBwf37NlTdhwAAIwd59hJUFRUdO7cuaSkBp07a0pK7MzMFPmnUFJSMmnSpP/85z8/\n/PADGxEDAGAImLHTq7KyspUrVzo4OHTs2PHMmcwvvnivUaNGmzdvlp2rMpYtW7Zv377IyEha\nHQAABoJip1dvvvnmBx988NFHH2VnZ9vbt1u/fvGMGTMmTpy4atUq2dGe2LRp0xISEjp27Cg7\nCAAA+J0iFwEV6uTJk0FBQeHh4T169CgrE1lZomVLWy+vuQ4ODpMnTx41alS9evVkZ3wCdnZ2\nsiMAAID/wYyd/uzYscPd3b1Hjx5CiN9+EyUlv18VGxAQULt27b1790rO9xiOHz8+f/582SkA\nAMDDUez0JzU11cXFpfzr8vuJ1a0rhBAajcbFxSU1NVVetMdy4MABLy+vnJwc2UEAAMDDUez0\nx9ra+s6dO+Vf37ghTExE7dq/P3Tnzh0rKytpyR5DcHDw4MGDp06dGhQUJDsLAAB4OIqd/nTp\n0iUsLKyoqEgIkZUlatYUpqZCCHHjxo0TJ0506dJFcr6KLVu2bNy4cZ999tny5cs1Go3sOAAA\n4OEodvrj5+dXWlo6Y8aM0tLSmzd/X4ctKCh49dVXW7Vq1atXL9kBH66srOy7777bsWPHpEmT\nZGcBAACPwlWx+lOjRo1du3YNHDgwLi6uZs1PSkvbvv32p//5z3/KyspCQ0NNy6fvDI+JicmJ\nEydkpwAAAH+PGTu9cnNzS0xM9PHxuXAhJz39zMmTJ8ePH3/69OnmzZvLjgYAABSPGTt9c3R0\nXLZs2a+/CmtrsWFDb9lxHi4tLW3QoEEzZswICAiQnQUAADwuZuzkyMoSderIDlGBs2fPurm5\n2djYDB48WHYWAADwBCh2cmRl/bHXiUGJi4vr0aPH888//9NPP3FvCQAAlIViJ4dhztgdOXLE\ny8tr1KhR3333nYHvqwcAAP6Kc+zkMMxiV6NGjdWrV48fP152EAAAUBkUOwkKCsTdu4ZY7Dp2\n7NixY0fZKQAAQCWxFCvBzZtCCEMpdiUlJbGxsbJTAAAAHaDYSZCVJYRhFLv8/PwhQ4YMGzas\nrKxMdhYAAPC0WIqVICtLmJsLW1vJMbKzswcOHJiRkXHkyBETEyo+AACKx8e5BOV7nWg0MjOk\npqa6ubkVFRXFxsa2bNlSZhQAAKAjFDsJDOGS2AEDBjg7Ox8+fNjBwUFyFAAAoCMsxUpgCMXu\n+++/b9y4sbm5ueQcAABAdyh2EhhCsWvRooXkBAAAQNdYipUgK0vUrSvh537xxRf79++X8IMB\nAIBeUOwk0P+MXVlZ2cyZM6dPn66Re8kGAACoSizFSlB+Vaze3Lt3LzAwcO/evXv27OnTp4/+\nfjAAANAvip0E+pyxu3379pAhQ5KTk6Ojo9u3b6+nnwoAAGSg2Enw22/6K3YnTpzIz8+PiYlx\ndnbW048EAACSUOz07dYtce+e/oqdl5dXXFycnn4YAACQiosn9M1wbhQLAABUhmKnV3fu3ImM\nPCuEsLLKr7qfsnfv3oYNG+bk5FTdjwAAAAaIYqcn6enpw4cPt7W1HTdurhCFjo41hg8fnp6e\nrvMftHHjxmHDhk2YMKFmzZo6f3MAAGDIKHb6kJmZ2b179/T09NDQ0PXrv3VyqhYaGpqent69\ne/fMzEwd/qAVK1a8/vrrQUFBCxcu1OHbAgAARaDY6cOCBQtq1qwZFhbm5eV1+3a1unU1Xl5e\nYWFhdnZ2CxYs0NVPmT179pIlS3bt2jVx4kRdvScAAFAQil2VKy0t3bFjx7x586ysrMSf9jqx\nsrKaN2/ejh07SktLdfKDWrZsGRERMXDgQJ28GwAAUBy2O6lyWVlZt27dur858G+//XHbifbt\n29+6dSsrK8vBweHpf9CECROe/k0AAIByMWNX5apVqyaEKCgoKP/23j1hafn7Q+UHLe9//+Qy\nMzMvXbr0tBEBAIAqUOyqnJ2dXfPmzQ8ePPjXhw4dOtSiRQtbW9vKvfOZM2eee+65Tz/99OkC\nAgAAlaDY6cP06dOXL18eHx//54Px8fHLly+fPn165d7z8OHDnp6e3bp1W7lypS4yAgAAxaPY\n6cOUKVMGDx7s5uY2adKkX3755Zdffpk0aZKbm9vgwYMnT55ciTfcvXu3j49PQEDAjh07nmYl\nFwAAqAkXT+iDiYnJ5s2bBw4cGBwcfObMGSFErVrpwcHBw4cPr8S7nTlzZsSIEStWrHjrrbd0\nnRQAACgYxU5/hg8fPnz48FdeEUKIf//7pUq/j4uLy+nTp11cXHSWDAAAqAJLscpjampKqwMA\nAH9FsVOGO3fuvP322zdv3pQdBAAAGC6KnQJkZmb27Nnzu+++02g0srMAAADDRbEzdJcuXfLw\n8DAxMYmKiqpTfjMyAACAh6HYGbQTJ05069atRYsWERER9vb2suMAAACDptRil5eXd+3atYyM\njLKyMtlZqtBXX301dOjQH374oXr16rKzAAAAQ6ew7U4SExM//PDDQ4cOXb9+vfyIqalpvXr1\nPD09p0yZ0r17d7nxdC4oKEh2BAAAoBhKKnbTpk1bs2aNVqt1dHTs0qVL7dq1hRDZ2dlpaWnb\ntm3btm3b+PHjN2zYIDtmhTIzM3fv3h0X10EIsX59/LBhw1hdBQAAOqSYpdi1a9cGBQX16dPn\n5MmT6enpcXFx+/bt27dvX2xs7NWrVxMTE0eNGrVx48aPP/5YdtKH27p1a7NmzVasWFFYWFhY\nWLhixYqmTZtu3br1gaeVlZW9+eabfn5+UkICAABFU8yM3datW1u1avXjjz+amT0ks4uLy7Zt\n29LT03ft2jVz5kz9x3u0iIiIwMDABQsWZGdnb99eIIQYPXpwrVq1AgMDGzRo0LNnz/KnFRYW\njh07Njw8fM+ePTLjAgAAZVJMsUtMTBw6dOhDW105jUbj4eGxZs0afaZ6TO+++2779u0XLVok\nhLCw6CKE+OyzzzQajaur68KFCyMjI4UQubm5gwcPvnDhQkREhKurq9zAAABAiRRT7Nq1a3fs\n2LHS0lJTU9OKnhMbG9uuXTt9pnocBQUF0dHRZWVlHh4e+/fvnzbtGSHEqlX9BwwYcPToURMT\nk4KCgtLSUg8PDyHEsWPHnJycZEcGAACKpJhz7Pz9/ZOTkwcOHJiQkPDXR1NSUvz9/SMiIgYP\nHqz/bI+Wk5NTVlbWoEGDyMjIZ555pvxgjRo1IiMjGzRoUFZWlpOTI4QYOHBgZGQkrQ4AAFSa\nYmbsJk+enJCQsH79+gMHDjRs2NDZ2blWrVoajSYnJ+fq1aupqalCiMDAwFmzZslO+qDyKcYB\nAwaUlJRs3749JqapEGLLlkujR4/u37//F198YW5u/swzz3zwwQeykwIAAGVTTLETQqxbt27i\nxIkrV64MCQmJiooqP2hqampvbz9mzJiJEyf26NFDbsKHSk9PF0JERkba2NgUFhaamGwWQrz8\ncsCECRPq168vhEhLS6tbt67klAAAQPmUVOyEEB06dPjmm2+EELm5ubdv3zY3N7e3tzcxMegF\nZWdnZyHEuXPnbG1tjx49umbNC0KIKVPaenp6Xrp0SQjRpEkTyREBAIAqKKzY3WdnZ2dnZyc7\nxWOpVatWefWsVq1a7969LS23CaHdvn1YYWGhRqPRaDRK+Q8BAAAGzqDnutTh7t27ZWVlZWVl\nzz333IYNGxwc7IuLv9Rqtc8995xWqy0rK7t7967sjAAAQHr0MIIAABCnSURBVA2UOmP3V7m5\nuV5eXkKIU6dOPf6rUlNTu3TpUlJS8ojnFBUVCSE0Gk3lgqWkpAghBg8evGfPnpCQEBOTQSUl\nYRpN8alTpwYNGrRnz56UlJQOHTpU7s0BAADuU0+xKy0tjY+Pf9JXOTs779ix49HFLikp6Y03\n3jA3N69cMEdHRyHEgAEDVq5c+f7778fFXRKifZcuTebPn3/kyJE9e/aUX0IBAADwlNRT7GrU\nqBEaGvqkrzIxMbl/R6+KWFtbVzKTEEIIBwcHa2vrDRs2jB8/fvPmzX9+aOzYsdbW1vb29k/z\n/gAAAOXUc46dubl5r169evXqJTvIQ7z++uv//e9/582b9+eD8+bNO378+OTJk2WlAgAAKqPR\narWyM1RGXl7e7du3TUxMHBwcqnq7k5iYmO7duxcVFVlYWFT6Tfr163fw4EFbW9tWrVoJIc6f\nP3/r1q2+ffv+9NNPuksKAACq3L1796pVqxYdHe3m5iY7y4MUNmOXmJgYEBDg6Ohoa2vr5ORU\nv359CwsLJycnPz+/6Oho2eke5aefftq5c2ebNm1SU1NTU1PbtGmzc+dOWh0AANAhJc3YTZs2\nbc2aNVqt1tHRsVGjRrVr1xZCZGdnp6WlpaWlCSHGjx+/YcMGnf9cnczYAQAAdTDkGTvFXDyx\ndu3aoKCgvn37Llu2rGPHjg88mpSUtHTp0o0bN7Zp02bmzJlSEgIAAMilmBm77t27//bbb4mJ\niWZmDy+jWq22R48eZWVl928jqyvM2AEAgPsMecZOMefYJSYmdu3ataJWJ4TQaDQeHh6JiYn6\nTAUAAGA4FFPs2rVrd+zYsdLS0kc8JzY2tl27dnqLBAAAYFAUU+z8/f2Tk5MHDhyYkJDw10dT\nUlL8/f0jIiIGDx6s/2wAAACGQDEXT0yePDkhIWH9+vUHDhxo2LChs7NzrVq1NBpNTk7O1atX\nU1NThRCBgYGzZs2SnRQAAEAOxRQ7IcS6desmTpy4cuXKkJCQ+1dImJqa2tvbjxkzZuLEiT16\n9JCbEAAAQCIlFTshRIcOHb755hshRG5u7u3bt83Nze3t7av6zhMAAACKoLBid5+dnZ2dnZ3s\nFAAAAAaEuS4AAACVoNgBAACoBMUOAABAJSh2AAAAKkGxAwAAUAmKHQAAgEpQ7AAAAFRCqfvY\n6ZOFhYUQolq1arKDAAAAQ1FeDwyNRqvVys6gAKdPny4pKdHJW82fP//u3bsTJkzQybvhSW3Y\nsEEIwfjLwvjLxfjLxfjLtWHDBmtr6/fee08n72ZmZubq6qqTt9ItZuweiw7/8OrVqyeEGDt2\nrK7eEE8kLCxMMP7yMP5yMf5yMf5ylY//888/LztI1eIcOwAAAJWg2AEAAKgExQ4AAEAlKHYA\nAAAqQbEDAABQCYodAACASlDsAAAAVIJiBwAAoBIUOwAAAJXgzhP6Zpi3ljMejL9cjL9cjL9c\njL9cRjL+3CtW33JycoQQNWvWlB3ESDH+cjH+cjH+cjH+chnJ+FPsAAAAVIJz7AAAAFSCYgcA\nAKASFDsAAACVoNgBAACoBMUOAABAJSh2AAAAKkGxAwAAUAmKHQAAgEpQ7AAAAFSCYgcAAKAS\nFDsAAACVoNgBAACoBMUOAABAJSh2AAAAKkGxA2Ao7ty5s3nz5rS0NNlBACjYhQsXgoKCZKeQ\nhmKne+vWrXN3d7ezs3N3d1+3bl0VvQQVedLBLCoq+uc//+np6Wlra9usWTM/P7+LFy/qIada\nPc0v87Rp0wIDA0+fPl1F2YxBJcb/6NGj3t7etra29evXHzVqFL//T+NJxz87O/utt95ycXGp\nXr26i4vLW2+9lZOTo4ec6rZ69eoFCxY85pNV+PmrhU5NmjRJCNGqVat//OMfLVu2FEJMnTpV\n5y9BRZ50MHNzcz08PIQQbdu2HT9+fJ8+fTQajZWV1alTp/SWWU2e5pd5586d5X8p/fjjj1Ua\nUsUqMf7bt2+3sLCoX7++n5/f4MGDTU1Na9eufeXKFf0EVpknHf/s7OymTZsKIXr27Pnaa6/1\n6NFDCNG8efPc3Fy9ZVafQ4cOVatWzc7O7nGerMrPX4qdLp06dUoI0a9fv+LiYq1WW1xcXF4U\nEhISdPgSVKQSg/n2228LIaZMmXL/yL59+0xMTFxdXfWRWF2e5pc5LS2tVq1azzzzDMWu0iox\n/leuXDEzM+vSpcv9JrFhwwYhREBAgH4yq0klxv+dd94RQqxZs+b+kU8//VQI8e677+ohsPr4\n+/u3atWq/N+Hj1Ps1Pr5S7HTpTFjxgghTp8+ff/Izz//LIT4xz/+ocOXoCKVGMzWrVvb2NgU\nFhb++aC3t7cQIjMzswqzqlGlf5nLyspefPHFJk2alH/OUewqpxLjP3PmTCFEbGzs/SNlZWWf\nfPLJunXrqjarGlVi/Pv37y+EuHHjxv0j165dE0IMGTKkarOq1NChQwcMGDBgwAAbG5vHKXZq\n/fyl2OlSnTp1nJycHjjo6OhYr149Hb4EFanEYLZt23bAgAEPHPT19RVCJCcn6z6iqlX6l/nD\nDz80MTE5evTo8uXLKXaVVonxr1+/fsOGDas4l7GoxPgvXrxYCPHNN9/cPxIcHCyE+OCDD6oq\npXFo167d4xQ7tX7+cvGEzuTm5mZlZTk7Oz9wvFGjRtevX799+7ZOXoKKVG4wk5KS9u7d++cj\nN2/eDA8Pd3BwaNasWVVlVaNK/zLHx8f/85//nDt3rru7exVnVLNKjP+dO3fS09MbN258+vTp\nQYMGOTg4NGrUaMSIERcuXNBLZFWp3O//jBkzevbsGRAQ4Ofnt2jRIj8/v1dffdXb23vq1KlV\nH9nYqfjzl2KnM+W/B7Vr137gePmRvLw8nbwEFdHJYKakpLi5uRUWFi5fvtzMzEznIVWscuNf\nUFDg7+/ftm3bRYsWVXFAlavE+Ofm5goh0tPT3d3dL1++PGDAABcXl127drm6up44caLqI6tK\n5X7/bW1tX375Za1Wu23btsWLF2/btk2j0QQEBNjY2FR1YKj485dipzPm5uZCCI1G89BHTUwe\nMtSVeAkq8pSDmZ+f/+6773bo0CEtLS0oKCgwMFDnCdWtcuM/e/bsS5cubdmyxcLCogrDGYFK\njH9xcbEQ4uLFi1OnTj19+vSXX3554MCBgwcPFhQUvPbaa1WaVn0q9/u/fPnycePG+fr6nj59\nOj8/Pz4+vk+fPi+//PLHH39chVkhhFD156+Coxsae3t7U1PTv25BlJ2dbWpq6uDgoJOXoCJP\nM5gHDhxo27btkiVLevXqFR8fP2XKlKpMqk6VGP+wsLA1a9YsW7bMxcVFLxnVrBLjb21tLYSo\nXbv2e++9d//jzdvbu3fv3qdOnbpx40ZVZ1aTSox/dnb24sWL27Rp8+2337Zv397a2trV1XXX\nrl0tWrRYsGCBomeMFEHFn78UO50xMTGxt7f/66b5165dq1ev3kPrfyVegopUejDfffddX19f\nGxubI0eO7N279/7V8ngilRj/+Ph4IcSbb76p+X/z5s0TQgwYMECj0Xz55Zd6iK0alRj/unXr\nWlpaNmnSxNTU9M/Hy3dW4/4fT6QS43/+/PnCwsKePXuWTx2Vs7Cw6NGjx927d1NSUqo2sdFT\n8eevgqMboJ49e166dOnP/0MmJSVdvXrV09NThy9BRSoxmJs3b16yZMno0aNPnjzJmD+lJx1/\nV1fXSf+rS5cuQggfH59Jkya1bt1aT7nV4knH38TEpGfPnikpKYWFhX8+fu7cORMTE/6F86Se\ndPzLT9tPT09/4HhGRsb9R1GlVPv5K/uyXFU5fPiwEGLs2LHl35aVlY0aNUoIcfTo0fIj9+7d\ny8rKysnJefyX4PE96fiXlZW1atWqQYMGBQUFchKrSyV+/x/AdidPoxLjf/DgQSHElClTSktL\ny4/85z//EUL8dQ8g/K1KjL+rq6upqemhQ4fuHzlw4ICJiUmnTp30mVx9HrrdifF8/lLsdKz8\npPsXX3zxnXfeKW/948aNu/9oaGioEKJDhw6P/xI8kSca/9TUVCFE3bp1+z3MzZs3Jf1HKFgl\nfv//jGL3lCr998+zzz772muv9e7dWwjh6Oh49epVvWdXgycd/zNnztjY2Gg0mr59+77++uve\n3t4ajcbW1vbcuXMy4qvHQ4ud8Xz+Uux0rKysbMWKFW5ubjVq1HBzc/vwww///OhDf7Ee/RI8\nkSca/7CwsEdMZqelpcn4L1C2Svz+/xnF7ilVbvw/+ugjd3d3Gxubtm3bTp06NTs7W4+RVaUS\n45+enj5hwoS2bdtaW1u3bdt24sSJ169f129qFXr8YqfKz1+NVqt9/HVbAAAAGCwungAAAFAJ\nih0AAIBKUOwAAABUgmIHAACgEhQ7AAAAlaDYAQAAqATFDgAAQCUodgAAACpBsQMAAFAJih0A\nAIBKUOwAAABUgmIHAACgEhQ7AAAAlaDYAQAAqATFDgAAQCUodgAAACpBsQMAAFAJih0AAIBK\nUOwAAABUgmIHAACgEhQ7AAAAlaDYAQAAqATFDgAAQCUodgAAACpBsQMAAFAJih0AAIBKUOwA\nAABUgmIHAACgEhQ7AAAAlaDYAQAAqATFDgAAQCUodgAAACpBsQNgpH7++WdNxaZNmyaEOH36\n9F8fatCgQe/evcPCwu6/1cWLF//6NDMzsyZNmgwbNuzMmTPy/isBGBcz2QEAQCZnZ2cPD4+/\nHu/UqdP9rxs1auTp6Vn+dXFxcUpKSmhoaGho6Jdffvnqq6/ef5qjo2OvXr3uf3v37t2kpKTd\nu3fv3bs3Njb2hRdeqLL/CAD4HcUOgFHr1q3b119//ejndO7c+YHn7NixY9SoUbNmzfLz87O0\ntCw/6Orq+sDTtFrtrFmzPv7443nz5oWGhuo2OQD8FUuxAPDERo4c6e7unpOTk5KS8oinaTSa\nhQsXCiHi4+P1FQ2AUaPYAUBlNGjQQAhx7dq1Rz/N1tbWysoqPz9fL6EAGDuKHQA8seLi4uPH\njwshmjdv/uhn/vLLLwUFBa6urnrJBcDYcY4dAKN27NixV1555YGDnp6efz1YrrS09Jdfflm4\ncOGlS5fat2/ftGnTit65oKAgMTFx2rRpZmZmS5cu1WVoAKgAxQ6AUUtNTU1NTX3goJmZ2Z+L\n3bfffqvRaB54zv+1c/coioRRGEZvYyT+YCSuQTfhMswMTQRDd2FmaiS4BUF3IYgLcANiWKCd\n9cjYPZNYXXA9Jyy+4A0fBG+v11uv17Va7evLdrt9ftZsNne73XA4fOVogB8IO+CtjUajzWbz\n7zeP504iotFoDAaD8Xjcbrcfn/117qQoiuPxeDgc5vP5fr9vtVqvXQ7wTNgB/MfzuZNvPZ87\niYjpdLpcLler1Ww2K2cdwB/+PAFQoslkEs6dAL9F2AGUqNvtRsTlcql6CPAWhB1AiW63W0Rc\nr9eqhwBvQdgBlKjT6UTE6XQqiqLqLUB+wg6gRPV6vd/vn8/nxWJR9RYgv4/7/V71BgAAXsAv\ndgAASQg7AIAkhB0AQBLCDgAgCWEHAJCEsAMASELYAQAkIewAAJIQdgAASQg7AIAkhB0AQBLC\nDgAgCWEHAJCEsAMASELYAQAkIewAAJIQdgAASQg7AIAkhB0AQBLCDgAgCWEHAJCEsAMASELY\nAQAkIewAAJIQdgAASQg7AIAkhB0AQBLCDgAgCWEHAJCEsAMASOITv+DUJSjp7yEAAAAASUVO\nRK5CYII=",
      "text/plain": [
       "Plot with title “ROC Curve for h1n1 vaccine”"
      ]
     },
     "metadata": {
      "image/png": {
       "height": 420,
       "width": 420
      }
     },
     "output_type": "display_data"
    }
   ],
   "source": [
    "# ROC for seasonal vaccine\n",
    "\n",
    "AUC_seasonal = AUCROC(Y_pred[,2], test_data[,targets[1]],\"ROC Curve for seasonal vaccine\")\n",
    "\n",
    "# ROC for h1n1 vaccine\n",
    "\n",
    "AUC_h1n1 =  AUCROC(Y_pred[,1], test_data[,targets[2]],\"ROC Curve for h1n1 vaccine\")"
   ]
  },
  {
   "cell_type": "markdown",
   "metadata": {},
   "source": [
    "Now that the linear model is validated, it can be used to predict the outcome with the test set."
   ]
  },
  {
   "cell_type": "code",
   "execution_count": 38,
   "metadata": {},
   "outputs": [
    {
     "data": {
      "text/plain": [
       "Response h1n1_vaccine :\n",
       "\n",
       "Call:\n",
       "lm(formula = h1n1_vaccine ~ PC1 + PC2 + PC3 + PC4 + PC5 + PC6 + \n",
       "    PC7 + PC8 + PC9 + PC10 + PC11 + PC12 + PC13 + PC14 + PC15 + \n",
       "    PC16 + PC17 + PC18 + PC19 + PC20 + PC21 + PC22 + PC23 + PC24 + \n",
       "    PC25 + PC26 + PC27 + PC28 + PC29 + PC30 + PC31 + PC32 + PC33 + \n",
       "    PC34 + PC35 + PC36 + PC37 + PC38 + PC39 + PC40 + PC41 + PC42 + \n",
       "    PC43 + PC44 + PC45 + PC46 + PC47 + PC48 + PC49 + PC50 + PC51 + \n",
       "    PC52 + PC53 + PC54, data = total_train_set)\n",
       "\n",
       "Residuals:\n",
       "     Min       1Q   Median       3Q      Max \n",
       "-0.95141 -0.21017 -0.07249  0.10692  1.19641 \n",
       "\n",
       "Coefficients:\n",
       "             Estimate Std. Error t value Pr(>|t|)    \n",
       "(Intercept)  0.323182   0.063815   5.064 4.12e-07 ***\n",
       "PC1          0.011291   0.007128   1.584 0.113213    \n",
       "PC2          0.640971   0.012392  51.723  < 2e-16 ***\n",
       "PC3          0.017880   0.013338   1.340 0.180096    \n",
       "PC4         -0.299736   0.009797 -30.595  < 2e-16 ***\n",
       "PC5          0.434422   0.012649  34.344  < 2e-16 ***\n",
       "PC6          0.143277   0.014807   9.676  < 2e-16 ***\n",
       "PC7         -0.685841   0.013903 -49.330  < 2e-16 ***\n",
       "PC8          0.305721   0.017303  17.668  < 2e-16 ***\n",
       "PC9         -0.082338   0.015328  -5.372 7.86e-08 ***\n",
       "PC10        -0.077681   0.015133  -5.133 2.87e-07 ***\n",
       "PC11         0.504463   0.017810  28.324  < 2e-16 ***\n",
       "PC12         0.003054   0.017682   0.173 0.862896    \n",
       "PC13        -0.270553   0.017232 -15.701  < 2e-16 ***\n",
       "PC14         0.219539   0.017262  12.718  < 2e-16 ***\n",
       "PC15        -0.036730   0.012613  -2.912 0.003594 ** \n",
       "PC16        -0.006705   0.017602  -0.381 0.703243    \n",
       "PC17        -0.135177   0.017027  -7.939 2.12e-15 ***\n",
       "PC18         0.322012   0.017499  18.402  < 2e-16 ***\n",
       "PC19         0.173074   0.014734  11.747  < 2e-16 ***\n",
       "PC20         0.029441   0.011650   2.527 0.011507 *  \n",
       "PC21        -0.137298   0.016506  -8.318  < 2e-16 ***\n",
       "PC22         0.020928   0.014492   1.444 0.148718    \n",
       "PC23         0.099094   0.016727   5.924 3.18e-09 ***\n",
       "PC24        -0.015453   0.016916  -0.914 0.360973    \n",
       "PC25        -0.067015   0.018657  -3.592 0.000329 ***\n",
       "PC26        -0.009914   0.019283  -0.514 0.607166    \n",
       "PC27         0.104356   0.017640   5.916 3.34e-09 ***\n",
       "PC28         0.020516   0.016244   1.263 0.206605    \n",
       "PC29         0.010806   0.017315   0.624 0.532580    \n",
       "PC30        -0.011921   0.015735  -0.758 0.448683    \n",
       "PC31        -0.294960   0.018666 -15.802  < 2e-16 ***\n",
       "PC32        -0.164139   0.019530  -8.404  < 2e-16 ***\n",
       "PC33        -0.612540   0.018417 -33.259  < 2e-16 ***\n",
       "PC34         0.011904   0.016976   0.701 0.483166    \n",
       "PC35        -0.351430   0.019404 -18.111  < 2e-16 ***\n",
       "PC36         0.064441   0.021620   2.981 0.002880 ** \n",
       "PC37         0.105093   0.020079   5.234 1.67e-07 ***\n",
       "PC38        -0.040092   0.020998  -1.909 0.056233 .  \n",
       "PC39         0.023958   0.018532   1.293 0.196086    \n",
       "PC40         0.080459   0.019144   4.203 2.64e-05 ***\n",
       "PC41         0.003173   0.019565   0.162 0.871172    \n",
       "PC42         0.005548   0.018731   0.296 0.767096    \n",
       "PC43        -0.075708   0.019190  -3.945 8.00e-05 ***\n",
       "PC44        -0.009946   0.018605  -0.535 0.592930    \n",
       "PC45         0.158037   0.021859   7.230 4.97e-13 ***\n",
       "PC46         0.028723   0.019461   1.476 0.139973    \n",
       "PC47         0.023802   0.020802   1.144 0.252550    \n",
       "PC48        -0.035656   0.021396  -1.666 0.095629 .  \n",
       "PC49        -0.013300   0.022118  -0.601 0.547648    \n",
       "PC50        -0.017905   0.021226  -0.844 0.398947    \n",
       "PC51         0.058587   0.019592   2.990 0.002789 ** \n",
       "PC52        -0.127409   0.020494  -6.217 5.14e-10 ***\n",
       "PC53        -0.096582   0.021537  -4.485 7.34e-06 ***\n",
       "PC54        -0.028517   0.022363  -1.275 0.202247    \n",
       "---\n",
       "Signif. codes:  0 ‘***’ 0.001 ‘**’ 0.01 ‘*’ 0.05 ‘.’ 0.1 ‘ ’ 1\n",
       "\n",
       "Residual standard error: 0.3416 on 26652 degrees of freedom\n",
       "Multiple R-squared:  0.3041,\tAdjusted R-squared:  0.3027 \n",
       "F-statistic: 215.7 on 54 and 26652 DF,  p-value: < 2.2e-16\n",
       "\n",
       "\n",
       "Response seasonal_vaccine :\n",
       "\n",
       "Call:\n",
       "lm(formula = seasonal_vaccine ~ PC1 + PC2 + PC3 + PC4 + PC5 + \n",
       "    PC6 + PC7 + PC8 + PC9 + PC10 + PC11 + PC12 + PC13 + PC14 + \n",
       "    PC15 + PC16 + PC17 + PC18 + PC19 + PC20 + PC21 + PC22 + PC23 + \n",
       "    PC24 + PC25 + PC26 + PC27 + PC28 + PC29 + PC30 + PC31 + PC32 + \n",
       "    PC33 + PC34 + PC35 + PC36 + PC37 + PC38 + PC39 + PC40 + PC41 + \n",
       "    PC42 + PC43 + PC44 + PC45 + PC46 + PC47 + PC48 + PC49 + PC50 + \n",
       "    PC51 + PC52 + PC53 + PC54, data = total_train_set)\n",
       "\n",
       "Residuals:\n",
       "     Min       1Q   Median       3Q      Max \n",
       "-1.17340 -0.30930 -0.03439  0.31124  1.33188 \n",
       "\n",
       "Coefficients:\n",
       "             Estimate Std. Error t value Pr(>|t|)    \n",
       "(Intercept) -0.488888   0.075227  -6.499 8.24e-11 ***\n",
       "PC1         -0.202642   0.008403 -24.115  < 2e-16 ***\n",
       "PC2          0.945957   0.014609  64.753  < 2e-16 ***\n",
       "PC3         -0.070715   0.015724  -4.497 6.91e-06 ***\n",
       "PC4         -0.153125   0.011549 -13.259  < 2e-16 ***\n",
       "PC5          0.292714   0.014911  19.630  < 2e-16 ***\n",
       "PC6          0.799801   0.017455  45.821  < 2e-16 ***\n",
       "PC7         -0.661602   0.016390 -40.367  < 2e-16 ***\n",
       "PC8          0.287870   0.020398  14.113  < 2e-16 ***\n",
       "PC9         -0.107648   0.018069  -5.958 2.59e-09 ***\n",
       "PC10         0.148199   0.017839   8.307  < 2e-16 ***\n",
       "PC11         0.190139   0.020995   9.056  < 2e-16 ***\n",
       "PC12        -0.112384   0.020845  -5.391 7.05e-08 ***\n",
       "PC13        -0.058481   0.020314  -2.879 0.003994 ** \n",
       "PC14         0.406050   0.020349  19.954  < 2e-16 ***\n",
       "PC15        -0.118473   0.014869  -7.968 1.68e-15 ***\n",
       "PC16        -0.558548   0.020750 -26.918  < 2e-16 ***\n",
       "PC17        -0.509198   0.020072 -25.368  < 2e-16 ***\n",
       "PC18         0.571996   0.020628  27.729  < 2e-16 ***\n",
       "PC19         0.424630   0.017369  24.448  < 2e-16 ***\n",
       "PC20         0.019194   0.013734   1.398 0.162254    \n",
       "PC21         0.015479   0.019458   0.796 0.426316    \n",
       "PC22        -0.144331   0.017084  -8.448  < 2e-16 ***\n",
       "PC23         0.195330   0.019718   9.906  < 2e-16 ***\n",
       "PC24        -0.161553   0.019941  -8.102 5.66e-16 ***\n",
       "PC25         0.007220   0.021994   0.328 0.742701    \n",
       "PC26        -0.041967   0.022732  -1.846 0.064876 .  \n",
       "PC27         0.077347   0.020795   3.720 0.000200 ***\n",
       "PC28         0.016076   0.019149   0.840 0.401179    \n",
       "PC29        -0.188206   0.020412  -9.220  < 2e-16 ***\n",
       "PC30        -0.006379   0.018549  -0.344 0.730908    \n",
       "PC31         0.230953   0.022004  10.496  < 2e-16 ***\n",
       "PC32         0.111477   0.023023   4.842 1.29e-06 ***\n",
       "PC33         0.400602   0.021711  18.452  < 2e-16 ***\n",
       "PC34         0.016462   0.020013   0.823 0.410767    \n",
       "PC35         0.392090   0.022875  17.141  < 2e-16 ***\n",
       "PC36         0.135521   0.025487   5.317 1.06e-07 ***\n",
       "PC37        -0.011285   0.023670  -0.477 0.633517    \n",
       "PC38         0.013172   0.024754   0.532 0.594645    \n",
       "PC39         0.042500   0.021846   1.945 0.051735 .  \n",
       "PC40         0.058514   0.022568   2.593 0.009525 ** \n",
       "PC41        -0.069760   0.023064  -3.025 0.002492 ** \n",
       "PC42         0.071746   0.022080   3.249 0.001158 ** \n",
       "PC43        -0.108834   0.022622  -4.811 1.51e-06 ***\n",
       "PC44        -0.103263   0.021933  -4.708 2.51e-06 ***\n",
       "PC45        -0.385786   0.025769 -14.971  < 2e-16 ***\n",
       "PC46        -0.135485   0.022942  -5.906 3.56e-09 ***\n",
       "PC47        -0.017812   0.024522  -0.726 0.467630    \n",
       "PC48        -0.054827   0.025222  -2.174 0.029731 *  \n",
       "PC49        -0.131632   0.026074  -5.048 4.48e-07 ***\n",
       "PC50         0.001509   0.025022   0.060 0.951909    \n",
       "PC51         0.083002   0.023096   3.594 0.000326 ***\n",
       "PC52         0.183161   0.024159   7.582 3.53e-14 ***\n",
       "PC53        -0.111293   0.025388  -4.384 1.17e-05 ***\n",
       "PC54         0.068070   0.026362   2.582 0.009825 ** \n",
       "---\n",
       "Signif. codes:  0 ‘***’ 0.001 ‘**’ 0.01 ‘*’ 0.05 ‘.’ 0.1 ‘ ’ 1\n",
       "\n",
       "Residual standard error: 0.4027 on 26652 degrees of freedom\n",
       "Multiple R-squared:  0.3497,\tAdjusted R-squared:  0.3484 \n",
       "F-statistic: 265.4 on 54 and 26652 DF,  p-value: < 2.2e-16\n",
       "\n"
      ]
     },
     "metadata": {},
     "output_type": "display_data"
    }
   ],
   "source": [
    "model <- lm(cbind(h1n1_vaccine, seasonal_vaccine)~., data=total_train_set)\n",
    "summary(model)\n",
    "Y_pred <- predict(model,pca_ts_set)"
   ]
  },
  {
   "cell_type": "markdown",
   "metadata": {},
   "source": [
    "The summary of the model gives a better understanding of how it works with 26607 lines and 54 features. In reality, the outputs are split in two to present one and then the other. The p-value is a good indicator of the quality of the model and the features selected. Indeed, for the h1n1 vaccine, 32 features have a p-value indicating that they are statistically highly significant. For the seasonal vaccine, 37 features are in this case. The AUC of the seasonal vaccine is indeed higher. In all cases, the summary confirms that the chosen linear model is not the best one but works quite well for this problem."
   ]
  },
  {
   "cell_type": "markdown",
   "metadata": {},
   "source": [
    "## Model 2\n",
    "Then we use the nnet package to make single layer neural network.\n",
    "\n",
    "Let's define a function to compute neural networks effectiveness based on the number of hidden notes using cross-validation."
   ]
  },
  {
   "cell_type": "code",
   "execution_count": 39,
   "metadata": {},
   "outputs": [],
   "source": [
    "library(nnet)"
   ]
  },
  {
   "cell_type": "code",
   "execution_count": 40,
   "metadata": {},
   "outputs": [],
   "source": [
    "auc_nnet_cross_valid <- function(X, Y, hidden_nodes=10,k=5){\n",
    "    # Targe 0 for h1n1, 1 for seasonal\n",
    "    accuracy_vec <- c()\n",
    "\n",
    "    # 1. Shuffle the dataset randomly.\n",
    "    shuffled_idx <- sample(1:nrow(X))\n",
    "    half_split <- floor(nrow(X)/2)\n",
    "\n",
    "    # 2. Split the dataset into k groups\n",
    "    max <- ceiling(nrow(X)/k)\n",
    "    splits <- split(shuffled_idx, ceiling(seq_along(shuffled_idx)/max))\n",
    "    \n",
    "    # 3. For each unique group:\n",
    "    for (i in 1:k){\n",
    "        #3.1 Take the group as a hold out or test data set\n",
    "        X_test <- X[splits[[i]],]\n",
    "        Y_test <- Y[splits[[i]]]\n",
    "        \n",
    "        #3.2 Take the remaining groups as a training data set\n",
    "        X_train <- X[-splits[[i]],]\n",
    "        Y_train <- Y[-splits[[i]]]\n",
    "        # print(paste(\"[INFO] - Training set size:\",dim(train_data)[1],\"- Testing set size\",dim(test_data)[1]))\n",
    "        \n",
    "        #3.3 Fit a model on the training set and evaluate it on the test set\n",
    "        model <- nnet(x=X,\n",
    "                     y=Y,\n",
    "                     size=hidden_nodes,\n",
    "                     skip=FALSE, maxit=1000,rang=1,MaxNWts=10000,trace=FALSE)\n",
    "        print(paste(\"reached maxit ?\",model$convergence))\n",
    "        Y_pred<-predict(model,X_test)\n",
    "        \n",
    "        #3.4 Retain the evaluation score and discard the model\n",
    "        accuracy_vec[i] <- compute_AUC(Y_pred, Y_test)\n",
    "        break\n",
    "    }\n",
    "    \n",
    "    return(mean(accuracy_vec))\n",
    "}"
   ]
  },
  {
   "cell_type": "code",
   "execution_count": 41,
   "metadata": {},
   "outputs": [
    {
     "name": "stdout",
     "output_type": "stream",
     "text": [
      "[1] \"[INFO] - Testing h= 10\"\n",
      "[1] \"reached maxit ? 0\"\n",
      "[1] \"reached maxit ? 1\"\n",
      "[1] \"[INFO] - Testing h= 20\"\n",
      "[1] \"reached maxit ? 0\"\n",
      "[1] \"reached maxit ? 1\"\n",
      "[1] \"[INFO] - Testing h= 30\"\n",
      "[1] \"reached maxit ? 0\"\n",
      "[1] \"reached maxit ? 0\"\n",
      "[1] \"[INFO] - Testing h= 40\"\n",
      "[1] \"reached maxit ? 1\"\n",
      "[1] \"reached maxit ? 1\"\n"
     ]
    },
    {
     "data": {
      "image/png": "iVBORw0KGgoAAAANSUhEUgAAA0gAAANICAMAAADKOT/pAAADAFBMVEUAAAABAQECAgIDAwME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\nYII=",
      "text/plain": [
       "Plot with title “h1n1 estimation”"
      ]
     },
     "metadata": {
      "image/png": {
       "height": 420,
       "width": 420
      }
     },
     "output_type": "display_data"
    },
    {
     "data": {
      "image/png": "iVBORw0KGgoAAAANSUhEUgAAA0gAAANICAMAAADKOT/pAAADAFBMVEUAAAABAQECAgIDAwME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",
      "text/plain": [
       "Plot with title “seasonal estimation”"
      ]
     },
     "metadata": {
      "image/png": {
       "height": 420,
       "width": 420
      }
     },
     "output_type": "display_data"
    }
   ],
   "source": [
    "label_1 <- training_set_labels[,\"h1n1_vaccine\"]\n",
    "label_2 <- training_set_labels[, \"seasonal_vaccine\"]\n",
    "labels <- cbind(h1n1_vaccine=label_1, seasonal_vaccine=label_2)\n",
    "\n",
    "\n",
    "k <- 2\n",
    "\n",
    "hidden_nodes_vec <- seq(10, 40, 10)\n",
    "\n",
    "results_h1n1 <- c()\n",
    "results_season <- c()\n",
    "\n",
    "for(hidden_nodes in hidden_nodes_vec){\n",
    "    print(paste(\"[INFO] - Testing h=\",hidden_nodes))\n",
    "    results_h1n1 <- c(results_h1n1, auc_nnet_cross_valid(pca_tr_set, label_1, hidden_nodes=hidden_nodes,k=k))\n",
    "    results_season <- c(results_season, auc_nnet_cross_valid(pca_tr_set, label_2, hidden_nodes=hidden_nodes,k=k))\n",
    "}\n",
    "# mean(AUC) according to the nb of hidden nodes \n",
    "plot(hidden_nodes_vec, results_h1n1, xlab=\"Number of hidden nodes\", ylab=\"AUCROC\", main=\"h1n1 estimation\")\n",
    "lines(hidden_nodes_vec, results_h1n1)\n",
    "\n",
    "plot.new()\n",
    "\n",
    "plot(hidden_nodes_vec, results_season, xlab=\"Number of hidden nodes\", ylab=\"AUCROC\", main=\"seasonal estimation\")\n",
    "lines(hidden_nodes_vec, results_season)"
   ]
  },
  {
   "cell_type": "markdown",
   "metadata": {},
   "source": [
    "We see that the results are much better when predicting the seasonal vaccines."
   ]
  },
  {
   "cell_type": "code",
   "execution_count": 42,
   "metadata": {},
   "outputs": [],
   "source": [
    "# Rename for the following\n",
    "h1n1_nnet_pca <- results_h1n1\n",
    "seasonal_nnet_pca <- results_season"
   ]
  },
  {
   "cell_type": "markdown",
   "metadata": {},
   "source": [
    "# Model 3"
   ]
  },
  {
   "cell_type": "markdown",
   "metadata": {},
   "source": [
    "The third model chosen is the SVM (Support Vector Machine), using the e1071 package. This method has usually good results even for data sets with many dimensions, which will be practical with the 54 features set selected by the PCA. The kernel and its parameters are also easily modular which allows us to test multiple combinations in order to find the one with the better results. The fact that the kernel can take other types then the linear one (polynomial, sigmoid or radial) also allows to evaluate efficiently data that are difficult to separate."
   ]
  },
  {
   "cell_type": "code",
   "execution_count": 43,
   "metadata": {},
   "outputs": [],
   "source": [
    "library(\"e1071\")\n",
    "\n",
    "#prediction for H1N1 column\n",
    "model_svm1 = svm(label_1 ~ ., data = pca_tr_set, kernel = \"radial\", cost = 0.1, scale = FALSE)\n",
    "Y_pred1 <- predict(model_svm1,pca_ts_set)\n",
    "ss <- preProcess(as.data.frame(Y_pred1), method=c(\"range\"))\n",
    "Y_pred1 <- predict(ss, as.data.frame(Y_pred1))\n",
    "\n",
    "#prediction for Seasonal Flu column\n",
    "model_svm2 = svm(label_2 ~ ., data = pca_tr_set, kernel = \"radial\", cost = 0.1, scale = FALSE)\n",
    "Y_pred2 <- predict(model_svm2,pca_ts_set)\n",
    "ss <- preProcess(as.data.frame(Y_pred2), method=c(\"range\"))\n",
    "Y_pred2 <- predict(ss, as.data.frame(Y_pred2))\n",
    "\n",
    "final_pred_SVM <- cbind(testing_features[, c(1)], Y_pred1, Y_pred2)\n",
    "write.csv(final_pred_SVM, \"test_submission_SVM.csv\", row.names = F)"
   ]
  },
  {
   "cell_type": "markdown",
   "metadata": {},
   "source": [
    "The function \"svm()\" can take a large amount of  different arguments,like the kernel type and its parameters. The arguments chosen in the code were selected after testing multiple combinations by computing their ROC and the AUC. Those results are shown in the following table. If some parameters are not specified hereunder, it means that the default values were used. Some values of the AUC for the \"seasonal flue vaccines\" are also missing because in view of the bad results of the \"H1N1\" column for this line, it was not deemed necessary to compute it."
   ]
  },
  {
   "cell_type": "markdown",
   "metadata": {},
   "source": [
    "| cost   | kernel       | gamma | coef0 | AUC H1N1 | AUC Flue |\n",
    "|--------|--------------|-------|-------|----------|----------|\n",
    "|0,00001 | linear       |       |       |   0,804  |   0,738  |\n",
    "|0,00001 | polynomial 2 |       |       |   0,804  |   0,739  |\n",
    "|0,00001 | polynomial 3 |       |       |   0,840  |   0,732  |\n",
    "|0,00001 | polynomial 3 | 0,0001|   5   |   0,812  |   0,732  |\n",
    "|0,000001| polynomial 3 |       |       |   0,813  |          |\n",
    "|0,00001 | polynomial 4 |       |       |   0,811  |   0,725  |\n",
    "|0,1     | polynomial 3 |       |       |   0,849  |   0,729  |\n",
    "|0,01    | polynomial 3 |       |       |   0,844  |          |\n",
    "|10      | polynomial 3 |       |       |   0,840  |   0,732  |\n",
    "|1       | polynomial 3 |       |       |   0,849  |   0,739  |\n",
    "|0,01    | radial       |       |       |   0,849  |   0,735  |\n",
    "|0,1     | radial       |       |       |   0,849  |   0,741  |\n",
    "|1       | radial       |       |       |   0,839  |   0,733  |\n",
    "|10      | radial       |       |       |   0,842  |   0,733  |\n",
    "|100     | radial       |       |       |   0,849  |   0,730  |\n",
    "|0,01    | sigmoid      |       |       |   0,848  |   0,736  |\n",
    "|0,1     | sigmoid      |       |       |   0,849  |   0,740  |\n",
    "|1       | sigmoid      |       |       |   0,839  |   0,734  |\n",
    "|10      | sigmoid      |       |       |   0,838  |   0,731  |"
   ]
  },
  {
   "cell_type": "markdown",
   "metadata": {},
   "source": [
    "It can be deduced from the above table that this method generally gives better estimation for the H1N1 column than for the other."
   ]
  },
  {
   "cell_type": "markdown",
   "metadata": {},
   "source": [
    "# Alternative models\n",
    "\n",
    "\n",
    "As an alternative model we chose to change or feature selection method. We tried to impplement multivariate neural networks but the computation times were so high we did not consider it interesting for our purposes.\n"
   ]
  },
  {
   "cell_type": "markdown",
   "metadata": {},
   "source": [
    "## MRMR"
   ]
  },
  {
   "cell_type": "markdown",
   "metadata": {},
   "source": [
    "The MRMR features selection method is chosen as an alternative to the PCA, to implement a method without using a library contained in the guidelines' list. This selection is the Minimum redundancy maximal relevancy filter (MRMR). It allows to have less features than the PCA but with a prediction that is normally just as good, maybe even better."
   ]
  },
  {
   "cell_type": "code",
   "execution_count": 2,
   "metadata": {},
   "outputs": [
    {
     "ename": "ERROR",
     "evalue": "Error in eval(expr, envir, enclos): object 'ts_set_enc' not found\n",
     "output_type": "error",
     "traceback": [
      "Error in eval(expr, envir, enclos): object 'ts_set_enc' not found\nTraceback:\n"
     ]
    }
   ],
   "source": [
    "#install.packages(praznik)\n",
    "library(praznik)\n",
    "\n",
    "test_set <- ts_set_enc\n",
    "\n",
    "\n",
    "X <- tr_set_enc\n",
    "Y <- read.csv(\"training_set_labels.csv\")\n",
    "summary(Y)\n",
    "\n",
    "results <- MRMR(X[, -c(1)], Y[, c(2)], 40, positive = T) # arbitrary number of cols to keep for h1n1\n",
    "results$selection\n",
    "results$score\n",
    "\n",
    "results <- MRMR(X[, -c(1)], Y[, c(3)], 40, positive = T) # arbitrary number of cols to keep for seasonal\n",
    "results$selection\n",
    "results$score\n",
    "\n",
    "features_to_keep = c(3,6,7,10,11,12,13,14,15,16,17,19,20,22,28,29,30,32,36,38,41,45,46,47,55,56,66,67,70,72,77,80,87,91,94)\n",
    "\n",
    "mrmr_tr_set <- X[, features_to_keep]\n",
    "mrmr_ts_set <- test_set[, features_to_keep]"
   ]
  },
  {
   "cell_type": "markdown",
   "metadata": {},
   "source": [
    "The selection of features is made for one output and then the other. It remained to choose which features to keep from all those that emerged. 19 features were common to both labels so they were kept. For the h1n1_vaccine label, 8 additional features were selected but only 7 had a sufficient score to be considered interesting. For seasonal_vaccine, 13 additional features and 9 are interesting. In total there will be 35 features for both outputs. This is less than with the PCA."
   ]
  },
  {
   "cell_type": "markdown",
   "metadata": {},
   "source": [
    "### Linear model with MRMR"
   ]
  },
  {
   "cell_type": "markdown",
   "metadata": {},
   "source": [
    "The steps are the same than with PCA, only the results will eventually change."
   ]
  },
  {
   "cell_type": "code",
   "execution_count": 33,
   "metadata": {},
   "outputs": [],
   "source": [
    "total_train_set <- cbind(mrmr_tr_set, labels)"
   ]
  },
  {
   "cell_type": "code",
   "execution_count": 34,
   "metadata": {},
   "outputs": [],
   "source": [
    "# Separation of the train in two groups in order to calculate the error between prediction and reality.\n",
    "vaccine_idx <- sample(1:nrow(total_train_set))\n",
    "half_split <- floor(nrow(total_train_set)/2)\n",
    "train_data_set <- total_train_set[vaccine_idx[1:half_split],]\n",
    "test_data <- total_train_set[vaccine_idx[(half_split+1):nrow(total_train_set)],]\n",
    "target_idx <- ncol(train_data_set)\n",
    "targets <- c(target_idx, target_idx-1)\n",
    "\n",
    "# Linear model & prediction\n",
    "model <- lm(cbind(h1n1_vaccine, seasonal_vaccine)~., data=train_data_set)\n",
    "Y_pred <- predict(model,test_data[,-targets])"
   ]
  },
  {
   "cell_type": "code",
   "execution_count": 35,
   "metadata": {},
   "outputs": [
    {
     "name": "stdout",
     "output_type": "stream",
     "text": [
      "[1] \"[INFO] - Training set size: 12017 - Testing set size 1336\"\n",
      "[1] \"[INFO] - Misclassification rate h1n1 - 1 fold: 0.160928143712575\"\n",
      "[1] \"[INFO] - Misclassification rate seasonal - 1 fold: 0.23877245508982\"\n",
      "[1] \"[INFO] - Training set size: 12017 - Testing set size 1336\"\n",
      "[1] \"[INFO] - Misclassification rate h1n1 - 2 fold: 0.158682634730539\"\n",
      "[1] \"[INFO] - Misclassification rate seasonal - 2 fold: 0.226047904191617\"\n",
      "[1] \"[INFO] - Training set size: 12017 - Testing set size 1336\"\n",
      "[1] \"[INFO] - Misclassification rate h1n1 - 3 fold: 0.159431137724551\"\n",
      "[1] \"[INFO] - Misclassification rate seasonal - 3 fold: 0.220059880239521\"\n",
      "[1] \"[INFO] - Training set size: 12017 - Testing set size 1336\"\n",
      "[1] \"[INFO] - Misclassification rate h1n1 - 4 fold: 0.154191616766467\"\n",
      "[1] \"[INFO] - Misclassification rate seasonal - 4 fold: 0.236526946107784\"\n",
      "[1] \"[INFO] - Training set size: 12017 - Testing set size 1336\"\n",
      "[1] \"[INFO] - Misclassification rate h1n1 - 5 fold: 0.151946107784431\"\n",
      "[1] \"[INFO] - Misclassification rate seasonal - 5 fold: 0.235029940119761\"\n",
      "[1] \"[INFO] - Training set size: 12017 - Testing set size 1336\"\n",
      "[1] \"[INFO] - Misclassification rate h1n1 - 6 fold: 0.163922155688623\"\n",
      "[1] \"[INFO] - Misclassification rate seasonal - 6 fold: 0.214820359281437\"\n",
      "[1] \"[INFO] - Training set size: 12017 - Testing set size 1336\"\n",
      "[1] \"[INFO] - Misclassification rate h1n1 - 7 fold: 0.151197604790419\"\n",
      "[1] \"[INFO] - Misclassification rate seasonal - 7 fold: 0.249251497005988\"\n",
      "[1] \"[INFO] - Training set size: 12017 - Testing set size 1336\"\n",
      "[1] \"[INFO] - Misclassification rate h1n1 - 8 fold: 0.153443113772455\"\n",
      "[1] \"[INFO] - Misclassification rate seasonal - 8 fold: 0.217065868263473\"\n",
      "[1] \"[INFO] - Training set size: 12017 - Testing set size 1336\"\n",
      "[1] \"[INFO] - Misclassification rate h1n1 - 9 fold: 0.134730538922156\"\n",
      "[1] \"[INFO] - Misclassification rate seasonal - 9 fold: 0.217814371257485\"\n",
      "[1] \"[INFO] - Training set size: 12024 - Testing set size 1329\"\n",
      "[1] \"[INFO] - Misclassification rate h1n1 - 10 fold: 0.153498871331828\"\n",
      "[1] \"[INFO] - Misclassification rate seasonal - 10 fold: 0.244544770504138\"\n",
      "[1] \"[INFO] - Mean misclassification rate h1n1: 0.154197192522404\"\n",
      "[1] \"[INFO] - Mean misclassification rate seasonal: 0.229993399206103\"\n"
     ]
    }
   ],
   "source": [
    "k = 10\n",
    "accuracy_vec_h1n1 <- array(0,k)\n",
    "accuracy_vec_seasonal <- array(0,k)\n",
    "threshold <- 0.5\n",
    "\n",
    "# 1. Shuffle the dataset randomly.\n",
    "vaccine_idx <- sample(1:nrow(train_data_set))\n",
    "\n",
    "# 2. Split the dataset into k groups\n",
    "max <- ceiling(nrow(train_data_set)/k)\n",
    "splits <- split(vaccine_idx, ceiling(seq_along(vaccine_idx)/max))\n",
    "\n",
    "# 3. For each unique group:\n",
    "for (i in 1:k){\n",
    "  #3.1 Take the group as a hold out or test data set\n",
    "  test_data <- train_data_set[splits[[i]],]\n",
    "  \n",
    "  #3.2 Take the remaining groups as a training data set\n",
    "  train_data <- train_data_set[-splits[[i]],]\n",
    "  print(paste(\"[INFO] - Training set size:\",dim(train_data)[1],\"- Testing set size\",dim(test_data)[1]))\n",
    "  \n",
    "  #3.3 Fit a model on the training set and evaluate it on the test set\n",
    "  model <- lm(cbind(h1n1_vaccine, seasonal_vaccine) ~ ., data=train_data)\n",
    "  Y_pred <- predict(model,test_data[,-targets])\n",
    "  Y_h1n1 <- test_data[,targets[2]]\n",
    "  Y_seasonal <- test_data[,targets[1]]\n",
    "  \n",
    "  #3.4 Store the prediction of the tree (2 is to take only the P(Y=\"spam\"|x))\n",
    "  Y_hat <- ifelse(Y_pred > threshold,1,0) \n",
    "  # Need one confusion matrix for h1n1 and one for seasonal\n",
    "  confusion_matrix_h1n1 <- table(Y_hat[,1],Y_h1n1)\n",
    "  confusion_matrix_seasonal <- table(Y_hat[,2],Y_seasonal)\n",
    "  \n",
    "  #3.5 Retain the evaluation score and discard the model\n",
    "  accuracy_vec_h1n1[i] = (confusion_matrix_h1n1[1,1]+confusion_matrix_h1n1[2,2])/sum(confusion_matrix_h1n1)\n",
    "  misclassification_rate = 1 - accuracy_vec_h1n1[i]\n",
    "  print(paste(\"[INFO] - Misclassification rate h1n1 -\",i,\"fold:\",misclassification_rate))\n",
    "  \n",
    "  accuracy_vec_seasonal[i] = (confusion_matrix_seasonal[1,1]+confusion_matrix_seasonal[2,2])/sum(confusion_matrix_seasonal)\n",
    "  misclassification_rate = 1 - accuracy_vec_seasonal[i]\n",
    "  print(paste(\"[INFO] - Misclassification rate seasonal -\",i,\"fold:\",misclassification_rate))\n",
    "  \n",
    "}\n",
    "\n",
    "#4. Summarize the skill of the model using the sample of model evaluation scores\n",
    "print(paste(\"[INFO] - Mean misclassification rate h1n1:\",1-mean(accuracy_vec_h1n1)))\n",
    "print(paste(\"[INFO] - Mean misclassification rate seasonal:\",1-mean(accuracy_vec_seasonal)))"
   ]
  },
  {
   "cell_type": "code",
   "execution_count": 37,
   "metadata": {},
   "outputs": [
    {
     "data": {
      "image/png": "iVBORw0KGgoAAAANSUhEUgAAA0gAAANICAIAAAByhViMAAAACXBIWXMAABJ0AAASdAHeZh94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\nIIQdAEAQwg4AIIi/ABE7OzHjEV+TAAAAAElFTkSuQmCC",
      "text/plain": [
       "Plot with title “ROC Curve for seasonal vaccine”"
      ]
     },
     "metadata": {
      "image/png": {
       "height": 420,
       "width": 420
      }
     },
     "output_type": "display_data"
    },
    {
     "name": "stdout",
     "output_type": "stream",
     "text": [
      "[1] \"AUC for h1n1 : 0.856876600102407 AUC for seasonal : 0.835641654978962\"\n"
     ]
    },
    {
     "data": {
      "image/png": "iVBORw0KGgoAAAANSUhEUgAAA0gAAANICAIAAAByhViMAAAACXBIWXMAABJ0AAASdAHeZh94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\nErqRCx5oiQAAAABJRU5ErkJggg==",
      "text/plain": [
       "Plot with title “ROC Curve for h1n1 vaccine”"
      ]
     },
     "metadata": {
      "image/png": {
       "height": 420,
       "width": 420
      }
     },
     "output_type": "display_data"
    }
   ],
   "source": [
    "# ROC for seasonal vaccine\n",
    "\n",
    "AUC_seasonal = AUCROC(Y_pred[,2], test_data[,targets[1]],\"ROC Curve for seasonal vaccine\")\n",
    "\n",
    "# ROC for h1n1 vaccine\n",
    "\n",
    "AUC_h1n1 =  AUCROC(Y_pred[,1], test_data[,targets[2]],\"ROC Curve for h1n1 vaccine\")\n",
    "\n",
    "print(paste(\"AUC for h1n1 :\", AUC_h1n1, \"AUC for seasonal :\", AUC_seasonal)) "
   ]
  },
  {
   "cell_type": "markdown",
   "metadata": {},
   "source": [
    "The AUC is better for seasonal_vaccine but worse for h1n1_vaccine. The linear model is therefore better suited with PCA to predict h1n1_vaccine."
   ]
  },
  {
   "cell_type": "code",
   "execution_count": 40,
   "metadata": {},
   "outputs": [
    {
     "data": {
      "text/plain": [
       "Response h1n1_vaccine :\n",
       "\n",
       "Call:\n",
       "lm(formula = h1n1_vaccine ~ h1n1_knowledge + behavioral_face_mask + \n",
       "    behavioral_wash_hands + behavioral_touch_face + doctor_recc_h1n1 + \n",
       "    doctor_recc_seasonal + chronic_med_condition + child_under_6_months + \n",
       "    health_worker + opinion_h1n1_vacc_effective + opinion_h1n1_risk + \n",
       "    opinion_seas_vacc_effective + opinion_seas_risk + age_group + \n",
       "    health_insurance_0 + health_insurance_1 + health_insurance_NA + \n",
       "    employment_industry_atmlpfrs + employment_industry_haxffmxo + \n",
       "    employment_industry_mcubkhph + employment_industry_nduyfdeo + \n",
       "    employment_industry_rucpziij + employment_industry_saaquncn + \n",
       "    employment_industry_vjjrobsf + employment_occupation_cmhcxjea + \n",
       "    employment_occupation_dcjcmpih + employment_occupation_qxajmpny + \n",
       "    employment_occupation_rcertsgn + employment_occupation_uqqtjvyb + \n",
       "    employment_occupation_xgwztkwe + race_Black + race_White + \n",
       "    rent_or_own_Rent + employment_status_Unemployed + hhs_geo_region_bhuqouqj, \n",
       "    data = total_train_set)\n",
       "\n",
       "Residuals:\n",
       "     Min       1Q   Median       3Q      Max \n",
       "-0.92723 -0.20938 -0.07317  0.10446  1.25708 \n",
       "\n",
       "Coefficients: (2 not defined because of singularities)\n",
       "                                 Estimate Std. Error t value Pr(>|t|)    \n",
       "(Intercept)                    -0.2064305  0.0109669 -18.823  < 2e-16 ***\n",
       "h1n1_knowledge                  0.0449510  0.0071396   6.296 3.10e-10 ***\n",
       "behavioral_face_mask            0.0241352  0.0084646   2.851 0.004357 ** \n",
       "behavioral_wash_hands          -0.0036190  0.0060365  -0.600 0.548834    \n",
       "behavioral_touch_face          -0.0042165  0.0048740  -0.865 0.386983    \n",
       "doctor_recc_h1n1                0.3290975  0.0067854  48.501  < 2e-16 ***\n",
       "doctor_recc_seasonal           -0.0644283  0.0059568 -10.816  < 2e-16 ***\n",
       "chronic_med_condition           0.0027535  0.0049811   0.553 0.580418    \n",
       "child_under_6_months            0.0312577  0.0078468   3.984 6.81e-05 ***\n",
       "health_worker                   0.1049010  0.0083060  12.630  < 2e-16 ***\n",
       "opinion_h1n1_vacc_effective     0.1963405  0.0097083  20.224  < 2e-16 ***\n",
       "opinion_h1n1_risk               0.2265628  0.0083325  27.190  < 2e-16 ***\n",
       "opinion_seas_vacc_effective    -0.0059985  0.0091626  -0.655 0.512687    \n",
       "opinion_seas_risk               0.0578345  0.0078160   7.399 1.41e-13 ***\n",
       "age_group                       0.0512950  0.0064591   7.942 2.07e-15 ***\n",
       "health_insurance_0              0.0712197  0.0091661   7.770 8.14e-15 ***\n",
       "health_insurance_1              0.1703748  0.0044246  38.506  < 2e-16 ***\n",
       "health_insurance_NA                    NA         NA      NA       NA    \n",
       "employment_industry_atmlpfrs   -0.0453092  0.0116123  -3.902 9.57e-05 ***\n",
       "employment_industry_haxffmxo    0.3829307  0.0285309  13.422  < 2e-16 ***\n",
       "employment_industry_mcubkhph   -0.0379398  0.0208636  -1.818 0.069004 .  \n",
       "employment_industry_nduyfdeo    0.0060427  0.0204804   0.295 0.767959    \n",
       "employment_industry_rucpziij   -0.0465758  0.0154067  -3.023 0.002504 ** \n",
       "employment_industry_saaquncn   -0.0009632  0.0188591  -0.051 0.959267    \n",
       "employment_industry_vjjrobsf   -0.0459930  0.0154977  -2.968 0.003003 ** \n",
       "employment_occupation_cmhcxjea  0.0469513  0.0121956   3.850 0.000118 ***\n",
       "employment_occupation_dcjcmpih         NA         NA      NA       NA    \n",
       "employment_occupation_qxajmpny -0.0389321  0.0150160  -2.593 0.009528 ** \n",
       "employment_occupation_rcertsgn -0.0267970  0.0212942  -1.258 0.208252    \n",
       "employment_occupation_uqqtjvyb -0.0352590  0.0163792  -2.153 0.031353 *  \n",
       "employment_occupation_xgwztkwe -0.0494067  0.0107521  -4.595 4.35e-06 ***\n",
       "race_Black                     -0.0487359  0.0095981  -5.078 3.85e-07 ***\n",
       "race_White                     -0.0027384  0.0066402  -0.412 0.680052    \n",
       "rent_or_own_Rent               -0.0249898  0.0053692  -4.654 3.27e-06 ***\n",
       "employment_status_Unemployed   -0.0118936  0.0095866  -1.241 0.214749    \n",
       "hhs_geo_region_bhuqouqj         0.0107544  0.0068574   1.568 0.116826    \n",
       "---\n",
       "Signif. codes:  0 ‘***’ 0.001 ‘**’ 0.01 ‘*’ 0.05 ‘.’ 0.1 ‘ ’ 1\n",
       "\n",
       "Residual standard error: 0.343 on 26673 degrees of freedom\n",
       "Multiple R-squared:  0.2978,\tAdjusted R-squared:  0.2969 \n",
       "F-statistic: 342.8 on 33 and 26673 DF,  p-value: < 2.2e-16\n",
       "\n",
       "\n",
       "Response seasonal_vaccine :\n",
       "\n",
       "Call:\n",
       "lm(formula = seasonal_vaccine ~ h1n1_knowledge + behavioral_face_mask + \n",
       "    behavioral_wash_hands + behavioral_touch_face + doctor_recc_h1n1 + \n",
       "    doctor_recc_seasonal + chronic_med_condition + child_under_6_months + \n",
       "    health_worker + opinion_h1n1_vacc_effective + opinion_h1n1_risk + \n",
       "    opinion_seas_vacc_effective + opinion_seas_risk + age_group + \n",
       "    health_insurance_0 + health_insurance_1 + health_insurance_NA + \n",
       "    employment_industry_atmlpfrs + employment_industry_haxffmxo + \n",
       "    employment_industry_mcubkhph + employment_industry_nduyfdeo + \n",
       "    employment_industry_rucpziij + employment_industry_saaquncn + \n",
       "    employment_industry_vjjrobsf + employment_occupation_cmhcxjea + \n",
       "    employment_occupation_dcjcmpih + employment_occupation_qxajmpny + \n",
       "    employment_occupation_rcertsgn + employment_occupation_uqqtjvyb + \n",
       "    employment_occupation_xgwztkwe + race_Black + race_White + \n",
       "    rent_or_own_Rent + employment_status_Unemployed + hhs_geo_region_bhuqouqj, \n",
       "    data = total_train_set)\n",
       "\n",
       "Residuals:\n",
       "     Min       1Q   Median       3Q      Max \n",
       "-1.32301 -0.31549 -0.02101  0.31332  1.35243 \n",
       "\n",
       "Coefficients: (2 not defined because of singularities)\n",
       "                                 Estimate Std. Error t value Pr(>|t|)    \n",
       "(Intercept)                    -0.2127710  0.0129457 -16.436  < 2e-16 ***\n",
       "h1n1_knowledge                  0.0641290  0.0084279   7.609 2.85e-14 ***\n",
       "behavioral_face_mask           -0.0001992  0.0099919  -0.020 0.984096    \n",
       "behavioral_wash_hands           0.0108360  0.0071258   1.521 0.128351    \n",
       "behavioral_touch_face           0.0266692  0.0057534   4.635 3.58e-06 ***\n",
       "doctor_recc_h1n1               -0.0557022  0.0080098  -6.954 3.63e-12 ***\n",
       "doctor_recc_seasonal            0.2620989  0.0070317  37.274  < 2e-16 ***\n",
       "chronic_med_condition           0.0273953  0.0058799   4.659 3.19e-06 ***\n",
       "child_under_6_months            0.0077159  0.0092626   0.833 0.404841    \n",
       "health_worker                   0.1141504  0.0098047  11.642  < 2e-16 ***\n",
       "opinion_h1n1_vacc_effective    -0.0156857  0.0114600  -1.369 0.171096    \n",
       "opinion_h1n1_risk               0.0010801  0.0098359   0.110 0.912557    \n",
       "opinion_seas_vacc_effective     0.3165306  0.0108159  29.265  < 2e-16 ***\n",
       "opinion_seas_risk               0.3464826  0.0092263  37.554  < 2e-16 ***\n",
       "age_group                       0.2526082  0.0076245  33.131  < 2e-16 ***\n",
       "health_insurance_0             -0.0391415  0.0108200  -3.618 0.000298 ***\n",
       "health_insurance_1              0.0602852  0.0052230  11.542  < 2e-16 ***\n",
       "health_insurance_NA                    NA         NA      NA       NA    \n",
       "employment_industry_atmlpfrs   -0.0284505  0.0137076  -2.076 0.037947 *  \n",
       "employment_industry_haxffmxo    0.4783391  0.0336790  14.203  < 2e-16 ***\n",
       "employment_industry_mcubkhph   -0.0715871  0.0246281  -2.907 0.003655 ** \n",
       "employment_industry_nduyfdeo   -0.0903545  0.0241758  -3.737 0.000186 ***\n",
       "employment_industry_rucpziij   -0.1007658  0.0181866  -5.541 3.04e-08 ***\n",
       "employment_industry_saaquncn   -0.0991451  0.0222620  -4.454 8.48e-06 ***\n",
       "employment_industry_vjjrobsf   -0.0915739  0.0182940  -5.006 5.60e-07 ***\n",
       "employment_occupation_cmhcxjea  0.0479020  0.0143961   3.327 0.000878 ***\n",
       "employment_occupation_dcjcmpih         NA         NA      NA       NA    \n",
       "employment_occupation_qxajmpny -0.1106348  0.0177254  -6.242 4.40e-10 ***\n",
       "employment_occupation_rcertsgn -0.0003005  0.0251364  -0.012 0.990462    \n",
       "employment_occupation_uqqtjvyb -0.1063977  0.0193346  -5.503 3.77e-08 ***\n",
       "employment_occupation_xgwztkwe -0.0687887  0.0126922  -5.420 6.02e-08 ***\n",
       "race_Black                     -0.0526637  0.0113299  -4.648 3.36e-06 ***\n",
       "race_White                      0.0172814  0.0078384   2.205 0.027482 *  \n",
       "rent_or_own_Rent               -0.0409006  0.0063380  -6.453 1.11e-10 ***\n",
       "employment_status_Unemployed   -0.0721106  0.0113164  -6.372 1.89e-10 ***\n",
       "hhs_geo_region_bhuqouqj        -0.0049165  0.0080948  -0.607 0.543617    \n",
       "---\n",
       "Signif. codes:  0 ‘***’ 0.001 ‘**’ 0.01 ‘*’ 0.05 ‘.’ 0.1 ‘ ’ 1\n",
       "\n",
       "Residual standard error: 0.4049 on 26673 degrees of freedom\n",
       "Multiple R-squared:  0.342,\tAdjusted R-squared:  0.3412 \n",
       "F-statistic: 420.2 on 33 and 26673 DF,  p-value: < 2.2e-16\n",
       "\n"
      ]
     },
     "metadata": {},
     "output_type": "display_data"
    }
   ],
   "source": [
    "model <- lm(cbind(h1n1_vaccine, seasonal_vaccine)~., data=total_train_set)\n",
    "summary(model)\n",
    "Y_pred <- predict(model,mrmr_ts_set)"
   ]
  },
  {
   "cell_type": "markdown",
   "metadata": {},
   "source": [
    "### Single layer neural network with mrmr\n",
    "\n",
    "Once again the steps are very similar to what was done previously for the neural networks. We observe better results for the estimation of seasonal flue vaccines than for h1n1. "
   ]
  },
  {
   "cell_type": "code",
   "execution_count": null,
   "metadata": {},
   "outputs": [],
   "source": [
    "k <- 2\n",
    "\n",
    "hidden_nodes_vec <- c(5, 10, 15)\n",
    "results1 <- c()\n",
    "results2 <- c()\n",
    "for(hidden_nodes in hidden_nodes_vec){\n",
    "    print(paste(\"[INFO] - Testing h=\",hidden_nodes))\n",
    "    results1 <- c(results1, auc_nnet_cross_valid(mrmr_tr_set, label_1, hidden_nodes=hidden_nodes_vec,k=k))\n",
    "    results2 <- c(results2, auc_nnet_cross_valid(mrmr_tr_set, label_2, hidden_nodes=hidden_nodes_vec,k=k))\n",
    "}\n",
    "#mean(AUC) according to the nb of hidden nodes \n",
    "plot(hidden_nodes_vec, results_h1n1, xlab=\"Number of hidden nodes\", ylab=\"AUCROC\", main=\"h1n1 estimation\")\n",
    "lines(hidden_nodes_vec, results_h1n1)\n",
    "\n",
    "plot.new()\n",
    "\n",
    "plot(hidden_nodes_vec, results_season, xlab=\"Number of hidden nodes\", ylab=\"AUCROC\", main=\"seasonal estimation\")\n",
    "lines(hidden_nodes_vec, results_season)\n"
   ]
  },
  {
   "cell_type": "markdown",
   "metadata": {},
   "source": [
    "### SVM with mrmrm\n",
    "\n",
    "The code is the same as above. The results for the estimation of seasonal flue vaccines are better than when the features selection was done by PCA, but the AUC for the H1N1 column are a slightly less good."
   ]
  },
  {
   "cell_type": "code",
   "execution_count": null,
   "metadata": {
    "tags": []
   },
   "outputs": [],
   "source": [
    "library(\"e1071\")\n",
    "\n",
    "model_svm1 = svm(label_1 ~ ., data = mrmr_tr_set, kernel = \"polynomial\", degree=3, cost = 1, scale = FALSE)\n",
    "Y_pred1 <- predict(model_svm1,mrmr_ts_set)\n",
    "ss <- preProcess(as.data.frame(Y_pred1), method=c(\"range\"))\n",
    "Y_pred1 <- predict(ss, as.data.frame(Y_pred1))\n",
    "\n",
    "model_svm2 = svm(label_2 ~ ., data = mrmr_tr_set, kernel = \"polynomial\", degree=3, cost = 0.01, scale = FALSE)\n",
    "Y_pred2 <- predict(model_svm2,mrmr_ts_set)\n",
    "ss <- preProcess(as.data.frame(Y_pred2), method=c(\"range\"))\n",
    "Y_pred2 <- predict(ss, as.data.frame(Y_pred2))\n",
    "\n",
    "final_pred_SVM <- cbind(testing_features[, c(1)], Y_pred1, Y_pred2)"
   ]
  },
  {
   "cell_type": "markdown",
   "metadata": {},
   "source": [
    "Compared to the SVM code applied after the PCA, the kernel parameters and the cost have changed because the previous values werent optimal anymore."
   ]
  },
  {
   "cell_type": "markdown",
   "metadata": {},
   "source": [
    "### Combination of the three methods\n",
    "To optimise the results, we'll be taking all three methods' results and we'll taking their mean."
   ]
  },
  {
   "cell_type": "code",
   "execution_count": null,
   "metadata": {},
   "outputs": [],
   "source": [
    "#doing it for the H1N1 column\n",
    "pred_linear_H1N1<-Y_pred[,2]\n",
    "pred_svm_H1N1<-results_h1n1\n",
    "pred_svm_H1N1<- final_pred_SVM[,2]\n",
    "\n",
    "#doing it for the seasonal flue column\n",
    "pred_linear_seasonable<-Y_pred[,3]\n",
    "pred_svm_seasonable<-results_seasonal\n",
    "pred_svm_seasonable<- final_pred_SVM[,3]\n",
    "\n"
   ]
  },
  {
   "cell_type": "markdown",
   "metadata": {},
   "source": [
    "# Conclusions"
   ]
  },
  {
   "cell_type": "markdown",
   "metadata": {},
   "source": [
    "To conclude, the methods all have defaults and qualities. "
   ]
  }
 ],
 "metadata": {
  "kernelspec": {
   "display_name": "R",
   "language": "R",
   "name": "ir"
  },
  "language_info": {
   "codemirror_mode": "r",
   "file_extension": ".r",
   "mimetype": "text/x-r-source",
   "name": "R",
   "pygments_lexer": "r",
   "version": "4.1.2"
  }
 },
 "nbformat": 4,
 "nbformat_minor": 4
}
