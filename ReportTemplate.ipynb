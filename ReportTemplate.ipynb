{
 "cells": [
  {
   "cell_type": "markdown",
   "metadata": {},
   "source": [
    "# INFO-F-422 -  Statistical Foundations of Machine Learning \n",
    "\n",
    "### Alexandre Flachs - __[alexandre.flachs@ulb.be](mailto:alexandre.flachs@ulb.be) - Student ID 474748__\n",
    "### Marie Giot - __[marie.giot@ulb.be](mailto:marie.giot@ulb.be) - Student ID 474915__\n",
    "### Jeanne Szpirer - __[jeanne.szpirer@ulb.be](mailto:jeanne.szpirer@ulb.be) - Student ID 477286__\n",
    "\n",
    "### Video presentation: www.youtube.com/abcd1234\n",
    "\n",
    "## Flu Shot Learning: Predict H1N1 and Seasonal Flu Vaccines\n"
   ]
  },
  {
   "cell_type": "markdown",
   "metadata": {},
   "source": [
    "# Introduction\n"
   ]
  },
  {
   "cell_type": "markdown",
   "metadata": {},
   "source": [
    "The project's goal is to propose efficient machine learning methods to predict the likelihood of patients to get a vaccine for H1N1 or Seasonal Flu. This challenge was inititated by the \"Driven Data\" plateforme. Four different techniques are presented hereunder and their costs and their results will be discussed. The group also submitted its result on the Driven Data plateforme for the challenge in order to receive a score and compare it to the other paticipants."
   ]
  },
  {
   "cell_type": "markdown",
   "metadata": {},
   "source": [
    "# Data preprocessing\n",
    "\n",
    "Before working any model we need to preprocess the data to make it usefull. This pipeline in divided intro three parts :\n",
    "1. **Missing value imputation** : Replace missing values, possibly using other known values\n",
    "2. **Feature engineering** : Define useful features from available ones. \n",
    "3. **Feature selection** : Some features might be useless or give wrong indications to the model, we might need to remove some features.\n",
    "\n",
    "Let's start by importing our data, then develop each of the above parts."
   ]
  },
  {
   "cell_type": "code",
<<<<<<< HEAD
   "execution_count": null,
   "metadata": {},
   "outputs": [],
=======
   "execution_count": 3,
   "metadata": {},
   "outputs": [
    {
     "data": {
      "text/html": [
       "<style>\n",
       ".list-inline {list-style: none; margin:0; padding: 0}\n",
       ".list-inline>li {display: inline-block}\n",
       ".list-inline>li:not(:last-child)::after {content: \"\\00b7\"; padding: 0 .5ex}\n",
       "</style>\n",
       "<ol class=list-inline><li>26707</li><li>36</li></ol>\n"
      ],
      "text/latex": [
       "\\begin{enumerate*}\n",
       "\\item 26707\n",
       "\\item 36\n",
       "\\end{enumerate*}\n"
      ],
      "text/markdown": [
       "1. 26707\n",
       "2. 36\n",
       "\n",
       "\n"
      ],
      "text/plain": [
       "[1] 26707    36"
      ]
     },
     "metadata": {},
     "output_type": "display_data"
    },
    {
     "data": {
      "text/html": [
       "<style>\n",
       ".list-inline {list-style: none; margin:0; padding: 0}\n",
       ".list-inline>li {display: inline-block}\n",
       ".list-inline>li:not(:last-child)::after {content: \"\\00b7\"; padding: 0 .5ex}\n",
       "</style>\n",
       "<ol class=list-inline><li>26708</li><li>36</li></ol>\n"
      ],
      "text/latex": [
       "\\begin{enumerate*}\n",
       "\\item 26708\n",
       "\\item 36\n",
       "\\end{enumerate*}\n"
      ],
      "text/markdown": [
       "1. 26708\n",
       "2. 36\n",
       "\n",
       "\n"
      ],
      "text/plain": [
       "[1] 26708    36"
      ]
     },
     "metadata": {},
     "output_type": "display_data"
    },
    {
     "data": {
      "text/html": [
       "<style>\n",
       ".list-inline {list-style: none; margin:0; padding: 0}\n",
       ".list-inline>li {display: inline-block}\n",
       ".list-inline>li:not(:last-child)::after {content: \"\\00b7\"; padding: 0 .5ex}\n",
       "</style>\n",
       "<ol class=list-inline><li>26707</li><li>3</li></ol>\n"
      ],
      "text/latex": [
       "\\begin{enumerate*}\n",
       "\\item 26707\n",
       "\\item 3\n",
       "\\end{enumerate*}\n"
      ],
      "text/markdown": [
       "1. 26707\n",
       "2. 3\n",
       "\n",
       "\n"
      ],
      "text/plain": [
       "[1] 26707     3"
      ]
     },
     "metadata": {},
     "output_type": "display_data"
    }
   ],
>>>>>>> 1ce82420c6d375376f7e32f28f696bf4f5adbab6
   "source": [
    "# Training set features\n",
    "training_set_features <- read.csv(\"training_set_features.csv\", stringsAsFactors = T, na.strings = c(\"NA\", \"\"))\n",
    "dim(training_set_features)\n",
    "\n",
    "# Test set features\n",
    "test_set_features <- read.csv(\"test_set_features.csv\", stringsAsFactors = T, na.strings = c(\"NA\", \"\"))\n",
    "dim(test_set_features)\n",
    "\n",
    "# Training set labels\n",
    "training_set_labels <- read.csv(\"training_set_labels.csv\", stringsAsFactors = T, na.strings = c(\"NA\", \"\"))\n",
    "dim(training_set_labels)"
   ]
  },
  {
   "cell_type": "markdown",
   "metadata": {},
   "source": [
    "We can see that the training features set and the training labels set has the same amount of lines, this is a first good sign because it means that we have an \"answer\" for every training line."
   ]
  },
  {
   "cell_type": "markdown",
   "metadata": {},
   "source": [
    "## Missing value imputation\n"
   ]
  },
  {
   "cell_type": "markdown",
   "metadata": {},
   "source": [
    "We summarize our data before doing any work."
   ]
  },
  {
   "cell_type": "code",
<<<<<<< HEAD
   "execution_count": null,
   "metadata": {},
   "outputs": [],
=======
   "execution_count": 4,
   "metadata": {},
   "outputs": [
    {
     "data": {
      "text/plain": [
       " respondent_id    h1n1_concern   h1n1_knowledge  behavioral_antiviral_meds\n",
       " Min.   :    0   Min.   :0.000   Min.   :0.000   Min.   :0.00000          \n",
       " 1st Qu.: 6676   1st Qu.:1.000   1st Qu.:1.000   1st Qu.:0.00000          \n",
       " Median :13353   Median :2.000   Median :1.000   Median :0.00000          \n",
       " Mean   :13353   Mean   :1.618   Mean   :1.263   Mean   :0.04884          \n",
       " 3rd Qu.:20030   3rd Qu.:2.000   3rd Qu.:2.000   3rd Qu.:0.00000          \n",
       " Max.   :26706   Max.   :3.000   Max.   :2.000   Max.   :1.00000          \n",
       "                 NA's   :92      NA's   :116     NA's   :71               \n",
       " behavioral_avoidance behavioral_face_mask behavioral_wash_hands\n",
       " Min.   :0.0000       Min.   :0.00000      Min.   :0.0000       \n",
       " 1st Qu.:0.0000       1st Qu.:0.00000      1st Qu.:1.0000       \n",
       " Median :1.0000       Median :0.00000      Median :1.0000       \n",
       " Mean   :0.7256       Mean   :0.06898      Mean   :0.8256       \n",
       " 3rd Qu.:1.0000       3rd Qu.:0.00000      3rd Qu.:1.0000       \n",
       " Max.   :1.0000       Max.   :1.00000      Max.   :1.0000       \n",
       " NA's   :208          NA's   :19           NA's   :42           \n",
       " behavioral_large_gatherings behavioral_outside_home behavioral_touch_face\n",
       " Min.   :0.0000              Min.   :0.0000          Min.   :0.0000       \n",
       " 1st Qu.:0.0000              1st Qu.:0.0000          1st Qu.:0.0000       \n",
       " Median :0.0000              Median :0.0000          Median :1.0000       \n",
       " Mean   :0.3586              Mean   :0.3373          Mean   :0.6773       \n",
       " 3rd Qu.:1.0000              3rd Qu.:1.0000          3rd Qu.:1.0000       \n",
       " Max.   :1.0000              Max.   :1.0000          Max.   :1.0000       \n",
       " NA's   :87                  NA's   :82              NA's   :128          \n",
       " doctor_recc_h1n1 doctor_recc_seasonal chronic_med_condition\n",
       " Min.   :0.0000   Min.   :0.0000       Min.   :0.0000       \n",
       " 1st Qu.:0.0000   1st Qu.:0.0000       1st Qu.:0.0000       \n",
       " Median :0.0000   Median :0.0000       Median :0.0000       \n",
       " Mean   :0.2203   Mean   :0.3297       Mean   :0.2833       \n",
       " 3rd Qu.:0.0000   3rd Qu.:1.0000       3rd Qu.:1.0000       \n",
       " Max.   :1.0000   Max.   :1.0000       Max.   :1.0000       \n",
       " NA's   :2160     NA's   :2160         NA's   :971          \n",
       " child_under_6_months health_worker    health_insurance\n",
       " Min.   :0.0000       Min.   :0.0000   Min.   :0.00    \n",
       " 1st Qu.:0.0000       1st Qu.:0.0000   1st Qu.:1.00    \n",
       " Median :0.0000       Median :0.0000   Median :1.00    \n",
       " Mean   :0.0826       Mean   :0.1119   Mean   :0.88    \n",
       " 3rd Qu.:0.0000       3rd Qu.:0.0000   3rd Qu.:1.00    \n",
       " Max.   :1.0000       Max.   :1.0000   Max.   :1.00    \n",
       " NA's   :820          NA's   :804      NA's   :12274   \n",
       " opinion_h1n1_vacc_effective opinion_h1n1_risk opinion_h1n1_sick_from_vacc\n",
       " Min.   :1.000               Min.   :1.000     Min.   :1.000              \n",
       " 1st Qu.:3.000               1st Qu.:1.000     1st Qu.:1.000              \n",
       " Median :4.000               Median :2.000     Median :2.000              \n",
       " Mean   :3.851               Mean   :2.343     Mean   :2.358              \n",
       " 3rd Qu.:5.000               3rd Qu.:4.000     3rd Qu.:4.000              \n",
       " Max.   :5.000               Max.   :5.000     Max.   :5.000              \n",
       " NA's   :391                 NA's   :388       NA's   :395                \n",
       " opinion_seas_vacc_effective opinion_seas_risk opinion_seas_sick_from_vacc\n",
       " Min.   :1.000               Min.   :1.000     Min.   :1.000              \n",
       " 1st Qu.:4.000               1st Qu.:2.000     1st Qu.:1.000              \n",
       " Median :4.000               Median :2.000     Median :2.000              \n",
       " Mean   :4.026               Mean   :2.719     Mean   :2.118              \n",
       " 3rd Qu.:5.000               3rd Qu.:4.000     3rd Qu.:4.000              \n",
       " Max.   :5.000               Max.   :5.000     Max.   :5.000              \n",
       " NA's   :462                 NA's   :514       NA's   :537                \n",
       "         age_group               education                    race      \n",
       " 18 - 34 Years:5215   < 12 Years      : 2363   Black            : 2118  \n",
       " 35 - 44 Years:3848   12 Years        : 5797   Hispanic         : 1755  \n",
       " 45 - 54 Years:5238   College Graduate:10097   Other or Multiple: 1612  \n",
       " 55 - 64 Years:5563   Some College    : 7043   White            :21222  \n",
       " 65+ Years    :6843   NA's            : 1407                            \n",
       "                                                                        \n",
       "                                                                        \n",
       "     sex                          income_poverty      marital_status \n",
       " Female:15858   <= $75,000, Above Poverty:12777   Married    :13555  \n",
       " Male  :10849   > $75,000                : 6810   Not Married:11744  \n",
       "                Below Poverty            : 2697   NA's       : 1408  \n",
       "                NA's                     : 4423                      \n",
       "                                                                     \n",
       "                                                                     \n",
       "                                                                     \n",
       " rent_or_own           employment_status  hhs_geo_region\n",
       " Own :18736   Employed          :13560   lzgpxyit:4297  \n",
       " Rent: 5929   Not in Labor Force:10231   fpwskwrf:3265  \n",
       " NA's: 2042   Unemployed        : 1453   qufhixun:3102  \n",
       "              NA's              : 1463   oxchjgsf:2859  \n",
       "                                         kbazzjca:2858  \n",
       "                                         bhuqouqj:2846  \n",
       "                                         (Other) :7480  \n",
       "                    census_msa    household_adults household_children\n",
       " MSA, Not Principle  City:11645   Min.   :0.0000   Min.   :0.0000    \n",
       " MSA, Principle City     : 7864   1st Qu.:0.0000   1st Qu.:0.0000    \n",
       " Non-MSA                 : 7198   Median :1.0000   Median :0.0000    \n",
       "                                  Mean   :0.8865   Mean   :0.5346    \n",
       "                                  3rd Qu.:1.0000   3rd Qu.:1.0000    \n",
       "                                  Max.   :3.0000   Max.   :3.0000    \n",
       "                                  NA's   :249      NA's   :249       \n",
       " employment_industry employment_occupation\n",
       " fcxhlnwr: 2468      xtkaffoo: 1778       \n",
       " wxleyezf: 1804      mxkfnird: 1509       \n",
       " ldnlellj: 1231      emcorrxb: 1270       \n",
       " pxcmvdjn: 1037      cmhcxjea: 1247       \n",
       " atmlpfrs:  926      xgwztkwe: 1082       \n",
       " (Other) : 5911      (Other) : 6351       \n",
       " NA's    :13330      NA's    :13470       "
      ]
     },
     "metadata": {},
     "output_type": "display_data"
    }
   ],
>>>>>>> 1ce82420c6d375376f7e32f28f696bf4f5adbab6
   "source": [
    "summary(training_set_features)"
   ]
  },
  {
   "cell_type": "markdown",
   "metadata": {},
   "source": [
    "We see that we have many missing values, in most features. We can compare the number of lines left if we remove any line containing any missing value."
   ]
  },
  {
   "cell_type": "code",
<<<<<<< HEAD
   "execution_count": null,
   "metadata": {},
   "outputs": [],
=======
   "execution_count": 5,
   "metadata": {},
   "outputs": [
    {
     "name": "stdout",
     "output_type": "stream",
     "text": [
      "Training set :  26707 -> 6437 \n",
      "Test set     :  26708 -> 6499 \n",
      "Training labs:  26707 -> 26707"
     ]
    }
   ],
>>>>>>> 1ce82420c6d375376f7e32f28f696bf4f5adbab6
   "source": [
    "# First method\n",
    "cat(\"Training set : \", dim(training_set_features)[1], \"->\", dim(na.omit(training_set_features))[1], \"\\n\")\n",
    "cat(\"Test set     : \", dim(test_set_features)[1], \"->\", dim(na.omit(test_set_features))[1], \"\\n\")\n",
    "cat(\"Training labs: \", dim(training_set_labels)[1], \"->\", dim(na.omit(training_set_labels))[1])\n"
   ]
  },
  {
   "cell_type": "markdown",
   "metadata": {},
   "source": [
    "At least no line from the training labels misses any value, we can thus use every entry from the training set for both targets.\n",
    "Counting the number of missing value per feature allows us to see if some of the could be useless. The health insurance, employment occupation and employment industry lines are the emptiest (almost half of the lines miss this data) but by intuition this might be a huge factor in the vaccination decision so we keep it for now."
   ]
  },
  {
   "cell_type": "code",
<<<<<<< HEAD
   "execution_count": null,
   "metadata": {},
   "outputs": [],
=======
   "execution_count": 6,
   "metadata": {},
   "outputs": [
    {
     "name": "stdout",
     "output_type": "stream",
     "text": [
      "      employment_occupation         employment_industry \n",
      "                      13470                       13330 \n",
      "           health_insurance              income_poverty \n",
      "                      12274                        4423 \n",
      "           doctor_recc_h1n1        doctor_recc_seasonal \n",
      "                       2160                        2160 \n",
      "                rent_or_own           employment_status \n",
      "                       2042                        1463 \n",
      "             marital_status                   education \n",
      "                       1408                        1407 \n",
      "      chronic_med_condition        child_under_6_months \n",
      "                        971                         820 \n",
      "              health_worker opinion_seas_sick_from_vacc \n",
      "                        804                         537 \n",
      "          opinion_seas_risk opinion_seas_vacc_effective \n",
      "                        514                         462 \n",
      "opinion_h1n1_sick_from_vacc opinion_h1n1_vacc_effective \n",
      "                        395                         391 \n",
      "          opinion_h1n1_risk            household_adults \n",
      "                        388                         249 \n",
      "         household_children        behavioral_avoidance \n",
      "                        249                         208 \n",
      "      behavioral_touch_face              h1n1_knowledge \n",
      "                        128                         116 \n",
      "               h1n1_concern behavioral_large_gatherings \n",
      "                         92                          87 \n",
      "    behavioral_outside_home   behavioral_antiviral_meds \n",
      "                         82                          71 \n",
      "      behavioral_wash_hands        behavioral_face_mask \n",
      "                         42                          19 \n",
      "              respondent_id                   age_group \n",
      "                          0                           0 \n",
      "                       race                         sex \n",
      "                          0                           0 \n",
      "             hhs_geo_region                  census_msa \n",
      "                          0                           0 \n"
     ]
    }
   ],
>>>>>>> 1ce82420c6d375376f7e32f28f696bf4f5adbab6
   "source": [
    "# On peut aussi regarder si certaines colonnes n'ont vraiment quasi aucune valeur, dans ce cas, ça vaut pas vraiment la peine de garder\n",
    "a <- sapply(training_set_features, function(x) sum(is.na(x)))\n",
    "print(a[order(a, decreasing=T)])"
   ]
  },
  {
   "cell_type": "markdown",
   "metadata": {},
   "source": [
    "What happens if we remove these fields ?"
   ]
  },
  {
   "cell_type": "code",
<<<<<<< HEAD
   "execution_count": null,
   "metadata": {},
   "outputs": [],
=======
   "execution_count": 7,
   "metadata": {},
   "outputs": [
    {
     "name": "stdout",
     "output_type": "stream",
     "text": [
      "Training set :  26707 -> 19642 \n",
      "Test set     :  26708 -> 19592 \n",
      "Training labels:  26707 -> 26707"
     ]
    }
   ],
>>>>>>> 1ce82420c6d375376f7e32f28f696bf4f5adbab6
   "source": [
    "useful_nas <- which(sapply(test_set_features, function(x) sum(is.na(x))) > 10000)\n",
    "\n",
    "cat(\"Training set : \",\n",
    "    dim(training_set_features[,-useful_nas])[1], \"->\",\n",
    "    dim(na.omit(training_set_features[,-useful_nas]))[1], \"\\n\")\n",
    "cat(\"Test set     : \", dim(test_set_features[,-useful_nas])[1], \"->\",\n",
    "    dim(na.omit(test_set_features[,-useful_nas]))[1], \"\\n\")\n",
    "cat(\"Training labels: \", dim(training_set_labels)[1], \"->\", dim(na.omit(training_set_labels))[1])\n"
   ]
  },
  {
   "cell_type": "markdown",
   "metadata": {},
   "source": [
    "There are much less lines containing missing values. We will thus manage the three most missed fields differently."
   ]
  },
  {
   "cell_type": "markdown",
   "metadata": {},
   "source": [
    "## Imputation of missing numerical values"
   ]
  },
  {
   "cell_type": "code",
<<<<<<< HEAD
   "execution_count": null,
=======
   "execution_count": 8,
>>>>>>> 1ce82420c6d375376f7e32f28f696bf4f5adbab6
   "metadata": {},
   "outputs": [],
   "source": [
    "# Imputation will be the same for training and testing so we merge them\n",
    "features_set <- rbind(training_set_features, test_set_features)\n",
    "\n",
    "\n",
    "# Note the indexes of each dataset to get them back after\n",
    "tr_indexes <- 1:nrow(training_set_features)\n",
    "ts_indexes <- (nrow(training_set_features)+1):(nrow(training_set_features) + nrow(test_set_features))\n"
   ]
  },
  {
   "cell_type": "markdown",
   "metadata": {},
   "source": [
    "### Integer encoding of some variables"
   ]
  },
  {
   "cell_type": "code",
<<<<<<< HEAD
   "execution_count": null,
   "metadata": {},
   "outputs": [],
=======
   "execution_count": 9,
   "metadata": {},
   "outputs": [
    {
     "data": {
      "text/html": [
       "<style>\n",
       ".list-inline {list-style: none; margin:0; padding: 0}\n",
       ".list-inline>li {display: inline-block}\n",
       ".list-inline>li:not(:last-child)::after {content: \"\\00b7\"; padding: 0 .5ex}\n",
       "</style>\n",
       "<ol class=list-inline><li>'18 - 34 Years'</li><li>'35 - 44 Years'</li><li>'45 - 54 Years'</li><li>'55 - 64 Years'</li><li>'65+ Years'</li></ol>\n"
      ],
      "text/latex": [
       "\\begin{enumerate*}\n",
       "\\item '18 - 34 Years'\n",
       "\\item '35 - 44 Years'\n",
       "\\item '45 - 54 Years'\n",
       "\\item '55 - 64 Years'\n",
       "\\item '65+ Years'\n",
       "\\end{enumerate*}\n"
      ],
      "text/markdown": [
       "1. '18 - 34 Years'\n",
       "2. '35 - 44 Years'\n",
       "3. '45 - 54 Years'\n",
       "4. '55 - 64 Years'\n",
       "5. '65+ Years'\n",
       "\n",
       "\n"
      ],
      "text/plain": [
       "[1] \"18 - 34 Years\" \"35 - 44 Years\" \"45 - 54 Years\" \"55 - 64 Years\"\n",
       "[5] \"65+ Years\"    "
      ]
     },
     "metadata": {},
     "output_type": "display_data"
    },
    {
     "data": {
      "text/html": [
       "<style>\n",
       ".list-inline {list-style: none; margin:0; padding: 0}\n",
       ".list-inline>li {display: inline-block}\n",
       ".list-inline>li:not(:last-child)::after {content: \"\\00b7\"; padding: 0 .5ex}\n",
       "</style>\n",
       "<ol class=list-inline><li>'&lt; 12 Years'</li><li>'12 Years'</li><li>'College Graduate'</li><li>'Some College'</li></ol>\n"
      ],
      "text/latex": [
       "\\begin{enumerate*}\n",
       "\\item '< 12 Years'\n",
       "\\item '12 Years'\n",
       "\\item 'College Graduate'\n",
       "\\item 'Some College'\n",
       "\\end{enumerate*}\n"
      ],
      "text/markdown": [
       "1. '&lt; 12 Years'\n",
       "2. '12 Years'\n",
       "3. 'College Graduate'\n",
       "4. 'Some College'\n",
       "\n",
       "\n"
      ],
      "text/plain": [
       "[1] \"< 12 Years\"       \"12 Years\"         \"College Graduate\" \"Some College\"    "
      ]
     },
     "metadata": {},
     "output_type": "display_data"
    },
    {
     "data": {
      "text/html": [
       "<style>\n",
       ".list-inline {list-style: none; margin:0; padding: 0}\n",
       ".list-inline>li {display: inline-block}\n",
       ".list-inline>li:not(:last-child)::after {content: \"\\00b7\"; padding: 0 .5ex}\n",
       "</style>\n",
       "<ol class=list-inline><li>'&lt;= $75,000, Above Poverty'</li><li>'&gt; $75,000'</li><li>'Below Poverty'</li></ol>\n"
      ],
      "text/latex": [
       "\\begin{enumerate*}\n",
       "\\item '<= \\$75,000, Above Poverty'\n",
       "\\item '> \\$75,000'\n",
       "\\item 'Below Poverty'\n",
       "\\end{enumerate*}\n"
      ],
      "text/markdown": [
       "1. '&lt;= $75,000, Above Poverty'\n",
       "2. '&gt; $75,000'\n",
       "3. 'Below Poverty'\n",
       "\n",
       "\n"
      ],
      "text/plain": [
       "[1] \"<= $75,000, Above Poverty\" \"> $75,000\"                \n",
       "[3] \"Below Poverty\"            "
      ]
     },
     "metadata": {},
     "output_type": "display_data"
    },
    {
     "data": {
      "text/html": [
       "<style>\n",
       ".list-inline {list-style: none; margin:0; padding: 0}\n",
       ".list-inline>li {display: inline-block}\n",
       ".list-inline>li:not(:last-child)::after {content: \"\\00b7\"; padding: 0 .5ex}\n",
       "</style>\n",
       "<ol class=list-inline><li><span style=white-space:pre-wrap>'MSA, Not Principle  City'</span></li><li>'MSA, Principle City'</li><li>'Non-MSA'</li></ol>\n"
      ],
      "text/latex": [
       "\\begin{enumerate*}\n",
       "\\item 'MSA, Not Principle  City'\n",
       "\\item 'MSA, Principle City'\n",
       "\\item 'Non-MSA'\n",
       "\\end{enumerate*}\n"
      ],
      "text/markdown": [
       "1. <span style=white-space:pre-wrap>'MSA, Not Principle  City'</span>\n",
       "2. 'MSA, Principle City'\n",
       "3. 'Non-MSA'\n",
       "\n",
       "\n"
      ],
      "text/plain": [
       "[1] \"MSA, Not Principle  City\" \"MSA, Principle City\"     \n",
       "[3] \"Non-MSA\"                 "
      ]
     },
     "metadata": {},
     "output_type": "display_data"
    }
   ],
>>>>>>> 1ce82420c6d375376f7e32f28f696bf4f5adbab6
   "source": [
    "levels(features_set[, \"age_group\"])\n",
    "levels(features_set[, \"age_group\"]) <- 0:4\n",
    "features_set[, \"age_group\"] <- as.numeric(features_set[, \"age_group\"])\n",
    "features_set[, \"age_group\"] <- (features_set[, \"age_group\"] - 1)/4\n",
    "\n",
    "levels(features_set[, \"education\"])\n",
    "levels(features_set[, \"education\"]) <- 0:3\n",
    "features_set[, \"education\"] <- as.numeric(features_set[, \"education\"])\n",
    "features_set[, \"education\"] <- (features_set[, \"education\"] - 1)/3\n",
    "\n",
    "levels(features_set[, \"income_poverty\"])\n",
    "levels(features_set[, \"income_poverty\"]) <- c(1, 2, 0)\n",
    "features_set[, \"income_poverty\"] <- as.numeric(features_set[, \"income_poverty\"])\n",
    "features_set[, \"income_poverty\"] <- (features_set[, \"income_poverty\"] - 1)/2\n",
    "\n",
    "levels(features_set[, \"census_msa\"])\n",
    "levels(features_set[, \"census_msa\"]) <- c(1, 2, 0)\n",
    "features_set[, \"census_msa\"] <- as.numeric(features_set[, \"census_msa\"])\n",
    "features_set[, \"census_msa\"] <- (features_set[, \"census_msa\"] - 1)/2\n"
   ]
  },
  {
   "cell_type": "markdown",
   "metadata": {},
   "source": [
    "### Non negative matrix factorization based imputation"
   ]
  },
  {
   "cell_type": "markdown",
   "metadata": {},
   "source": [
    "Non negative matrix factorization is a procedure which consists of approximating a matrix with non negative values as the product of two matrices having smaller dimensions. More formally, a matrix $M$ of dimension $m\\times n$ is decomposed into two matrices $W$ and $H$ of dimensions $m\\times p$ and $p\\times n$ respectively such that $M \\approx WH$.\n",
    "\n",
    "More details concerning the imputation method can be found here https://www.ncbi.nlm.nih.gov/pmc/articles/PMC8510447/"
   ]
  },
  {
   "cell_type": "markdown",
   "metadata": {},
   "source": [
    "PseudoCode :\n",
    "\n",
    "```pseudocode\n",
    "Consider M of dim m x n having missing values\n",
    "Fix N > 0\n",
    "Normalize M and replace NAs using mean imputation\n",
    "k1 <- floor(max(abs(rank(M) - N/2), 1))\n",
    "kN = min(abs(rX + N/2), m, n)\n",
    "\n",
    "# Compute approximation\n",
    "initialize X array of size kN-k1+1\n",
    "for k in 1...kN-k1+1 do\n",
    "    Compute the nNMF of M on non missing values and store the result in X[k]\n",
    "\n",
    "## Based on all X[k], reconstruct M\n",
    "# Weights based only on non missing values of M\n",
    "initialize d array of size kN-k1+1\n",
    "for k in 1...kN-k1+1 do\n",
    "    Compute d[k] = sum(X_ij - M_ij)/ nb_nonNA\n",
    "\n",
    "# Reconstruct\n",
    "Initialize divisor=0, M_hat of 0 with same dim as M\n",
    "for k in 1...kN-k1+1 do\n",
    "    M_hat += exp(-d[k])*X[k]\n",
    "    denum += exp(-d[k])\n",
    "M_hat <- M_hat/denum\n",
    "```\n",
    "\n",
    "\n",
    "After these steps, M_hat does not contain missing values and the imputation is based on local and global information."
   ]
  },
  {
   "cell_type": "code",
<<<<<<< HEAD
   "execution_count": null,
   "metadata": {},
   "outputs": [],
=======
   "execution_count": 10,
   "metadata": {},
   "outputs": [
    {
     "name": "stderr",
     "output_type": "stream",
     "text": [
      "Loading required package: ggplot2\n",
      "\n",
      "Loading required package: lattice\n",
      "\n"
     ]
    },
    {
     "data": {
      "text/plain": [
       "  h1n1_concern    h1n1_knowledge   behavioral_antiviral_meds\n",
       " Min.   :0.0000   Min.   :0.0000   Min.   :0.00000          \n",
       " 1st Qu.:0.3333   1st Qu.:0.5000   1st Qu.:0.00000          \n",
       " Median :0.6667   Median :0.5000   Median :0.00000          \n",
       " Mean   :0.5403   Mean   :0.6321   Mean   :0.04924          \n",
       " 3rd Qu.:0.6667   3rd Qu.:1.0000   3rd Qu.:0.00000          \n",
       " Max.   :1.0000   Max.   :1.0000   Max.   :1.00000          \n",
       " NA's   :177      NA's   :238      NA's   :150              \n",
       " behavioral_avoidance behavioral_face_mask behavioral_wash_hands\n",
       " Min.   :0.0000       Min.   :0.00000      Min.   :0.0000       \n",
       " 1st Qu.:0.0000       1st Qu.:0.00000      1st Qu.:1.0000       \n",
       " Median :1.0000       Median :0.00000      Median :1.0000       \n",
       " Mean   :0.7277       Mean   :0.06913      Mean   :0.8258       \n",
       " 3rd Qu.:1.0000       3rd Qu.:0.00000      3rd Qu.:1.0000       \n",
       " Max.   :1.0000       Max.   :1.00000      Max.   :1.0000       \n",
       " NA's   :421          NA's   :38           NA's   :82           \n",
       " behavioral_large_gatherings behavioral_outside_home behavioral_touch_face\n",
       " Min.   :0.0000              Min.   :0.0000          Min.   :0.0000       \n",
       " 1st Qu.:0.0000              1st Qu.:0.0000          1st Qu.:0.0000       \n",
       " Median :0.0000              Median :0.0000          Median :1.0000       \n",
       " Mean   :0.3551              Mean   :0.3373          Mean   :0.6805       \n",
       " 3rd Qu.:1.0000              3rd Qu.:1.0000          3rd Qu.:1.0000       \n",
       " Max.   :1.0000              Max.   :1.0000          Max.   :1.0000       \n",
       " NA's   :159                 NA's   :164             NA's   :256          \n",
       " doctor_recc_h1n1 doctor_recc_seasonal chronic_med_condition\n",
       " Min.   :0.000    Min.   :0.000        Min.   :0.0000       \n",
       " 1st Qu.:0.000    1st Qu.:0.000        1st Qu.:0.0000       \n",
       " Median :0.000    Median :0.000        Median :0.0000       \n",
       " Mean   :0.221    Mean   :0.332        Mean   :0.2821       \n",
       " 3rd Qu.:0.000    3rd Qu.:1.000        3rd Qu.:1.0000       \n",
       " Max.   :1.000    Max.   :1.000        Max.   :1.0000       \n",
       " NA's   :4320     NA's   :4320         NA's   :1903         \n",
       " child_under_6_months health_worker    opinion_h1n1_vacc_effective\n",
       " Min.   :0.0000       Min.   :0.0000   Min.   :0.0000             \n",
       " 1st Qu.:0.0000       1st Qu.:0.0000   1st Qu.:0.5000             \n",
       " Median :0.0000       Median :0.0000   Median :0.7500             \n",
       " Mean   :0.0845       Mean   :0.1117   Mean   :0.7119             \n",
       " 3rd Qu.:0.0000       3rd Qu.:0.0000   3rd Qu.:1.0000             \n",
       " Max.   :1.0000       Max.   :1.0000   Max.   :1.0000             \n",
       " NA's   :1633         NA's   :1593     NA's   :789                \n",
       " opinion_h1n1_risk opinion_h1n1_sick_from_vacc opinion_seas_vacc_effective\n",
       " Min.   :0.0000    Min.   :0.0000              Min.   :0.0000             \n",
       " 1st Qu.:0.0000    1st Qu.:0.0000              1st Qu.:0.7500             \n",
       " Median :0.2500    Median :0.2500              Median :0.7500             \n",
       " Mean   :0.3337    Mean   :0.3398              Mean   :0.7564             \n",
       " 3rd Qu.:0.7500    3rd Qu.:0.7500              3rd Qu.:1.0000             \n",
       " Max.   :1.0000    Max.   :1.0000              Max.   :1.0000             \n",
       " NA's   :768       NA's   :770                 NA's   :914                \n",
       " opinion_seas_risk opinion_seas_sick_from_vacc   age_group     \n",
       " Min.   :0.0000    Min.   :0.0000              Min.   :0.0000  \n",
       " 1st Qu.:0.2500    1st Qu.:0.0000              1st Qu.:0.2500  \n",
       " Median :0.2500    Median :0.2500              Median :0.5000  \n",
       " Mean   :0.4285    Mean   :0.2827              Mean   :0.5445  \n",
       " 3rd Qu.:0.7500    3rd Qu.:0.7500              3rd Qu.:1.0000  \n",
       " Max.   :1.0000    Max.   :1.0000              Max.   :1.0000  \n",
       " NA's   :1013      NA's   :1058                                \n",
       "   education      income_poverty    census_msa    household_adults\n",
       " Min.   :0.0000   Min.   :0.000   Min.   :0.000   Min.   :0.0000  \n",
       " 1st Qu.:0.3333   1st Qu.:0.000   1st Qu.:0.000   1st Qu.:0.0000  \n",
       " Median :0.6667   Median :0.000   Median :0.500   Median :0.3333  \n",
       " Mean   :0.6221   Mean   :0.272   Mean   :0.412   Mean   :0.2968  \n",
       " 3rd Qu.:1.0000   3rd Qu.:0.500   3rd Qu.:1.000   3rd Qu.:0.3333  \n",
       " Max.   :1.0000   Max.   :1.000   Max.   :1.000   Max.   :1.0000  \n",
       " NA's   :2814     NA's   :8920                    NA's   :474     \n",
       " household_children\n",
       " Min.   :0.0000    \n",
       " 1st Qu.:0.0000    \n",
       " Median :0.0000    \n",
       " Mean   :0.1797    \n",
       " 3rd Qu.:0.3333    \n",
       " Max.   :1.0000    \n",
       " NA's   :474       "
      ]
     },
     "metadata": {},
     "output_type": "display_data"
    }
   ],
>>>>>>> 1ce82420c6d375376f7e32f28f696bf4f5adbab6
   "source": [
    "library(NMFN)\n",
    "\n",
    "# We work only on the columns of numeric type\n",
    "numeric_variables_idx<-which(sapply(features_set[1,],class)!=\"factor\")\n",
    "numeric_variables_idx <- numeric_variables_idx[-c(1, 16)] # Remove resp ID and health insur\n",
    "\n",
    "# We need to normalize this data to use efficient nNMF\n",
    "library(\"caret\")\n",
    "\n",
    "ss <- preProcess(as.data.frame(features_set[, numeric_variables_idx]), method=c(\"range\"))\n",
    "features_set[,numeric_variables_idx] <- predict(ss, as.data.frame(features_set[, numeric_variables_idx]))\n",
    "summary(features_set[, numeric_variables_idx])\n"
   ]
  },
  {
   "cell_type": "code",
   "execution_count": null,
   "metadata": {},
   "outputs": [],
   "source": [
    "# Define the function that will compute nmf\n",
    "nfm_mult_upd <- function(R, K, missing_idx, maxit=800, eps=2.2204e-16) {\n",
    "    # Using weighted multiplicative rule Zhu 2016\n",
    "    # init random W and H\n",
    "    print(paste(\"[INFO] : NMF with k=\", K))\n",
    "    R <- as.matrix(R)\n",
    "    I <- dim(R)[1]\n",
    "    J <- dim(R)[2]\n",
    "    M <- matrix(1, nrow = dim(R)[1], ncol = dim(R)[2])\n",
    "    M[missing_idx] <- 0\n",
    "    X <- R # Store original R\n",
    "    R <- R*M\n",
    "    W <- matrix(runif(I*K), nrow = I, ncol = K)\n",
    "    H <- matrix(runif(K*J), nrow = K, ncol = J)\n",
    "    \n",
    "    n <- 0\n",
    "    d1 <- 1000\n",
    "    d2 <- 1000\n",
    "    while(n < maxit && !(d1 < eps && d2 < eps)) {\n",
    "        if (n %% 100 == 0) {\n",
    "            print(paste(\"[INFO] : iter\", n, \" Relative error is :\", distance2(X, W%*%H)/distance2(X, R*0)))\n",
    "        }\n",
    "        newH <- H* (t(W) %*% R) / (t(W) %*% W %*% H)\n",
    "        newW <- W*(R %*% t(newH)) / ((W %*% newH) %*% t(newH))\n",
    "        \n",
    "        d1 <- distance2(newH, H)\n",
    "        d2 <- distance2(newW, W)\n",
    "        \n",
    "        H <- newH\n",
    "        W <- newW\n",
    "        n <- n+1\n",
    "    }\n",
    "    \n",
    "    Res <- W%*%H\n",
    "    #Res[missing_idx] <- X[missing_idx]\n",
    "    nmf <- list(\"res\"=Res, \"dst\"=distance2(R, Res)/distance2(R, 0))\n",
    "    return(nmf)\n",
    "}\n"
   ]
  },
  {
   "cell_type": "code",
   "execution_count": null,
   "metadata": {},
   "outputs": [],
   "source": [
    "# 1: initialize by defining N and replace NAs by mean\n",
    "N <- 4\n",
    "\n",
    "replace_na_with_mean_value<-function(vec) {\n",
    "    mean_vec <- mean(as.numeric(vec), na.rm=TRUE)\n",
    "    vec[is.na(vec)]<-mean_vec\n",
    "    vec\n",
    "}\n",
    "\n",
    "X<-data.frame(apply(features_set[, numeric_variables_idx], MARGIN=2, replace_na_with_mean_value))\n",
    "miss_idx = which(is.na(features_set[,numeric_variables_idx]), arr.ind = T)\n",
    "non_miss_idx <- which(!is.na(features_set[,numeric_variables_idx]), arr.ind = T)\n",
    "\n"
   ]
  },
  {
   "cell_type": "code",
   "execution_count": null,
   "metadata": {},
   "outputs": [],
   "source": [
    "# 2: nNMF for k=k1 to K=kN with masking missing values\n",
    "library(Matrix) # For rankMatrix \n",
    "rX <- rankMatrix(X)\n",
    "k1 = floor(max(abs(rX - N/2), 1))\n",
    "kN = min(abs(rX + N/2), dim(X)[1], dim(X)[2])\n",
    "\n",
    "X_hat = array(0, dim = c(kN-k1+1, nrow(X), ncol(X)))\n",
    "dim(X_hat)\n",
    "for (K in k1:kN) {\n",
    "    # compute NMF\n",
    "    nmf <- nfm_mult_upd(X, K, missing_idx = miss_idx, maxit=800)\n",
    "    print(paste(\"Computed nmf, final dist is\", nmf$dst))\n",
    "    X_hat[K-k1+1,,] <- nmf$res\n",
    "}\n"
   ]
  },
  {
   "cell_type": "code",
   "execution_count": null,
   "metadata": {},
   "outputs": [],
   "source": [
    "# 3: weighted reconstruction\n",
    "d = array(0, dim = c(kN-k1+1))\n",
    "for (K in 1:(kN-k1+1)) {\n",
    "    # Reconstruction error based on non missing values\n",
    "    d[K] <- sum(abs(X_hat[K,,][non_miss_idx] - X[non_miss_idx]))/nrow(non_miss_idx)\n",
    "}\n",
    "\n",
    "X_hat_f <- matrix(0, nrow = nrow(X), ncol = ncol(X))\n",
    "denum <- 0\n",
    "for (K in 1:(kN-k1+1)) {\n",
    "    # Reconstruction matrix\n",
    "    X_hat_f <- X_hat_f + exp(-d[K])*X_hat[K,,]\n",
    "    denum <- denum + exp(-d[K])\n",
    "}\n",
    "X_hat_f <- X_hat_f / sum(exp(-d))\n"
   ]
  },
  {
   "cell_type": "code",
   "execution_count": null,
   "metadata": {},
   "outputs": [],
   "source": [
    "summary(X_hat_f[, c(1, 2, 3)])\n",
    "summary(X[, c(1, 2, 3)])"
   ]
  },
  {
   "cell_type": "markdown",
   "metadata": {},
   "source": [
    "We see that we have similar summaries but if we looked at the variances the NNMF would give more realistic results"
   ]
  },
  {
   "cell_type": "code",
   "execution_count": null,
   "metadata": {},
   "outputs": [],
   "source": [
    "# Replace in the feature set\n",
    "X[miss_idx] <- X_hat_f[miss_idx]\n",
    "features_set[, numeric_variables_idx] <- X"
   ]
  },
  {
   "cell_type": "markdown",
   "metadata": {},
   "source": [
    "## Feature engineering\n"
   ]
  },
  {
   "cell_type": "markdown",
   "metadata": {},
   "source": [
    "### Factor variables"
   ]
  },
  {
   "cell_type": "markdown",
   "metadata": {},
   "source": [
    "Now that we managed numerical variabels we can work on encoding the categorical ones which we did not work on yet.\n",
    "\n",
    "Getting back to the columns containing many missing values, we use one hot encoding and create a category \"missing\", considering that not having this piece of information could be meaning something."
   ]
  },
  {
   "cell_type": "code",
   "execution_count": null,
   "metadata": {},
   "outputs": [],
   "source": [
    "useful_nas <- which(sapply(test_set_features, function(x) sum(is.na(x))) > 10000)\n",
    "\n",
    "library(fastDummies)\n",
    "features_set <- dummy_cols(features_set, \n",
    "                           select_columns = names(useful_nas),\n",
    "                           remove_selected_columns = T)\n",
    "\n",
    "## Change NAs to 0 for the new one hot encoded columns\n",
    "replace_na_with_0<-function(vec) {\n",
    "    vec[is.na(vec)]<-0\n",
    "    vec\n",
    "}\n",
    "\n",
    "useful_nas_feat_idx <- c(grep(\"health_insurance_*\", colnames(features_set)))\n",
    "useful_nas_feat_idx <- c(useful_nas_feat_idx, grep(\"employment_industry*\", colnames(features_set)))\n",
    "useful_nas_feat_idx <- c(useful_nas_feat_idx, grep(\"employment_occup*\", colnames(features_set)))\n",
    "\n",
    "features_set[,useful_nas_feat_idx] <- replace_na_with_0(features_set[,useful_nas_feat_idx])"
   ]
  },
  {
   "cell_type": "markdown",
   "metadata": {},
   "source": [
    "The remaining columns will be treated the same."
   ]
  },
  {
   "cell_type": "code",
   "execution_count": null,
   "metadata": {},
   "outputs": [],
   "source": [
    "factor_variables<-which(sapply(features_set[1,],class)==\"factor\")\n",
    "factor_col_names <- colnames(factor_variables)\n",
    "\n",
    "features_set_int_encoded <- dummy_cols(features_set,\n",
    "                                       select_columns = factor_col_names,\n",
    "                                       ignore_na = F,\n",
    "                                       remove_selected_columns = T)\n",
    "\n",
    "\n",
    "features_set_int_encoded <- replace_na_with_0(features_set_int_encoded)\n",
    "\n",
    "tr_set_enc <- features_set_int_encoded[tr_indexes,]\n",
    "ts_set_enc <- features_set_int_encoded[ts_indexes,]\n",
    "\n",
    "summary(features_set_int_encoded)"
   ]
  },
  {
   "cell_type": "markdown",
   "metadata": {},
   "source": [
    "## Feature selection\n"
   ]
  },
  {
   "cell_type": "markdown",
   "metadata": {},
   "source": [
    "PCA was used to select the best features. This technique creates new fewer but more representative features from the current set of features."
   ]
  },
  {
   "cell_type": "code",
   "execution_count": null,
   "metadata": {},
   "outputs": [],
   "source": [
    "training_features <- tr_set_enc[, -c(1)]\n",
    "training_labels <- training_set_labels\n",
    "label_1 <- training_labels[,\"h1n1_vaccine\"]\n",
    "label_2 <- training_labels[, \"seasonal_vaccine\"]\n",
    "labels <- cbind(h1n1_vaccine=label_1, seasonal_vaccine=label_2)\n",
    "\n",
    "testing_features <- ts_set_enc[, -c(1)]\n",
    "feature_set <- rbind(training_features, testing_features)\n",
    "feature_set <- feature_set[, -c(1)] # remove resp id\n",
    "pca <- prcomp(feature_set)\n",
    "summary(pca)\n",
    "\n",
    "pca_feat_set <- pca$x[,1:54]\n",
    "\n",
    "library(\"caret\")\n",
    "\n",
    "ss <- preProcess(as.data.frame(pca_feat_set), method=c(\"range\"))\n",
    "pca_feat_set <- predict(ss, as.data.frame(pca_feat_set))\n",
    "\n",
    "pca_tr_set <- pca_feat_set[1:26707,]\n",
    "pca_ts_set <- pca_feat_set[26708:53415,]\n"
   ]
  },
  {
   "cell_type": "markdown",
   "metadata": {},
   "source": [
    "The choice of the 54 features was made on the basis of the analysis of the pca summary. Indeed, the standard deviations and variances allowed us to conclude that 54 features were sufficient to train a model. The cumulative proportion also shows that after taking 54 features, 95% of the variance of the problem was defined, which seems enough considering the division by tzo."
   ]
  },
  {
   "cell_type": "markdown",
   "metadata": {},
   "source": [
    "# Model selection\n"
   ]
  },
  {
   "cell_type": "markdown",
   "metadata": {},
   "source": [
    "One of the first thing to define is the way in which the models will be compared and evaluated. To fit with the way the Driven Data plateforne is evaluating scores, the ROC and AUC are used to estimate the efficienty of a method. Those two mesures are computed with the following code."
   ]
  },
  {
   "cell_type": "code",
   "execution_count": null,
   "metadata": {},
   "outputs": [],
   "source": [
    "AUCROC <- function(Y_pred, Y, title_of_curve) {\n",
    "    thresholds <- seq(0,0.99,0.05)\n",
    "    FPR <- c()\n",
    "    TPR <- c()\n",
    "\n",
    "    for(threshold in thresholds){\n",
    "      Y_hat <- ifelse(Y_pred > threshold,1,0) \n",
    "      confusion_matrix <- table(Y_hat,Y)\n",
    "\n",
    "      if(dim(confusion_matrix)[1] < 2){ \n",
    "        if(rownames(confusion_matrix) == 0){\n",
    "          confusion_matrix <- rbind(confusion_matrix,c(0,0))\n",
    "          rownames(confusion_matrix)[2] <- 1\n",
    "        }\n",
    "        if(rownames(confusion_matrix) == 1){\n",
    "          confusion_matrix <- rbind(c(0,0),confusion_matrix)\n",
    "          rownames(confusion_matrix)[1] <- 0\n",
    "        }\n",
    "      }\n",
    "\n",
    "      FP <- confusion_matrix[2,1]\n",
    "      TP <- confusion_matrix[2,2]\n",
    "      N_N <- sum(confusion_matrix[,1]) # Total number of 0's\n",
    "      N_P <- sum(confusion_matrix[,2]) # Total number of 1's\n",
    "\n",
    "      FPR <- c(FPR,FP/N_N)\n",
    "      TPR <- c(TPR,TP/N_P)\n",
    "    }\n",
    "    FPR <- c(1, FPR, 0)\n",
    "    TPR <- c(1, TPR, 0)\n",
    "    plot.new()\n",
    "    plot(FPR,TPR)\n",
    "    lines(FPR,TPR,col=\"blue\")\n",
    "    lines(thresholds,thresholds,lty=2)\n",
    "    title(title_of_curve)\n",
    "    AUC <- sum(abs(diff(FPR)) * (head(TPR,-1)+tail(TPR,-1)))/2\n",
    "    return (AUC)\n",
    "}"
   ]
  },
  {
   "cell_type": "markdown",
   "metadata": {},
   "source": [
    "## Model 1\n",
    "First the linear model is going to be used. It is one the fastest model to train and it will give a good idea of the kind of relation that exists between features and labels. The only difference with the model viewed in practicals is that two outputs are predicted at a time, it means that the train set needs to have the two labels."
   ]
  },
  {
   "cell_type": "code",
   "execution_count": null,
   "metadata": {},
   "outputs": [],
   "source": [
    "total_train_set <- cbind(pca_tr_set, labels)"
   ]
  },
  {
   "cell_type": "markdown",
   "metadata": {},
   "source": [
    "Before making the prediction for the given test values, it is important to check that the model fits by doing a cross-validation and calculating the AUC and ROC. First, the cross-validation with the multivariate linear model."
   ]
  },
  {
   "cell_type": "code",
   "execution_count": null,
   "metadata": {},
   "outputs": [],
   "source": [
    "# Separation of the train in two groups in order to calculate the error between prediction and reality.\n",
    "vaccine_idx <- sample(1:nrow(total_train_set))\n",
    "half_split <- floor(nrow(total_train_set)/2)\n",
    "train_data_set <- total_train_set[vaccine_idx[1:half_split],]\n",
    "test_data <- total_train_set[vaccine_idx[(half_split+1):nrow(total_train_set)],]\n",
    "target_idx <- ncol(train_data_set)\n",
    "targets <- c(target_idx, target_idx-1)\n",
    "\n",
    "# Linear model & prediction\n",
    "model <- lm(cbind(h1n1_vaccine, seasonal_vaccine)~., data=train_data_set)\n",
    "Y_pred <- predict(model,test_data[,-targets])"
   ]
  },
  {
   "cell_type": "code",
   "execution_count": null,
   "metadata": {},
   "outputs": [],
   "source": [
    "k = 10\n",
    "accuracy_vec_h1n1 <- array(0,k)\n",
    "accuracy_vec_seasonal <- array(0,k)\n",
    "threshold <- 0.5\n",
    "\n",
    "# 1. Shuffle the dataset randomly.\n",
    "vaccine_idx <- sample(1:nrow(train_data_set))\n",
    "\n",
    "# 2. Split the dataset into k groups\n",
    "max <- ceiling(nrow(train_data_set)/k)\n",
    "splits <- split(vaccine_idx, ceiling(seq_along(vaccine_idx)/max))\n",
    "\n",
    "# 3. For each unique group:\n",
    "for (i in 1:k){\n",
    "  #3.1 Take the group as a hold out or test data set\n",
    "  test_data <- train_data_set[splits[[i]],]\n",
    "  \n",
    "  #3.2 Take the remaining groups as a training data set\n",
    "  train_data <- train_data_set[-splits[[i]],]\n",
    "  print(paste(\"[INFO] - Training set size:\",dim(train_data)[1],\"- Testing set size\",dim(test_data)[1]))\n",
    "  \n",
    "  #3.3 Fit a model on the training set and evaluate it on the test set\n",
    "  model <- lm(cbind(h1n1_vaccine, seasonal_vaccine) ~ ., data=train_data)\n",
    "  Y_pred <- predict(model,test_data[,-targets])\n",
    "  Y_h1n1 <- test_data[,targets[2]]\n",
    "  Y_seasonal <- test_data[,targets[1]]\n",
    "  \n",
    "  #3.4 Store the prediction of the tree (2 is to take only the P(Y=\"spam\"|x))\n",
    "  Y_hat <- ifelse(Y_pred > threshold,1,0) \n",
    "  # Need one confusion matrix for h1n1 and one for seasonal\n",
    "  confusion_matrix_h1n1 <- table(Y_hat[,1],Y_h1n1)\n",
    "  confusion_matrix_seasonal <- table(Y_hat[,2],Y_seasonal)\n",
    "  \n",
    "  #3.5 Retain the evaluation score and discard the model\n",
    "  accuracy_vec_h1n1[i] = (confusion_matrix_h1n1[1,1]+confusion_matrix_h1n1[2,2])/sum(confusion_matrix_h1n1)\n",
    "  misclassification_rate = 1 - accuracy_vec_h1n1[i]\n",
    "  print(paste(\"[INFO] - Misclassification rate h1n1 -\",i,\"fold:\",misclassification_rate))\n",
    "  \n",
    "  accuracy_vec_seasonal[i] = (confusion_matrix_seasonal[1,1]+confusion_matrix_seasonal[2,2])/sum(confusion_matrix_seasonal)\n",
    "  misclassification_rate = 1 - accuracy_vec_seasonal[i]\n",
    "  print(paste(\"[INFO] - Misclassification rate seasonal -\",i,\"fold:\",misclassification_rate))\n",
    "  \n",
    "}\n",
    "\n",
    "#4. Summarize the skill of the model using the sample of model evaluation scores\n",
    "print(paste(\"[INFO] - Mean misclassification rate h1n1:\",1-mean(accuracy_vec_h1n1)))\n",
    "print(paste(\"[INFO] - Mean misclassification rate seasonal:\",1-mean(accuracy_vec_seasonal)))"
   ]
  },
  {
   "cell_type": "markdown",
   "metadata": {},
   "source": [
    "This gives us the misclassification rate for each of the targets. The missclassification rate is not perfect but is enough to decide to use this model for the first try.\n",
    "Then, the ROC and AUC for each of the target."
   ]
  },
  {
   "cell_type": "code",
   "execution_count": null,
   "metadata": {},
   "outputs": [],
   "source": [
    "# ROC for seasonal vaccine\n",
    "\n",
    "AUC_seasonal = AUCROC(Y_pred[,2], test_data[,targets[1]],\"ROC Curve for seasonal vaccine\")\n",
    "\n",
    "# ROC for h1n1 vaccine\n",
    "\n",
    "AUC_h1n1 =  AUCROC(Y_pred[,1], test_data[,targets[2]],\"ROC Curve for h1n1 vaccine\")"
   ]
  },
  {
   "cell_type": "markdown",
   "metadata": {},
   "source": [
    "Now that the linear model is validated, it can be used to predict the outcome with the test set."
   ]
  },
  {
   "cell_type": "code",
   "execution_count": null,
   "metadata": {},
   "outputs": [],
   "source": [
    "model <- lm(cbind(h1n1_vaccine, seasonal_vaccine)~., data=total_train_set)\n",
    "summary(model)\n",
    "Y_pred <- predict(model,pca_ts_set)"
   ]
  },
  {
   "cell_type": "markdown",
   "metadata": {},
   "source": [
    "The summary of the model gives a better understanding of how it works with 26607 lines and 54 features. In reality, the outputs are split in two to present one and then the other. The p-value is a good indicator of the quality of the model and the features selected. Indeed, for the h1n1 vaccine, 32 features have a p-value indicating that they are statistically highly significant. For the seasonal vaccine, 37 features are in this case. The AUC of the seasonal vaccine is indeed higher. In all cases, the summary confirms that the chosen linear model is not the best one but works quite well for this problem."
   ]
  },
  {
   "cell_type": "markdown",
   "metadata": {},
   "source": [
    "## Model 2\n",
    "Then we use the nnet package to make single layer neural network.\n",
    "\n",
    "Let's define a function to compute neural networks effectiveness based on the number of hidden notes using cross-validation."
   ]
  },
  {
   "cell_type": "code",
   "execution_count": null,
   "metadata": {},
   "outputs": [],
   "source": [
    "library(nnet)"
   ]
  },
  {
   "cell_type": "code",
   "execution_count": null,
   "metadata": {},
   "outputs": [],
   "source": [
    "auc_nnet_cross_valid <- function(X, Y, hidden_nodes=10,k=5){\n",
    "    # Targe 0 for h1n1, 1 for seasonal\n",
    "    accuracy_vec <- c()\n",
    "\n",
    "    # 1. Shuffle the dataset randomly.\n",
    "    shuffled_idx <- sample(1:nrow(X))\n",
    "    half_split <- floor(nrow(X)/2)\n",
    "\n",
    "    # 2. Split the dataset into k groups\n",
    "    max <- ceiling(nrow(X)/k)\n",
    "    splits <- split(shuffled_idx, ceiling(seq_along(shuffled_idx)/max))\n",
    "    \n",
    "    # 3. For each unique group:\n",
    "    for (i in 1:k){\n",
    "        #3.1 Take the group as a hold out or test data set\n",
    "        X_test <- X[splits[[i]],]\n",
    "        Y_test <- Y[splits[[i]]]\n",
    "        \n",
    "        #3.2 Take the remaining groups as a training data set\n",
    "        X_train <- X[-splits[[i]],]\n",
    "        Y_train <- Y[-splits[[i]]]\n",
    "        # print(paste(\"[INFO] - Training set size:\",dim(train_data)[1],\"- Testing set size\",dim(test_data)[1]))\n",
    "        \n",
    "        #3.3 Fit a model on the training set and evaluate it on the test set\n",
    "        model <- nnet(x=X,\n",
    "                     y=Y,\n",
    "                     size=hidden_nodes,\n",
    "                     skip=FALSE, maxit=1000,rang=1,MaxNWts=10000,trace=FALSE)\n",
    "        print(paste(\"reached maxit ?\",model$convergence))\n",
    "        Y_pred<-predict(model,X_test)\n",
    "        \n",
    "        #3.4 Retain the evaluation score and discard the model\n",
    "        accuracy_vec[i] <- compute_AUC(Y_pred, Y_test)\n",
    "        break\n",
    "    }\n",
    "    \n",
    "    return(mean(accuracy_vec))\n",
    "}"
   ]
  },
  {
   "cell_type": "code",
   "execution_count": 39,
   "metadata": {},
   "outputs": [
    {
     "name": "stdout",
     "output_type": "stream",
     "text": [
      "[1] \"[INFO] - Testing h= 10\"\n",
      "[1] \"reached maxit ? 0\"\n",
      "[1] \"reached maxit ? 1\"\n",
      "[1] \"[INFO] - Testing h= 20\"\n",
      "[1] \"reached maxit ? 0\"\n",
      "[1] \"reached maxit ? 0\"\n",
      "[1] \"[INFO] - Testing h= 30\"\n",
      "[1] \"reached maxit ? 0\"\n",
      "[1] \"reached maxit ? 0\"\n",
      "[1] \"[INFO] - Testing h= 40\"\n",
      "[1] \"reached maxit ? 0\"\n",
      "[1] \"reached maxit ? 1\"\n"
     ]
    },
    {
     "data": {
      "image/png": "iVBORw0KGgoAAAANSUhEUgAAA0gAAANICAMAAADKOT/pAAADAFBMVEUAAAABAQECAgIDAwME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",
      "text/plain": [
       "Plot with title “h1n1 estimation”"
      ]
     },
     "metadata": {
      "image/png": {
       "height": 420,
       "width": 420
      }
     },
     "output_type": "display_data"
    },
    {
     "data": {
      "image/png": "iVBORw0KGgoAAAANSUhEUgAAA0gAAANICAMAAADKOT/pAAADAFBMVEUAAAABAQECAgIDAwME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\nARBASAAEEBIAAYQEQAAhARBASAAE/h92aElLO95g+gAAAABJRU5ErkJggg==",
      "text/plain": [
       "Plot with title “seasonal estimation”"
      ]
     },
     "metadata": {
      "image/png": {
       "height": 420,
       "width": 420
      }
     },
     "output_type": "display_data"
    }
   ],
   "source": [
    "label_1 <- training_set_labels[,\"h1n1_vaccine\"]\n",
    "label_2 <- training_set_labels[, \"seasonal_vaccine\"]\n",
    "labels <- cbind(h1n1_vaccine=label_1, seasonal_vaccine=label_2)\n",
    "\n",
    "\n",
    "k <- 2\n",
    "\n",
    "hidden_nodes_vec <- seq(10, 40, 10)\n",
    "\n",
    "results_h1n1 <- c()\n",
    "results_season <- c()\n",
    "\n",
    "for(hidden_nodes in hidden_nodes_vec){\n",
    "    print(paste(\"[INFO] - Testing h=\",hidden_nodes))\n",
    "    results_h1n1 <- c(results_h1n1, auc_nnet_cross_valid(pca_tr_set, label_1, hidden_nodes=hidden_nodes,k=k))\n",
    "    results_season <- c(results_season, auc_nnet_cross_valid(pca_tr_set, label_2, hidden_nodes=hidden_nodes,k=k))\n",
    "}\n",
    "# mean(AUC) according to the nb of hidden nodes \n",
    "plot(hidden_nodes_vec, results_h1n1, xlab=\"Number of hidden nodes\", ylab=\"AUCROC\", main=\"h1n1 estimation\")\n",
    "lines(hidden_nodes_vec, results_h1n1)\n",
    "\n",
    "plot.new()\n",
    "\n",
    "plot(hidden_nodes_vec, results_season, xlab=\"Number of hidden nodes\", ylab=\"AUCROC\", main=\"seasonal estimation\")\n",
    "lines(hidden_nodes_vec, results_season)"
   ]
  },
  {
   "cell_type": "markdown",
   "metadata": {},
   "source": [
    "We see that the results are much better when predicting the seasonal vaccines."
   ]
  },
  {
   "cell_type": "code",
   "execution_count": 27,
   "metadata": {},
   "outputs": [],
   "source": [
    "# Rename for the following\n",
    "h1n1_nnet_pca <- results_h1n1\n",
    "seasonal_nnet_pca <- results_season"
   ]
  },
  {
   "cell_type": "markdown",
   "metadata": {},
   "source": [
    "# Model 3"
   ]
  },
  {
   "cell_type": "markdown",
   "metadata": {},
   "source": [
    "The third model chosen is the SVM (Support Vector Machine), using the e1071 package. This method has usually good results even for data sets with many dimensions, which will be practical with the 54 features set selected by the PCA. The kernel and its parameters are also easily modular which allows us to test multiple combinations in order to find the one with the better results. The fact that the kernel can take other types then the linear one (polynomial, sigmoid or radial) also allows to evaluate efficiently data that are difficult to separate."
   ]
  },
  {
   "cell_type": "code",
   "execution_count": 30,
   "metadata": {},
   "outputs": [],
   "source": [
    "library(\"e1071\")\n",
    "\n",
    "#prediction for H1N1 column\n",
    "model_svm1 = svm(label_1 ~ ., data = pca_tr_set, kernel = \"radial\", cost = 0.1, scale = FALSE)\n",
    "Y_pred1 <- predict(model_svm1,pca_ts_set)\n",
    "ss <- preProcess(as.data.frame(Y_pred1), method=c(\"range\"))\n",
    "Y_pred1 <- predict(ss, as.data.frame(Y_pred1))\n",
    "\n",
    "#prediction for Seasonal Flu column\n",
    "model_svm2 = svm(label_2 ~ ., data = pca_tr_set, kernel = \"radial\", cost = 0.1, scale = FALSE)\n",
    "Y_pred2 <- predict(model_svm2,pca_ts_set)\n",
    "ss <- preProcess(as.data.frame(Y_pred2), method=c(\"range\"))\n",
    "Y_pred2 <- predict(ss, as.data.frame(Y_pred2))\n",
    "\n",
    "final_pred_SVM <- cbind(testing_features[, c(1)], Y_pred1, Y_pred2)\n",
    "write.csv(final_pred_SVM, \"test_submission_SVM.csv\", row.names = F)"
   ]
  },
  {
   "cell_type": "markdown",
   "metadata": {},
   "source": [
    "The function \"svm()\" can take a large amount of  different arguments,like the kernel type and its parameters. The arguments chosen in the code were selected after testing multiple combinations by computing their ROC and the AUC. Those results are shown in the following table. If some parameters are not specified hereunder, it means that the default values were used. Some values of the AUC for the \"seasonal flue vaccines\" are also missing because in view of the bad results of the \"H1N1\" column for this line, it was not deemed necessary to compute it."
   ]
  },
  {
   "cell_type": "markdown",
   "metadata": {},
   "source": [
    "| cost   | kernel       | gamma | coef0 | AUC H1N1 | AUC Flue |\n",
    "|--------|--------------|-------|-------|----------|----------|\n",
    "|0,00001 | linear       |       |       |   0,804  |   0,738  |\n",
    "|0,00001 | polynomial 2 |       |       |   0,804  |   0,739  |\n",
    "|0,00001 | polynomial 3 |       |       |   0,840  |   0,732  |\n",
    "|0,00001 | polynomial 3 | 0,0001|   5   |   0,812  |   0,732  |\n",
    "|0,000001| polynomial 3 |       |       |   0,813  |          |\n",
    "|0,00001 | polynomial 4 |       |       |   0,811  |   0,725  |\n",
    "|0,1     | polynomial 3 |       |       |   0,849  |   0,729  |\n",
    "|0,01    | polynomial 3 |       |       |   0,844  |          |\n",
    "|10      | polynomial 3 |       |       |   0,840  |   0,732  |\n",
    "|1       | polynomial 3 |       |       |   0,849  |   0,739  |\n",
    "|0,01    | radial       |       |       |   0,849  |   0,735  |\n",
    "|0,1     | radial       |       |       |   0,849  |   0,741  |\n",
    "|1       | radial       |       |       |   0,839  |   0,733  |\n",
    "|10      | radial       |       |       |   0,842  |   0,733  |\n",
    "|100     | radial       |       |       |   0,849  |   0,730  |\n",
    "|0,01    | sigmoid      |       |       |   0,848  |   0,736  |\n",
    "|0,1     | sigmoid      |       |       |   0,849  |   0,740  |\n",
    "|1       | sigmoid      |       |       |   0,839  |   0,734  |\n",
    "|10      | sigmoid      |       |       |   0,838  |   0,731  |"
   ]
  },
  {
   "cell_type": "markdown",
   "metadata": {},
   "source": [
    "It can be deduced from the above table that this method generally gives better estimation for the H1N1 column than for the other."
   ]
  },
  {
   "cell_type": "markdown",
   "metadata": {},
   "source": [
    "# Alternative models\n",
    "\n",
    "\n",
    "As an alternative model we chose to change or feature selection method. We tried to impplement multivariate neural networks but the computation times were so high we did not consider it interesting for our purposes.\n"
   ]
  },
  {
   "cell_type": "markdown",
   "metadata": {},
   "source": [
    "## MRMR"
   ]
  },
  {
   "cell_type": "markdown",
   "metadata": {},
   "source": [
    "The MRMR features selection method is chosen as an alternative to the PCA, to implement a method without using a library contained in the guidelines' list. This selection is the Minimum redundancy maximal relevancy filter (MRMR). It allows to have less features than the PCA but with a prediction that is normally just as good, maybe even better."
   ]
  },
  {
   "cell_type": "code",
   "execution_count": 2,
   "metadata": {},
   "outputs": [
    {
     "ename": "ERROR",
     "evalue": "Error in eval(expr, envir, enclos): object 'ts_set_enc' not found\n",
     "output_type": "error",
     "traceback": [
      "Error in eval(expr, envir, enclos): object 'ts_set_enc' not found\nTraceback:\n"
     ]
    }
   ],
   "source": [
    "#install.packages(praznik)\n",
    "library(praznik)\n",
    "\n",
    "test_set <- ts_set_enc\n",
    "\n",
    "\n",
    "X <- tr_set_enc\n",
    "Y <- read.csv(\"training_set_labels.csv\")\n",
    "summary(Y)\n",
    "\n",
    "results <- MRMR(X[, -c(1)], Y[, c(2)], 40, positive = T) # arbitrary number of cols to keep for h1n1\n",
    "results$selection\n",
    "results$score\n",
    "\n",
    "results <- MRMR(X[, -c(1)], Y[, c(3)], 40, positive = T) # arbitrary number of cols to keep for seasonal\n",
    "results$selection\n",
    "results$score\n",
    "\n",
    "features_to_keep = c(3,6,7,10,11,12,13,14,15,16,17,19,20,22,28,29,30,32,36,38,41,45,46,47,55,56,66,67,70,72,77,80,87,91,94)\n",
    "\n",
    "mrmr_tr_set <- X[, features_to_keep]\n",
    "mrmr_ts_set <- test_set[, features_to_keep]"
   ]
  },
  {
   "cell_type": "markdown",
   "metadata": {},
   "source": [
    "The selection of features is made for one output and then the other. It remained to choose which features to keep from all those that emerged. 19 features were common to both labels so they were kept. For the h1n1_vaccine label, 8 additional features were selected but only 7 had a sufficient score to be considered interesting. For seasonal_vaccine, 13 additional features and 9 are interesting. In total there will be 35 features for both outputs. This is less than with the PCA."
   ]
  },
  {
   "cell_type": "markdown",
   "metadata": {},
   "source": [
    "### Linear model with MRMR"
   ]
  },
  {
   "cell_type": "markdown",
   "metadata": {},
   "source": [
    "The steps are the same than with PCA, only the results will eventually change."
   ]
  },
  {
   "cell_type": "code",
   "execution_count": 33,
   "metadata": {},
   "outputs": [],
   "source": [
    "total_train_set <- cbind(mrmr_tr_set, labels)"
   ]
  },
  {
   "cell_type": "code",
   "execution_count": 34,
   "metadata": {},
   "outputs": [],
   "source": [
    "# Separation of the train in two groups in order to calculate the error between prediction and reality.\n",
    "vaccine_idx <- sample(1:nrow(total_train_set))\n",
    "half_split <- floor(nrow(total_train_set)/2)\n",
    "train_data_set <- total_train_set[vaccine_idx[1:half_split],]\n",
    "test_data <- total_train_set[vaccine_idx[(half_split+1):nrow(total_train_set)],]\n",
    "target_idx <- ncol(train_data_set)\n",
    "targets <- c(target_idx, target_idx-1)\n",
    "\n",
    "# Linear model & prediction\n",
    "model <- lm(cbind(h1n1_vaccine, seasonal_vaccine)~., data=train_data_set)\n",
    "Y_pred <- predict(model,test_data[,-targets])"
   ]
  },
  {
   "cell_type": "code",
   "execution_count": 35,
   "metadata": {},
   "outputs": [
    {
     "name": "stdout",
     "output_type": "stream",
     "text": [
      "[1] \"[INFO] - Training set size: 12017 - Testing set size 1336\"\n",
      "[1] \"[INFO] - Misclassification rate h1n1 - 1 fold: 0.160928143712575\"\n",
      "[1] \"[INFO] - Misclassification rate seasonal - 1 fold: 0.23877245508982\"\n",
      "[1] \"[INFO] - Training set size: 12017 - Testing set size 1336\"\n",
      "[1] \"[INFO] - Misclassification rate h1n1 - 2 fold: 0.158682634730539\"\n",
      "[1] \"[INFO] - Misclassification rate seasonal - 2 fold: 0.226047904191617\"\n",
      "[1] \"[INFO] - Training set size: 12017 - Testing set size 1336\"\n",
      "[1] \"[INFO] - Misclassification rate h1n1 - 3 fold: 0.159431137724551\"\n",
      "[1] \"[INFO] - Misclassification rate seasonal - 3 fold: 0.220059880239521\"\n",
      "[1] \"[INFO] - Training set size: 12017 - Testing set size 1336\"\n",
      "[1] \"[INFO] - Misclassification rate h1n1 - 4 fold: 0.154191616766467\"\n",
      "[1] \"[INFO] - Misclassification rate seasonal - 4 fold: 0.236526946107784\"\n",
      "[1] \"[INFO] - Training set size: 12017 - Testing set size 1336\"\n",
      "[1] \"[INFO] - Misclassification rate h1n1 - 5 fold: 0.151946107784431\"\n",
      "[1] \"[INFO] - Misclassification rate seasonal - 5 fold: 0.235029940119761\"\n",
      "[1] \"[INFO] - Training set size: 12017 - Testing set size 1336\"\n",
      "[1] \"[INFO] - Misclassification rate h1n1 - 6 fold: 0.163922155688623\"\n",
      "[1] \"[INFO] - Misclassification rate seasonal - 6 fold: 0.214820359281437\"\n",
      "[1] \"[INFO] - Training set size: 12017 - Testing set size 1336\"\n",
      "[1] \"[INFO] - Misclassification rate h1n1 - 7 fold: 0.151197604790419\"\n",
      "[1] \"[INFO] - Misclassification rate seasonal - 7 fold: 0.249251497005988\"\n",
      "[1] \"[INFO] - Training set size: 12017 - Testing set size 1336\"\n",
      "[1] \"[INFO] - Misclassification rate h1n1 - 8 fold: 0.153443113772455\"\n",
      "[1] \"[INFO] - Misclassification rate seasonal - 8 fold: 0.217065868263473\"\n",
      "[1] \"[INFO] - Training set size: 12017 - Testing set size 1336\"\n",
      "[1] \"[INFO] - Misclassification rate h1n1 - 9 fold: 0.134730538922156\"\n",
      "[1] \"[INFO] - Misclassification rate seasonal - 9 fold: 0.217814371257485\"\n",
      "[1] \"[INFO] - Training set size: 12024 - Testing set size 1329\"\n",
      "[1] \"[INFO] - Misclassification rate h1n1 - 10 fold: 0.153498871331828\"\n",
      "[1] \"[INFO] - Misclassification rate seasonal - 10 fold: 0.244544770504138\"\n",
      "[1] \"[INFO] - Mean misclassification rate h1n1: 0.154197192522404\"\n",
      "[1] \"[INFO] - Mean misclassification rate seasonal: 0.229993399206103\"\n"
     ]
    }
   ],
   "source": [
    "k = 10\n",
    "accuracy_vec_h1n1 <- array(0,k)\n",
    "accuracy_vec_seasonal <- array(0,k)\n",
    "threshold <- 0.5\n",
    "\n",
    "# 1. Shuffle the dataset randomly.\n",
    "vaccine_idx <- sample(1:nrow(train_data_set))\n",
    "\n",
    "# 2. Split the dataset into k groups\n",
    "max <- ceiling(nrow(train_data_set)/k)\n",
    "splits <- split(vaccine_idx, ceiling(seq_along(vaccine_idx)/max))\n",
    "\n",
    "# 3. For each unique group:\n",
    "for (i in 1:k){\n",
    "  #3.1 Take the group as a hold out or test data set\n",
    "  test_data <- train_data_set[splits[[i]],]\n",
    "  \n",
    "  #3.2 Take the remaining groups as a training data set\n",
    "  train_data <- train_data_set[-splits[[i]],]\n",
    "  print(paste(\"[INFO] - Training set size:\",dim(train_data)[1],\"- Testing set size\",dim(test_data)[1]))\n",
    "  \n",
    "  #3.3 Fit a model on the training set and evaluate it on the test set\n",
    "  model <- lm(cbind(h1n1_vaccine, seasonal_vaccine) ~ ., data=train_data)\n",
    "  Y_pred <- predict(model,test_data[,-targets])\n",
    "  Y_h1n1 <- test_data[,targets[2]]\n",
    "  Y_seasonal <- test_data[,targets[1]]\n",
    "  \n",
    "  #3.4 Store the prediction of the tree (2 is to take only the P(Y=\"spam\"|x))\n",
    "  Y_hat <- ifelse(Y_pred > threshold,1,0) \n",
    "  # Need one confusion matrix for h1n1 and one for seasonal\n",
    "  confusion_matrix_h1n1 <- table(Y_hat[,1],Y_h1n1)\n",
    "  confusion_matrix_seasonal <- table(Y_hat[,2],Y_seasonal)\n",
    "  \n",
    "  #3.5 Retain the evaluation score and discard the model\n",
    "  accuracy_vec_h1n1[i] = (confusion_matrix_h1n1[1,1]+confusion_matrix_h1n1[2,2])/sum(confusion_matrix_h1n1)\n",
    "  misclassification_rate = 1 - accuracy_vec_h1n1[i]\n",
    "  print(paste(\"[INFO] - Misclassification rate h1n1 -\",i,\"fold:\",misclassification_rate))\n",
    "  \n",
    "  accuracy_vec_seasonal[i] = (confusion_matrix_seasonal[1,1]+confusion_matrix_seasonal[2,2])/sum(confusion_matrix_seasonal)\n",
    "  misclassification_rate = 1 - accuracy_vec_seasonal[i]\n",
    "  print(paste(\"[INFO] - Misclassification rate seasonal -\",i,\"fold:\",misclassification_rate))\n",
    "  \n",
    "}\n",
    "\n",
    "#4. Summarize the skill of the model using the sample of model evaluation scores\n",
    "print(paste(\"[INFO] - Mean misclassification rate h1n1:\",1-mean(accuracy_vec_h1n1)))\n",
    "print(paste(\"[INFO] - Mean misclassification rate seasonal:\",1-mean(accuracy_vec_seasonal)))"
   ]
  },
  {
   "cell_type": "code",
   "execution_count": 37,
   "metadata": {},
   "outputs": [
    {
     "data": {
      "image/png": "iVBORw0KGgoAAAANSUhEUgAAA0gAAANICAIAAAByhViMAAAACXBIWXMAABJ0AAASdAHeZh94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\nIIQdAEAQwg4AIIi/ABE7OzHjEV+TAAAAAElFTkSuQmCC",
      "text/plain": [
       "Plot with title “ROC Curve for seasonal vaccine”"
      ]
     },
     "metadata": {
      "image/png": {
       "height": 420,
       "width": 420
      }
     },
     "output_type": "display_data"
    },
    {
     "name": "stdout",
     "output_type": "stream",
     "text": [
      "[1] \"AUC for h1n1 : 0.856876600102407 AUC for seasonal : 0.835641654978962\"\n"
     ]
    },
    {
     "data": {
      "image/png": "iVBORw0KGgoAAAANSUhEUgAAA0gAAANICAIAAAByhViMAAAACXBIWXMAABJ0AAASdAHeZh94\nAAAgAElEQVR4nOzdeVxN+f8H8PdttZSUlBJlTUmlsqVQ/EgUWcMM2ZdBMxjLTGRfJs3IJEvG\nPsIkYxtbGEl2olWkLJUllRbabvf3x/G9miSV6nPP6fV89Mft3HPPfd1l9JrP+ZxzRBKJhAAA\nAACA/+RYBwAAAACAqoFiBwAAACAQKHYAAAAAAoFiBwAAACAQKHYAAAAAAoFiBwAAACAQKHYA\nAAAAAoFiBwAAACAQKHYAAAAAAoFiBwAAACAQKHYAAAAAAoFiBwAAACAQKHYAAAAAAoFiBwAA\nACAQKHYAAAAAAoFiBwAAACAQKHYAAAAAAoFiBwAAACAQKHYAAAAAAoFiBwAAACAQKHYAAAAA\nAoFiBwAAACAQKHYAAAAAAoFiBwAAACAQKHYAAAAAAoFiBwAAACAQKHYAAAAAAoFiBwAAACAQ\nKHYAAAAAAoFiBwAAACAQKHYAAAAAAoFiBwAAACAQKHYAAAAAAoFiBwAAACAQKHYAAAAAAoFi\nBwAAACAQKHYAAAAAAoFiBwAAACAQKHYAAAAAAoFiB1CVXr58Kfq8evXqmZubL1q06N27d6U+\nPDEx8eeff7aysmrcuLGysrKOjo6dnd369eszMzPLft6wsLBp06a1a9dOTU1NRUWlTZs2Y8eO\nPXnyZEXzV9V2ZE1hYeHy5ctbtWqlpKSkoqKyb9++6n7GrVu3ch+6qqpqJR4uFovFYnHVRqqO\nbda8r3xjAYRPAgBV58WLF+X5765Dhw75+fklHrts2TIlJaVS19fU1AwKCir1GXNyclxdXT/3\nRL17905OTi5P8qrajmzy8fEp/nK2b99e3c+4ZcsW7rlUVFQq+lg/Pz/usRkZGVWVpzq2ycTX\nvLEAtQFG7AAYiIiI2LBhQ/ElU6ZM8fT0zM/PL3X91NTUYcOG7dq1q8TyoqIiBweHAwcOfO6J\nzp8/37t37zdv3pSdp6q2I7OOHz/O3dDQ0Pjuu+/atWvHNk8ZHj58uGrVKtnfJgDIJhQ7gOry\n008/Ff5PQUHBmzdvpKMmRHTs2DHpbX9/f39/f+62kpLSTz/9dO7cufj4+KCgoNGjR3PLi4qK\npk2bFh4eXvwpdu7cefnyZe52/fr1165de+XKlYSEhJMnT3bv3p1bHhMTs2TJkrKjVtV2ZFZS\nUhJ345tvvvH19ZW+KNmRlZUVGRm5fPnybt26SdPK4DaZmzJlCvffVEZGBussADKJ9ZAhgKAU\n3xXr4eHx6Qo9e/bk7lVXV+eWZGVlNWrUiFuooaERFhZW4iHSfU9E1LdvX+nyrKysJk2acMs1\nNTXDw8OLPyovL69z587cvQoKCpmZmZ/LXFXbkWXSIbpSP5TqUKE9hrt37y713+ev2W1aHdsE\nANmHETuAGqWvr8/dEIlE3I3du3dLd3F6eHh069atxEOmTp06YMAA7vbZs2ejoqK42zt27JD2\nyB9//NHMzKz4o5SUlBYtWsTdLiwsvHfv3uciVWI7kydP5iaw29nZFV/5jz/+4JYrKipKFy5b\ntoxb2KZNGyI6cuRIx44dDQ0Ni99Vp06d7Ozs4pvq0KEDd9eQIUOkC+/duzdp0iRLS0sVFZXW\nrVuPHDkyLCzsc6+LM3z4cJFIFBsby/26cuVKkUi0bNky6QoFBQW//vrroEGDWrZsqaamZm1t\nPWXKlIiIiBLbKeNVlIe/v7+ZmVm9evVatGgxYcKExMTE4vdKJJLybKR4hqKiIm9v7/bt29et\nW9fAwGDIkCHS11ihbZbxLOX5UAoKCnbu3GlnZ2dgYFCnTp3mzZt3795948aNJR5IROnp6QsW\nLOjdu7empiZ3VNBvv/1WUFBQ0dVKPXiiQu8MpxLfJQB+YN0sAQTliyN2tra23L3dunXjljg6\nOnJLNDQ03r9/X+pmi//J8fb25ha6uLhwS5SVld++ffvpowoLCx/9T1ZW1ucyV2I7kyZN4h7S\nq1ev4mtu376dW66goCBduHTpUm5h69at9+3bxzVaAwMDiUTy4MED6es6cuSI9CHF9xsePHiQ\nW/jrr7+WenDJ/Pnzi4qKPvfqhg0b9ulDli5dyt17//59U1PTT1dQVFT09PQsvtkyXkWpio/Y\nff/99yW2r6mp+eLFC+nKycnJwf+zcuVK6WolRtekGVq1ajVq1KgS21RWVr53715Ft/mp8n8o\nubm5Xbt2/fTdI6IOHToU/8qdP39eV1f309UMDQ1fvnxZodVKHQqt0Dsjqex3CYAXUOwAqlIZ\nxe7t27fbtm2T3rtz505ueePGjbklPXr0+Nxm8/Ly5OQ+jK+7urpyC6XDRYaGhl+TuRLbqVyx\n09bWlu50llYiCwsLbsnEiROlD9m5cye3sH79+jk5ORKJ5MyZM9K3ztraevz48Z06dZIuWb9+\n/eeixsTEhIaGNm/enFtz7NixoaGhT58+lUgk7969a9mypXQjzZs379Spk7KysnTJjh07yvkq\nPlV8BzoRiUQibW1t6TAtEY0fP77UB544cUK6zueKnXSbOjo6CgoK0iX9+vWr6DZLVc4PZeHC\nhdLNtmvXrmfPntra2tIlS5Ys4R745s0bDQ0NbqGioqKFhUXHjh2lq0lnF5RztbKLXXnemUp/\nlwB4AcUOoCqV83QnM2bM4NYvLCyUNrYJEyaUsWVpNbG3t+eWSBth8Yl3lVCJ7VSu2BGRkpLS\n9OnT/f399+/fz93r5eXF3aWjoyMdLJGeeGXUqFESiaSwsNDY2JhbUrwue3h4SP/Gv3nzpozA\npc6xkz5cTk7ujz/+4BYmJydbWVlxyzU1NdPS0srzKj5VvNh179792bNnEonk8ePHrVq14haa\nmJiU+sByFjsXF5fXr19LJJLU1FRpL2nQoEFFt1mq8nwoEonEyMiIW7J48WLpY/v3788tdHBw\n4JbMmjVL+n5GRERwC4sfgh0dHV3+1b5Y7Mp+Z77+uwQg4zDHDqCmeXh4bNq0SfqrpHxzoaR7\njqTzjaQPLD6hrRKqajvlceDAAT8/v0mTJkn3l7m6unLjWCkpKXfu3CGioqKi4OBg6b1EFBsb\nGx0dTURycnJz586Vbm3+/PncqEx2dvbZs2crGiYwMFD6LBMmTOBu6+jo7Ny5k4uUmpr677//\nludVlG3nzp16enpE1KJFiylTpnALHz16VNHAUkpKSnv27NHU1CSiRo0azZ49m1uemZlZJaek\nKc+HIpFIPD09Dxw4cODAAWmArKysnJwc7nZqaip3Q3oA+OTJk01MTLjbI0eO7Nu3b+vWrVu3\nbs1N3CznamX74jtTTd8lANmh8OVVAKBKrVy5Mj093dfXl4jk5eUbNWrE/QmMj4//3EMKCgqk\n0+2lR7BqaGhwD3z69OnX5Kmq7XyRqqqqdD6flJ6enq2tbUhICBGdOHHC0tLyzp07XB41NbV+\n/foRkXTye1FRkbq6eqkbL3WCfBny8/Ol1ar48RlEZGJi0qZNm7i4OCKKiYkpkbnUV1GGunXr\ncsdbcKR7GwsLCysUuDg9PT0VFRXpr9KvxFdutvj2v/ihiESikSNHFhYWXr9+ffPmzREREXFx\ncbGxsXl5ecU3lZubK/1e9ejRo/hdxXeJlnO18iQv+52pju8SgEzBiB1AdSm+o0csFsfHx/ft\n25e7a9OmTdIp6tIdf1FRUZ87QXFERIT0D7Z0fencuISEhFIfmJmZuel/YmJiPpezqrbzRVpa\nWqUul457cdcuk/4hHzJkCDfj7cmTJ1/ceFpaWoXCJCUlSd/Spk2blriXG2AjosePH5e463Ov\n4nPk5eWL/1p8ml2lSXffV+E2S/jih0JE4eHhZmZmNjY2S5YsCQwMzMnJGTx4sHRXLIebzsjd\nLuOtK+dqX/TFd6Y6vksAMgUjdgA1QU5OrmXLlsuXL5fu5YmKiuIaVf/+/U+fPk1EqampW7du\nlc40Km7FihXS29KjaHv27MldUCE7O3vfvn3SnYlSZ8+enTlzJnf7xo0bn8v2Ndsp535kzuf6\nx7Bhw2bNmlVYWHjr1q0XL15I3yLppK5mzZpxNxo2bFh8ulhxOjo65U9CRE2bNlVQUOC6XXJy\ncol7pUeASp/6i69CYL74oeTl5Q0dOpQrvq6urhs2bOCOnPjpp59OnTol3U7xz6WM3cTlXO3r\nVcd3CUCmYMQOoOYUP2YwPT2du+Hm5tawYUPu9vLly2/dulXiUX/88cfff//N3e7Tp490+tGk\nSZO4uUREtGrVqhLtpKCgYN26ddxtFRWV4gcYllCJ7UhHoUr8DU5JSfncs5RBU1OTG8uUSCQH\nDx68evUqt9De3p5bQTqmmJmZaW5u3r2Ytm3bchOwiu90Kw8lJSXpcQxHjhwpfld0dPTDhw+5\n2+3bt6/EKxKAL34o9+7dkw5nLl++XPrdLnEKQFVVVekZTKRXN+E4Ozt36NChQ4cOhw8fLudq\nX/+6quO7BCBTUOwAak7x86xK55g3aNBAepqx1NRUGxubZcuWhYSEPH369MSJE2PHjpUegqqk\npCTtWESkpqbm6enJ3X78+HHnzp337dv3+PHj1NTU4OBgOzs7aUccP3588VM/lFCJ7UhPsxwV\nFXX06FHu9vnz5729vSv3zkh3/K1YsYJ7l4YPHy7NbGRk1KJFCyIqKioqflmzXbt2aWlpNWnS\nRFdXtzy72EqQTq3bv3//nj17uNsvXrxwc3MrKioiooYNG0qvFFILlf2hZGZmSteUnmfxxIkT\n3K7b4qQzEHx9fe/evcvdDggIOH78eGRkZGRkJHd2lXKu9pWq6bsEIENq/kBcAAEr+wTF3Hx8\nzi+//FL8Ljc3t7L/UxWJRP7+/iU2WFBQIJ1y9zkWFha5ubllx67odi5cuFD8riZNmpSYh/65\nExR/LkBWVlbdunWLb+HSpUvFVyg+WmNubj5+/HgrKyvphKrJkyeX/QJLPd1JTk6OgYGBdLOt\nWrWytrYuHqP4G16eV1Hc5y4pVuoZYYorz+lOSmSQHq9KRMXPe1yebZah7A/lxYsXxSe0mZmZ\ncdelkC6Rns8lOTlZepUIRUXFzp07F/+yDR8+vEKrlX26k/K8M1/5XQKQcRixA6g50l2u9MnZ\nLnbs2PHTTz99blxNQ0Pj4MGD0qE7KQUFhfPnzzs5OX3uGV1cXI4ePVr8pLulquh27OzsBg0a\nJL33xYsX6enp9evXl07FqygVFZWBAwdKf9XV1bWxsSm+wpAhQzw8PLhdwOHh4Tt37rx16xY3\nrvbtt99u3ry5Ek9ar169I0eOSHe2xsfHh4WFvX//nogUFRU9PDwmTpxYuZcjDGV/KNra2u7u\n7tJf7927FxER0aJFC+k4X2xsbGRkJBHp6Oj8+eef3O7+goKCGzduSMeAO3Xq9Mcff3C3y7na\n16uO7xKA7ECxA6g5jRs3ls512759O/dnjyMSiVatWhUdHT1v3jxzc3N1dXVFRUVtbe0ePXqs\nXbs2Pj5++PDhpW6zQYMGx44dO3/+vJubW8uWLevVq6epqdm9e/cJEyaEhIQEBQVJD/AsW0W3\n89dff61Zs6Zjx47169fX0NBwcXG5efOmubl5Zd8bGj16tPT2iBEjShzeSEQrVqwICQkZM2aM\niYkJdw6RoUOHhoSE7Nmzp8SRp+Vnbm5+586dX375ZeDAgQYGBqqqql26dJk4ceKtW7dWrFhR\nS46TKEPZH8r69es3btxoampav359CwuLOXPm3L17V3p0RWFhobSNOTk5RUVFff/997a2turq\n6jo6Ovb29v7+/teuXSt+yddyrvb1quO7BCAjRJLKXigaAAAAAGQKRuwAAAAABALFDgAAAEAg\nUOwAAAAABALFDgAAAEAgUOwAAAAABALFDgAAAEAgUOwAAAAABALFDgAAAEAgUOwAAAAABALF\nDgAAAEAgUOwAAAAABALFDgAAAEAgUOwAAAAABALFDgAAAEAgUOwAAAAABALFDgAAAEAgUOwA\nAAAABALFDgAAAEAgUOwAAAAABALFDgAAAEAgUOwAAAAABALFDgAAAEAgUOwAAAAABALFDgAA\nAEAgUOwAAAAABALFDgAAAEAgUOwAAAAABALFDgAAAEAgUOwAAAAABALFDgAAAEAgUOwAAAAA\nBALFDgAAAEAgUOwAAAAABALFDgAAAEAgUOwAAAAABALFDgAAAEAgUOwAAAAABALFDgAAAEAg\nFFgH4Id79+4VFhayTgEAAAAyQUFBwczMjHWKUqDYfdmtW7c6derEOgUAAADIkJs3b1pZWbFO\nURKK3Zfl5+cTUV5enpKSEussAAAAwFh+fr6ysjJXD2QN5tgBAAAACASKHQAAAIBAoNgBAAAA\nCASKHQAAAIBAoNgBAAAACASKHQAAAIBAoNgBAAAACARfz2OXmZmZlZUlJyenra0tJ4d6CgAA\nAMC3EbvIyMhx48bp6Oioqanp6enp6uoqKSnp6emNHj36ypUrrNMBAAAAsMSnEbtZs2Zt2rRJ\nIpHo6Oh06dKlUaNGRJSWlvb8+fOAgICAgIBJkyb5+/uzjgkAAADABm+KnZ+fn6+vb79+/das\nWdOxY8cS90ZFRa1YsWL79u1GRkZz5sxhkhAAAACALZFEImGdoVy6d+/+5s2byMhIBYXSy6hE\nIunZs2dRUVFoaGjVPnVYWFj37t1xrVgAAACg/10r9sqVK9bW1qyzlMSbOXaRkZFdu3b9XKsj\nIpFIZGtrGxkZWZOpAAAAAGQHb4qdiYnJ9evXxWJxGetcvXrVxMSkxiIBAAAAyBTeFLsxY8bE\nxsY6OTlFRER8em9cXNyYMWMuXrw4aNCgms8GAAAAIAt4c/DEjBkzIiIitmzZcurUqWbNmunr\n62toaIhEovT09GfPniUkJBCRm5vbvHnzWCcFAAAAYIM3xY6INm/ePHXq1F9++eXcuXPSIyTk\n5eW1tLRGjRo1derUnj17sk0IAAAAsub+/fv79+/n9vh16NBh9OjRpqamrENVF97siuWYm5vv\n37//9evX6enpT58+TUlJyc/PT05O3r9/P1odAAAAlLB27VoLC4urV6+2b9++ffv2V69etbCw\nWLt2Letc1YVPI3bFNWzYsGHDhqxTAAAAgOwKDAz09PT866+/XFxcpAuPHDni6urapk2boUOH\nMsxWTXg2YgcAAABQTqtXr549e3bxVkdELi4us2fPXr16NatU1YqvI3afysjIsLOzI6K7d++W\n/1FFRUUhISGFhYVlrBMVFfW14QAAAKBmZWdn371718/PLz+fkpLo+XNq3Zp0dIiIhgwZ4u3t\nnZOTU79+fdYxq5hwip1YLA4PD6/oo548eTJixIiyi11eXh4RFRQU4MoTAAAAsikvj5KSKCmJ\nnjz5cCMuToHoppOTeWoqEZFIRMuXk4cHEZGGhoZEIsnMzESxk10NGjQIDg6u6KNatGjx6tWr\nstfZunXrtGnT+HLtNQAAAKHKz6fUVEpJocePKTn5PzeePCHuIgbq6qSjQ7q6ZGCgpKBwZtSo\nOs7OJjo6ZGBA0hb36NGjOnXqaGpqMnwt1UQ4xU5RUbF3796sUwAAAMBXKaO9JSZSURFRsfbW\nsiUZG3+4UaK9Ecmlp9998CCkd+/TIpFIurSoqMjHx2fAgAGKioo1/+qqm3CKHQAAAPBFXh69\nefPl9sbVNV1dsrT82OSaNaNyVrJVq1Z16dLlm2++8fb2btKkCRG9ePFi7ty5N27cuHHjRnW+\nPmZQ7AAAAKBa1Ex7K4OhoeGFCxfGjRuno6NjYGBARImJiSYmJhcuXGjbtu3Xbl0modgBAABA\n5XFHLZTobdyNly9ror2VzcLC4t69e+Hh4dyVJ0xMTDp27CgnJ9jTvaHYAQAAwBeU0d5evCDu\n8MLi7W348I/trXlzUmBaN+Tk5CwsLCwsLFiGqCn8KHa+vr6LFy8u58rp6enVGgYAAECQeN3e\ngMOPD8HBweHhw4dbt27Ny8tTVVXV19dnnQgAAICXcnMpORntTbD48fm0bt3ax8fH0dHRwcGh\nZ8+ex48fZ50IAACgXJ49exYREZGZmWlkZGRiYiIvL18DT4r2Vmvx6aPr16+fUI9hAQAA4Xn5\n8uXUqVOPHTtWv359FRWVFy9etG7deuvWrfb29lWyfbQ3+BTPPtVOnTq9e/eOdQoAAIAvyM7O\ntre3r1ev3o0bNywtLUUi0cuXL1etWtW/f/9z58716NGjnNspo72lpBARKSqSpubHM/RaWn5s\ncvr6VCPjgyBDeFbs9u3bxzoCAADAl/n4+GRnZ1+9erVBgwbcEm1t7Y0bN+bn58+cOfP+/fvF\nV0Z7g6rCs2IHAABCVVBQ8ODBg7S0NCMjo8aNG7OO87UOHz48depUaasjovfvKSWFrK2XbN26\n6McfUzMzNbneJm1vSkrUqBHaG3wVFDsAAGAsLy/P09PT19c3JydHXl5eLBZbWVn5+vp26dKF\ndbTPKiqit28pPZ0yM//zI10YHf3TkSPdz579sPDVK8rOJiJSVtYViZaeOaNgakrGxtS3LzVv\nTk2bkp4eaWtTsSuaAlQGih0AALBUVFTk4uJy//59f3////u//1NTU4uJifH29u7Vq9fZs2dt\nbW1rIENOTinNrNS6Jv3hWpqUigo1aPDxR12dFBULGzVK69ZNh1vSuDE1bUpNm5Kqao6qaqtt\n28K6du1aAy8NahsUOwAAYCkgIODy5cvh4eGtWrXilpiamu7evbtOnTpTpkyJjo4WVXAU6/17\nSk//8JOb+59fS12YlkZ5ef/ZQp06pK7+4adu3Q+/GhuXspD70dQkJaWSMUaPPvbu3QFPz78/\neb3H6tWrZ2ZmVqEXBVBOKHYAAMDS/v37x44dK211Up6ennp6bS5dut+2rVnZzaz4QunFSTl1\n6pQsYerqpKNTykJpXWvShKrkOqJz587t2rXr5s2bp0+fLl0YHR09Z86cWbNm1a1btwqeA+AT\nKHYAAMBMYSHFxua3bu3o50fx8fToET19SpmZ3H5PXYkkx87uw5ry8qSmRg0bkpraf3Z6Nm1a\nykLpmgwv9W5pabl9+/apU6f++eefPXv2VFNTu3v37t9//z1w4MDly5cziwVCh2IHAAA1IT+f\nEhPp0aP//CQmUkHBuU2bxG3aUOvW1Lo19er1oaWpqUkGD7Zbv37J4MH2DRpQ/fqsX0DFjRs3\nrmvXrtu3b79582ZmZmb79u0PHDgwaNAg1rlAyFDsAACgiuXn0/Pn9Pjxh5+oKIqOpqdPqbCQ\nlJRIT49atqSWLalnTzI2pn37Fr19e//06ZMlNhIWdvX9+xBnZ0MdHSYvomoYGhp6eXmxTgG1\nCIodAABUXl4eJSV9bG9ck3vyhMRiUlampk3J2Jjatycnpw9lzsCg5O5RPb0RnTp57dq1y83N\nTbowLS1txowZQ4cObdq0aQ2/IgBeQ7EDAIByyc2l+PiP7Y37SUykoqIPFyRt2ZIsLWn48A+3\nW7Qo11nZOnbs6OvrO3ny5L///rtPnz4aGhqRkZG7du3S1tbesmVL9b8sAEFBsQMAgJLS0//T\n3rifhASSSErvcC1bftXTTZs2zcrKauPGjdu2bUtNTTU2Np4zZ87MmTPr1KlTRS8IoLZAsQMA\nqNVKdLioKIqKoowMIirZ4YyNqUMHUlOrlhhWVlZ79uyplk0D1CYodgAAtYW0w0nnwz18SJmZ\nRP/rcMbG5ORE7u7UsiW1bUuqqqwTA0AFodgBALD09OlTLy+vsLCwp0+fGhgY2NjY/Pjjj7q6\nul+52fT0/xzN8PgxPXjw4SpYOjrUvj21bPlxR2q7drw8mQgAfArFDgCAmcuXLzs5ObVr1270\n6NEtWrSIj48PCAjYu3fv6dOnraysyrOFggJ69qzkZLiYGHr3jhQVqVmzD9VN2uGMjQmXPAAQ\nMBQ7AAA2srKyRowYMWbMmN9//13uf6cAmTNnzsSJE4cNGxYTE1PiqlMlTg7H7VGNiyt5cjiu\nwxkbk6EhKeDfeIBaBv/RAwCwcejQIYlE4u3tLVfsxG7y8vK+vr56eq22b79gZDSg+Hy44ieH\n46pbnz4fypy+PsnLM3wpAF/Ly8tLVVV12rRprIPwHoodAAAbt2/f7tGjR506dV6/ptu36e5d\n6YW2VN6+fTl7NjVsSK1aUevW1KULjR5NrVtTmzbUpAnr3ABVSiwWz5gxY9++fUFBQayzCAGK\nHQBATcvIoFu36ObN3q9eNTcwoCdPSFmZTE2pbVuys6PJk2n79oWGhvJbt65inRSgeuXl5X3z\nzTcXLlw4e/Zs9+7dWccRAhQ7AIBql51N4eF0+/aHn9hYkpMjDY2eBQXXPD3J0pKsrEh6Ll6J\nROLp+dewYT8wjQxQ7d6+fevo6JicnBwWFmZoaMg6jkCg2AEAVL2CArp/n0JDPzY5kYgMDcnS\nkqZMIUtLsrSk5OS3RkZDmjbdb2MzrPhjd+3alZKS4uLiwio8QM1ISkpq1KhRYGCgjo4O6yzC\ngWIHAFAFCgooLu7jmNzNm5SfTzo6ZGlJY8dS9+7UsWPJc8W1atVq2bJl3377bVxcnKura/Pm\nzRMSEvbt27dmzRpvb++mTZsyeikANcTY2PjYsWOsUwgNih0AQGUUFtKDBx+b3O3blJv7ocn1\n6UMLFlD37qSh8YWNLFq0SEdHZ/HixT///DO3xMDAYO/evSNHjqz2FwDASF5enrKyMusUgoVi\nBwBQLmIxxcZ+rHF37tD79/9pcl27UuPGFd6sm5ubm5vb06dPnzx50qJFCz09vWrIDiArDh06\n5ObmFhkZ2bJlS9ZZhAnFDgDgs5KT6cqVD1Pl7t6ld+/+0+Q6dyZt7ap5oubNmzdv3rxqtgUg\nq37//fcffvjBw8MDra76oNgBAHyUnPxxTC4sjNLSqGFDat+eLC3J3Z1sbAiTvAEqQSKRLFu2\nbM2aNXv27Bk9ejTrOEKGYgcAtVrxJnftGqWmUoMG1KEDWVrS8OFkaUnGxiQSsU4JwHM//vjj\ntm3bTp482adPH9ZZBA7FDgD4JDk5+fz58zExMerq6h07drS3ty9+Pa7ybeFjk14LPu4AACAA\nSURBVLtxg169IlVVMjVFkwOoRn379h0/fnz79u1ZBxE+FDsA4A0vL6/FixdramqamJi8efNm\nyZIlbdu2PXToUNmnNs3IoMjID1Plbt2iFy9IRYXMzD42OSMjqmA5BICK6du3L+sItQWKHQDw\ng5+f35IlS3bs2DFq1CiRSEREr169mjhx4v/93//dv3+/YcOG0jXfvqWIiI/DctHRpKhIbdqQ\npSUtXEg2NmRuTvLy7F4JQO3w5MmTpKQka2tr1kFqFxQ7AOCBvLw8Dw8PLy+v4tOutbS0AgMD\nTUxMfvlls6PjImmTi4kheXlq2/bjZR46dSKcNgugJt28eXPgwIGDBw9GsathKHYAwAPXr1/P\nyspyc3Pjfs3Jodu36dYtunVLOT39+po16l5eZGJCVlY0axZZWZGpKSkpMU0MUIsFBwcPGTLE\nxcXF19eXdZZaB8UOAHjg5cuX6urqKioqERHk60t//km5udSuHVlZkYND3MWLXo8eHa5bl3VK\nACDas2fPpEmTpk+fvmHDBhEORKpxmDAMADygpqaZlta7R48iU1N68IB27qS3bykyknbtImPj\nC02bPkOrA5AFT548mThx4oYNG3x8fNDqmMCIHQDItJcvadcu2rSpl1jcTSxOCA9vZWb28V6x\nWHzgwIEBAwawCwgAH+nr66ekpGhqarIOUnthxA4AZNTt2zR1KhkYkL8/ffedaPHiLZGRFq9f\nB0tXePfu3fjx41NSUr7//nuGOQGgOLQ6tjBiBwCyJS+Pjh2j336j69fJ3p727KEhQ0heniQS\n9/fvk/r27WtmZtahQ4e0tLRr166pqKicOnVKu6qu2AoAFZeRkfHDDz8sXLiw7DNKQs1AsQMA\nWZGURP7+tGkTFRTQyJH0xx9kZPTxXpFI5OXlNX78+H/++ScmJsbY2HjUqFFDhgypi+l1AOwk\nJSU5ODgQkYaGBussQIRiBwCyIDSUNm6kI0eodWvy8KBJk6h+/dLXNDY2NjY2rtl0AFC66Ojo\n/v376+rqnjhxolGjRqzjABHm2AEAQ5mZtG0bmZiQvT0R0alTFBND7u6fbXUAIDuuXr1qa2vb\nqVOnixcvotXJDozYAQADcXG0aRPt2EEqKjRuHH33HTVrxjoTAFTEtWvXJk6cuGbNGnlcoU+W\noNgBQM0pKqKTJ2njRjp/niwsaNMmGjWKFBVZxwKAivvhhx9YR4BSoNgBQE149Yp27qTNm+nl\nSxo+nO7cIXNz1pkAoOIKCwsVFFAeZBc+GwCoXrdv07ZttHcv6erS9Ok0aRJhNg4AHxUWFk6b\nNi0qKurq1auss8BnodgBQLXgTke3YQNdu0b29rR794fT0QEAH+Xk5IwcOfLGjRsnT55knQXK\ngmIHAFUsOZm2bSM/P8rLI1dX2r79P6ejAwDeef36tZOT0+vXr8PCwlq3bs06DpQFxQ4Aqkzx\n09H9/HNZp6MDAL7Iy8uzsbFRVVUNCwvDVV5kH85jBwBfKyuLtm2jDh2oVy96/55OnaLoaJyO\nDkAgFBUV3d3dL168iFbHCxixA4DKi4ujHTto61ZSViY3Nzp5kpo3Z50JAKqUnJzcjBkzWKeA\n8sKIHQBUWFERBQeTkxO1a0fBwbRuHSUm0tq1aHUAwhESEvLq1SvWKaDCUOwAoAIyMsjHh1q1\nooEDqW5dCgujW7doyhSqU4d1MgCoOuvXr7e3t7937x7rIFBh2BULAOUiPR2djg5Nm0YTJ5Km\nJutMAFDVJBLJwoULN2zYsG/fvv/7v/9jHQcqDMUOAMqSn09Hj5KPD4WFUe/eOB0dgJDl5+e7\nubmdOHHi+PHjffv2ZR0HKgPFDgBKV+J0dNu2kbEx60wAUJ18fHwuXboUGhpqamrKOgtUEubY\nAUBJoaE0YgTp69OBA/Tzz5SURFu3otUBCN/MmTOjo6PR6ngNI3YA8EFWFgUEkK8vRUWRoyOd\nOkW9e5NIxDoWANSUunXr1q1bl3UK+CoYsQMAeviQFi4kfX1avJgcHSkhgY4fpz590OoAhO/a\ntWvTp09nnQKqDIodQO0lPR2doSEFB9PatTgdHUDtcvz48d69e8vjeCgBwa5YAKEpKio6fvz4\nxYsX4+LimjZtamVl9c0339T/7+W9MjJo927asIFSUsjZmUJDydqaVV4AYGPXrl2TJ0+eO3fu\n2rVrWWeBKoMROwBByczM7Nu3r6ura2JioomJyfv375cuXWpiYhIREcGtcOcOTZ1KTZvSL7/Q\nuHH0/DkdOoRWB1DrrFy5cvLkyZs3b0arExiM2AEIyoQJE5KTk2NjY/X19bkl7969c3Nzc3Qc\nvHp11J49dYKDqXt32rWLXFxIAf8AANRWly9fDgoKcnJyYh0Eqhj+XQcQjujo6MOHD9+9e1fa\n6ojo7dt6pqZ/BgW9mTxZbtw4ioyk9u0ZZgQAmXDmzBnWEaBaoNgBCMelS5fatGljbm7+v1/p\n99/p6FEyNFTs1u1C48ant27dwzYhADAkFotxnITgYY4dgHC8ffu2UaNGRBQdTY6O1Ls3EdHZ\nsxQZST16RGVnv2CcDwDYefLkiampqY+PD+sgUL1Q7ACEQ1dX9/Hjt+7uZGZGBQV05w4FBpKd\nHRFRfHx806ZNWQcEADYiIyNtbGy0tbXd3NxYZ4HqhWIHIBD5+fT0qcurV1cPH846coTOnSPp\nZYGePHly/PhxZ2dnpgEBgI1///3XxsamS5cu//zzj5qaGus4UL1Q7ACE4PhxMjKiDRtU+/e/\n9vZt88zM/UVFRdxdN27c6NevX7du3QYPHsw2JADUvJCQEAcHhwkTJhw6dKhOnTqs40C1Q7ED\n4LebN6lHDxo2jAYOpPh4Onmy76JFP06aNEldXd3S0lJHR6dr164WFhZBQUEiXCAMoPbR0dHZ\nsWPHr7/+KieHv/i1Ao6KBeCr58/pp5/ozz9p6FCKjaUWLbjFop9++mnKlClXr159+PBh06ZN\nLS0tW7duzTYqALDSpk2bNm3asE4BNQfFDoB/cnLIy4vWrSNTUwoJoe7dS66gqamJ844C1FoF\nBQXnzp1zdHRkHQQYQLED4JOiItq3j+bPJyUl2rqVvv2WsH8VAIrLysoaNmxYREREYmKikpIS\n6zhQ01DsAHgjOJjmzqXHj2nuXFq4kDANGgBKePny5YABAzIyMkJCQtDqaidMpQTggdhYcnKi\n/v2pa1d69IiWLkWrA4CSHj16ZG1traCgcPXqVcysrbVQ7ABk2ps35O5OHTpQbi7duUNbt5K2\nNutMACCTRowYYWRkdP78+caNG7POAsxgVyyAjMrPp82bydOTdHXp6FHCNGgAKNvJkye1tLRw\nNdhaDsUOQOZIJBQYSAsWUFYWLVtGM2cS/qEGgC/S0dFhHQHYw65YANly4wbZ2tK4cTRiBMXH\nk7s7Wh0AfJaPj8/+/ftZpwAZgmIHICuePaOxY6lbN9LVpehoWruWGjRgnQkAZJVYLJ45c+ai\nRYs0NDRYZwEZgl2xAOxlZ9P69bRuHZmZ0eXLZG3NOhAAyLa8vLyxY8eeO3fuzJkztra2rOOA\nDEGxA2CpsJB27KAlS0hZGSccBoByyczMdHJySkhICA0NNTY2Zh0HZAuKHQAzwcE0Zw49e0YL\nF5K7O05NBwDlEhcXp6ioGBYWpqenxzoLyBwUOwAGYmJo3jw6d47Gj6fgYNLSYh0IAPjDysoq\nODiYdQqQUTh4AqBGpaZ+OOFwfv6HEw6j1QFAeUgkEtYRgAdQ7ABqyPv3tG4dtWpFwcF0/Did\nO0cmJqwzAQBPHDlyRF1dPSUlhXUQkHUodgDVTiKhv/4iY2PauJG8vOj+ferfn3UmAOCPzZs3\njxgxYsGCBTgFMXwRih1A9bp+nWxsyM2NRo6kmBiaMgUnHAaA8pJIJEuXLp09e7afn9+iRYtY\nxwEeQLEDqC5Pn9LYsWRtTU2b4oTDAFAZ8+fP9/b2Pnbs2OTJk1lnAX5AsQOoehkZtHAhGRrS\nw4cUGkqHDpG+PutMAMBDnTt3DgkJ6Y/ZG1BuvD/dydu3bx8+fGhgYKCpqck6CwAVFNDOnbR4\nMamp0Z49NHw460AAwGfD8Y8IVBCfRuzevn3r6enp4uKyZs2arKwsIvL29tbV1e3UqVPjxo27\ndOkSGxvLOiMIXH5+vq+vr4ODg76+voWFxYQJE+7cuSO9NziYLCxo4UKaM4ciItDqAKAykpKS\nIiIiWKcAvuLNiF1aWlrnzp3j4+OJ6O+//75w4cLYsWPnzZvXpk2bXr16JSUlnT59ulu3bg8e\nPNDCacGgerx9+7Zv374JCQljx44dNWpUWlrahQsXunTpsmnTJhubKfPmUXAwjR9PK1dS48as\nswIAP929e9fR0XHw4MGbN29mnQV4iTfFbuXKlfHx8Rs2bBg+fHhwcPDEiRMvXbo0YMCAoKAg\nJSUlIjp9+rSjo6Onpyf+Y4BqMmPGjJycnMjISOn/PPzwww+//XZw2rRMkUhiby+6e5fat2eb\nEQB47MKFCy4uLs7Ozhs3bmSdBfiKN7tiT506ZWdn5+7urqurO3bs2KFDhxYUFKxevZprdUTk\n4OBgb29/+fJltjlBqF68eHHgwIFNmzZJW927d7RuHS1dOrJBA/t+/bzOnUOrA4DKCwwMHDBg\ngJub2+7duxUVFVnHAb7iTbF7+vRp27Ztpb8aGhoSUZs2bYqv07Zt28TExBoOBrXEnTt36tSp\nY2try/3611/Uti39/jtt3EjLlv3z7NletvEAgNcePHjg6uq6bt06Hx8fOTne/GkGGcSbb0/z\n5s3j4uKkv3K3Hz16VHyd+Ph4AwODGg4GtURubm7dunW5f3CDgmjUKJo4keLiaNw4UlGp9/79\ne9YBAYDH2rZtGx8fP3v2bNZBgPd4U+z69+9/8eLFzZs3v379OiAgIDAwUEFBYfHixQUFBdwK\n586dO3funI2NDducIFQtW7ZMS0tLSkq6c4fGjqXly2nZMqpXj4goIiKiVatWrAMCAI+JRCJ9\nnO4SqgJvip2Hh0fLli1nzJihpaU1evRoW1vbLVu2HD161MzMbMaMGYMHD+7fv7+qqurSpUtZ\nJwVhMjMza9eu3cKFGwcNomHD6KefPix/+vTprl27XF1dmaYDAP7JzMycOXPm06dPWQcBQeHN\nUbEaGhq3bt3y8vK6f/9+586d3d3d1dTUXr16tXz58piYGCIyMzPbt29fkyZNWCcFYRKJRBs2\nbHdwUNHSevj994Vicdvs7Ozz58/PmTPHyspq7NixrAMCAJ+kpKT0798/Pz/f09OTdRYQFN4U\nOyJSV1dfvXp18SWLFi2aOnXqgwcP9PX1dXV1WQWD2qCoiPz8rHV0chs1GtCx4wVlZeW8vLw6\ndepMmzZt9erV8vLyrAMCAG/Ex8c7ODg0atQoODgYl02CqsWnYlcqDQ2Nbt26sU4Bwjd3Ll2+\nTGFhdQwNzycnJ8fExGhoaBgZGdWpU4d1NADgk+vXrw8YMMDGxiYgIKBu3bqs44DQ8L7YAdSA\nP/6gTZvo1CkyNCQi0tXVxQgxAFTOP//8M2bMmF9//RUj/VAdhFPsMjIy7OzsiOju3bvlf1R6\nerqHh0dhYWEZ63Bz+KDWOnuWpk0jX1/q3Zt1FADgv2XLlrGOAEImnGInFovDw8NZpwChiYmh\nkSNp3jyaOpV1FAAAgC8RTrFr0KBBcHBwRR+lrq6+adOmstfZunUrrlRWO6WmkrMz2dvTqlWs\nowAAb4nF4pkzZz5+/PjMmTOss4DwCafYKSoq9sauMqg6ubnk7EwNGtCePYQL/ABA5bx//37U\nqFGhoaEnTpxgnQVqBb4Wu8zMzKysLDk5OW1tbVxWD6qcREKTJtGTJ3T9OtWvzzoNAPBTenq6\ns7Pz8+fPQ0ND27VrxzoO1Ao8q0SRkZHjxo3T0dFRU1PT09PT1dVVUlLS09MbPXr0lStXWKcD\n4fD0pKNH6Z9/SE+PdRQA4Kd379517949KysrLCwMrQ5qDJ+K3axZs0xNTffs2SMSibp06eLo\n6Ojo6NipUyeRSBQQEGBjYzN58mTWGUEIDh2iNWto3z4yM2MdBQB4S0FBYdy4cSEhITo6Oqyz\nQC3Cm12xfn5+vr6+/fr1W7NmTceOHUvcGxUVtWLFiu3btxsZGc2ZM4dJQhCGK1do7Fhav54G\nDWIdBQD4TElJacGCBaxTQK3DmxG7P//809DQ8MSJE5+2OiJq3759QECAra1tUFBQzWcDwUhI\noCFD6Ntvyd2ddRQA4KcbN25kZmayTgG1F2+KXWRkZNeuXRUUPjvEKBKJbG1tIyMjazIVCElm\nJjk7k7k5bd7MOgoA8JOPj4+1tfXt27dZB4HaizfFzsTE5Pr162KxuIx1rl69amJiUmORQEgK\nCmjoUBKL6eBB+vz/PgAAlE4ikSxdunT+/Pl79uzhLoMEwARvit2YMWNiY2OdnJwiIiI+vTcu\nLm7MmDEXL14chIlRUCnu7hQeTsePU8OGrKMAAN8UFhZOnjzZ29v76NGjo0ePZh0HajXeDE3M\nmDEjIiJiy5Ytp06datasmb6+voaGhkgkSk9Pf/bsWUJCAhG5ubnNmzePdVLgn/XraedOunCB\nWrViHQUAeGjt2rUnT54MCQkpdRY4QE0SSSQS1hkqIDw8/Jdffjl37lxqaiq3RF5eXktLq1ev\nXlOnTu3Zs2d1POnWrVunTZuWlZWloqJSHdsHtk6epMGDadcuGjOGdRQA4KeMjAyxWNyoUSPW\nQaCG5OfnKysrX7lyxdramnWWkngzYscxNzffv38/EWVkZGRlZSkqKmppaeHKE1Bpd+/SyJG0\nZAlaHQBUXkPM4QCZwddK1LBhw2bNmjVp0gStDiotJYUGDaKBA8nDg3UUAOCbW7du/fzzz6xT\nAJSEVgS11Pv3NHgwNW9Ou3eTSMQ6DQDwyunTp+3s7NLS0lgHASgJxQ5qo6IiGj2aXr+moCBS\nVmadBgB4Ze/evc7OzhMmTPDz82OdBaAkFDuojebPpwsX6Ngx0tJiHQUAeGXt2rUTJkzYsGGD\nj4+PCKP9IHt4dvAEwNfbsYM2bqR//iGczRoAKkQikQQGBh48eHDIkCGsswCUDsUOapdLl2j6\ndNq4kfr0YR0FAPhGJBLdunWLdQqAsmBXLNQisbHk4kKzZ9O0aayjAAAAVAMUO6gt3rwhJyey\ntqa1a1lHAQD+SEpKsrCw2LVrF+sgAOWCYge1Qn4+DRtGqqp08CDJy7NOAwA8ER0d3a1bN1VV\n1cGDB7POAlAuKHYgfBIJTZpEcXF09CjVr886DQDwxLVr13r27GlpaXn69GlcWwL4AsUOhG/5\ncgoMpL//pmbNWEcBAJ4ICQmxt7cfOXJkYGBg3bp1WccBKC8cFQsC99dftHIl/fUXderEOgoA\n8EeDBg1+//33iRMnsg4CUDEodiBkN2+SmxutW0eYHgMAFWJubm5ubs46BUCFYVcsCFZiIjk5\n0ahRNGcO6ygAwAeFhYVhYWGsUwB8FRQ7EKbMTHJ2pnbtCNdyBIDyyMnJGTx48NChQ4uKilhn\nAag87IoFARKLafRoKiigI0dISYl1GgCQea9fv3Zycnr9+vXly5fl5DDkATyGYgcCNHs2XbtG\n166RujrrKAAg8xITEx0cHJSUlC5fvqyrq8s6DsBXwf+XgND89htt306BgdS6NesoAMAHTk5O\n+vr6V65cQasDAcCIHfBYbm7uoUOHbty4kZyc3LZtWzs7O7G47/z5oh07qFcv1uEAgCeOHDmi\nr6+vqKjIOghAFUCxA76KjY11dnZOS0uzs7Nr3rx5eHj4r7+ekUhs5s9X+vZb/AMNAOXVGsP7\nICAodsBL796969+/v5mZ2d69e1VVVYkoJYUsLQuzss4lJOwj+pN1QACQaVu3btXT0xswYADr\nIABVDHPsgJd2796dm5v7559/cq3u/XtycSE9PYVTp7QDAvbHxsayDggAMqqoqOiHH35wd3fH\n0a8gSBixA166ePGik5NT/fr1iUgiofHj6eVLunaNtLUtWrVqdenSpXbt2rHOCAAyJz8/383N\n7cSJE8eOHevbty/rOABVD8UOeCkjI6NNmzbcbQ8POn2awsJIW5uIqHHjxunp6SzDAYBMysrK\nGjx4cGxsbGhoqKmpKes4ANUCxQ54SUdHJzExkYgCA+mXX+jIETI2JiKSSCSJiYk6Ojps4wGA\nDLp9+/a7d+/CwsL09fVZZwGoLih2wEsDBw6cMGHCmTOvxo3TWreOBg78sPzIkSNpaWnYwwIA\nn+rVq9fVq1dZpwCoXpg6Crw0dOjQ9u17OzlJevdOnzOHiEgikRw+fHjChAkLFizAiB0AANRO\nKHbAS/n5cmJxoKpqxokTui1atLCxsdHS0ho9evTs2bOXLVvGOh0AyIrjx4/r6emlpaWxDgJQ\nQ7ArFnjpu+8oOVkhIsIwI+M2d+UJd3d3GxsbjNUBgNT27dunT5/u4eGhoaHBOgtADUGxA/5Z\nt44CAujSJdLVJV1dY2PuuAkAgGLWrVvn4eHh6+s7depU1lkAag6KHfDM6dPk4UF791KnTqyj\nAICs+vHHH/38/IKCgpycnFhnAahRKHbAJ7Gx5OpKP/9Mrq6sowCADDM0NLx48WLnzp1ZBwGo\naSh2wBtpaeTkRPb2tGQJ6ygAINsmTZrEOgIAGzgqFvihsJCGD6f69WnvXsIFHgHgUy9fvoyP\nj2edAoAx/IUEfnB3p3v3KCiI6tdnHQUAZM/9+/ctLCw2bNjAOggAYyh2wAM7dpC/Px0+TC1b\nso4CALLn33//7dGjR7du3by8vFhnAWAMxQ5kXWgoTZ9Ovr7UsyfrKAAge4KCgvr37z9u3LhD\nhw7VqVOHdRwAxnDwBMi0xEQaMoRmzKApU1hHAQDZExERMWLEiHXr1s2dO5d1FgCZgGIHsis7\nm5ydydycsHcFAEplbGx8//59nKUcQAq7YkFGFRXRmDGUl0cHD5IC/gcEAEojLy+PVgdQHIod\nyKiff6Z//6WgIFJXZx0FAGRJVlbW/PnzX79+zToIgCxCsQNZ9NdftH497d9P7duzjgIAsuTl\ny5d2dnZHjx4ViUSsswDIIhQ7kDl37pCbG3l50YABrKMAgCx59OiRtbW1goJCaGiopqYm6zgA\nsgjFDmRLSgoNGkTDh9P337OOAgCy5ObNm9bW1kZGRufPn2/cuDHrOAAyCsUOZEhuLrm4UPPm\ntHUr6ygAIGP27t07dOjQv//+uz6uPwPweTjaEGTIpEmUkkI3bpCyMusoACBjNm7cyDoCAA+g\n2IGsWLuWgoIoJIS0tVlHAQAA4CfsigWZcPo0LV5MO3eSlRXrKAAgG8Ri8ffff+/q6so6CACf\nYMQO2IuJIVdX8vCgkSNZRwEA2ZCbm/vNN99cvHjx6NGjrLMA8AmKHTCWlkbOztS7Ny1ZwjoK\nAMiGjIyMQYMGPXr06OLFi6ampqzjAPAJih2wVFBAw4eTigrt2UM42ygAEFF2dratrS0RXb9+\nXU9Pj3UcAJ7BHDtgyd2d7t+noCDC6QsAgCMSiQYNGnT58mW0OoBKwIgdMOPnR9u307lz1KIF\n6ygAIDPq16+/cuVK1ikA+AojdsDG5cv0ww+0aRP17Mk6CgDIgKioqNzcXNYpAHgPxQ4YSEyk\noUNp5kyaPJl1FACQAZs3bzY3N7958ybrIAC8h12xUO0iIyMPHz4cFRVVt27dDh06DBr0zZAh\nTczNad061skAgDWJRLJs2bJVq1b5+flxx0wAwNfAiB1UL09PTzMzs9OnT2tqaiooKPj7/2Fs\nfDctLevQIVLA/1YA1G5isXjatGnr168/evToZAzgA1QF/GmFauTv7+/l5XX8+HFHR0duycKF\ntGFD3qtXnePjd1haWrKNBwBsLVu27O+//7548WKnTp1YZwEQCIzYQXWRSCQrVqzw9PSUtrq/\n/iJvbwoKUnZ2br169Wq28QCAuenTp4eHh6PVAVQhjNhBdYmPj3/27NnI/10m7M4dcnOj9evJ\n0ZGys0dOnz6dbTwAYE5HR4d1BAChwYgdVJf09HQiaty4MRGJxTR6NI0YQe7uxC18+/atRCJh\nmxAAal54ePj69etZpwAQLBQ7qC66urpElJCQQEQBAfT8+cfDYB8/ftykSRMRLiIGUMsEBwf3\n6NHj4cOHrIMACBaKHVSXpk2bduzY0c/PTyymVavou+9IS4uISCwWb9u2beDAgawDAkCNCgwM\ndHJyGj9+/ObNm1lnARAszLGDarR+/XoHB4eUlN7Png2dO5eI6NWrV999911CQsLhw4dZpwOA\nmuPt7b1gwQJvb293bkIGAFQPFDuoRvb29ocOHR4+3IjoV0fH/e/evXv48GG7du3Onz+Py3sD\n1B4FBQVbtmzZv3//iBEjWGcBEDgUO6he2dlOysq0Y4fFs2eSevXqdejQwdraWk4OcwAAahFF\nRUXMqwOoGSh2UI2ks+tGjOhF1It1HAAAAIHDwAlUo4AAevaMuNl1AFCrpKSkdO/ePTAwkHUQ\ngNoFxQ6qS4mDYQGg9oiNjbW2tiYie3t71lkAahcUO6guBw5guA6gNrpx40aPHj1MTU3PnTun\noaHBOg5A7YJiB9VCLKaVK2nGDAzXAdQuly5dsrOzGzJkSFBQUL169VjHAah1cPAEVAtuuG7e\nPNY5AKBmycvLe3l5zZgxg3UQgFoKxQ6qHobrAGotGxsbGxsb1ikAai/sioWqh+E6gFpFLBZH\nRkayTgEARCh2UOUwXAdQq7x//37o0KH9+vVjHQQAiLArFqochusAao/09HRnZ+fnz5+fP3+e\ndRYAIEKxg6qF4TqA2iMpKal///4SieTy5cu4+jOAjMCuWKhKBw9iuA6gtujdu3fjxo2vXLmC\nVgcgOzBiB1WGG66bPh3DdQC1woEDB4yNjZWUlFgHAYCPUOygyhw8SE+eYLgOoLYwNzdnHQEA\nSsKuWKga0tl12tqsowBAtdm9e3dISAjrFADwWSh2UDUwXAcgbBKJZMGCT074FQAAIABJREFU\nBVOmTMnOzmadBQA+C7tioQoUFdGaNRiuAxCswsLCadOmHTx48OjRow4ODqzjAMBnodhBFThw\ngB4/xnAdgDBlZ2cPHTr0/v37ISEhHTt2ZB0HAMqCYgdfC8N1AML277//vnz5MiwsrEWLFqyz\nAMAXoNjB1zpwgOLjac4c1jkAoHoMHDhw4MCBrFMAQLng4An4KtLhOh0d1lEAAABqPd4Xu1ev\nXt25cycnJ4d1kFrq4EF69AjDdQBCc/r0aWNjYxwAC8A7fCp2T548cXNz27JlC/frrVu3Onbs\nqK2tbWlp2aBBA+5C1GwT1jZFRbR6NX33Henqso4CAFVn9+7dzs7OQ4YMUVFRYZ0FACqGN3Ps\nHj161LVr1zdv3nDnOn/48GGPHj1yc3P79u3bsmXLmJiY48eP37p1KyoqSl1dnXXY2oIbrjtz\nhnUOAKg6Pj4+8+bN8/HxmTFjBussAFBhvCl2ixYtSktL8/f3nzhxIvdrXl7e2bNn+/Tpw61w\n8OBBV1fXJUuW/P7770yT1hYYrgMQngULFmzcuPHgwYNDhgxhnQUAKoM3xe7y5cudO3eeNGkS\n9+v169f79esnbXVENHLkyO3bt1+8eJFRwFoHw3UAwqOpqRkcHNy9e3fWQQCgknhT7N69e9eq\nVSvpr/n5+bqfjBS1aNHixo0bNZurlsJwHYAg/fjjj6wjAMBX4U2xs7Ky+vfffzMzMxs0aEBE\nnTt3vnnzpkQiEYlE3ApFRUVXr17lZuBBdcNwHYBgpKWl5efnN2nShHUQAKgCvDkqdunSpamp\nqf369bt27RoRrVix4vHjxz///LNYLCai3Nzc2bNnR0ZGDh48mHVSYSooKAgMDFywYMGYMWM8\nPZf9/HMOhusABCA6Otrc3HzdunWsgwBA1eDNiF2PHj1279797bffduvWrVmzZgYGBlpaWmvW\nrPH39zcwMIiLi8vMzHRzc/vhhx9YJxWghISEQYMGJSYm2tjY6Onp/fWXKCFBPiJi/Lt3m+rV\nq8c6HQBU0rVr15ycnGxsbFavXs06CwBUDd6M2BGRq6trfHz8nDlzxGLx5cuXHz9+TESpqamR\nkZHW1tZnzpzZuXMn64wClJeX5+jo2KRJk4SEhH/++WfLlm0KCkvc3N7Fx1+ePHky63QAUElH\njx61t7cfOXLk4cOH69atyzoOAFQN3ozYcZo3b+7t7e3t7Z2dnZ2RkVFQUFCvXr3GjRvLyfGp\nofLL/v37X79+fe3aNTU1NSI6dIgePqTTpzWSkw907tzZw8PDyMiIdUYAqJjbt28PGzZs+fLl\nixYtYp0FAKoSz4qdlIqKCk6JXjMuXLgwYMAArtVxB8POmEG6uqSra9WmTZsLFy6g2AHwjomJ\nSVhYWKdOnVgHAYAqxtdiBzUmLS3NxMSEu33kCD16RGfPfrhLW1s7LS2NWTIAqCxlZWW0OgBB\nEk6xy8jIsLOzI6K7d++W/1EJCQldunQpLCwsY528vDwikkgkX5mQp7S1tZ88ecLdXr+e3NxI\nelaEp0+f4hQJAHyRk5Pz66+/uru7cyeNAgBBEk6xE4vF4eHhFX2Uvr7+oUOHyi52J06c8PHx\nkZ4wr7YZMGCAm5tbUlJSQkLTGzdIeoDKmTNnnj9/3rdvX6bpAKBcXr9+7eTk9Pr1a1wBFkDY\nhFPsGjRoEBwcXNFHycnJ9erVq+x14uPjK5lJEFxcXH777TdHR8fGjUOdnVXbtSMiOnPmzDff\nfDN79mx9fX3WAQHgCxITEx0cHJSVlS9fvtyoUSPWcQCgGgmn2CkqKvbu3Zt1CgGSk5M7duzY\nkCELzp+vr6//TZ8+L+Li4pKTk2fNmuXl5cU6HQB8wd27dx0dHU1NTQMDA1VVVVnHAYDqxddi\nl5mZmZWVJScnp62tjXOdVDcNDQ0jI//U1HezZtk+f/7822+/7dGjR4sWLVjnAoAv++233xwc\nHLZt26aoqMg6CwBUO54Vu8jISC8vr7Nnz7548YJbIi8v36RJkx49enz33Xfdu3dnG0+o3ryh\nvXtp1656w4ZNZZ0FACpmz549rCMAQM3hU7GbNWvWpk2bJBKJjo5Oly5duJkiaWlpz58/DwgI\nCAgImDRpkr+/P+uYAvT776SlRS4urHMAAABAmXhT7Pz8/Hx9ffv167dmzZqOHTuWuDcqKmrF\nihXbt283MjKaM2cOk4RClZtLW7aQhwfJy7OOAgDlUFRUtHDhwqysrM2bN7POAgA1jTez0/78\n809DQ8MTJ0582uqIqH379gEBAba2tkFBQTWfTdh27aKCAnJzY50DAMohLy9vzJgx27Ztc3V1\nZZ0FABjgTbGLjIzs2rWrgsJnhxhFIpGtrW1kZGRNphI8iYQ2bqQZMwjXbwOQfdnZ2YMGDbp0\n6dK///7bs2dP1nEAgAHe7Io1MTG5fv26WCyW//wewatXr0ovfgVV4tgxevyYcEJTANmXlZVl\na2ubn59/9epVnGASoNbizYjdmDFjYmNjnZycIiIiPr03Li5uzJgxFy9eHDRoUM1nEzBvb/r2\nW9LRYZ0DAL6ksLCwZ8+eoaGhaHUAtRlvRuxmzJgRERGxZcuWU6dONWvWTF9fX0NDQyQSpaen\nP3v2LCEhgYjc3NzmzZvHOqlw3LxJoaG0ZQvrHABQDurq6j4+PqxTAABjvCl2RLR58+apU6f+\n8ssv586dCw0N5RbKy8traWmNGjVq6tSpmFNStby8yNGRjI1Z5wCAz4uPjzcwMChjjgoA1Cp8\nKnZEZG5uvn//fiLKyMjI+n/27j2g5vvx4/j7dCO6CQmR+33C5tZNaFLud7ItG+aabS5jm13M\nvsNmxjSXuczMbRgSmqQslL6GUEmiuaZllRLS5fz+aD9fM4yczvt8Puf5+Oucz7m9vHfmvLw/\nn8/7k5trbm7u4ODAlSfKQmqq2L5dhIXJzgHg8VauXDlu3LhDhw61b99edhYABkFhxe4+Ozs7\nOzs72SnU7OuvhYuL6NxZdg4AjzFv3ryZM2cGBQXR6gDcp9RihzKVlSW+/158953sHAAepaio\naOLEiWvXrt2+fXvPnj1lxwFgQCh2eIQlS4SdnRg4UHYOAI/y4YcfbtmyZf/+/R06dJCdBYBh\n4eg0PCw/X3z7rZg8WZiby44C4FFGjhx5/PhxWh2Af2LGDg9bv17k5Yk33pCdA8Bj1K9fX3YE\nAAaKGTv8jVYrFiwQ48YJW1vZUQA8ID4+fuXKlbJTADB0FDv8TWioSE4WEybIzgHgAQcOHHB3\nd//vf/8rOwgAQ0exw9989ZUYNkzUqiU7B4D/t337dl9f34CAgGVcBwbAv+EYO/zPyZMiMlIc\nPy47B4D/t2jRoilTpsybN2/KlCmyswBQAIod/ueLL8TLL4tWrWTnACCEEOL27duff/752rVr\n/f39ZWcBoAwUO/zlyhWxZYvYtUt2DgD/r0KFCunp6bJTAFASjrHDX77+WjRpIl5+WXYOAABQ\nWhQ7CCFETo5YtUpMnSo0GtlRAOOWnp7u7e29d+9e2UEAKBLFDkIIsWyZsLISQ4fKzgEYt5SU\nFFdX11u3br300kuyswBQJIodREGBCAoSkyYJCwvZUQAjdvToUVdX16ZNm+7fv79y5cqy4wBQ\nJIodxKZNIjtbvPmm7ByAEYuKiurcuXOvXr127NhRsWJF2XEAKBXFDuLrr8WoUcLOTnYOwIjd\nvn171qxZK1euNDNjsQIApcffIMZu3z5x6pTYulV2DsC4de/evXv37rJTAFA8ip0xSkhICAsL\nO3v2bJUqVXbvDhw4sGq9eszdAvpWXFx86dKlOnXqyA4CQD34OTcuxcXFb7311gsvvLBmzZqc\nnJz9+9Pj4hxiY4edOXNGdjTAuNy9e3fw4MGdO3eWHQSAqjBjZ1w++uijdevWRUREeHl5CSFG\njBDm5oX29vk+Pj7x8fE2NjayAwJGITs7u0+fPikpKaGhobKzAFAVZuyMSFZW1vz585cvX17S\n6q5dExs3iunTzTZt2mRmZrZ06VLZAQGjkJaW5uXldePGjSNHjrRs2VJ2HACqQrEzIlFRURYW\nFn379i25+803om5d4esrypcvP2jQoH379smNBxgJT09PW1vbQ4cO1apVS3YWAGpDsTMiN27c\ncHBwKFlMobBQrFwppkwRJiZCCFGjRo0bN25IzgcYh1WrVu3du7dSpUqygwBQoecqdgUFBfPm\nzdNVFJQ1BweH9PT0goICIcSvv4qbN8XAgX89dOXKFQcHB5nhAKPh6elZvnx52SkAqNNji93R\no0e9vb2rVKliaWnZoUOH8PBwIURubu6iRYtef/31/v37e3t716tXb8aMGXpMi+fi6elZVFS0\nefNmIURwsOjUSZRMGeTl5f30008+Pj6S8wHqtXnz5uPHj8tOAUD9Hn1WbFxcXMeOHYuKioQQ\nlpaWsbGxvr6+4eHh06ZNO3r06IPPbNasmT5iQhdsbW0/+OCD8ePH29ra7trV8513hBAiPT39\ntddeMzc3Hzt2rOyAgApptdqPPvpo3rx5O3bskJ0FgPo9esZu1qxZRUVFkydPzs7Ovn379tmz\nZ9u0adOzZ8+jR49OnDjx9OnT169fv3bt2u3btxMSEvScGM/j/fffnzhxYp8+n6Smip073+zQ\noUOdOnUyMjLCwsK4PCWgc0VFRWPHjv3666937Njh5+cnOw4A9dNotdp/bq1Tp46lpWViYqJG\noynZEhsb26FDh5YtW548eVK/CeVbvnz52LFjc3NzraysZGfRjbffzt6+vWjgwM8dHBzatGnT\ntWtXExNOowF0LC8vb8iQIUePHt21a1fbtm1lxwGgM/fu3StXrtzhw4ddXV1lZ3nYo3fFXr58\nuV+/fvdbnRDihRdeEEI0bdpUT7lQln791e6NN8THH38lOwigZiEhIefOnTt8+HCDBg1kZwFg\nLB49T1NcXGxpafnglgoVKgghzM3N9REKZeniRXHypOjTR3YOQO2GDh169uxZWh0AfWIHnNEJ\nDha1awsXF9k5AACArlHsjE5wsOjTRzywmx2Azuzbt69Dhw4lq0UCgP5R7IxLdrY4eJD9sECZ\nWL9+fc+ePb28vDhqBYAsjz55Qgixf/9+X1/fp9kYGhqq+1woG7t2iYoVhYeH7ByA6ixatGjK\nlClz586dOnWq7CwAjNdji11aWlpaWtrTbISCBAeLXr0EswmAbr333ntff/31hg0bBg8eLDsL\nAKP26GKXkpKi5xzQg/x8sXev+P572TkA1TE1Nd27d2+nTp1kBwFg7B5d7OrXr6/nHNCD/fvF\nvXuiWzfZOQDV+eyzz2RHAAAhnrArVghx9+7d5OTkq1evNmjQoF69eqampnqLhbIQHCy8vYW1\ntewcgCrk5OQUFxfb2dnJDgIA//PYs2JXr15do0YNFxcXPz+/Ro0atWnT5vTp0/pMBt0qLhYh\nIZwPC+hGUlKSi4vLnDlzZAcBgL95dLELDw8fOXJkVlaWu7v7kCFD6tWrd+rUqW7duuXk5Og5\nH3QlNlakp4uePWXnAJTvv//9r6enZ8uWLT/++GPZWQDgbx5d7Er+Gbp58+aDBw9u2rQpKSlp\n4MCB169fX7t2rX7jQWeCg0X79qJ6ddk5AIULCQnp3Llzz549f/7555JrLQKA4Xh0sTtz5syL\nL744aNCgkrvm5uaffvqpECIhIUF/0aBTJRecAPA8YmNj+/fvP3369NWrV5uZPekYZQCQ4tF/\nMaWlpT103n7Dhg2FELdu3dJHKOjauXMiKYliBzyvZs2a7d+/39PTU3YQAHi0x5488dA/Rvm3\nqaJt3y4aNhRNmsjOASictbU1rQ6AIeNasUYhOFj06yc7BKBMd+7c+frrr+/cuSM7CAD8O4qd\n+v3xhzhyhP2wQGlkZmZ6e3t/8803+fn5srMAwL977A7WqKio+ydPPHnjli1bdJ8LurNzp6hS\nRXToIDsHoDRXr1719fXVarUHDx5kIWIAivDYYnfp0qVLly49zUYYuJLzYU2YnAWexalTp3x9\nfZs0abJ9+3YbGxvZcQDgqTy62MXFxek5B8pIXp4IDxdbt8rOASjNzJkzvby8Vq9eXa5cOdlZ\nAOBpPbrYubi46DkHysjevcLUVHTtKjsHoDTBwcEajUZ2CgB4No/eP9ewYcOpU6fqOQrKQnCw\n6N5dlC8vOwegNLQ6AEr06GKXkpKSnp6u5yjQuaIisWcP58MCT0Wr1X744Yfvvfee7CAAUHos\nO6xmUVEiK0v4+srOARi8goKCkSNH7tixY8eOHbKzAEDpUezULDhYeHqKKlVk5wAMW15e3qBB\ng06cOHHgwIE2bdrIjgMApffYYnf37t0///zzad6icuXKussDXdq5U7z1luwQgGHLycnp0qVL\nTk5OdHR03bp1ZccBgOfy2GK3devWrU+3SIZWq9VdHujMyZMiNVX07i07B2DY8vLyWrZsOW/e\nvKpVq8rOAgDP67HFrkqVKg0aNNBnFOhWcLBwcRFMQABPVr169dWrV8tOAQC68dhi17179x9/\n/FGfUaBbJRecAPBIaWlpjo6OrGkCQGW4zpQ6Xb0qTpyg2AGP9sMPPzg7O3OJHQDqQ7FTp+3b\nRY0aonVr2TkAw7No0aJRo0YtXLiwNf+HAFAdljtRp+Bg0b+/YC8T8CCtVjtt2rSgoKD169cP\nHjxYdhwA0L1HF7uxY8e2a9dOz1GgKzdviqgoMWOG7ByAgZkxY8bq1av37dvn4eEhOwsAlIlH\nF7ulS5fqOQee3+3bt48fP56cnJyY2KpcuVYeHuxnB/7G39//zTffrF+/vuwgAFBW2BWrEmvW\nrJk6derNmzednZ0vXfqysDBp5MjQoKAgW1tb2dEAQ+Hi4iI7AgCULSZ11GD16tVvvvnme++9\nd/PmzYSEFEvLfrNmtTl69Gjv3r2LiopkpwNkOnv27JYtW2SnAAA9odgp3u3bt6dOnfrFF19M\nmTKlQoUKEREiP1+89VaT/fv3x8XFbdy4UXZAQJpDhw517NgxLCxMdhAA0BOKneIdOHAgPz9/\nzJgxJXeDg0WXLsLGRtSsWXPIkCHbt2+XGw+QJTg4uFu3bv7+/suXL5edBQD0hGKneJcvX65V\nq5alpWXJ3V9+Eb16/fVQw4YNL1++LC0ZIM/q1asHDRr07rvvBgUFmZjwFx0AY8HJE4pnbW2d\nnZ1dcvvWLXHxonjppb8eysrKsra2lpYMkCQrK2vSpEkrVqwICAiQnQUA9Ipip3hubm5//PFH\ndHS0q6trSooQQpQs5lBUVLRz584BAwbIjQfoX6VKlbKzs83M+PsNgNFhD4XiOTs7+/v7v/76\n65cuXTp/XtjZCXt7UVRUNHny5CtXrowbN052QEACWh0A40SxU4Nly5Y5OTk1a9Zs9uyNFSte\nCwwMbN68+fr163fs2OHo6Cg7HaAPGRkZvXv3Pnz4sOwgACATxU4NrKys9u3bt3r16vx8p3v3\nEtPS0l577bXExEQvLy/Z0QB9SE1NdXd3v3btWuPGjWVnAQCZ2FuhEiYmJoMHD162TAwcKGbP\n9pYdB9Cf06dP+/r6NmnSZNu2bTY2NrLjAIBMzNipyvnzgstgwqgcPHjQ3d29c+fOoaGhtDoA\noNipR36+uHJFNGggOwegR9evX582bdratWvNzc1lZwEA+dgVqx4XLojiYmbsYFwGDRokOwIA\nGBBm7NQjJUVUrCg4Cxaqp9VqMzIyZKcAAENEsVOPkgPsNBrZOYCylJ+f7+/v7+HhITsIABgi\ndsWqx/nzHGAHlbt169bAgQNPnTq1Z88e2VkAwBBR7NQjJUW88ILsEECZuX79up+f3927d2Ni\nYpydnWXHAQBDxK5Y9WCtE6iYVqt1c3OztLQ8dOgQrQ4AHocZO5UoKhIXL7IrFqql0WgWLlzo\n7e1taWkpOwsAGC6KnUpcvCju3aPYQc169eolOwIAGDp2xapESoqwsBBOTrJzADq1c+fOs2fP\nyk4BAIqhhmK3atWqw4cPy04h2fnzom5dYWoqOwegO7NmzRowYEBqaqrsIACgGGoodqNGjVq3\nbp3sFJKx1gnUpKioaNy4cV988cX27du7d+8uOw4AKIYyjrG7cuXKyZMnn/CEixcv7t69u+R2\njx499BLKsKSkUOygEvn5+a+88kpERERYWJibm5vsOACgJMoodvv37x8xYsQTnhAaGhoaGlpy\nW6vV6iOTgUlJEV27yg4B6MKPP/547Nixw4cPN2nSRHYWAFAYZRS7/v37HzhwYM2aNVZWVpMm\nTbKxsXnw0RkzZrRv375fv36y4kmn1YrUVBaxg0qMHDkyICDA3NxcdhAAUB5lFDtra+vvv/++\nR48eY8aM2bhx49q1a93d3e8/OmPGjNatW0+fPl1iQrmuXRO3b7MrFiqh0WhodQBQOko6eWLg\nwIEnT56sW7dup06d3n///YKCAtmJDEVKijA1FXXqyM4BlFZkZGT37t2N8zgKANAhJRU7IYST\nk1N4ePi8efO++uqrdu3aJSQkyE5kEFJSRO3awsJCdg6gVDZv3uzr69uiRQuNRiM7CwAom8KK\nnRBCo9FMnTo1NjY2Pz//pZdeWrhwoexE8nGVWCjX4sWL/f39Z8yYMX/+fNlZAEDxlHGM3T+1\natXq2LFj06ZNe+edd2RnkY9F7KBQM2fO/PLLL9euXevv7y87CwCogVKLnRDC0tIyKCioX79+\ncXFxLi4usuPIlJIihg2THQJ4dpmZmXv27OnKUj0AoCMKLnYlunbtyq8Cu2KhUEuWLJEdAQBU\nRXnH2OEhGRni5k12xUIx7ty5c+fOHdkpAECdFD9jd192dnbnzp2FECdOnHj6VxUXF0dFRRUW\nFj7hOWfOnHnecGXp/Hmh0Yh69WTnAJ5CSkqKj4/PK6+8MmvWLNlZAECF1FPsioqK4uLinvVV\nFy9eHDx48JOLXX5+vjDgK5WlpIjq1UXFirJzAP/m6NGjPXr0aNeu3bvvvis7CwCok3qKnY2N\nTXh4+LO+qm7dun/88ceTn7N8+fKxY8ca7ApbHGAHRQgPD+/fv3///v1XrFjBhSUAoIyop9iZ\nm5sb51kUrHUCwxcdHe3n5zd9+vRPP/3UYP+NBAAqoNRil5OTk5uba2JiUq1aNRMToz4FJCVF\n9OghOwTwRI0aNQoJCfHx8ZEdBABUTmGVKD4+PiAgoHr16ra2tk5OTjVq1LCwsHBycvL39z98\n+LDsdHKkpDBjB0NXpUoVWh0A6IGSil1gYGDLli3Xrl2r0Wjat2/v5+fn5+fXtm1bjUazceNG\nd3f30aNHy86obzk5IiODY+xgiO7evbty5conn5kEANAtxeyKXbJkSVBQkI+Pz5w5c1q3bv3Q\nowkJCbNnz165cmXTpk0nT54sJaEU588LISh2MDhZWVl9+/ZNTU0dMmSItbW17DgAYCwUM2O3\nfv36xo0b79q165+tTgjRvHnzjRs3enh4bNu2Tf/ZJEpJEZUri0qVZOcAHnDt2rXOnTvfuHHj\n8OHDtDoA0CfFFLv4+PgOHTqYmT12ilGj0Xh4eMTHx+szlXQcYAdDk5iY2LFjxwoVKkRFRdWq\nVUt2HAAwLoopdi1atIiNjS0qKnrCc2JiYlq0aKG3SIaARexgaCZOnNiuXbuIiIjKlSvLzgIA\nRkcxxW748OFJSUm9evU6ffr0Px9NTk4ePnx4ZGRknz599J9NIhaxg6HZs2fPli1bypcvLzsI\nABgjxZw8MX78+NOnTy9btiw0NLRWrVrOzs729vYajSYrK+vy5cupqalCiBEjRkydOlV2Ur1K\nSRGvvy47BPAAKh0ASKSYYieEWLp06ZgxY7744ot9+/YdOnSoZKOpqamDg8OwYcPGjBnTqVMn\nuQn17O5dce0au2IhmVar/c9//mNhYcEVYAFAOiUVOyFEq1atNmzYIITIzs7Ozc01Nzd3cHAw\n2itPnD8viovZFQuZCgsLx4wZs3nzZmM7IR0ADJPCit19dnZ2dnZ2slNIdv68sLIS1arJzgFj\nlZeXN2TIkCNHjuzdu9fV1VV2HACAYosdBGudQKqbN2/6+PhkZGQcOXKkAV9EADAMRroTUx1Y\n6wQSZWZm1qlTJzo6mlYHAIaDGTsFS0kRj7oMB6APdevW3bRpk+wUAIC/YcZOwZixg/7dvHlT\ndgQAwGNR7JSqsFBcusQxdtCr9evXOzg4JCUlyQ4CAHg0ip1S/f67KChgxg76s2jRooCAgP/8\n5z9NmjSRnQUA8GgcY6dUKSmiXDnh5CQ7B4yAVqudMWPGwoUL161bN3ToUNlxAACPRbFTqvPn\nRb16wljXZoZevfvuuytWrNi7d6+Xl5fsLACAJ6EXKNX58xxgBz3p16/fkSNHaHUAYPiYsVOq\nlBQOsIOecFUJAFAKZuyUirVOUKZSUlLCwsJkpwAAPBuKnSIVF4vUVHbFoqwcOXKkQ4cOW7du\nlR0EAPBsKHaKdPWquHOHGTuUiZCQkK5du/bu3XvJkiWyswAAng3FTpFSUoSpqXB2lp0DqrNm\nzZr+/fsHBgauXr3azIxjcAFAYfiLW2H2799/8ODBsLDa1tZ9w8Ki/fz8TFjyBDpy/fr1N998\nc+nSpaNGjZKdBQBQGnQCxcjJyenevbuvr++BAwfy8hxNTVMHDx7s5uaWlpYmOxpUwtHRMSsr\ni1YHAMpFsVOM4cOHX7p0KTEx8cCBA40a+Q0e/GJKSooQok+fPsXFxbLTQSUqVqwoOwIAoPQo\ndsoQGxu7Z8+en3/+uUGDBuL/F7GrUaPG9u3bExMTg4ODZQeEUmVmZg4ZMiQuLk52EACADlDs\nlGH//v0vvvhi06ZNS+5euPDXWieOjo5du3aNiIiQGQ6KdfHiRXd397Nnz9asWVN2FgCADlDs\nlOHPP/90dHQsuX35ssjJEY0a/fWQo6Pjn3/+KS0ZFCs+Pt7d3d3R0fHXX3+tWrWq7DgAAB2g\n2CmDo6PjpUuXSm5HRorKlUXjxn89dOnSpWrVqklLBmU6dOiQu7tvXTrOAAAgAElEQVS7u7v7\nL7/8YmtrKzsOAEA3KHbK4Ovre+rUqdjYWCFEZKTo0kWULHJy/vz5yMhIX19fyfmgNElJSZMm\nTVq/fr2FhYXsLAAAnWEdO2Vo0aJFQEDAgAEDfvrpp8hIt+nThRDi1KlTQ4YM8fLy6tatm+yA\nUBjWNAEAVWLGTjGWLVvm4+Pj4THi4kWxYcOopk2btmrVqlmzZps3b5YdDYpx69Yt2REAAGWI\nGTvFKFeu3KpVq+rUub5gwW0PD4fatd/q0KFDq1atZOeCMhQUFLzxxhunT59mZRMAUDGKncKc\nOePYs6f4/PPPZQeBkuTl5Q0aNOjEiRO7d++WnQUAUIbYFaskWq2IjBSdO8vOAUVJT0/v1KnT\n2bNno6Ki2rRpIzsOAKAMMWOnJImJ4vp10aWL7BxQjsLCQnd3d3t7+yNHjrBYHQCoHjN2ShIZ\nKerVE3XqyM4B5TAzM/voo48iIiJodQBgDJixU5KSFeyAZ/Lqq6/KjgAA0BNm7BSjuFhERXGA\nHZ5KWFjY/UuVAACMB8VOMeLixI0bolMn2Tlg8ObMmdOjR48zZ87IDgIA0Dd2xSpGRIRo2lTU\nrCk7BwyYVqudNm1aUFDQ+vXrfXx8ZMcBAOgbxU4xOMAOT5afnx8QEBAWFhYWFubp6Sk7DgBA\nAnbFKkNhoTh0iAPs8CTLly+Pjo4+ePAgrQ4AjBbFThmOHhW5uRxghycZP358UlJS8+bNZQcB\nAEjDrlhliIgQLi6iShXZOWDAzMzMzMz4PxoAjBozdsrAAXZ4pEOHDg0bNkx2CgCAoaDYKUB+\nvoiO5gA7PGz79u3dunVzcHCQHQQAYCgodgoQEyMKCgQHxONBq1evHjJkyLvvvrto0SLZWQAA\nhoIjchQgMlK8+KKwsZGdAwbjk08++fzzz7/77rsRI0bIzgIAMCAUOwWIiOAAO/xNUlJScHCw\nr6+v7CAAAMNCsTN0t2+L//5XfPSR7BwwJJs2bZIdAQBgiDjGztAdPCiEEK6usnNAtoKCgsLC\nQtkpAAAGjWJn6CIjRceOomJF2TkgVWpq6gsvvDB//nzZQQAABo1iZ4jy8/OXLVs2ZMiQ1q1b\nL1uWrNEcSE9Plx0K0pw+fdrDw8PJyWn8+PGyswAADBrFzuCkp6e3b9/+o48+sre3Hzp0TE5O\ng99//7558+aHDh2SHQ0SREREuLu7d+7cOTQ01IZTowEAT8TJEwZn+PDh5cuXP3PmTOXKlXfu\nFJaWIiFh9dSpgX379k1OTra3t5cdEPpz8OBBX1/ft99+e+7cuRqNRnYcAIChY8bOsBw7diwi\nImLt2rWVK1cWQkRGCnd3UaGC6aJFi2xtbVevXi07IPSqbt26mzZtmjdvHq0OAPA0mLEzLDEx\nMU2aNGnUqFHJ3YgIUXIhUHNzc19f35iYGJnhoHdOTk5OTk6yUwAAFIMZO8OSl5dna2tbcruw\nUMTHi/bt/3rIxsbm1q1b0pJBX/Lz87ds2aLVamUHAQAoD8XOsDg7O587d66oqEgIkZUliotF\n1ap/PZSUlOTs7CwzHMpeTk6On5/fO++8c+fOHdlZAADKQ7EzLD4+Pvn5+StXrhRCZGcLIYSd\nnRBCJCQk7N69e8CAAVLToWxdv37dy8srLS3t8OHDFSpUkB0HAKA8FDvDUqlSpXnz5k2aNOmr\nr766ciVPCFGx4r3g4OBu3br17t3bx8dHdkCUlfPnz3t4eFhYWERFRTE1CwAoHU6eMDjjx4+3\ntLScPn16RkaYRrO7WjUrExOTCRMmfP7557KjoQy9+uqrzZo127Rpk6WlpewsAAClotgZotdf\nf93f33/Bgqtz5xYFB4e1atXKrmSPLNRrz549tra2LGsCAHgeFDsDVa5cOXv7eo6OwsvLS3YW\n6APdHQDw/DjGznBlZQl+69Xtyy+//O6772SnAACoB8XOcGVni0qVZIdA2SgqKhozZswnn3zC\neRIAAB1iV6zhys5mxk6d8vPzX3nllYiIiLCwMDc3N9lxAADqQbEzXFlZwt5edgjo2s2bN/38\n/K5du3b48OEmTZrIjgMAUBV2xRouZuxU6cqVK/b29tHR0bQ6AIDOMWNnuDh5QpWaN28eEhIi\nOwUAQJ2YsTNcnDyhJvfu3ZMdAQCgfhQ7w8WMnWps3rzZzs7u999/lx0EAKByFDvDdfMmM3Zq\nsHjxYn9//3fffbdOnTqyswAAVI5j7AzUrVuioIAZO2XTarWzZs2aM2fO2rVr/f39ZccBAKgf\nxc5AZWUJIZixU7Zp06Z99913u3fv9vb2lp0FAGAU2BVroLKzhRDM2Cnbyy+/HB0dTasDAOgN\nM3YGKitLaDQUO2Xz8fGRHQEAYFyYsTNQ2dnCykqYUbyV5uLFizExMbJTAACMFMXOQLHWiRId\nPXq0bdu2a9eulR0EAGCkKHYGitWJFSc8PLxr165+fn7ffPON7CwAACNFsTNQzNgpy9q1a/38\n/MaPH//999+bm5vLjgMAMFIcw2WgmLFTkN9//33kyJHffPPNuHHjZGcBABg1ip2Bys5mxk4x\n6tSpk5aWVqVKFdlBAADGjl2xBiorixk7JaHVAQAMAcXOQDFjZ+CysrJef/315ORk2UEAAPgf\ndsUaKE6eMGRXrlzx9fUVQlRiWhUAYEiYsTNQnDxhsBITE93c3KytrQ8cOFC1alXZcQAA+B+K\nnYFixs4wRUdHu7u7t23bNiIionLlyrLjAADwNxQ7Q1RYKPLymLEzRNHR0aNGjdq8eXP58uVl\nZwEA4GEcY2eIsrOFVsuMnSGaOnWq7AgAADwWM3aGKCtLCMGMnQEpLCyUHQEAgH9HsTNE2dlC\nCGbsDEJhYeGoUaM8PT1lBwEA4N+xK9YQZWUJc3NRsaLsHEYvLy9vyJAhR44c2blzp+wsAAD8\nO+UVuz/++CMrK6t+/fpmZg+Hv3HjRn5+fs2aNaUE06GS1Yk1Gtk5jFtmZmavXr3S0tKio6Mb\nNWokOw4AAP9OSbti4+LiXFxcqlWr1qRJk1q1av3www8PPeHVV191cnKSkk23WOtEurt373bs\n2DE/Pz8mJoZWBwBQCsXM2J0/f75jx4737t3z9va2sLCIiIgYMWJEXl7e+PHjZUfTPVYnls7c\n3HzSpEmvvfaatbW17CwAADwtxRS7mTNn5ufn7969u+RSThkZGa6urlOmTOnatWvjxo1lp9Mx\nip10pqamEyZMkJ0CAIBno5hdsbGxsd26dStpdUKIqlWr7t69W6PRTJs2TW6wssCuWFmioqIy\nMjJkpwAAoJQUU+xu3LhRq1atB7c0atRo6tSpISEhBw8elJWqjDBjJ8X8+fO7dOly8uRJ2UEA\nACglxRQ7FxeX6OjohzZOnz69Vq1a48aNu3fvnpRUOpeYmLh8+fLY2OSUlN+OHDkiO46x0Gq1\n06dP/+CDD9atW+ft7S07DgAApaSYYufh4ZGYmBgYGJifn39/Y8WKFZctW5aQkBAQEHD37l2J\n8Z7fvXv3Ro0a1aJFi6+//jo7WyQkHHZ3d+/evfuff/4pO5rK3bt3b/jw4UuXLg0JCRk6dKjs\nOAAAlJ5iit1HH33k4eERFBRUtWrVXr163d/u5+f34Ycfbtq0qUGDBseOHZOY8DlNmDAhNDT0\n4MGDSUlJVas2+uSTtxITE69fv963b9/i4mLZ6dRs4cKFv/7666FDh7p16yY7CwAAz0Uxxa58\n+fI7d+6cMWNGzZo1L1y48OBDn3766Zo1a6ysrJR72PvZs2dXrVq1efNmNzc38f8LFDdq1GjX\nrl3Hjx/nsgdlauLEiYmJiS1btpQdBACA56WYYieEsLOzmzNnzpkzZxISEh56KCAg4MyZM6mp\nqeHh4VKyPae9e/c2bty4pNWJB06ecHJy8vHx2bt3r8xwalehQgVbW1vZKQAA0AElFbsn02g0\nderU6dq1q+wgpfHHH3/cP+c3J0cUFPzvrNhatWqlp6dLS6ZSMTExLFMHAFAf9RQ7RatcuXJa\nWlrJ7ZQUIYSoV++vh9LS0qpUqSIplzqFhIR4e3ubmPDlBwCojWKuPPGvsrOzO3fuLIQ4ceLE\n078qKytr5syZhYWFT3jOmTNnnjfcv/H29p4yZcqJEydat26dnCyqVhX29kIIkZGRsXfv3u++\n+66sAxiPNWvWjB49esqUKXPnzpWdBQAAHVPPpEVRUVFcXFxcXJzsIKXxwgsvDB48eODAgQkJ\nCcnJouSi89euXevbt2+DBg0GDBggO6BKzJ49e/To0UuXLqXVAQBUST0zdjY2NqU4c6JSpUrf\nfvvtk5+zfPlyPVzcYvXq1a+88oqLi4u9/W5b2wpdunwcExPj4uISEhJiZqae/0xyRUVFbdu2\n7cHlcgAAUBP1NAZzc3OFnjlRokKFCtu2bYuOjh46tI6tbYyHh8e0adN8fHw4FEyH9u3bJzsC\nAABlSKnFLicnJzc318TEpFq1amqqPq6urnl54r33BrD7VVeKi4vV9A0BAOAJFPaDFx8fHxAQ\nUL16dVtbWycnpxo1alhYWDg5Ofn7+x8+fFh2Oh3IyBCZmX8dY4fnd/HixZYtWy5evFh2EAAA\n9EFJxS4wMLBly5Zr167VaDTt27f38/Pz8/Nr27atRqPZuHGju7v76NGjZWd8XsnJwsRENGgg\nO4cqnDp1ytXVtVq1agEBAbKzAACgD4rZFbtkyZKgoCAfH585c+a0bt36oUcTEhJmz569cuXK\npk2bTp48WUpCnUhOFrVqCUtL2TmU78CBA3379vX29l63bl358uVlxwEAQB8UM2O3fv36xo0b\n79q165+tTgjRvHnzjRs3enh4bNu2Tf/ZdOjcOfbD6kBUVFT37t3feOONzZs30+oAAMZDMcUu\nPj6+Q4cOT1j4Q6PReHh4xMfH6zOVzt1fxA7Pw9HRcfXq1QsWLOC0CQCAUVHMrtgWLVrExsYW\nFRWZmpo+7jkxMTEtWrTQZyqdS04WHh6yQyhfo0aNGlGQAQDGRzHzGcOHD09KSurVq9fp06f/\n+WhycvLw4cMjIyP79Omj/2y6UlwsUlKYsSulgoKCX375RXYKAABkUsyM3fjx40+fPr1s2bLQ\n0NBatWo5Ozvb29trNJqsrKzLly+npqYKIUaMGDF16lTZSUvv8mVx545o2FB2DgW6devWgAED\nTp8+ffHiRXNzc9lxAACQQzHFTgixdOnSMWPGfPHFF/v27Tt06FDJRlNTUwcHh2HDho0ZM6ZT\np05yEz6n5GRhYSHq1JGdQ2nS09N79OiRlZUVFRVFqwMAGDMlFTshRKtWrTZs2CCEyM7Ozs3N\nNTc3d3BwUM0B8snJol49wYVhn8mFCxe6d+9uZ2cXExPj4OAgOw4AADIptUTY2dnZ2dnJTqFj\nrHVSCoMGDWrYsOHmzZsrVqwoOwsAAJIptdipUnKyaN5cdgilCQkJqVat2hPOlQYAwHioZCem\nOiQnc+bEM6tRowatDgCAEhQ7Q3Hvnrh4kV2xT2Xx4sWbNm2SnQIAAINDsTMU58+LwkKK3b8o\nLi4ODAx899131XeEJQAAz49j7AxFcrKwshLVq8vOYcDy8/MDAgLCwsL27t3r6ekpOw4AAAaH\nYmcoSq4Sq9HIzmGocnJyevfufeHChYMHDzbnHBMAAB6FYmcoWOvkyZKSkkxMTKKjo52cnGRn\nAQDAQFHsDEVyslD4hTPKVrt27SIiImSnAADAoHHyhKFgrRMAAPCcKHYGITdXXL/OrtiHbd++\nvVKlStevX5cdBAAAZaDYGYTkZKHVUuz+ZunSpYMHD3733XcdHR1lZwEAQBk4xs4gJCcLBwfB\n0mwltFrtrFmz/vOf/yxZsmT06NGy4wAAoBgUO4NQstYJSkybNm358uU7d+709fWVnQUAACVh\nV6xBYK2TB7Vr1y4qKopWBwDAs2LGziAkJ4v+/WWHMBiDBw+WHQEAAEVixs4gMGN39erV+Ph4\n2SkAAFA2ip186ekiO9uoi92JEydeeumlJUuWyA4CAICyUezkS04WJiaifn3ZOSSJiIjw8vLy\n9vZetGiR7CwAACgbxU6+5GRRu7awtJSdQ4atW7f26NFjxIgRP/zwg7m5uew4AAAoGydPyGe0\nB9glJSUNHTr0q6++euutt2RnAQBADSh28hntInaNGzdOSUmpU6eO7CAAAKgEu2LlS04WDRvK\nDiGDRqOh1QEAoEMUO2m0Wu25c+d+/nn7uXPFVapkyo6jJzk5OYGBgZcvX5YdBAAAFaLYyfHf\n//7XxcWlUaNGI0d+eu+eySuvtOvbt+/169dl5ypbaWlpnp6e+/fvL1++vOwsAACoEMVOgmPH\njnXu3LlNmzYXLlz46acTFhYiOnrj9evXvby8bt68KTtdWTl//rynp2f58uWjoqKqVq0qOw4A\nACpEsZPgrbfe6t2795o1a+rWrZucLBo0EB06tA0PDy8qKvryyy9lpysTsbGx7du3b968eWRk\nZJUqVWTHAQBAnSh2+nbt2rXo6Ojp06eX3L2/1omVldWECRO2bt0qM1yZ2bVr1/Dhw3/++WdL\n41yvDwAAvWC5E327dOmSVqtt2rRpyd1z50SLFn891LRp04sXL0pLVpZmz54tOwIAAOrHjJ2+\nVaxYUQiRk5NTcjctTdSo8ddDOTk5JY8CAACUAsVO35o0aVKpUqWQkJCSuxkZ4v6JBCEhIR06\ndJCWTKeKiorGjx/fvXt32UEAADAi7IrVN3Nz80mTJs2YMaNdu3YtWrT4809Rci7Bhg0bNmzY\nEB4eLjugDty5c2fYsGGHDh3atWuX7CwAABgRip0EM2fOPHv2bNu2bXv3fiU/f0Vw8KoFC36K\njIxcsGCBl5eX7HTPKysrq3fv3leuXDl06FCTJk1kxwEAwIiwK1YCMzOzjRs3btq0qaDAVghx\n7NjeRo0aHT16dNKkSbKjPa/bt2+7ubnl5uZGR0fT6gAA0DNm7KTp06dP9ep9tm8XkZGbVXPK\nhJmZWUBAwLhx42xsbGRnAQDA6FDsZMrIEOXLC9W0OiGEhYXF/SX6AACAnrErVqYbN4Q6rq11\n9OjR+wu4AAAAWSh2Mt24IVRwea1FixZ17Njx+PHjsoMAAGDsKHYyKb3YabXaTz755N133127\ndq0KzucFAEDpOMZOJkXvii0sLBw7duxPP/0UHBzMQsQAABgCip1MN26I2rVlhyitOXPm7N69\nOyoqqnXr1rKzAAAAIdgVK9eNG6JyZdkhSiswMPD06dO0OgAADAczdjI9eKFYxbGzs5MdAQAA\n/A0zdjIp7uSJo0ePzpw5U3YKAADwaBQ7aYqKRFaWkopdaGho586ds7KyZAcBAACPRrGTJjNT\nFBcrptitXbu2T58+EydODAoKkp0FAAA8GsVOmhs3hBDKOMZuzpw5I0eO/Oabb+bOnavRaGTH\nAQAAj8bJE9JkZAiNRtjby87xb4qLi3/++efNmzf369dPdhYAAPAkFDtpbtwQtrbCwkJ2jn9j\nYmLy22+/yU4BAAD+HbtipVHcKbEAAMDAUeykMeRid+XKlTZt2vzwww+ygwAAgGdAsZPGYC8U\nm5iY6Orqam1t3adPH9lZAADAM6DYSWOYM3ZHjhzp1KnTiy+++Msvv3BtCQAAlIViJ40BFrtf\nf/21c+fOQ4YM+fnnny0tLWXHAQAAz4azYiU4derUkSNH4uJ6WFmlpaTYNWjQQHaiv9jY2Cxe\nvHjUqFGygwAAgNJgxk6vcnJyBgwY0KpVq/nz52dnm0VGbmncuPG4ceMKCgpkRxNCiNatW9Pq\nAABQLoqd/mi12oEDByYmJp44cSI5OdnUtNqqVfP2798fHBw8ceJEWakKCwtjYmJkfToAANAh\nip3+7N27Nyoqavfu3S4uLnfvilu3RJUqwsvLa8uWLStXrjxz5oz+I+Xl5fXt27d///7FxcX6\n/3QAAKBbFDv92bNnj7e3d7169cTfLxTr5ubWpEmTX375Rc95MjMzu3XrlpiY+Ouvv5qY8E0A\nAEDx+DnXn/T0dGdn55LbmZlCiP9dKNbZ2fn69ev6DJOamurq6pqfnx8TE9OoUSN9fjQAACgj\nFDv9sbe3T09PL7l9+7YQQlSs+NdD6enp9vdbnl707NnT2dn5wIED1apV0+fnAgCAskOx058u\nXbqEhYVlZGQIIe7cERqNKFdOCCESExPj4uK6dOmizzA7duzYtWuXlZWVPj8UAACUKYqd/vTr\n169BgwYDBgxIT0+/e1eULy80GnH+/PmBAwf27Nmzbdu2+gzTsGFDc3NzfX4iAAAoaxQ7/TEz\nMwsJCbl9+3b9+vXff392cfHtrl27Nm3atHbt2j/++KMeAnz33Xd79uzRwwcBAAApKHZ6VbNm\nzdjY2HXr1tWq1dDEJN/V1XXPnj2hoaE2NjZl+rnFxcWTJ0+eNGmSRqMp0w8CAAAScUkxfTM1\nNe3bt29mpkhIELNnz9bDJ967d2/EiBEhISE7d+7s1q2bHj4RAABIQbGT484dYWmpjw/Kzc3t\n27dvUlLS4cOHW7ZsqY+PBAAAklDs5Cg5eUIPfvvtt7y8vOjo6PtL6AEAALWi2Mlx546eil3n\nzp2PHDmij08CAACycfKEHHfv6mlXLAAAMB4UOznKdFdsSEhIrVq1srKyyuoDAACAQaLYyVF2\nJ0+sXLmyf//+o0ePrlSpUpl8AAAAMFQcYyfH7dvF5cvrvlXPmzdv5syZQUFBY8aM0fmbAwAA\nA0ex06vc3Nw5c+bs2LHj7NmPzMzupqaumjhx4pAhQ3Ty5tOmTVuyZMm2bdt69eqlkzcEAADK\nQrHTn4yMjE6dOt27dy8wMPDnn73t7HIbNYofMWLEwYMHg4KCnv/9GzVqFBkZ2a5du+d/KwAA\noEQUO/0JDAy0tLSMjY21trbeu1c0a1Zl7tz5/fv379y5s7e3d9++fZ/z/UePHq2TnAAAQKE4\neUJPbty4sXXr1vnz51tbW4sH1rFzdXUdMWLE8uXLS/e26enpFy5c0GFOAACgXBQ7PUlMTNRq\ntR4eHiV3H1zupFOnTqdOnSrFe546dapNmzYLFy7UVUgAAKBoFDs9KSoqMjExMTH5a8Dz8kSF\nCn89ZGpqWlRU9KxveODAAU9Pz44dO37xxRc6zAkAAJSLYqcnjRs3LioqOn78eMndrCxxf5m5\no0ePNmnS5Jnebfv27b6+vgEBAZs3by6vn2uTAQAAg0ex05MaNWp069ZtxowZhYWFQoibN4Wt\nrRBCJCcnf/fddyNGjHj6tzp16tSgQYM+++yzRYsW3Z8CBAAAoBboz7fffhsfH9+pU6cdO3be\nuiVu3DgfFBTk5ubWpUuX11577enfp3nz5idPnpwyZUrZRQUAAEpEsdOf+vXr//bbb87OzsOH\nj9dqxciRA+fNmzd16tStW7c+08Sbqalp8+bNyy4nAABQKIqdXpmamrZo0cLLq48QYuhQ31Wr\nVk2fPt3M7N9XE7x169Z7772XkZFR9hkBAIBSUez0Z/fu3U2aNFm/fr2VVU0hxM2bF3v27Dls\n2LCCgoInvzA9Pd3Ly+vnn3/WaDR6SQoAABSJYqcnKSkpAwcOfOutt+Lj4ydMeF+jETt3rj92\n7NiBAwc++OCDJ7zwwoULHh4eJiYmhw4dqlKlit4CAwAAxaHY6cmCBQteeumlTz/9VKPR3Lwp\nKlYUZmbihRdeWLx48eLFi3Nzcx/5qt9++61jx44NGzaMjIx0cHDQc2YAAKAsSi12OTk5V69e\nTUtLKy4ulp3lqRw8eHDAgAElt++vdSKE6N27d1FR0dGjRx/5qjVr1vTr1y84OLhixYr6yQkA\nAJTr3w/bNyjx8fFffvllWFjY9evXS7aYmpo6Ojp6enpOmDDBzc1NbrwnyMnJsbe3L7l944ao\nXPmv7RYWFlZWVjdv3nzkq4KCgvQTDwAAqICSil1gYOC3336r1WqrV6/evn37ypUrCyEyMzOv\nXLmycePGjRs3jho1asWKFbJjPlqtWrVSUlJKbp87Jxo2/Gt7RkZGdna2k5OTtGQAAEAtFLMr\ndsmSJUFBQd26dTt+/Pi1a9eOHDmye/fu3bt3x8TEXL58OT4+fsiQIStXrlywYIHspI/Wp0+f\n77//PicnRwiRnCwaNfpr+zfffOPk5PTiiy+W3C0uLn7nnXf8/f1l5QQAAMqlmGK3fv36xo0b\n79q1q3Xr1v98tHnz5hs3bvTw8Ni2bZv+sz2NCRMmWFtbt23b9u233/7tt5xbt078+eefn332\n2dy5c+9fGezu3buDBw/+4Ycfxo8fLzsvAABQHsUUu/j4+A4dOjxhLV+NRuPh4REfH6/PVE/v\n0KFDf/7554ULFxYt+i472+rbb9+qUqXKV199tWHDhn79+gkhsrOzfXx8YmJiIiMj3d3dZecF\nAADKo5hj7Fq0aBEbG1tUVGRqavq458TExLRo0UKfqZ7Sb7/91rt374kTJ3p7e2/ffv6770xe\nf90tN7f6zp0769WrJ4S4deuWh4eHECI2Npbj7QAAQOkoZsZu+PDhSUlJvXr1On369D8fTU5O\nHj58eGRkZJ8+ffSf7V/NnDnTzc1t27Ztffr0+eWXC6amOT/+uODo0aOurq73Vyfu1atXVFQU\nrQ4AAJSaYmbsxo8ff/r06WXLloWGhtaqVcvZ2dne3l6j0WRlZV2+fDk1NVUIMWLEiKlTp8pO\n+rD8/Pzw8HBzc/PXXntt2LBhQUE25ub3Vq7cu3HjxrVr1xYWFubn51tZWX3++eeykwIAAGXT\naLVa2RmeQVxc3BdffLFv374bN26UbDE1NXVwcPDy8hozZkynTp3K4kOXL18+duzY3NxcKyur\nUrz82rVrNWvWbNu27Z07d+Lj462tNxYXV8jL61Oy1zg+Pv7q1as1atTQdWoAAFAm7t27V65c\nucOHD7u6usrO8jDFzNiVaNWq1YYNG4QQ2dnZubm55ubmDg4OJaeUGqySi0acPn26f//++/bt\ne+89RyHEnDlpvXv3LrngBFeVAAAAOqGwYnefnZ2dnZ2d7JNUSHwAABDrSURBVBRPJS8vTwhh\nZ2e3bt06jUYjhBBCu2zZshMnTtjY2OTk5OTl5dnev8QYAABAaRn0XJc6lEzI/fHHHyWXzdBq\ni6Kjx86fP3/UqFG3bt0SzNgBAAAdUdgxdk+QnZ3duXNnIcSJEyee/lWpqant27cvLCx8wnPy\n8/Nv375969at0jWwtLS0GjVquLm5HT9+vEaNGpmZrjk5IdWrW2VmZrZq1So6OvratWvVq1cv\nxTsDAAD94xg7fSgqKoqLi3vWVzk7O2/evPnJxS4hIeHtt982NzcvXTBra2shxJEjRxYsWKDR\naH79NUkI/06dmmi12smTJ2s0Ghsbm9K9MwAAwIPUU+xsbGzCw8Of9VUmJiZeXl5Pfk6FChVK\nmUkIIYSVlVWbNm3s7e2nTZvWrFmz9u3bCyFWr16dmJjo5eWVlZXFrlgAAKAT6il25ubmXbt2\nlZ3i0d57773hw4cvXLgwKyurZIHlQYMGVapU6e233y45yRcAAOD5KbXY5eTk5ObmmpiYVKtW\nzcCXOxFCDBw4MCUlJTAw0M3NrWTGbu/evYcPH/7ss88GDBggOx0AAFAJQ69ED4mPjw8ICKhe\nvbqtra2Tk1ONGjUsLCycnJz8/f0PHz4sO92TzJgx4/jx4x07dkxISEhISOjYsePx48dnzJgh\nOxcAAFAPJZ0VGxgYWLJiSPXq1WvXrl25cmUhRGZm5pUrV65cuSKEGDVq1IoVK3T+udHR0W5u\nbvn5+RYWFjp/cwAAoCycFasDS5YsCQoK8vHxmTNnTuvWrR96NCEhYfbs2StXrmzatOnkyZOl\nJAQAAJBLMTN2bm5uf/75Z3x8vJnZo8uoVqvt1KlTcXHxoUOHdPvRzNgBAID7DHnGTjHH2MXH\nx3fo0OFxrU4IodFoPDw84uPj9ZkKAADAcCim2LVo0SI2NraoqOgJz4mJiWnRooXeIgEAABgU\nxRS74cOHJyUl9erVq2QduIckJycPHz48MjKyT58++s8GAABgCBRz8sT48eNPnz69bNmy0NDQ\nWrVqOTs729vbazSarKysy5cvp6amCiFGjBgxdepU2UkBAADkUEyxE0IsXbp0zJgxX3zxxb59\n++6fIWFqaurg4DBs2LAxY8Z06tRJbkIAAACJlFTshBCtWrUquQZXdnZ2bm6uubm5g4OD4V95\nAgAAQA8UVuzus7Ozs7Ozk50CAADAgDDXBQAAoBIUOwAAAJWg2AEAAKgExQ4AAEAlKHYAAAAq\nQbEDAABQCYodAACASih1HTt9srCwEEKUK1dOdhAAAGAoSuqBodFotVrZGRTg5MmThYWFOnmr\nmTNn3r59e/To0Tp5NzyrFStWCCEYf1kYf7kYf7kYf7lWrFhRoUKFzz77TCfvZmZm5uLiopO3\n0i1m7J6KDv/jOTo6CiFeeeUVXb0hnsn+/fsF4y8P4y8X4y8X4y9Xyfi/+OKLsoOULY6xAwAA\nUAmKHQAAgEpQ7AAAAFSCYgcAAKASFDsAAACVoNgBAACoBMUOAABAJSh2AAAAKkGxAwAAUAmu\nPKFvhnlpOePB+MvF+MvF+MvF+MtlJOPPtWL1LSsrSwhRqVIl2UGMFOMvF+MvF+MvF+Mvl5GM\nP8UOAABAJTjGDgAAQCUodgAAACpBsQMAAFAJih0AAIBKUOwAAABUgmIHAACgEhQ7AAAAlaDY\nAQAAqATFDgAAQCUodgAAACpBsQMAAFAJih0AAIBKUOwAAABUgmIHAACgEhQ7AIbi1q1bP/zw\nw5UrV2QHAaBgKSkpQUFBslNIQ7HTvaVLl7q7u9vZ2bm7uy9durSMXoLHedbBzM/P/+CDDzw9\nPW1tbevXr+/v73/+/Hk95FSr5/kyBwYGjhgx4uTJk2WUzRiUYvwPHjzo7e1ta2tbo0aNIUOG\n8P1/Hs86/pmZmVOmTGnevHnFihWbN28+ZcqUrKwsPeRUt8WLF3/44YdP+WQV/v5qoVNjx44V\nQjRu3Pi1115r1KiREGLixIk6fwke51kHMzs728PDQwjRrFmzUaNGdevWTaPRWFpanjhxQm+Z\n1eR5vsxbtmwp+Utp165dZRpSxUox/ps2bbKwsKhRo4a/v3+fPn1MTU0rV6588eJF/QRWmWcd\n/8zMzHr16gkhvLy83nzzzU6dOgkhGjRokJ2drbfM6hMWFlauXDk7O7unebIqf38pdrp04sQJ\nIUT37t0LCgq0Wm1BQUFJUTh9+rQOX4LHKcVgvvfee0KICRMm3N+ye/duExMTFxcXfSRWl+f5\nMl+5csXe3t7KyopiV2qlGP+LFy+amZm1b9/+fpNYsWKFECIgIEA/mdWkFOP//vvvCyG+/fbb\n+1sWLlwohPj444/1EFh9hg8f3rhx45J/Hz5NsVPr7y/FTpeGDRsmhDh58uT9LceOHRNCvPba\nazp8CR6nFIPZpEkTa2vru3fvPrjR29tbCJGenl6GWdWo1F/m4uLiLl261K1bt+R3jmJXOqUY\n/8mTJwshYmJi7m8pLi7++uuvly5dWrZZ1agU49+jRw8hxB9//HF/y9WrV4UQffv2LdusKtWv\nX7+ePXv27NnT2tr6aYqdWn9/KXa6VKVKFScnp4c2Vq9e3dHRUYcvweOUYjCbNWvWs2fPhzb6\n+fkJIZKSknQfUdVK/WX+8ssvTUxMDh48OHfuXIpdqZVi/GvUqFGrVq0yzmUsSjH+s2bNEkJs\n2LDh/pa1a9cKIT7//POySmkcWrRo8TTFTq2/v5w8oTPZ2dk3btxwdnZ+aHvt2rWvX7+em5ur\nk5fgcUo3mAkJCSEhIQ9uycjIiIiIqFatWv369csqqxqV+sscFxf3wQcfTJ8+3d3dvYwzqlkp\nxv/WrVvXrl2rU6fOyZMne/fuXa1atdq1aw8aNCglJUUvkVWldN//t956y8vLKyAgwN/f/5NP\nPvH393/jjTe8vb0nTpxY9pGNnYp/fyl2OlPyPahcufJD20u25OTk6OQleBydDGZycrKrq+vd\nu3fnzp1rZmam85AqVrrxv3PnzvDhw5s1a/bJJ5+UcUCVK8X4Z2dnCyGuXbvm7u7++++/9+zZ\ns3nz5tu2bXNxcfntt9/KPrKqlO77b2tr++qrr2q12o0bN86aNWvjxo0ajSYgIMDa2rqsA0PF\nv78UO50xNzcXQmg0mkc+amLyiKEuxUvwOM85mHl5eR9//HGrVq2uXLkSFBQ0YsQInSdUt9KN\n/7Rp0y5cuLBu3ToLC4syDGcESjH+BQUFQojz589PnDjx5MmTq1atCg0N3bt37507d958880y\nTas+pfv+z507d+TIkX5+fidPnszLy4uLi+vWrdurr766YMGCMswKIYSqf38VHN3QODg4mJqa\n/nMJoszMTFNT02rVqunkJXic5xnM0NDQZs2affrpp127do2Li5swYUJZJlWnUoz//v37v/32\n2zlz5jRv3lwvGdWsFONfoUIFIUTlypU/++yz+z9v3t7eL7/88okTJ/7444+yzqwmpRj/zMzM\nWbNmNW3adOvWrS1btqxQoYKLi8u2bdsaNmz44YcfKnrGSBFU/PtLsdMZExMTBweHfy6af/Xq\nVUdHx0fW/1K8BI9T6sH8+OOP/fz8rK2tf/3115CQkPtny+OZlGL84+LihBDvvPOO5v/NmDFD\nCNGzZ0+NRrNq1So9xFaNUox/1apVy5cvX7duXVNT0we3l6ysxvU/nkkpxv/s2bN379718vIq\nmToqYWFh0alTp9u3bycnJ5dtYqOn4t9fBUc3QF5eXhcuXHjwf8iEhITLly97enrq8CV4nFIM\n5g8//PDpp58OHTr0+PHjjPlzetbxd3FxGft37du3F0L4+vqOHTu2SZMmesqtFs86/iYmJl5e\nXsnJyXfv3n1w+5kzZ0xMTPgXzrN61vEvOWz/2rVrD21PS0u7/yjKlGp/f2WflqsqBw4cEEK8\n8sorJXeLi4uHDBkihDh48GDJlnv37t24cSMrK+vpX4Kn96zjX1xc3Lhx45o1a965c0dOYnUp\nxff/ISx38jxKMf579+4VQkyYMKGoqKhky08//SSE+OcaQPhXpRh/FxcXU1PTsLCw+1tCQ0NN\nTEzatm2rz+Tq88jlTozn95dip2MlB9136dLl/fffL2n9I0eOvP9oeHi4EKJVq1ZP/xI8k2ca\n/9TUVCFE1apVuz9KRkaGpD+EgpXi+/8git1zKvXfPy+88MKbb7758ssvCyGqV69++fJlvWdX\ng2cd/1OnTllbW2s0Gh8fn3Hjxnl7e2s0Gltb2zNnzsiIrx6PLHbG8/tLsdOx4uLiefPmubq6\n2tjYuLq6fvnllw8++sgv1pNfgmfyTOO/f//+J0xmX7lyRcafQNlK8f1/EMXuOZVu/OfPn+/u\n7m5tbd2sWbOJEydmZmbqMbKqlGL8r127Nnr06GbNmlWoUKFZs2Zjxoy5fv26flOr0NMXO1X+\n/mq0Wu3T77cFAACAweLkCQAAAJWg2AEAAKgExQ4AAEAlKHYAAAAqQbEDAABQCYodAACASlDs\nAAAAVIJiBwAAoBIUOwAAAJWg2AEAAKgExQ4AAEAlKHYAAAAqQbEDAABQCYodAACASlDsAAAA\nVIJiBwAAoBIUOwAAAJWg2AEAAKgExQ4AAEAlKHYAAAAqQbEDAABQCYodAACASlDsAAAAVIJi\nBwAAoBIUOwAAAJWg2AEAAKgExQ4AAEAlKHYAAAAqQbEDAABQCYodAACASlDsAAAAVIJiBwAA\noBIUOwBG6tixY5rHCwwMFEKcPHnynw/VrFnz5Zdf3r9///23On/+/D+fZmZmVrdu3f79+586\ndUrenxKAcTGTHQAAZHJ2dvbw8Pjn9rZt296/Xbt2bU9Pz5LbBQUFycnJ4eHh4eHhq1ateuON\nN+4/rXr16l27dr1/9/bt2wkJCdu3bw8JCYmJiXnppZfK7A8BAH+h2AEwah07dvzxxx+f/Jx2\n7do99JzNmzcPGTJk6tSp/v7+5cuXL9no4uLy0NO0Wu3UqVMXLFgwY8aM8PBw3SYHgH9iVywA\nPLPBgwe7u7tnZWUlJyc/4Wkajeajjz4SQsTFxekrGgCjRrEDgNKoWbOmEOLq1atPfpqtra2l\npWVeXp5eQgEwdhQ7AHhmBQUFR48eFUI0aNDgyc88d+7cnTt3XFxc9JILgLHjGDsARi02Nvb1\n119/aKOnp+c/N5YoKio6d+7cRx99dOHChZYtW9arV+9x73znzp34+PjAwEAzM7PZs2frMjQA\nPAbFDoBRS01NTU1NfWijmZnZg8Vu69atGo3moec4OjquW7fO1NT0/pZffvnln0+zsrLat2+f\nl5eXLkMDwGNQ7AAYtaFDh27cuPHJz3lwuRMhRMWKFZs3bx4QEGBjY/Pg0x5a7uT/2rljFIXB\nKAqjb0qLQCoX4cbSBCyzCztbV+IuBMkCsgGxDOiUUzgwjZnA9ZwV3PLjh//N83y9Xi+XyzAM\n5/O5aZr3Lgd4JewA/vB67uRXr+dOqqrv++PxeDqd9vv9MusAfvg8AbCgruvKuRPgvwg7gAVt\nt9uqut1uaw8BPoKwA1jQ4/Goqvv9vvYQ4CMIO4AFtW1bVeM4zvO89hYgn7ADWNBms9ntdtM0\nHQ6HtbcA+b6ez+faGwAAeAMvdgAAIYQdAEAIYQcAEELYAQCEEHYAACGEHQBACGEHABBC2AEA\nhBB2AAAhhB0AQAhhBwAQQtgBAIQQdgAAIYQdAEAIYQcAEELYAQCEEHYAACGEHQBACGEHABBC\n2AEAhBB2AAAhhB0AQAhhBwAQQtgBAIQQdgAAIYQdAEAIYQcAEELYAQCEEHYAACGEHQBAiG/8\nErqRCx5oiQAAAABJRU5ErkJggg==",
      "text/plain": [
       "Plot with title “ROC Curve for h1n1 vaccine”"
      ]
     },
     "metadata": {
      "image/png": {
       "height": 420,
       "width": 420
      }
     },
     "output_type": "display_data"
    }
   ],
   "source": [
    "# ROC for seasonal vaccine\n",
    "\n",
    "AUC_seasonal = AUCROC(Y_pred[,2], test_data[,targets[1]],\"ROC Curve for seasonal vaccine\")\n",
    "\n",
    "# ROC for h1n1 vaccine\n",
    "\n",
    "AUC_h1n1 =  AUCROC(Y_pred[,1], test_data[,targets[2]],\"ROC Curve for h1n1 vaccine\")\n",
    "\n",
    "print(paste(\"AUC for h1n1 :\", AUC_h1n1, \"AUC for seasonal :\", AUC_seasonal)) "
   ]
  },
  {
   "cell_type": "markdown",
   "metadata": {},
   "source": [
    "The AUC is better for seasonal_vaccine but worse for h1n1_vaccine. The linear model is therefore better suited with PCA to predict h1n1_vaccine."
   ]
  },
  {
   "cell_type": "code",
   "execution_count": 40,
   "metadata": {},
   "outputs": [
    {
     "data": {
      "text/plain": [
       "Response h1n1_vaccine :\n",
       "\n",
       "Call:\n",
       "lm(formula = h1n1_vaccine ~ h1n1_knowledge + behavioral_face_mask + \n",
       "    behavioral_wash_hands + behavioral_touch_face + doctor_recc_h1n1 + \n",
       "    doctor_recc_seasonal + chronic_med_condition + child_under_6_months + \n",
       "    health_worker + opinion_h1n1_vacc_effective + opinion_h1n1_risk + \n",
       "    opinion_seas_vacc_effective + opinion_seas_risk + age_group + \n",
       "    health_insurance_0 + health_insurance_1 + health_insurance_NA + \n",
       "    employment_industry_atmlpfrs + employment_industry_haxffmxo + \n",
       "    employment_industry_mcubkhph + employment_industry_nduyfdeo + \n",
       "    employment_industry_rucpziij + employment_industry_saaquncn + \n",
       "    employment_industry_vjjrobsf + employment_occupation_cmhcxjea + \n",
       "    employment_occupation_dcjcmpih + employment_occupation_qxajmpny + \n",
       "    employment_occupation_rcertsgn + employment_occupation_uqqtjvyb + \n",
       "    employment_occupation_xgwztkwe + race_Black + race_White + \n",
       "    rent_or_own_Rent + employment_status_Unemployed + hhs_geo_region_bhuqouqj, \n",
       "    data = total_train_set)\n",
       "\n",
       "Residuals:\n",
       "     Min       1Q   Median       3Q      Max \n",
       "-0.92723 -0.20938 -0.07317  0.10446  1.25708 \n",
       "\n",
       "Coefficients: (2 not defined because of singularities)\n",
       "                                 Estimate Std. Error t value Pr(>|t|)    \n",
       "(Intercept)                    -0.2064305  0.0109669 -18.823  < 2e-16 ***\n",
       "h1n1_knowledge                  0.0449510  0.0071396   6.296 3.10e-10 ***\n",
       "behavioral_face_mask            0.0241352  0.0084646   2.851 0.004357 ** \n",
       "behavioral_wash_hands          -0.0036190  0.0060365  -0.600 0.548834    \n",
       "behavioral_touch_face          -0.0042165  0.0048740  -0.865 0.386983    \n",
       "doctor_recc_h1n1                0.3290975  0.0067854  48.501  < 2e-16 ***\n",
       "doctor_recc_seasonal           -0.0644283  0.0059568 -10.816  < 2e-16 ***\n",
       "chronic_med_condition           0.0027535  0.0049811   0.553 0.580418    \n",
       "child_under_6_months            0.0312577  0.0078468   3.984 6.81e-05 ***\n",
       "health_worker                   0.1049010  0.0083060  12.630  < 2e-16 ***\n",
       "opinion_h1n1_vacc_effective     0.1963405  0.0097083  20.224  < 2e-16 ***\n",
       "opinion_h1n1_risk               0.2265628  0.0083325  27.190  < 2e-16 ***\n",
       "opinion_seas_vacc_effective    -0.0059985  0.0091626  -0.655 0.512687    \n",
       "opinion_seas_risk               0.0578345  0.0078160   7.399 1.41e-13 ***\n",
       "age_group                       0.0512950  0.0064591   7.942 2.07e-15 ***\n",
       "health_insurance_0              0.0712197  0.0091661   7.770 8.14e-15 ***\n",
       "health_insurance_1              0.1703748  0.0044246  38.506  < 2e-16 ***\n",
       "health_insurance_NA                    NA         NA      NA       NA    \n",
       "employment_industry_atmlpfrs   -0.0453092  0.0116123  -3.902 9.57e-05 ***\n",
       "employment_industry_haxffmxo    0.3829307  0.0285309  13.422  < 2e-16 ***\n",
       "employment_industry_mcubkhph   -0.0379398  0.0208636  -1.818 0.069004 .  \n",
       "employment_industry_nduyfdeo    0.0060427  0.0204804   0.295 0.767959    \n",
       "employment_industry_rucpziij   -0.0465758  0.0154067  -3.023 0.002504 ** \n",
       "employment_industry_saaquncn   -0.0009632  0.0188591  -0.051 0.959267    \n",
       "employment_industry_vjjrobsf   -0.0459930  0.0154977  -2.968 0.003003 ** \n",
       "employment_occupation_cmhcxjea  0.0469513  0.0121956   3.850 0.000118 ***\n",
       "employment_occupation_dcjcmpih         NA         NA      NA       NA    \n",
       "employment_occupation_qxajmpny -0.0389321  0.0150160  -2.593 0.009528 ** \n",
       "employment_occupation_rcertsgn -0.0267970  0.0212942  -1.258 0.208252    \n",
       "employment_occupation_uqqtjvyb -0.0352590  0.0163792  -2.153 0.031353 *  \n",
       "employment_occupation_xgwztkwe -0.0494067  0.0107521  -4.595 4.35e-06 ***\n",
       "race_Black                     -0.0487359  0.0095981  -5.078 3.85e-07 ***\n",
       "race_White                     -0.0027384  0.0066402  -0.412 0.680052    \n",
       "rent_or_own_Rent               -0.0249898  0.0053692  -4.654 3.27e-06 ***\n",
       "employment_status_Unemployed   -0.0118936  0.0095866  -1.241 0.214749    \n",
       "hhs_geo_region_bhuqouqj         0.0107544  0.0068574   1.568 0.116826    \n",
       "---\n",
       "Signif. codes:  0 ‘***’ 0.001 ‘**’ 0.01 ‘*’ 0.05 ‘.’ 0.1 ‘ ’ 1\n",
       "\n",
       "Residual standard error: 0.343 on 26673 degrees of freedom\n",
       "Multiple R-squared:  0.2978,\tAdjusted R-squared:  0.2969 \n",
       "F-statistic: 342.8 on 33 and 26673 DF,  p-value: < 2.2e-16\n",
       "\n",
       "\n",
       "Response seasonal_vaccine :\n",
       "\n",
       "Call:\n",
       "lm(formula = seasonal_vaccine ~ h1n1_knowledge + behavioral_face_mask + \n",
       "    behavioral_wash_hands + behavioral_touch_face + doctor_recc_h1n1 + \n",
       "    doctor_recc_seasonal + chronic_med_condition + child_under_6_months + \n",
       "    health_worker + opinion_h1n1_vacc_effective + opinion_h1n1_risk + \n",
       "    opinion_seas_vacc_effective + opinion_seas_risk + age_group + \n",
       "    health_insurance_0 + health_insurance_1 + health_insurance_NA + \n",
       "    employment_industry_atmlpfrs + employment_industry_haxffmxo + \n",
       "    employment_industry_mcubkhph + employment_industry_nduyfdeo + \n",
       "    employment_industry_rucpziij + employment_industry_saaquncn + \n",
       "    employment_industry_vjjrobsf + employment_occupation_cmhcxjea + \n",
       "    employment_occupation_dcjcmpih + employment_occupation_qxajmpny + \n",
       "    employment_occupation_rcertsgn + employment_occupation_uqqtjvyb + \n",
       "    employment_occupation_xgwztkwe + race_Black + race_White + \n",
       "    rent_or_own_Rent + employment_status_Unemployed + hhs_geo_region_bhuqouqj, \n",
       "    data = total_train_set)\n",
       "\n",
       "Residuals:\n",
       "     Min       1Q   Median       3Q      Max \n",
       "-1.32301 -0.31549 -0.02101  0.31332  1.35243 \n",
       "\n",
       "Coefficients: (2 not defined because of singularities)\n",
       "                                 Estimate Std. Error t value Pr(>|t|)    \n",
       "(Intercept)                    -0.2127710  0.0129457 -16.436  < 2e-16 ***\n",
       "h1n1_knowledge                  0.0641290  0.0084279   7.609 2.85e-14 ***\n",
       "behavioral_face_mask           -0.0001992  0.0099919  -0.020 0.984096    \n",
       "behavioral_wash_hands           0.0108360  0.0071258   1.521 0.128351    \n",
       "behavioral_touch_face           0.0266692  0.0057534   4.635 3.58e-06 ***\n",
       "doctor_recc_h1n1               -0.0557022  0.0080098  -6.954 3.63e-12 ***\n",
       "doctor_recc_seasonal            0.2620989  0.0070317  37.274  < 2e-16 ***\n",
       "chronic_med_condition           0.0273953  0.0058799   4.659 3.19e-06 ***\n",
       "child_under_6_months            0.0077159  0.0092626   0.833 0.404841    \n",
       "health_worker                   0.1141504  0.0098047  11.642  < 2e-16 ***\n",
       "opinion_h1n1_vacc_effective    -0.0156857  0.0114600  -1.369 0.171096    \n",
       "opinion_h1n1_risk               0.0010801  0.0098359   0.110 0.912557    \n",
       "opinion_seas_vacc_effective     0.3165306  0.0108159  29.265  < 2e-16 ***\n",
       "opinion_seas_risk               0.3464826  0.0092263  37.554  < 2e-16 ***\n",
       "age_group                       0.2526082  0.0076245  33.131  < 2e-16 ***\n",
       "health_insurance_0             -0.0391415  0.0108200  -3.618 0.000298 ***\n",
       "health_insurance_1              0.0602852  0.0052230  11.542  < 2e-16 ***\n",
       "health_insurance_NA                    NA         NA      NA       NA    \n",
       "employment_industry_atmlpfrs   -0.0284505  0.0137076  -2.076 0.037947 *  \n",
       "employment_industry_haxffmxo    0.4783391  0.0336790  14.203  < 2e-16 ***\n",
       "employment_industry_mcubkhph   -0.0715871  0.0246281  -2.907 0.003655 ** \n",
       "employment_industry_nduyfdeo   -0.0903545  0.0241758  -3.737 0.000186 ***\n",
       "employment_industry_rucpziij   -0.1007658  0.0181866  -5.541 3.04e-08 ***\n",
       "employment_industry_saaquncn   -0.0991451  0.0222620  -4.454 8.48e-06 ***\n",
       "employment_industry_vjjrobsf   -0.0915739  0.0182940  -5.006 5.60e-07 ***\n",
       "employment_occupation_cmhcxjea  0.0479020  0.0143961   3.327 0.000878 ***\n",
       "employment_occupation_dcjcmpih         NA         NA      NA       NA    \n",
       "employment_occupation_qxajmpny -0.1106348  0.0177254  -6.242 4.40e-10 ***\n",
       "employment_occupation_rcertsgn -0.0003005  0.0251364  -0.012 0.990462    \n",
       "employment_occupation_uqqtjvyb -0.1063977  0.0193346  -5.503 3.77e-08 ***\n",
       "employment_occupation_xgwztkwe -0.0687887  0.0126922  -5.420 6.02e-08 ***\n",
       "race_Black                     -0.0526637  0.0113299  -4.648 3.36e-06 ***\n",
       "race_White                      0.0172814  0.0078384   2.205 0.027482 *  \n",
       "rent_or_own_Rent               -0.0409006  0.0063380  -6.453 1.11e-10 ***\n",
       "employment_status_Unemployed   -0.0721106  0.0113164  -6.372 1.89e-10 ***\n",
       "hhs_geo_region_bhuqouqj        -0.0049165  0.0080948  -0.607 0.543617    \n",
       "---\n",
       "Signif. codes:  0 ‘***’ 0.001 ‘**’ 0.01 ‘*’ 0.05 ‘.’ 0.1 ‘ ’ 1\n",
       "\n",
       "Residual standard error: 0.4049 on 26673 degrees of freedom\n",
       "Multiple R-squared:  0.342,\tAdjusted R-squared:  0.3412 \n",
       "F-statistic: 420.2 on 33 and 26673 DF,  p-value: < 2.2e-16\n",
       "\n"
      ]
     },
     "metadata": {},
     "output_type": "display_data"
    }
   ],
   "source": [
    "model <- lm(cbind(h1n1_vaccine, seasonal_vaccine)~., data=total_train_set)\n",
    "summary(model)\n",
    "Y_pred <- predict(model,mrmr_ts_set)"
   ]
  },
  {
   "cell_type": "markdown",
   "metadata": {},
   "source": [
    "### Single layer neural network with mrmr\n",
    "\n",
    "Once again the steps are very similar to what was done previously for the neural networks. We observe better results for the estimation of seasonal flue vaccines than for h1n1. "
   ]
  },
  {
   "cell_type": "code",
   "execution_count": null,
   "metadata": {},
   "outputs": [],
   "source": [
    "k <- 2\n",
    "\n",
    "hidden_nodes_vec <- c(5, 10, 15)\n",
    "results1 <- c()\n",
    "results2 <- c()\n",
    "for(hidden_nodes in hidden_nodes_vec){\n",
    "    print(paste(\"[INFO] - Testing h=\",hidden_nodes))\n",
    "    results1 <- c(results1, auc_nnet_cross_valid(mrmr_tr_set, label_1, hidden_nodes=hidden_nodes_vec,k=k))\n",
    "    results2 <- c(results2, auc_nnet_cross_valid(mrmr_tr_set, label_2, hidden_nodes=hidden_nodes_vec,k=k))\n",
    "}\n",
    "#mean(AUC) according to the nb of hidden nodes \n",
    "plot(hidden_nodes_vec, results_h1n1, xlab=\"Number of hidden nodes\", ylab=\"AUCROC\", main=\"h1n1 estimation\")\n",
    "lines(hidden_nodes_vec, results_h1n1)\n",
    "\n",
    "plot.new()\n",
    "\n",
    "plot(hidden_nodes_vec, results_season, xlab=\"Number of hidden nodes\", ylab=\"AUCROC\", main=\"seasonal estimation\")\n",
    "lines(hidden_nodes_vec, results_season)\n"
   ]
  },
  {
   "cell_type": "markdown",
   "metadata": {},
   "source": [
    "### SVM with mrmrm\n",
    "\n",
    "The code is the same as above. The results for the estimation of seasonal flue vaccines are better than when the features selection was done by PCA, but the AUC for the H1N1 column are a slightly less good."
   ]
  },
  {
   "cell_type": "code",
   "execution_count": null,
   "metadata": {
    "tags": []
   },
   "outputs": [],
   "source": [
    "library(\"e1071\")\n",
    "\n",
    "model_svm1 = svm(label_1 ~ ., data = mrmr_tr_set, kernel = \"polynomial\", degree=3, cost = 1, scale = FALSE)\n",
    "Y_pred1 <- predict(model_svm1,mrmr_ts_set)\n",
    "ss <- preProcess(as.data.frame(Y_pred1), method=c(\"range\"))\n",
    "Y_pred1 <- predict(ss, as.data.frame(Y_pred1))\n",
    "\n",
    "model_svm2 = svm(label_2 ~ ., data = mrmr_tr_set, kernel = \"polynomial\", degree=3, cost = 0.01, scale = FALSE)\n",
    "Y_pred2 <- predict(model_svm2,mrmr_ts_set)\n",
    "ss <- preProcess(as.data.frame(Y_pred2), method=c(\"range\"))\n",
    "Y_pred2 <- predict(ss, as.data.frame(Y_pred2))\n",
    "\n",
    "final_pred_SVM <- cbind(testing_features[, c(1)], Y_pred1, Y_pred2)"
   ]
  },
  {
   "cell_type": "markdown",
   "metadata": {},
   "source": [
    "Compared to the SVM code applied after the PCA, the kernel parameters and the cost have changed because the previous values werent optimal anymore."
   ]
  },
  {
   "cell_type": "markdown",
   "metadata": {},
   "source": [
    "### Combination of the three methods\n",
    "To optimise the results, we'll be taking all three methods' results and we'll taking their mean."
   ]
  },
  {
   "cell_type": "code",
   "execution_count": null,
   "metadata": {},
   "outputs": [],
   "source": [
    "#doing it for the H1N1 column\n",
    "pred_linear_H1N1<-Y_pred[,2]\n",
    "pred_svm_H1N1<-results_h1n1\n",
    "pred_svm_H1N1<- final_pred_SVM[,2]\n",
    "\n",
    "#doing it for the seasonal flue column\n",
    "pred_linear_seasonable<-Y_pred[,3]\n",
    "pred_svm_seasonable<-results_seasonal\n",
    "pred_svm_seasonable<- final_pred_SVM[,3]\n",
    "\n"
   ]
  },
  {
   "cell_type": "markdown",
   "metadata": {},
   "source": [
    "# Conclusions"
   ]
  },
  {
   "cell_type": "markdown",
   "metadata": {},
   "source": [
    "To conclude, the methods all have defaults and qualities. "
   ]
  }
 ],
 "metadata": {
  "kernelspec": {
   "display_name": "R",
   "language": "R",
   "name": "ir"
  },
  "language_info": {
   "codemirror_mode": "r",
   "file_extension": ".r",
   "mimetype": "text/x-r-source",
   "name": "R",
   "pygments_lexer": "r",
   "version": "4.1.2"
  }
 },
 "nbformat": 4,
 "nbformat_minor": 4
}
