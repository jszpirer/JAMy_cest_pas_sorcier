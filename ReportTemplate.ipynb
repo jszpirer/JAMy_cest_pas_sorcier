{
 "cells": [
  {
   "cell_type": "markdown",
   "metadata": {},
   "source": [
    "# INFO-F-422 -  Statistical Foundations of Machine Learning \n",
    "\n",
    "### Alexandre Flachs - __[alexandre.flachs@ulb.be](mailto:alexandre.flachs@ulb.be) - Student ID 474748__\n",
    "### Marie Giot - __[marie.giot@ulb.be](mailto:marie.giot@ulb.be) - Student ID 474915__\n",
    "### Jeanne Szpirer - __[jeanne.szpirer@ulb.be](mailto:jeanne.szpirer@ulb.be) - Student ID 477286__\n",
    "\n",
    "### Video presentation: www.youtube.com/abcd1234\n",
    "\n",
    "## Flu Shot Learning: Predict H1N1 and Seasonal Flu Vaccines\n"
   ]
  },
  {
   "cell_type": "markdown",
   "metadata": {},
   "source": [
    "# Introduction\n"
   ]
  },
  {
   "cell_type": "markdown",
   "metadata": {},
   "source": [
    "The project's goal is to propose efficient machine learning methods to predict the likelihood of patients to get a vaccine for H1N1 or Seasonal Flu. This challenge was inititated by the \"Driven Data\" plateforme. Four different techniques are presented hereunder and their costs and their results will be discussed. The group also submitted its result on the Driven Data plateforme for the challenge in order to receive a score and compare it to the other paticipants."
   ]
  },
  {
   "cell_type": "markdown",
   "metadata": {},
   "source": [
    "# Data preprocessing\n",
    "\n",
    "Before working any model we need to preprocess the data to make it usefull. This pipeline in divided intro three parts :\n",
    "1. **Missing value imputation** : Replace missing values, possibly using other known values\n",
    "2. **Feature engineering** : Define useful features from available ones. \n",
    "3. **Feature selection** : Some features might be useless or give wrong indications to the model, we might need to remove some features.\n",
    "\n",
    "Let's start by importing our data, then develop each of the above parts."
   ]
  },
  {
   "cell_type": "code",
   "execution_count": 2,
   "metadata": {},
   "outputs": [
    {
     "data": {
      "text/html": [
       "<style>\n",
       ".list-inline {list-style: none; margin:0; padding: 0}\n",
       ".list-inline>li {display: inline-block}\n",
       ".list-inline>li:not(:last-child)::after {content: \"\\00b7\"; padding: 0 .5ex}\n",
       "</style>\n",
       "<ol class=list-inline><li>26707</li><li>36</li></ol>\n"
      ],
      "text/latex": [
       "\\begin{enumerate*}\n",
       "\\item 26707\n",
       "\\item 36\n",
       "\\end{enumerate*}\n"
      ],
      "text/markdown": [
       "1. 26707\n",
       "2. 36\n",
       "\n",
       "\n"
      ],
      "text/plain": [
       "[1] 26707    36"
      ]
     },
     "metadata": {},
     "output_type": "display_data"
    },
    {
     "data": {
      "text/html": [
       "<style>\n",
       ".list-inline {list-style: none; margin:0; padding: 0}\n",
       ".list-inline>li {display: inline-block}\n",
       ".list-inline>li:not(:last-child)::after {content: \"\\00b7\"; padding: 0 .5ex}\n",
       "</style>\n",
       "<ol class=list-inline><li>26708</li><li>36</li></ol>\n"
      ],
      "text/latex": [
       "\\begin{enumerate*}\n",
       "\\item 26708\n",
       "\\item 36\n",
       "\\end{enumerate*}\n"
      ],
      "text/markdown": [
       "1. 26708\n",
       "2. 36\n",
       "\n",
       "\n"
      ],
      "text/plain": [
       "[1] 26708    36"
      ]
     },
     "metadata": {},
     "output_type": "display_data"
    },
    {
     "data": {
      "text/html": [
       "<style>\n",
       ".list-inline {list-style: none; margin:0; padding: 0}\n",
       ".list-inline>li {display: inline-block}\n",
       ".list-inline>li:not(:last-child)::after {content: \"\\00b7\"; padding: 0 .5ex}\n",
       "</style>\n",
       "<ol class=list-inline><li>26707</li><li>3</li></ol>\n"
      ],
      "text/latex": [
       "\\begin{enumerate*}\n",
       "\\item 26707\n",
       "\\item 3\n",
       "\\end{enumerate*}\n"
      ],
      "text/markdown": [
       "1. 26707\n",
       "2. 3\n",
       "\n",
       "\n"
      ],
      "text/plain": [
       "[1] 26707     3"
      ]
     },
     "metadata": {},
     "output_type": "display_data"
    }
   ],
   "source": [
    "# Training set features\n",
    "training_set_features <- read.csv(\"training_set_features.csv\", stringsAsFactors = T, na.strings = c(\"NA\", \"\"))\n",
    "dim(training_set_features)\n",
    "\n",
    "# Test set features\n",
    "test_set_features <- read.csv(\"test_set_features.csv\", stringsAsFactors = T, na.strings = c(\"NA\", \"\"))\n",
    "dim(test_set_features)\n",
    "\n",
    "# Training set labels\n",
    "training_set_labels <- read.csv(\"training_set_labels.csv\", stringsAsFactors = T, na.strings = c(\"NA\", \"\"))\n",
    "dim(training_set_labels)"
   ]
  },
  {
   "cell_type": "markdown",
   "metadata": {},
   "source": [
    "We can see that the training features set and the training labels set has the same amount of lines, this is a first good sign because it means that we have an \"answer\" for every training line."
   ]
  },
  {
   "cell_type": "markdown",
   "metadata": {},
   "source": [
    "## Missing value imputation\n"
   ]
  },
  {
   "cell_type": "markdown",
   "metadata": {},
   "source": [
    "We summarize our data before doing any work."
   ]
  },
  {
   "cell_type": "code",
   "execution_count": 3,
   "metadata": {},
   "outputs": [
    {
     "data": {
      "text/plain": [
       " respondent_id    h1n1_concern   h1n1_knowledge  behavioral_antiviral_meds\n",
       " Min.   :    0   Min.   :0.000   Min.   :0.000   Min.   :0.00000          \n",
       " 1st Qu.: 6676   1st Qu.:1.000   1st Qu.:1.000   1st Qu.:0.00000          \n",
       " Median :13353   Median :2.000   Median :1.000   Median :0.00000          \n",
       " Mean   :13353   Mean   :1.618   Mean   :1.263   Mean   :0.04884          \n",
       " 3rd Qu.:20030   3rd Qu.:2.000   3rd Qu.:2.000   3rd Qu.:0.00000          \n",
       " Max.   :26706   Max.   :3.000   Max.   :2.000   Max.   :1.00000          \n",
       "                 NA's   :92      NA's   :116     NA's   :71               \n",
       " behavioral_avoidance behavioral_face_mask behavioral_wash_hands\n",
       " Min.   :0.0000       Min.   :0.00000      Min.   :0.0000       \n",
       " 1st Qu.:0.0000       1st Qu.:0.00000      1st Qu.:1.0000       \n",
       " Median :1.0000       Median :0.00000      Median :1.0000       \n",
       " Mean   :0.7256       Mean   :0.06898      Mean   :0.8256       \n",
       " 3rd Qu.:1.0000       3rd Qu.:0.00000      3rd Qu.:1.0000       \n",
       " Max.   :1.0000       Max.   :1.00000      Max.   :1.0000       \n",
       " NA's   :208          NA's   :19           NA's   :42           \n",
       " behavioral_large_gatherings behavioral_outside_home behavioral_touch_face\n",
       " Min.   :0.0000              Min.   :0.0000          Min.   :0.0000       \n",
       " 1st Qu.:0.0000              1st Qu.:0.0000          1st Qu.:0.0000       \n",
       " Median :0.0000              Median :0.0000          Median :1.0000       \n",
       " Mean   :0.3586              Mean   :0.3373          Mean   :0.6773       \n",
       " 3rd Qu.:1.0000              3rd Qu.:1.0000          3rd Qu.:1.0000       \n",
       " Max.   :1.0000              Max.   :1.0000          Max.   :1.0000       \n",
       " NA's   :87                  NA's   :82              NA's   :128          \n",
       " doctor_recc_h1n1 doctor_recc_seasonal chronic_med_condition\n",
       " Min.   :0.0000   Min.   :0.0000       Min.   :0.0000       \n",
       " 1st Qu.:0.0000   1st Qu.:0.0000       1st Qu.:0.0000       \n",
       " Median :0.0000   Median :0.0000       Median :0.0000       \n",
       " Mean   :0.2203   Mean   :0.3297       Mean   :0.2833       \n",
       " 3rd Qu.:0.0000   3rd Qu.:1.0000       3rd Qu.:1.0000       \n",
       " Max.   :1.0000   Max.   :1.0000       Max.   :1.0000       \n",
       " NA's   :2160     NA's   :2160         NA's   :971          \n",
       " child_under_6_months health_worker    health_insurance\n",
       " Min.   :0.0000       Min.   :0.0000   Min.   :0.00    \n",
       " 1st Qu.:0.0000       1st Qu.:0.0000   1st Qu.:1.00    \n",
       " Median :0.0000       Median :0.0000   Median :1.00    \n",
       " Mean   :0.0826       Mean   :0.1119   Mean   :0.88    \n",
       " 3rd Qu.:0.0000       3rd Qu.:0.0000   3rd Qu.:1.00    \n",
       " Max.   :1.0000       Max.   :1.0000   Max.   :1.00    \n",
       " NA's   :820          NA's   :804      NA's   :12274   \n",
       " opinion_h1n1_vacc_effective opinion_h1n1_risk opinion_h1n1_sick_from_vacc\n",
       " Min.   :1.000               Min.   :1.000     Min.   :1.000              \n",
       " 1st Qu.:3.000               1st Qu.:1.000     1st Qu.:1.000              \n",
       " Median :4.000               Median :2.000     Median :2.000              \n",
       " Mean   :3.851               Mean   :2.343     Mean   :2.358              \n",
       " 3rd Qu.:5.000               3rd Qu.:4.000     3rd Qu.:4.000              \n",
       " Max.   :5.000               Max.   :5.000     Max.   :5.000              \n",
       " NA's   :391                 NA's   :388       NA's   :395                \n",
       " opinion_seas_vacc_effective opinion_seas_risk opinion_seas_sick_from_vacc\n",
       " Min.   :1.000               Min.   :1.000     Min.   :1.000              \n",
       " 1st Qu.:4.000               1st Qu.:2.000     1st Qu.:1.000              \n",
       " Median :4.000               Median :2.000     Median :2.000              \n",
       " Mean   :4.026               Mean   :2.719     Mean   :2.118              \n",
       " 3rd Qu.:5.000               3rd Qu.:4.000     3rd Qu.:4.000              \n",
       " Max.   :5.000               Max.   :5.000     Max.   :5.000              \n",
       " NA's   :462                 NA's   :514       NA's   :537                \n",
       "         age_group               education                    race      \n",
       " 18 - 34 Years:5215   < 12 Years      : 2363   Black            : 2118  \n",
       " 35 - 44 Years:3848   12 Years        : 5797   Hispanic         : 1755  \n",
       " 45 - 54 Years:5238   College Graduate:10097   Other or Multiple: 1612  \n",
       " 55 - 64 Years:5563   Some College    : 7043   White            :21222  \n",
       " 65+ Years    :6843   NA's            : 1407                            \n",
       "                                                                        \n",
       "                                                                        \n",
       "     sex                          income_poverty      marital_status \n",
       " Female:15858   <= $75,000, Above Poverty:12777   Married    :13555  \n",
       " Male  :10849   > $75,000                : 6810   Not Married:11744  \n",
       "                Below Poverty            : 2697   NA's       : 1408  \n",
       "                NA's                     : 4423                      \n",
       "                                                                     \n",
       "                                                                     \n",
       "                                                                     \n",
       " rent_or_own           employment_status  hhs_geo_region\n",
       " Own :18736   Employed          :13560   lzgpxyit:4297  \n",
       " Rent: 5929   Not in Labor Force:10231   fpwskwrf:3265  \n",
       " NA's: 2042   Unemployed        : 1453   qufhixun:3102  \n",
       "              NA's              : 1463   oxchjgsf:2859  \n",
       "                                         kbazzjca:2858  \n",
       "                                         bhuqouqj:2846  \n",
       "                                         (Other) :7480  \n",
       "                    census_msa    household_adults household_children\n",
       " MSA, Not Principle  City:11645   Min.   :0.0000   Min.   :0.0000    \n",
       " MSA, Principle City     : 7864   1st Qu.:0.0000   1st Qu.:0.0000    \n",
       " Non-MSA                 : 7198   Median :1.0000   Median :0.0000    \n",
       "                                  Mean   :0.8865   Mean   :0.5346    \n",
       "                                  3rd Qu.:1.0000   3rd Qu.:1.0000    \n",
       "                                  Max.   :3.0000   Max.   :3.0000    \n",
       "                                  NA's   :249      NA's   :249       \n",
       " employment_industry employment_occupation\n",
       " fcxhlnwr: 2468      xtkaffoo: 1778       \n",
       " wxleyezf: 1804      mxkfnird: 1509       \n",
       " ldnlellj: 1231      emcorrxb: 1270       \n",
       " pxcmvdjn: 1037      cmhcxjea: 1247       \n",
       " atmlpfrs:  926      xgwztkwe: 1082       \n",
       " (Other) : 5911      (Other) : 6351       \n",
       " NA's    :13330      NA's    :13470       "
      ]
     },
     "metadata": {},
     "output_type": "display_data"
    }
   ],
   "source": [
    "summary(training_set_features)"
   ]
  },
  {
   "cell_type": "markdown",
   "metadata": {},
   "source": [
    "We see that we have many missing values, in most features. We can compare the number of lines left if we remove any line containing any missing value."
   ]
  },
  {
   "cell_type": "code",
   "execution_count": 4,
   "metadata": {},
   "outputs": [
    {
     "name": "stdout",
     "output_type": "stream",
     "text": [
      "Training set :  26707 -> 6437 \n",
      "Test set     :  26708 -> 6499 \n",
      "Training labs:  26707 -> 26707"
     ]
    }
   ],
   "source": [
    "# First method\n",
    "cat(\"Training set : \", dim(training_set_features)[1], \"->\", dim(na.omit(training_set_features))[1], \"\\n\")\n",
    "cat(\"Test set     : \", dim(test_set_features)[1], \"->\", dim(na.omit(test_set_features))[1], \"\\n\")\n",
    "cat(\"Training labs: \", dim(training_set_labels)[1], \"->\", dim(na.omit(training_set_labels))[1])\n"
   ]
  },
  {
   "cell_type": "markdown",
   "metadata": {},
   "source": [
    "At least no line from the training labels misses any value, we can thus use every entry from the training set for both targets.\n",
    "Counting the number of missing value per feature allows us to see if some of the could be useless. The health insurance, employment occupation and employment industry lines are the emptiest (almost half of the lines miss this data) but by intuition this might be a huge factor in the vaccination decision so we keep it for now."
   ]
  },
  {
   "cell_type": "code",
   "execution_count": 5,
   "metadata": {},
   "outputs": [
    {
     "name": "stdout",
     "output_type": "stream",
     "text": [
      "      employment_occupation         employment_industry \n",
      "                      13470                       13330 \n",
      "           health_insurance              income_poverty \n",
      "                      12274                        4423 \n",
      "           doctor_recc_h1n1        doctor_recc_seasonal \n",
      "                       2160                        2160 \n",
      "                rent_or_own           employment_status \n",
      "                       2042                        1463 \n",
      "             marital_status                   education \n",
      "                       1408                        1407 \n",
      "      chronic_med_condition        child_under_6_months \n",
      "                        971                         820 \n",
      "              health_worker opinion_seas_sick_from_vacc \n",
      "                        804                         537 \n",
      "          opinion_seas_risk opinion_seas_vacc_effective \n",
      "                        514                         462 \n",
      "opinion_h1n1_sick_from_vacc opinion_h1n1_vacc_effective \n",
      "                        395                         391 \n",
      "          opinion_h1n1_risk            household_adults \n",
      "                        388                         249 \n",
      "         household_children        behavioral_avoidance \n",
      "                        249                         208 \n",
      "      behavioral_touch_face              h1n1_knowledge \n",
      "                        128                         116 \n",
      "               h1n1_concern behavioral_large_gatherings \n",
      "                         92                          87 \n",
      "    behavioral_outside_home   behavioral_antiviral_meds \n",
      "                         82                          71 \n",
      "      behavioral_wash_hands        behavioral_face_mask \n",
      "                         42                          19 \n",
      "              respondent_id                   age_group \n",
      "                          0                           0 \n",
      "                       race                         sex \n",
      "                          0                           0 \n",
      "             hhs_geo_region                  census_msa \n",
      "                          0                           0 \n"
     ]
    }
   ],
   "source": [
    "# On peut aussi regarder si certaines colonnes n'ont vraiment quasi aucune valeur, dans ce cas, ça vaut pas vraiment la peine de garder\n",
    "a <- sapply(training_set_features, function(x) sum(is.na(x)))\n",
    "print(a[order(a, decreasing=T)])"
   ]
  },
  {
   "cell_type": "markdown",
   "metadata": {},
   "source": [
    "What happens if we remove these fields ?"
   ]
  },
  {
   "cell_type": "code",
   "execution_count": 6,
   "metadata": {},
   "outputs": [
    {
     "name": "stdout",
     "output_type": "stream",
     "text": [
      "Training set :  26707 -> 19642 \n",
      "Test set     :  26708 -> 19592 \n",
      "Training labels:  26707 -> 26707"
     ]
    }
   ],
   "source": [
    "useful_nas <- which(sapply(test_set_features, function(x) sum(is.na(x))) > 10000)\n",
    "\n",
    "cat(\"Training set : \",\n",
    "    dim(training_set_features[,-useful_nas])[1], \"->\",\n",
    "    dim(na.omit(training_set_features[,-useful_nas]))[1], \"\\n\")\n",
    "cat(\"Test set     : \", dim(test_set_features[,-useful_nas])[1], \"->\",\n",
    "    dim(na.omit(test_set_features[,-useful_nas]))[1], \"\\n\")\n",
    "cat(\"Training labels: \", dim(training_set_labels)[1], \"->\", dim(na.omit(training_set_labels))[1])\n"
   ]
  },
  {
   "cell_type": "markdown",
   "metadata": {},
   "source": [
    "There are much less lines containing missing values. We will thus manage the three most missed fields differently."
   ]
  },
  {
   "cell_type": "markdown",
   "metadata": {},
   "source": [
    "## Imputation of missing numerical values"
   ]
  },
  {
   "cell_type": "code",
   "execution_count": 7,
   "metadata": {},
   "outputs": [],
   "source": [
    "# Imputation will be the same for training and testing so we merge them\n",
    "features_set <- rbind(training_set_features, test_set_features)\n",
    "\n",
    "\n",
    "# Note the indexes of each dataset to get them back after\n",
    "tr_indexes <- 1:nrow(training_set_features)\n",
    "ts_indexes <- (nrow(training_set_features)+1):(nrow(training_set_features) + nrow(test_set_features))\n"
   ]
  },
  {
   "cell_type": "markdown",
   "metadata": {},
   "source": [
    "### Integer encoding of some variables"
   ]
  },
  {
   "cell_type": "code",
   "execution_count": 8,
   "metadata": {},
   "outputs": [
    {
     "data": {
      "text/html": [
       "<style>\n",
       ".list-inline {list-style: none; margin:0; padding: 0}\n",
       ".list-inline>li {display: inline-block}\n",
       ".list-inline>li:not(:last-child)::after {content: \"\\00b7\"; padding: 0 .5ex}\n",
       "</style>\n",
       "<ol class=list-inline><li>'18 - 34 Years'</li><li>'35 - 44 Years'</li><li>'45 - 54 Years'</li><li>'55 - 64 Years'</li><li>'65+ Years'</li></ol>\n"
      ],
      "text/latex": [
       "\\begin{enumerate*}\n",
       "\\item '18 - 34 Years'\n",
       "\\item '35 - 44 Years'\n",
       "\\item '45 - 54 Years'\n",
       "\\item '55 - 64 Years'\n",
       "\\item '65+ Years'\n",
       "\\end{enumerate*}\n"
      ],
      "text/markdown": [
       "1. '18 - 34 Years'\n",
       "2. '35 - 44 Years'\n",
       "3. '45 - 54 Years'\n",
       "4. '55 - 64 Years'\n",
       "5. '65+ Years'\n",
       "\n",
       "\n"
      ],
      "text/plain": [
       "[1] \"18 - 34 Years\" \"35 - 44 Years\" \"45 - 54 Years\" \"55 - 64 Years\"\n",
       "[5] \"65+ Years\"    "
      ]
     },
     "metadata": {},
     "output_type": "display_data"
    },
    {
     "data": {
      "text/html": [
       "<style>\n",
       ".list-inline {list-style: none; margin:0; padding: 0}\n",
       ".list-inline>li {display: inline-block}\n",
       ".list-inline>li:not(:last-child)::after {content: \"\\00b7\"; padding: 0 .5ex}\n",
       "</style>\n",
       "<ol class=list-inline><li>'&lt; 12 Years'</li><li>'12 Years'</li><li>'College Graduate'</li><li>'Some College'</li></ol>\n"
      ],
      "text/latex": [
       "\\begin{enumerate*}\n",
       "\\item '< 12 Years'\n",
       "\\item '12 Years'\n",
       "\\item 'College Graduate'\n",
       "\\item 'Some College'\n",
       "\\end{enumerate*}\n"
      ],
      "text/markdown": [
       "1. '&lt; 12 Years'\n",
       "2. '12 Years'\n",
       "3. 'College Graduate'\n",
       "4. 'Some College'\n",
       "\n",
       "\n"
      ],
      "text/plain": [
       "[1] \"< 12 Years\"       \"12 Years\"         \"College Graduate\" \"Some College\"    "
      ]
     },
     "metadata": {},
     "output_type": "display_data"
    },
    {
     "data": {
      "text/html": [
       "<style>\n",
       ".list-inline {list-style: none; margin:0; padding: 0}\n",
       ".list-inline>li {display: inline-block}\n",
       ".list-inline>li:not(:last-child)::after {content: \"\\00b7\"; padding: 0 .5ex}\n",
       "</style>\n",
       "<ol class=list-inline><li>'&lt;= $75,000, Above Poverty'</li><li>'&gt; $75,000'</li><li>'Below Poverty'</li></ol>\n"
      ],
      "text/latex": [
       "\\begin{enumerate*}\n",
       "\\item '<= \\$75,000, Above Poverty'\n",
       "\\item '> \\$75,000'\n",
       "\\item 'Below Poverty'\n",
       "\\end{enumerate*}\n"
      ],
      "text/markdown": [
       "1. '&lt;= $75,000, Above Poverty'\n",
       "2. '&gt; $75,000'\n",
       "3. 'Below Poverty'\n",
       "\n",
       "\n"
      ],
      "text/plain": [
       "[1] \"<= $75,000, Above Poverty\" \"> $75,000\"                \n",
       "[3] \"Below Poverty\"            "
      ]
     },
     "metadata": {},
     "output_type": "display_data"
    },
    {
     "data": {
      "text/html": [
       "<style>\n",
       ".list-inline {list-style: none; margin:0; padding: 0}\n",
       ".list-inline>li {display: inline-block}\n",
       ".list-inline>li:not(:last-child)::after {content: \"\\00b7\"; padding: 0 .5ex}\n",
       "</style>\n",
       "<ol class=list-inline><li><span style=white-space:pre-wrap>'MSA, Not Principle  City'</span></li><li>'MSA, Principle City'</li><li>'Non-MSA'</li></ol>\n"
      ],
      "text/latex": [
       "\\begin{enumerate*}\n",
       "\\item 'MSA, Not Principle  City'\n",
       "\\item 'MSA, Principle City'\n",
       "\\item 'Non-MSA'\n",
       "\\end{enumerate*}\n"
      ],
      "text/markdown": [
       "1. <span style=white-space:pre-wrap>'MSA, Not Principle  City'</span>\n",
       "2. 'MSA, Principle City'\n",
       "3. 'Non-MSA'\n",
       "\n",
       "\n"
      ],
      "text/plain": [
       "[1] \"MSA, Not Principle  City\" \"MSA, Principle City\"     \n",
       "[3] \"Non-MSA\"                 "
      ]
     },
     "metadata": {},
     "output_type": "display_data"
    }
   ],
   "source": [
    "levels(features_set[, \"age_group\"])\n",
    "levels(features_set[, \"age_group\"]) <- 0:4\n",
    "features_set[, \"age_group\"] <- as.numeric(features_set[, \"age_group\"])\n",
    "features_set[, \"age_group\"] <- (features_set[, \"age_group\"] - 1)/4\n",
    "\n",
    "levels(features_set[, \"education\"])\n",
    "levels(features_set[, \"education\"]) <- 0:3\n",
    "features_set[, \"education\"] <- as.numeric(features_set[, \"education\"])\n",
    "features_set[, \"education\"] <- (features_set[, \"education\"] - 1)/3\n",
    "\n",
    "levels(features_set[, \"income_poverty\"])\n",
    "levels(features_set[, \"income_poverty\"]) <- c(1, 2, 0)\n",
    "features_set[, \"income_poverty\"] <- as.numeric(features_set[, \"income_poverty\"])\n",
    "features_set[, \"income_poverty\"] <- (features_set[, \"income_poverty\"] - 1)/2\n",
    "\n",
    "levels(features_set[, \"census_msa\"])\n",
    "levels(features_set[, \"census_msa\"]) <- c(1, 2, 0)\n",
    "features_set[, \"census_msa\"] <- as.numeric(features_set[, \"census_msa\"])\n",
    "features_set[, \"census_msa\"] <- (features_set[, \"census_msa\"] - 1)/2\n"
   ]
  },
  {
   "cell_type": "markdown",
   "metadata": {},
   "source": [
    "### Non negative matrix factorization based imputation"
   ]
  },
  {
   "cell_type": "markdown",
   "metadata": {},
   "source": [
    "Non negative matrix factorization is a procedure which consists of approximating a matrix with non negative values as the product of two matrices having smaller dimensions. More formally, a matrix $M$ of dimension $m\\times n$ is decomposed into two matrices $W$ and $H$ of dimensions $m\\times p$ and $p\\times n$ respectively such that $M \\approx WH$.\n",
    "\n",
    "More details concerning the imputation method can be found here https://www.ncbi.nlm.nih.gov/pmc/articles/PMC8510447/"
   ]
  },
  {
   "cell_type": "markdown",
   "metadata": {},
   "source": [
    "PseudoCode :\n",
    "\n",
    "```pseudocode\n",
    "Consider M of dim m x n having missing values\n",
    "Fix N > 0\n",
    "Normalize M and replace NAs using mean imputation\n",
    "k1 <- floor(max(abs(rank(M) - N/2), 1))\n",
    "kN = min(abs(rX + N/2), m, n)\n",
    "\n",
    "# Compute approximation\n",
    "initialize X array of size kN-k1+1\n",
    "for k in 1...kN-k1+1 do\n",
    "    Compute the nNMF of M on non missing values and store the result in X[k]\n",
    "\n",
    "## Based on all X[k], reconstruct M\n",
    "# Weights based only on non missing values of M\n",
    "initialize d array of size kN-k1+1\n",
    "for k in 1...kN-k1+1 do\n",
    "    Compute d[k] = sum(X_ij - M_ij)/ nb_nonNA\n",
    "\n",
    "# Reconstruct\n",
    "Initialize divisor=0, M_hat of 0 with same dim as M\n",
    "for k in 1...kN-k1+1 do\n",
    "    M_hat += exp(-d[k])*X[k]\n",
    "    denum += exp(-d[k])\n",
    "M_hat <- M_hat/denum\n",
    "```\n",
    "\n",
    "\n",
    "After these steps, M_hat does not contain missing values and the imputation is based on local and global information."
   ]
  },
  {
   "cell_type": "code",
   "execution_count": 9,
   "metadata": {},
   "outputs": [
    {
     "name": "stderr",
     "output_type": "stream",
     "text": [
      "Loading required package: ggplot2\n",
      "\n",
      "Loading required package: lattice\n",
      "\n"
     ]
    },
    {
     "data": {
      "text/plain": [
       "  h1n1_concern    h1n1_knowledge   behavioral_antiviral_meds\n",
       " Min.   :0.0000   Min.   :0.0000   Min.   :0.00000          \n",
       " 1st Qu.:0.3333   1st Qu.:0.5000   1st Qu.:0.00000          \n",
       " Median :0.6667   Median :0.5000   Median :0.00000          \n",
       " Mean   :0.5403   Mean   :0.6321   Mean   :0.04924          \n",
       " 3rd Qu.:0.6667   3rd Qu.:1.0000   3rd Qu.:0.00000          \n",
       " Max.   :1.0000   Max.   :1.0000   Max.   :1.00000          \n",
       " NA's   :177      NA's   :238      NA's   :150              \n",
       " behavioral_avoidance behavioral_face_mask behavioral_wash_hands\n",
       " Min.   :0.0000       Min.   :0.00000      Min.   :0.0000       \n",
       " 1st Qu.:0.0000       1st Qu.:0.00000      1st Qu.:1.0000       \n",
       " Median :1.0000       Median :0.00000      Median :1.0000       \n",
       " Mean   :0.7277       Mean   :0.06913      Mean   :0.8258       \n",
       " 3rd Qu.:1.0000       3rd Qu.:0.00000      3rd Qu.:1.0000       \n",
       " Max.   :1.0000       Max.   :1.00000      Max.   :1.0000       \n",
       " NA's   :421          NA's   :38           NA's   :82           \n",
       " behavioral_large_gatherings behavioral_outside_home behavioral_touch_face\n",
       " Min.   :0.0000              Min.   :0.0000          Min.   :0.0000       \n",
       " 1st Qu.:0.0000              1st Qu.:0.0000          1st Qu.:0.0000       \n",
       " Median :0.0000              Median :0.0000          Median :1.0000       \n",
       " Mean   :0.3551              Mean   :0.3373          Mean   :0.6805       \n",
       " 3rd Qu.:1.0000              3rd Qu.:1.0000          3rd Qu.:1.0000       \n",
       " Max.   :1.0000              Max.   :1.0000          Max.   :1.0000       \n",
       " NA's   :159                 NA's   :164             NA's   :256          \n",
       " doctor_recc_h1n1 doctor_recc_seasonal chronic_med_condition\n",
       " Min.   :0.000    Min.   :0.000        Min.   :0.0000       \n",
       " 1st Qu.:0.000    1st Qu.:0.000        1st Qu.:0.0000       \n",
       " Median :0.000    Median :0.000        Median :0.0000       \n",
       " Mean   :0.221    Mean   :0.332        Mean   :0.2821       \n",
       " 3rd Qu.:0.000    3rd Qu.:1.000        3rd Qu.:1.0000       \n",
       " Max.   :1.000    Max.   :1.000        Max.   :1.0000       \n",
       " NA's   :4320     NA's   :4320         NA's   :1903         \n",
       " child_under_6_months health_worker    opinion_h1n1_vacc_effective\n",
       " Min.   :0.0000       Min.   :0.0000   Min.   :0.0000             \n",
       " 1st Qu.:0.0000       1st Qu.:0.0000   1st Qu.:0.5000             \n",
       " Median :0.0000       Median :0.0000   Median :0.7500             \n",
       " Mean   :0.0845       Mean   :0.1117   Mean   :0.7119             \n",
       " 3rd Qu.:0.0000       3rd Qu.:0.0000   3rd Qu.:1.0000             \n",
       " Max.   :1.0000       Max.   :1.0000   Max.   :1.0000             \n",
       " NA's   :1633         NA's   :1593     NA's   :789                \n",
       " opinion_h1n1_risk opinion_h1n1_sick_from_vacc opinion_seas_vacc_effective\n",
       " Min.   :0.0000    Min.   :0.0000              Min.   :0.0000             \n",
       " 1st Qu.:0.0000    1st Qu.:0.0000              1st Qu.:0.7500             \n",
       " Median :0.2500    Median :0.2500              Median :0.7500             \n",
       " Mean   :0.3337    Mean   :0.3398              Mean   :0.7564             \n",
       " 3rd Qu.:0.7500    3rd Qu.:0.7500              3rd Qu.:1.0000             \n",
       " Max.   :1.0000    Max.   :1.0000              Max.   :1.0000             \n",
       " NA's   :768       NA's   :770                 NA's   :914                \n",
       " opinion_seas_risk opinion_seas_sick_from_vacc   age_group     \n",
       " Min.   :0.0000    Min.   :0.0000              Min.   :0.0000  \n",
       " 1st Qu.:0.2500    1st Qu.:0.0000              1st Qu.:0.2500  \n",
       " Median :0.2500    Median :0.2500              Median :0.5000  \n",
       " Mean   :0.4285    Mean   :0.2827              Mean   :0.5445  \n",
       " 3rd Qu.:0.7500    3rd Qu.:0.7500              3rd Qu.:1.0000  \n",
       " Max.   :1.0000    Max.   :1.0000              Max.   :1.0000  \n",
       " NA's   :1013      NA's   :1058                                \n",
       "   education      income_poverty    census_msa    household_adults\n",
       " Min.   :0.0000   Min.   :0.000   Min.   :0.000   Min.   :0.0000  \n",
       " 1st Qu.:0.3333   1st Qu.:0.000   1st Qu.:0.000   1st Qu.:0.0000  \n",
       " Median :0.6667   Median :0.000   Median :0.500   Median :0.3333  \n",
       " Mean   :0.6221   Mean   :0.272   Mean   :0.412   Mean   :0.2968  \n",
       " 3rd Qu.:1.0000   3rd Qu.:0.500   3rd Qu.:1.000   3rd Qu.:0.3333  \n",
       " Max.   :1.0000   Max.   :1.000   Max.   :1.000   Max.   :1.0000  \n",
       " NA's   :2814     NA's   :8920                    NA's   :474     \n",
       " household_children\n",
       " Min.   :0.0000    \n",
       " 1st Qu.:0.0000    \n",
       " Median :0.0000    \n",
       " Mean   :0.1797    \n",
       " 3rd Qu.:0.3333    \n",
       " Max.   :1.0000    \n",
       " NA's   :474       "
      ]
     },
     "metadata": {},
     "output_type": "display_data"
    }
   ],
   "source": [
    "library(NMFN)\n",
    "\n",
    "# We work only on the columns of numeric type\n",
    "numeric_variables_idx<-which(sapply(features_set[1,],class)!=\"factor\")\n",
    "numeric_variables_idx <- numeric_variables_idx[-c(1, 16)] # Remove resp ID and health insur\n",
    "\n",
    "# We need to normalize this data to use efficient nNMF\n",
    "library(\"caret\")\n",
    "\n",
    "ss <- preProcess(as.data.frame(features_set[, numeric_variables_idx]), method=c(\"range\"))\n",
    "features_set[,numeric_variables_idx] <- predict(ss, as.data.frame(features_set[, numeric_variables_idx]))\n",
    "summary(features_set[, numeric_variables_idx])\n"
   ]
  },
  {
   "cell_type": "code",
   "execution_count": 10,
   "metadata": {},
   "outputs": [],
   "source": [
    "# Define the function that will compute nmf\n",
    "nfm_mult_upd <- function(R, K, missing_idx, maxit=800, eps=2.2204e-16) {\n",
    "    # Using weighted multiplicative rule Zhu 2016\n",
    "    # init random W and H\n",
    "    print(paste(\"[INFO] : NMF with k=\", K))\n",
    "    R <- as.matrix(R)\n",
    "    I <- dim(R)[1]\n",
    "    J <- dim(R)[2]\n",
    "    M <- matrix(1, nrow = dim(R)[1], ncol = dim(R)[2])\n",
    "    M[missing_idx] <- 0\n",
    "    X <- R # Store original R\n",
    "    R <- R*M\n",
    "    W <- matrix(runif(I*K), nrow = I, ncol = K)\n",
    "    H <- matrix(runif(K*J), nrow = K, ncol = J)\n",
    "    \n",
    "    n <- 0\n",
    "    d1 <- 1000\n",
    "    d2 <- 1000\n",
    "    while(n < maxit && !(d1 < eps && d2 < eps)) {\n",
    "        if (n %% 100 == 0) {\n",
    "            print(paste(\"[INFO] : iter\", n, \" Relative error is :\", distance2(X, W%*%H)/distance2(X, R*0)))\n",
    "        }\n",
    "        newH <- H* (t(W) %*% R) / (t(W) %*% W %*% H)\n",
    "        newW <- W*(R %*% t(newH)) / ((W %*% newH) %*% t(newH))\n",
    "        \n",
    "        d1 <- distance2(newH, H)\n",
    "        d2 <- distance2(newW, W)\n",
    "        \n",
    "        H <- newH\n",
    "        W <- newW\n",
    "        n <- n+1\n",
    "    }\n",
    "    \n",
    "    Res <- W%*%H\n",
    "    #Res[missing_idx] <- X[missing_idx]\n",
    "    nmf <- list(\"res\"=Res, \"dst\"=distance2(R, Res)/distance2(R, 0))\n",
    "    return(nmf)\n",
    "}\n"
   ]
  },
  {
   "cell_type": "code",
   "execution_count": 11,
   "metadata": {},
   "outputs": [],
   "source": [
    "# 1: initialize by defining N and replace NAs by mean\n",
    "N <- 4\n",
    "\n",
    "replace_na_with_mean_value<-function(vec) {\n",
    "    mean_vec <- mean(as.numeric(vec), na.rm=TRUE)\n",
    "    vec[is.na(vec)]<-mean_vec\n",
    "    vec\n",
    "}\n",
    "\n",
    "X<-data.frame(apply(features_set[, numeric_variables_idx], MARGIN=2, replace_na_with_mean_value))\n",
    "miss_idx = which(is.na(features_set[,numeric_variables_idx]), arr.ind = T)\n",
    "non_miss_idx <- which(!is.na(features_set[,numeric_variables_idx]), arr.ind = T)\n",
    "\n"
   ]
  },
  {
   "cell_type": "code",
   "execution_count": 12,
   "metadata": {},
   "outputs": [
    {
     "name": "stderr",
     "output_type": "stream",
     "text": [
      "Warning message in rankMatrix(X):\n",
      "“rankMatrix(<large sparse Matrix>, method = 'tolNorm2') coerces to dense matrix.\n",
      " Probably should rather use method = 'qr' !?”\n"
     ]
    },
    {
     "data": {
      "text/html": [
       "<style>\n",
       ".list-inline {list-style: none; margin:0; padding: 0}\n",
       ".list-inline>li {display: inline-block}\n",
       ".list-inline>li:not(:last-child)::after {content: \"\\00b7\"; padding: 0 .5ex}\n",
       "</style>\n",
       "<ol class=list-inline><li>3</li><li>53415</li><li>26</li></ol>\n"
      ],
      "text/latex": [
       "\\begin{enumerate*}\n",
       "\\item 3\n",
       "\\item 53415\n",
       "\\item 26\n",
       "\\end{enumerate*}\n"
      ],
      "text/markdown": [
       "1. 3\n",
       "2. 53415\n",
       "3. 26\n",
       "\n",
       "\n"
      ],
      "text/plain": [
       "[1]     3 53415    26"
      ]
     },
     "metadata": {},
     "output_type": "display_data"
    },
    {
     "name": "stdout",
     "output_type": "stream",
     "text": [
      "[1] \"[INFO] : NMF with k= 24\"\n",
      "[1] \"[INFO] : iter 0  Relative error is : 102.379350736508\"\n",
      "[1] \"[INFO] : iter 100  Relative error is : 0.049836856952929\"\n",
      "[1] \"[INFO] : iter 200  Relative error is : 0.037363236108705\"\n",
      "[1] \"[INFO] : iter 300  Relative error is : 0.032979480310818\"\n",
      "[1] \"[INFO] : iter 400  Relative error is : 0.0308040094724638\"\n",
      "[1] \"[INFO] : iter 500  Relative error is : 0.0284114313381648\"\n",
      "[1] \"[INFO] : iter 600  Relative error is : 0.0267378554082752\"\n",
      "[1] \"[INFO] : iter 700  Relative error is : 0.0250835127026672\"\n",
      "[1] \"Computed nmf, final dist is 0.0155656872304426\"\n",
      "[1] \"[INFO] : NMF with k= 25\"\n",
      "[1] \"[INFO] : iter 0  Relative error is : 105.88639192926\"\n",
      "[1] \"[INFO] : iter 100  Relative error is : 0.0376683274772725\"\n",
      "[1] \"[INFO] : iter 200  Relative error is : 0.0290107127327798\"\n",
      "[1] \"[INFO] : iter 300  Relative error is : 0.0236154637767103\"\n",
      "[1] \"[INFO] : iter 400  Relative error is : 0.0214581011709531\"\n",
      "[1] \"[INFO] : iter 500  Relative error is : 0.020394299311901\"\n",
      "[1] \"[INFO] : iter 600  Relative error is : 0.0196941366543559\"\n",
      "[1] \"[INFO] : iter 700  Relative error is : 0.0193099283081424\"\n",
      "[1] \"Computed nmf, final dist is 0.0103518832524261\"\n",
      "[1] \"[INFO] : NMF with k= 26\"\n",
      "[1] \"[INFO] : iter 0  Relative error is : 109.076227768822\"\n",
      "[1] \"[INFO] : iter 100  Relative error is : 0.0401347340890354\"\n",
      "[1] \"[INFO] : iter 200  Relative error is : 0.0295235330692998\"\n",
      "[1] \"[INFO] : iter 300  Relative error is : 0.026468830521451\"\n",
      "[1] \"[INFO] : iter 400  Relative error is : 0.0239561188959172\"\n",
      "[1] \"[INFO] : iter 500  Relative error is : 0.0219725898891598\"\n",
      "[1] \"[INFO] : iter 600  Relative error is : 0.0199970261282536\"\n",
      "[1] \"[INFO] : iter 700  Relative error is : 0.0191195722570502\"\n",
      "[1] \"Computed nmf, final dist is 0.00943636657318307\"\n"
     ]
    }
   ],
   "source": [
    "# 2: nNMF for k=k1 to K=kN with masking missing values\n",
    "library(Matrix) # For rankMatrix \n",
    "rX <- rankMatrix(X)\n",
    "k1 = floor(max(abs(rX - N/2), 1))\n",
    "kN = min(abs(rX + N/2), dim(X)[1], dim(X)[2])\n",
    "\n",
    "X_hat = array(0, dim = c(kN-k1+1, nrow(X), ncol(X)))\n",
    "dim(X_hat)\n",
    "for (K in k1:kN) {\n",
    "    # compute NMF\n",
    "    nmf <- nfm_mult_upd(X, K, missing_idx = miss_idx, maxit=800)\n",
    "    print(paste(\"Computed nmf, final dist is\", nmf$dst))\n",
    "    X_hat[K-k1+1,,] <- nmf$res\n",
    "}\n"
   ]
  },
  {
   "cell_type": "code",
   "execution_count": 13,
   "metadata": {},
   "outputs": [],
   "source": [
    "# 3: weighted reconstruction\n",
    "d = array(0, dim = c(kN-k1+1))\n",
    "for (K in 1:(kN-k1+1)) {\n",
    "    # Reconstruction error based on non missing values\n",
    "    d[K] <- sum(abs(X_hat[K,,][non_miss_idx] - X[non_miss_idx]))/nrow(non_miss_idx)\n",
    "}\n",
    "\n",
    "X_hat_f <- matrix(0, nrow = nrow(X), ncol = ncol(X))\n",
    "denum <- 0\n",
    "for (K in 1:(kN-k1+1)) {\n",
    "    # Reconstruction matrix\n",
    "    X_hat_f <- X_hat_f + exp(-d[K])*X_hat[K,,]\n",
    "    denum <- denum + exp(-d[K])\n",
    "}\n",
    "X_hat_f <- X_hat_f / sum(exp(-d))\n"
   ]
  },
  {
   "cell_type": "code",
   "execution_count": 14,
   "metadata": {},
   "outputs": [
    {
     "data": {
      "text/plain": [
       "       V1                  V2                  V3          \n",
       " Min.   :0.0000314   Min.   :0.0000036   Min.   :0.000000  \n",
       " 1st Qu.:0.3456898   1st Qu.:0.4999746   1st Qu.:0.004629  \n",
       " Median :0.5773749   Median :0.5000038   Median :0.018822  \n",
       " Mean   :0.5435452   Mean   :0.6309477   Mean   :0.051731  \n",
       " 3rd Qu.:0.6830849   3rd Qu.:0.9999794   3rd Qu.:0.034775  \n",
       " Max.   :1.1058737   Max.   :1.0004168   Max.   :0.666693  "
      ]
     },
     "metadata": {},
     "output_type": "display_data"
    },
    {
     "data": {
      "text/plain": [
       "  h1n1_concern    h1n1_knowledge   behavioral_antiviral_meds\n",
       " Min.   :0.0000   Min.   :0.0000   Min.   :0.00000          \n",
       " 1st Qu.:0.3333   1st Qu.:0.5000   1st Qu.:0.00000          \n",
       " Median :0.6667   Median :0.5000   Median :0.00000          \n",
       " Mean   :0.5403   Mean   :0.6321   Mean   :0.04924          \n",
       " 3rd Qu.:0.6667   3rd Qu.:1.0000   3rd Qu.:0.00000          \n",
       " Max.   :1.0000   Max.   :1.0000   Max.   :1.00000          "
      ]
     },
     "metadata": {},
     "output_type": "display_data"
    }
   ],
   "source": [
    "summary(X_hat_f[, c(1, 2, 3)])\n",
    "summary(X[, c(1, 2, 3)])"
   ]
  },
  {
   "cell_type": "markdown",
   "metadata": {},
   "source": [
    "We see that we have similar summaries but if we looked at the variances the NNMF would give more realistic results"
   ]
  },
  {
   "cell_type": "code",
   "execution_count": 15,
   "metadata": {},
   "outputs": [],
   "source": [
    "# Replace in the feature set\n",
    "X[miss_idx] <- X_hat_f[miss_idx]\n",
    "features_set[, numeric_variables_idx] <- X"
   ]
  },
  {
   "cell_type": "markdown",
   "metadata": {},
   "source": [
    "## Feature engineering\n"
   ]
  },
  {
   "cell_type": "markdown",
   "metadata": {},
   "source": [
    "### Factor variables"
   ]
  },
  {
   "cell_type": "markdown",
   "metadata": {},
   "source": [
    "Now that we managed numerical variabels we can work on encoding the categorical ones which we did not work on yet.\n",
    "\n",
    "Getting back to the columns containing many missing values, we use one hot encoding and create a category \"missing\", considering that not having this piece of information could be meaning something."
   ]
  },
  {
   "cell_type": "code",
   "execution_count": 16,
   "metadata": {},
   "outputs": [],
   "source": [
    "useful_nas <- which(sapply(test_set_features, function(x) sum(is.na(x))) > 10000)\n",
    "\n",
    "library(fastDummies)\n",
    "features_set <- dummy_cols(features_set, \n",
    "                           select_columns = names(useful_nas),\n",
    "                           remove_selected_columns = T)\n",
    "\n",
    "## Change NAs to 0 for the new one hot encoded columns\n",
    "replace_na_with_0<-function(vec) {\n",
    "    vec[is.na(vec)]<-0\n",
    "    vec\n",
    "}\n",
    "\n",
    "useful_nas_feat_idx <- c(grep(\"health_insurance_*\", colnames(features_set)))\n",
    "useful_nas_feat_idx <- c(useful_nas_feat_idx, grep(\"employment_industry*\", colnames(features_set)))\n",
    "useful_nas_feat_idx <- c(useful_nas_feat_idx, grep(\"employment_occup*\", colnames(features_set)))\n",
    "\n",
    "features_set[,useful_nas_feat_idx] <- replace_na_with_0(features_set[,useful_nas_feat_idx])"
   ]
  },
  {
   "cell_type": "markdown",
   "metadata": {},
   "source": [
    "The remaining columns will be treated the same."
   ]
  },
  {
   "cell_type": "code",
   "execution_count": 17,
   "metadata": {},
   "outputs": [
    {
     "data": {
      "text/plain": [
       " respondent_id    h1n1_concern    h1n1_knowledge   behavioral_antiviral_meds\n",
       " Min.   :    0   Min.   :0.0000   Min.   :0.0000   Min.   :0.00000          \n",
       " 1st Qu.:13354   1st Qu.:0.3333   1st Qu.:0.5000   1st Qu.:0.00000          \n",
       " Median :26707   Median :0.6667   Median :0.5000   Median :0.00000          \n",
       " Mean   :26707   Mean   :0.5391   Mean   :0.6294   Mean   :0.04925          \n",
       " 3rd Qu.:40060   3rd Qu.:0.6667   3rd Qu.:1.0000   3rd Qu.:0.00000          \n",
       " Max.   :53414   Max.   :1.0000   Max.   :1.0000   Max.   :1.00000          \n",
       " behavioral_avoidance behavioral_face_mask behavioral_wash_hands\n",
       " Min.   :0.0000       Min.   :0.00000      Min.   :0.0000       \n",
       " 1st Qu.:0.0000       1st Qu.:0.00000      1st Qu.:1.0000       \n",
       " Median :1.0000       Median :0.00000      Median :1.0000       \n",
       " Mean   :0.7222       Mean   :0.06909      Mean   :0.8246       \n",
       " 3rd Qu.:1.0000       3rd Qu.:0.00000      3rd Qu.:1.0000       \n",
       " Max.   :1.0000       Max.   :1.00000      Max.   :1.0000       \n",
       " behavioral_large_gatherings behavioral_outside_home behavioral_touch_face\n",
       " Min.   :0.000               Min.   :0.0000          Min.   :0.0000       \n",
       " 1st Qu.:0.000               1st Qu.:0.0000          1st Qu.:0.0000       \n",
       " Median :0.000               Median :0.0000          Median :1.0000       \n",
       " Mean   :0.354               Mean   :0.3362          Mean   :0.6774       \n",
       " 3rd Qu.:1.000               3rd Qu.:1.0000          3rd Qu.:1.0000       \n",
       " Max.   :1.000               Max.   :1.0000          Max.   :1.0000       \n",
       " doctor_recc_h1n1    doctor_recc_seasonal chronic_med_condition\n",
       " Min.   :0.0000000   Min.   :0.0000       Min.   :0.0000       \n",
       " 1st Qu.:0.0000000   1st Qu.:0.0000       1st Qu.:0.0000       \n",
       " Median :0.0000000   Median :0.0000       Median :0.0000       \n",
       " Mean   :0.2036703   Mean   :0.3049       Mean   :0.2721       \n",
       " 3rd Qu.:0.0000873   3rd Qu.:1.0000       3rd Qu.:1.0000       \n",
       " Max.   :1.0000000   Max.   :1.0000       Max.   :1.0000       \n",
       " child_under_6_months health_worker    opinion_h1n1_vacc_effective\n",
       " Min.   :0.00000      Min.   :0.0000   Min.   :0.0000             \n",
       " 1st Qu.:0.00000      1st Qu.:0.0000   1st Qu.:0.5000             \n",
       " Median :0.00000      Median :0.0000   Median :0.7500             \n",
       " Mean   :0.08246      Mean   :0.1084   Mean   :0.7029             \n",
       " 3rd Qu.:0.00000      3rd Qu.:0.0000   3rd Qu.:1.0000             \n",
       " Max.   :1.00000      Max.   :1.0000   Max.   :1.0000             \n",
       " opinion_h1n1_risk opinion_h1n1_sick_from_vacc opinion_seas_vacc_effective\n",
       " Min.   :0.000     Min.   :0.0000              Min.   :0.0000             \n",
       " 1st Qu.:0.000     1st Qu.:0.0000              1st Qu.:0.7500             \n",
       " Median :0.250     Median :0.2500              Median :0.7500             \n",
       " Mean   :0.329     Mean   :0.3354              Mean   :0.7454             \n",
       " 3rd Qu.:0.750     3rd Qu.:0.7500              3rd Qu.:1.0000             \n",
       " Max.   :1.000     Max.   :1.0000              Max.   :1.0000             \n",
       " opinion_seas_risk opinion_seas_sick_from_vacc   age_group     \n",
       " Min.   :0.0000    Min.   :0.0000              Min.   :0.0000  \n",
       " 1st Qu.:0.2500    1st Qu.:0.0000              1st Qu.:0.2500  \n",
       " Median :0.2500    Median :0.2500              Median :0.5000  \n",
       " Mean   :0.4206    Mean   :0.2772              Mean   :0.5445  \n",
       " 3rd Qu.:0.7500    3rd Qu.:0.5000              3rd Qu.:1.0000  \n",
       " Max.   :1.0000    Max.   :1.0000              Max.   :1.0000  \n",
       "   education      income_poverty        census_msa    household_adults\n",
       " Min.   :0.0000   Min.   :0.0000000   Min.   :0.000   Min.   :0.0000  \n",
       " 1st Qu.:0.3333   1st Qu.:0.0000000   1st Qu.:0.000   1st Qu.:0.0000  \n",
       " Median :0.6667   Median :0.0001434   Median :0.500   Median :0.3333  \n",
       " Mean   :0.5899   Mean   :0.2267656   Mean   :0.412   Mean   :0.2944  \n",
       " 3rd Qu.:1.0000   3rd Qu.:0.5000000   3rd Qu.:1.000   3rd Qu.:0.3333  \n",
       " Max.   :1.0000   Max.   :1.0000000   Max.   :1.000   Max.   :1.0000  \n",
       " household_children health_insurance_0 health_insurance_1 health_insurance_NA\n",
       " Min.   :0.0000     Min.   :0.00000    Min.   :0.0000     Min.   :0.0000     \n",
       " 1st Qu.:0.0000     1st Qu.:0.00000    1st Qu.:0.0000     1st Qu.:0.0000     \n",
       " Median :0.0000     Median :0.00000    Median :0.0000     Median :0.0000     \n",
       " Mean   :0.1782     Mean   :0.06288    Mean   :0.4784     Mean   :0.4587     \n",
       " 3rd Qu.:0.3333     3rd Qu.:0.00000    3rd Qu.:1.0000     3rd Qu.:1.0000     \n",
       " Max.   :1.0000     Max.   :1.00000    Max.   :1.0000     Max.   :1.0000     \n",
       " employment_industry_arjwrbjb employment_industry_atmlpfrs\n",
       " Min.   :0.00000              Min.   :0.00000             \n",
       " 1st Qu.:0.00000              1st Qu.:0.00000             \n",
       " Median :0.00000              Median :0.00000             \n",
       " Mean   :0.03287              Mean   :0.03272             \n",
       " 3rd Qu.:0.00000              3rd Qu.:0.00000             \n",
       " Max.   :1.00000              Max.   :1.00000             \n",
       " employment_industry_cfqqtusy employment_industry_dotnnunm\n",
       " Min.   :0.00000              Min.   :0.000000            \n",
       " 1st Qu.:0.00000              1st Qu.:0.000000            \n",
       " Median :0.00000              Median :0.000000            \n",
       " Mean   :0.01178              Mean   :0.007882            \n",
       " 3rd Qu.:0.00000              3rd Qu.:0.000000            \n",
       " Max.   :1.00000              Max.   :1.000000            \n",
       " employment_industry_fcxhlnwr employment_industry_haxffmxo\n",
       " Min.   :0.00000              Min.   :0.000000            \n",
       " 1st Qu.:0.00000              1st Qu.:0.000000            \n",
       " Median :0.00000              Median :0.000000            \n",
       " Mean   :0.09271              Mean   :0.005766            \n",
       " 3rd Qu.:0.00000              3rd Qu.:0.000000            \n",
       " Max.   :1.00000              Max.   :1.000000            \n",
       " employment_industry_ldnlellj employment_industry_mcubkhph\n",
       " Min.   :0.00000              Min.   :0.00000             \n",
       " 1st Qu.:0.00000              1st Qu.:0.00000             \n",
       " Median :0.00000              Median :0.00000             \n",
       " Mean   :0.04596              Mean   :0.01005             \n",
       " 3rd Qu.:0.00000              3rd Qu.:0.00000             \n",
       " Max.   :1.00000              Max.   :1.00000             \n",
       " employment_industry_mfikgejo employment_industry_msuufmds\n",
       " Min.   :0.00000              Min.   :0.000000            \n",
       " 1st Qu.:0.00000              1st Qu.:0.000000            \n",
       " Median :0.00000              Median :0.000000            \n",
       " Mean   :0.02364              Mean   :0.004793            \n",
       " 3rd Qu.:0.00000              3rd Qu.:0.000000            \n",
       " Max.   :1.00000              Max.   :1.000000            \n",
       " employment_industry_nduyfdeo employment_industry_phxvnwax\n",
       " Min.   :0.00000              Min.   :0.000000            \n",
       " 1st Qu.:0.00000              1st Qu.:0.000000            \n",
       " Median :0.00000              Median :0.000000            \n",
       " Mean   :0.01082              Mean   :0.003183            \n",
       " 3rd Qu.:0.00000              3rd Qu.:0.000000            \n",
       " Max.   :1.00000              Max.   :1.000000            \n",
       " employment_industry_pxcmvdjn employment_industry_qnlwzans\n",
       " Min.   :0.0000               Min.   :0.0000000           \n",
       " 1st Qu.:0.0000               1st Qu.:0.0000000           \n",
       " Median :0.0000               Median :0.0000000           \n",
       " Mean   :0.0396               Mean   :0.0003557           \n",
       " 3rd Qu.:0.0000               3rd Qu.:0.0000000           \n",
       " Max.   :1.0000               Max.   :1.0000000           \n",
       " employment_industry_rucpziij employment_industry_saaquncn\n",
       " Min.   :0.00000              Min.   :0.00000             \n",
       " 1st Qu.:0.00000              1st Qu.:0.00000             \n",
       " Median :0.00000              Median :0.00000             \n",
       " Mean   :0.01986              Mean   :0.01266             \n",
       " 3rd Qu.:0.00000              3rd Qu.:0.00000             \n",
       " Max.   :1.00000              Max.   :1.00000             \n",
       " employment_industry_vjjrobsf employment_industry_wlfvacwt\n",
       " Min.   :0.00000              Min.   :0.000000            \n",
       " 1st Qu.:0.00000              1st Qu.:0.000000            \n",
       " Median :0.00000              Median :0.000000            \n",
       " Mean   :0.02048              Mean   :0.007994            \n",
       " 3rd Qu.:0.00000              3rd Qu.:0.000000            \n",
       " Max.   :1.00000              Max.   :1.000000            \n",
       " employment_industry_wxleyezf employment_industry_xicduogh\n",
       " Min.   :0.00000              Min.   :0.00000             \n",
       " 1st Qu.:0.00000              1st Qu.:0.00000             \n",
       " Median :0.00000              Median :0.00000             \n",
       " Mean   :0.06757              Mean   :0.03179             \n",
       " 3rd Qu.:0.00000              3rd Qu.:0.00000             \n",
       " Max.   :1.00000              Max.   :1.00000             \n",
       " employment_industry_xqicxuve employment_industry_NA\n",
       " Min.   :0.00000              Min.   :0.0000        \n",
       " 1st Qu.:0.00000              1st Qu.:0.0000        \n",
       " Median :0.00000              Median :0.0000        \n",
       " Mean   :0.01943              Mean   :0.4981        \n",
       " 3rd Qu.:0.00000              3rd Qu.:1.0000        \n",
       " Max.   :1.00000              Max.   :1.0000        \n",
       " employment_occupation_bxpfxfdn employment_occupation_ccgxvspp\n",
       " Min.   :0.00000                Min.   :0.00000               \n",
       " 1st Qu.:0.00000                1st Qu.:0.00000               \n",
       " Median :0.00000                Median :0.00000               \n",
       " Mean   :0.01239                Mean   :0.01327               \n",
       " 3rd Qu.:0.00000                3rd Qu.:0.00000               \n",
       " Max.   :1.00000                Max.   :1.00000               \n",
       " employment_occupation_cmhcxjea employment_occupation_dcjcmpih\n",
       " Min.   :0.00000                Min.   :0.000000              \n",
       " 1st Qu.:0.00000                1st Qu.:0.000000              \n",
       " Median :0.00000                Median :0.000000              \n",
       " Mean   :0.04626                Mean   :0.005785              \n",
       " 3rd Qu.:0.00000                3rd Qu.:0.000000              \n",
       " Max.   :1.00000                Max.   :1.000000              \n",
       " employment_occupation_dlvbwzss employment_occupation_emcorrxb\n",
       " Min.   :0.000000               Min.   :0.00000               \n",
       " 1st Qu.:0.000000               1st Qu.:0.00000               \n",
       " Median :0.000000               Median :0.00000               \n",
       " Mean   :0.008837               Mean   :0.04781               \n",
       " 3rd Qu.:0.000000               3rd Qu.:0.00000               \n",
       " Max.   :1.000000               Max.   :1.00000               \n",
       " employment_occupation_haliazsg employment_occupation_hfxkjkmi\n",
       " Min.   :0.00000                Min.   :0.00000               \n",
       " 1st Qu.:0.00000                1st Qu.:0.00000               \n",
       " Median :0.00000                Median :0.00000               \n",
       " Mean   :0.01116                Mean   :0.02791               \n",
       " 3rd Qu.:0.00000                3rd Qu.:0.00000               \n",
       " Max.   :1.00000                Max.   :1.00000               \n",
       " employment_occupation_hodpvpew employment_occupation_kldqjyjy\n",
       " Min.   :0.00000                Min.   :0.00000               \n",
       " 1st Qu.:0.00000                1st Qu.:0.00000               \n",
       " Median :0.00000                Median :0.00000               \n",
       " Mean   :0.00863                Mean   :0.01713               \n",
       " 3rd Qu.:0.00000                3rd Qu.:0.00000               \n",
       " Max.   :1.00000                Max.   :1.00000               \n",
       " employment_occupation_mxkfnird employment_occupation_oijqvulv\n",
       " Min.   :0.00000                Min.   :0.00000               \n",
       " 1st Qu.:0.00000                1st Qu.:0.00000               \n",
       " Median :0.00000                Median :0.00000               \n",
       " Mean   :0.05747                Mean   :0.01292               \n",
       " 3rd Qu.:0.00000                3rd Qu.:0.00000               \n",
       " Max.   :1.00000                Max.   :1.00000               \n",
       " employment_occupation_pvmttkik employment_occupation_qxajmpny\n",
       " Min.   :0.000000               Min.   :0.0000                \n",
       " 1st Qu.:0.000000               1st Qu.:0.0000                \n",
       " Median :0.000000               Median :0.0000                \n",
       " Mean   :0.003857               Mean   :0.0196                \n",
       " 3rd Qu.:0.000000               3rd Qu.:0.0000                \n",
       " Max.   :1.000000               Max.   :1.0000                \n",
       " employment_occupation_rcertsgn employment_occupation_tfqavkke\n",
       " Min.   :0.00000                Min.   :0.00000               \n",
       " 1st Qu.:0.00000                1st Qu.:0.00000               \n",
       " Median :0.00000                Median :0.00000               \n",
       " Mean   :0.01073                Mean   :0.01479               \n",
       " 3rd Qu.:0.00000                3rd Qu.:0.00000               \n",
       " Max.   :1.00000                Max.   :1.00000               \n",
       " employment_occupation_ukymxvdu employment_occupation_uqqtjvyb\n",
       " Min.   :0.00000                Min.   :0.00000               \n",
       " 1st Qu.:0.00000                1st Qu.:0.00000               \n",
       " Median :0.00000                Median :0.00000               \n",
       " Mean   :0.01312                Mean   :0.01784               \n",
       " 3rd Qu.:0.00000                3rd Qu.:0.00000               \n",
       " Max.   :1.00000                Max.   :1.00000               \n",
       " employment_occupation_vlluhbov employment_occupation_xgwztkwe\n",
       " Min.   :0.00000                Min.   :0.00000               \n",
       " 1st Qu.:0.00000                1st Qu.:0.00000               \n",
       " Median :0.00000                Median :0.00000               \n",
       " Mean   :0.01271                Mean   :0.04156               \n",
       " 3rd Qu.:0.00000                3rd Qu.:0.00000               \n",
       " Max.   :1.00000                Max.   :1.00000               \n",
       " employment_occupation_xqwwgdyp employment_occupation_xtkaffoo\n",
       " Min.   :0.00000                Min.   :0.00000               \n",
       " 1st Qu.:0.00000                1st Qu.:0.00000               \n",
       " Median :0.00000                Median :0.00000               \n",
       " Mean   :0.01797                Mean   :0.06601               \n",
       " 3rd Qu.:0.00000                3rd Qu.:0.00000               \n",
       " Max.   :1.00000                Max.   :1.00000               \n",
       " employment_occupation_xzmlyyjv employment_occupation_NA   race_Black     \n",
       " Min.   :0.000000               Min.   :0.0000           Min.   :0.00000  \n",
       " 1st Qu.:0.000000               1st Qu.:0.0000           1st Qu.:0.00000  \n",
       " Median :0.000000               Median :1.0000           Median :0.00000  \n",
       " Mean   :0.008687               Mean   :0.5035           Mean   :0.08035  \n",
       " 3rd Qu.:0.000000               3rd Qu.:1.0000           3rd Qu.:0.00000  \n",
       " Max.   :1.000000               Max.   :1.0000           Max.   :1.00000  \n",
       " race_Hispanic     race_Other or Multiple   race_White       sex_Female    \n",
       " Min.   :0.00000   Min.   :0.00000        Min.   :0.0000   Min.   :0.0000  \n",
       " 1st Qu.:0.00000   1st Qu.:0.00000        1st Qu.:1.0000   1st Qu.:0.0000  \n",
       " Median :0.00000   Median :0.00000        Median :1.0000   Median :1.0000  \n",
       " Mean   :0.06474   Mean   :0.05882        Mean   :0.7961   Mean   :0.5933  \n",
       " 3rd Qu.:0.00000   3rd Qu.:0.00000        3rd Qu.:1.0000   3rd Qu.:1.0000  \n",
       " Max.   :1.00000   Max.   :1.00000        Max.   :1.0000   Max.   :1.0000  \n",
       "    sex_Male      marital_status_Married marital_status_Not Married\n",
       " Min.   :0.0000   Min.   :0.0000         Min.   :0.0000            \n",
       " 1st Qu.:0.0000   1st Qu.:0.0000         1st Qu.:0.0000            \n",
       " Median :0.0000   Median :1.0000         Median :0.0000            \n",
       " Mean   :0.4067   Mean   :0.5074         Mean   :0.4392            \n",
       " 3rd Qu.:1.0000   3rd Qu.:1.0000         3rd Qu.:1.0000            \n",
       " Max.   :1.0000   Max.   :1.0000         Max.   :1.0000            \n",
       " marital_status_NA rent_or_own_Own  rent_or_own_Rent rent_or_own_NA   \n",
       " Min.   :0.00000   Min.   :0.0000   Min.   :0.0000   Min.   :0.00000  \n",
       " 1st Qu.:0.00000   1st Qu.:0.0000   1st Qu.:0.0000   1st Qu.:0.00000  \n",
       " Median :0.00000   Median :1.0000   Median :0.0000   Median :0.00000  \n",
       " Mean   :0.05336   Mean   :0.7012   Mean   :0.2224   Mean   :0.07635  \n",
       " 3rd Qu.:0.00000   3rd Qu.:1.0000   3rd Qu.:0.0000   3rd Qu.:0.00000  \n",
       " Max.   :1.00000   Max.   :1.0000   Max.   :1.0000   Max.   :1.00000  \n",
       " employment_status_Employed employment_status_Not in Labor Force\n",
       " Min.   :0.0000             Min.   :0.0000                      \n",
       " 1st Qu.:0.0000             1st Qu.:0.0000                      \n",
       " Median :1.0000             Median :0.0000                      \n",
       " Mean   :0.5091             Mean   :0.3805                      \n",
       " 3rd Qu.:1.0000             3rd Qu.:1.0000                      \n",
       " Max.   :1.0000             Max.   :1.0000                      \n",
       " employment_status_Unemployed employment_status_NA hhs_geo_region_atmpeygn\n",
       " Min.   :0.00000              Min.   :0.00000      Min.   :0.00000        \n",
       " 1st Qu.:0.00000              1st Qu.:0.00000      1st Qu.:0.00000        \n",
       " Median :0.00000              Median :0.00000      Median :0.00000        \n",
       " Mean   :0.05553              Mean   :0.05493      Mean   :0.07524        \n",
       " 3rd Qu.:0.00000              3rd Qu.:0.00000      3rd Qu.:0.00000        \n",
       " Max.   :1.00000              Max.   :1.00000      Max.   :1.00000        \n",
       " hhs_geo_region_bhuqouqj hhs_geo_region_dqpwygqj hhs_geo_region_fpwskwrf\n",
       " Min.   :0.000           Min.   :0.00000         Min.   :0.0000         \n",
       " 1st Qu.:0.000           1st Qu.:0.00000         1st Qu.:0.0000         \n",
       " Median :0.000           Median :0.00000         Median :0.0000         \n",
       " Mean   :0.107           Mean   :0.04263         Mean   :0.1218         \n",
       " 3rd Qu.:0.000           3rd Qu.:0.00000         3rd Qu.:0.0000         \n",
       " Max.   :1.000           Max.   :1.00000         Max.   :1.0000         \n",
       " hhs_geo_region_kbazzjca hhs_geo_region_lrircsnp hhs_geo_region_lzgpxyit\n",
       " Min.   :0.0000          Min.   :0.00000         Min.   :0.0000         \n",
       " 1st Qu.:0.0000          1st Qu.:0.00000         1st Qu.:0.0000         \n",
       " Median :0.0000          Median :0.00000         Median :0.0000         \n",
       " Mean   :0.1067          Mean   :0.07676         Mean   :0.1621         \n",
       " 3rd Qu.:0.0000          3rd Qu.:0.00000         3rd Qu.:0.0000         \n",
       " Max.   :1.0000          Max.   :1.00000         Max.   :1.0000         \n",
       " hhs_geo_region_mlyzmhmf hhs_geo_region_oxchjgsf hhs_geo_region_qufhixun\n",
       " Min.   :0.00000         Min.   :0.0000          Min.   :0.0000         \n",
       " 1st Qu.:0.00000         1st Qu.:0.0000          1st Qu.:0.0000         \n",
       " Median :0.00000         Median :0.0000          Median :0.0000         \n",
       " Mean   :0.08286         Mean   :0.1094          Mean   :0.1154         \n",
       " 3rd Qu.:0.00000         3rd Qu.:0.0000          3rd Qu.:0.0000         \n",
       " Max.   :1.00000         Max.   :1.0000          Max.   :1.0000         "
      ]
     },
     "metadata": {},
     "output_type": "display_data"
    }
   ],
   "source": [
    "factor_variables<-which(sapply(features_set[1,],class)==\"factor\")\n",
    "factor_col_names <- colnames(factor_variables)\n",
    "\n",
    "features_set_int_encoded <- dummy_cols(features_set,\n",
    "                                       select_columns = factor_col_names,\n",
    "                                       ignore_na = F,\n",
    "                                       remove_selected_columns = T)\n",
    "\n",
    "\n",
    "features_set_int_encoded <- replace_na_with_0(features_set_int_encoded)\n",
    "\n",
    "tr_set_enc <- features_set_int_encoded[tr_indexes,]\n",
    "ts_set_enc <- features_set_int_encoded[ts_indexes,]\n",
    "\n",
    "summary(features_set_int_encoded)"
   ]
  },
  {
   "cell_type": "markdown",
   "metadata": {},
   "source": [
    "## Feature selection\n"
   ]
  },
  {
   "cell_type": "markdown",
   "metadata": {},
   "source": [
    "PCA was used to select the best features. This technique creates new fewer but more representative features from the current set of features."
   ]
  },
  {
   "cell_type": "code",
   "execution_count": 18,
   "metadata": {},
   "outputs": [
    {
     "data": {
      "text/plain": [
       "Importance of components:\n",
       "                          PC1     PC2     PC3     PC4     PC5    PC6     PC7\n",
       "Standard deviation     1.0217 0.78070 0.75060 0.71353 0.66244 0.5738 0.55043\n",
       "Proportion of Variance 0.1217 0.07109 0.06571 0.05938 0.05118 0.0384 0.03534\n",
       "Cumulative Proportion  0.1217 0.19283 0.25854 0.31793 0.36911 0.4075 0.44285\n",
       "                           PC8     PC9    PC10    PC11    PC12   PC13    PC14\n",
       "Standard deviation     0.48662 0.46437 0.45430 0.42466 0.42035 0.4151 0.40546\n",
       "Proportion of Variance 0.02762 0.02515 0.02407 0.02103 0.02061 0.0201 0.01917\n",
       "Cumulative Proportion  0.47046 0.49562 0.51969 0.54072 0.56133 0.5814 0.60060\n",
       "                          PC15    PC16    PC17    PC18    PC19    PC20    PC21\n",
       "Standard deviation     0.38819 0.37757 0.36287 0.34811 0.34411 0.33599 0.33011\n",
       "Proportion of Variance 0.01758 0.01663 0.01536 0.01413 0.01381 0.01317 0.01271\n",
       "Cumulative Proportion  0.61818 0.63481 0.65016 0.66430 0.67811 0.69128 0.70399\n",
       "                          PC22    PC23    PC24    PC25    PC26    PC27    PC28\n",
       "Standard deviation     0.32044 0.31776 0.31594 0.30661 0.30340 0.30070 0.29911\n",
       "Proportion of Variance 0.01198 0.01178 0.01164 0.01097 0.01074 0.01055 0.01043\n",
       "Cumulative Proportion  0.71596 0.72774 0.73938 0.75035 0.76108 0.77163 0.78206\n",
       "                          PC29    PC30    PC31    PC32    PC33    PC34    PC35\n",
       "Standard deviation     0.29247 0.27951 0.27683 0.27047 0.26949 0.26697 0.26476\n",
       "Proportion of Variance 0.00998 0.00911 0.00894 0.00853 0.00847 0.00831 0.00818\n",
       "Cumulative Proportion  0.79204 0.80115 0.81009 0.81862 0.82710 0.83541 0.84358\n",
       "                          PC36    PC37    PC38    PC39    PC40   PC41    PC42\n",
       "Standard deviation     0.25583 0.25403 0.24771 0.24522 0.24209 0.2414 0.23846\n",
       "Proportion of Variance 0.00763 0.00753 0.00716 0.00701 0.00684 0.0068 0.00663\n",
       "Cumulative Proportion  0.85122 0.85874 0.86590 0.87291 0.87975 0.8865 0.89318\n",
       "                          PC43   PC44   PC45    PC46    PC47    PC48    PC49\n",
       "Standard deviation     0.23122 0.2211 0.2112 0.20973 0.20628 0.20528 0.20400\n",
       "Proportion of Variance 0.00624 0.0057 0.0052 0.00513 0.00496 0.00492 0.00485\n",
       "Cumulative Proportion  0.89941 0.9051 0.9103 0.91545 0.92041 0.92533 0.93018\n",
       "                         PC50    PC51    PC52    PC53    PC54    PC55    PC56\n",
       "Standard deviation     0.2007 0.18885 0.18122 0.17655 0.17245 0.16784 0.16538\n",
       "Proportion of Variance 0.0047 0.00416 0.00383 0.00364 0.00347 0.00329 0.00319\n",
       "Cumulative Proportion  0.9349 0.93904 0.94287 0.94650 0.94997 0.95326 0.95645\n",
       "                          PC57    PC58    PC59    PC60    PC61    PC62    PC63\n",
       "Standard deviation     0.16111 0.15794 0.15274 0.14407 0.13438 0.13009 0.12878\n",
       "Proportion of Variance 0.00303 0.00291 0.00272 0.00242 0.00211 0.00197 0.00193\n",
       "Cumulative Proportion  0.95947 0.96238 0.96510 0.96752 0.96963 0.97160 0.97354\n",
       "                          PC64    PC65    PC66   PC67    PC68    PC69    PC70\n",
       "Standard deviation     0.12145 0.11622 0.11510 0.1133 0.11167 0.10733 0.10525\n",
       "Proportion of Variance 0.00172 0.00158 0.00155 0.0015 0.00145 0.00134 0.00129\n",
       "Cumulative Proportion  0.97526 0.97683 0.97838 0.9799 0.98133 0.98267 0.98397\n",
       "                          PC71   PC72    PC73    PC74    PC75    PC76    PC77\n",
       "Standard deviation     0.10348 0.1013 0.09967 0.09589 0.09557 0.09321 0.09215\n",
       "Proportion of Variance 0.00125 0.0012 0.00116 0.00107 0.00107 0.00101 0.00099\n",
       "Cumulative Proportion  0.98522 0.9864 0.98757 0.98864 0.98971 0.99072 0.99171\n",
       "                          PC78    PC79    PC80    PC81    PC82    PC83    PC84\n",
       "Standard deviation     0.08926 0.08813 0.08791 0.08522 0.08355 0.08302 0.08160\n",
       "Proportion of Variance 0.00093 0.00091 0.00090 0.00085 0.00081 0.00080 0.00078\n",
       "Cumulative Proportion  0.99264 0.99355 0.99445 0.99530 0.99611 0.99691 0.99769\n",
       "                          PC85    PC86    PC87    PC88    PC89    PC90     PC91\n",
       "Standard deviation     0.07245 0.06855 0.06389 0.05504 0.04854 0.01928 0.003124\n",
       "Proportion of Variance 0.00061 0.00055 0.00048 0.00035 0.00027 0.00004 0.000000\n",
       "Cumulative Proportion  0.99830 0.99885 0.99933 0.99968 0.99996 1.00000 1.000000\n",
       "                            PC92      PC93      PC94     PC95      PC96\n",
       "Standard deviation     2.158e-14 8.894e-15 7.808e-15 6.59e-15 3.653e-15\n",
       "Proportion of Variance 0.000e+00 0.000e+00 0.000e+00 0.00e+00 0.000e+00\n",
       "Cumulative Proportion  1.000e+00 1.000e+00 1.000e+00 1.00e+00 1.000e+00\n",
       "                            PC97      PC98      PC99     PC100\n",
       "Standard deviation     1.645e-15 4.792e-16 1.368e-16 9.199e-17\n",
       "Proportion of Variance 0.000e+00 0.000e+00 0.000e+00 0.000e+00\n",
       "Cumulative Proportion  1.000e+00 1.000e+00 1.000e+00 1.000e+00"
      ]
     },
     "metadata": {},
     "output_type": "display_data"
    }
   ],
   "source": [
    "training_features <- tr_set_enc[, -c(1)]\n",
    "training_labels <- training_set_labels\n",
    "label_1 <- training_labels[,\"h1n1_vaccine\"]\n",
    "label_2 <- training_labels[, \"seasonal_vaccine\"]\n",
    "labels <- cbind(h1n1_vaccine=label_1, seasonal_vaccine=label_2)\n",
    "\n",
    "testing_features <- ts_set_enc[, -c(1)]\n",
    "feature_set <- rbind(training_features, testing_features)\n",
    "feature_set <- feature_set[, -c(1)] # remove resp id\n",
    "pca <- prcomp(feature_set)\n",
    "summary(pca)\n",
    "\n",
    "pca_feat_set <- pca$x[,1:54]\n",
    "\n",
    "library(\"caret\")\n",
    "\n",
    "ss <- preProcess(as.data.frame(pca_feat_set), method=c(\"range\"))\n",
    "pca_feat_set <- predict(ss, as.data.frame(pca_feat_set))\n",
    "\n",
    "pca_tr_set <- pca_feat_set[1:26707,]\n",
    "pca_ts_set <- pca_feat_set[26708:53415,]\n"
   ]
  },
  {
   "cell_type": "markdown",
   "metadata": {},
   "source": [
    "The choice of the 54 features was made on the basis of the analysis of the pca summary. Indeed, the standard deviations and variances allowed us to conclude that 54 features were sufficient to train a model. The cumulative proportion also shows that after taking 54 features, 95% of the variance of the problem was defined, which seems enough considering the division by tzo."
   ]
  },
  {
   "cell_type": "markdown",
   "metadata": {},
   "source": [
    "# Model selection\n"
   ]
  },
  {
   "cell_type": "markdown",
   "metadata": {},
   "source": [
    "One of the first thing to define is the way in which the models will be compared and evaluated. To fit with the way the Driven Data plateforne is evaluating scores, the ROC and AUC are used to estimate the efficienty of a method. Those two mesures are computed with the following code."
   ]
  },
  {
   "cell_type": "code",
   "execution_count": 19,
   "metadata": {},
   "outputs": [],
   "source": [
    "AUCROC <- function(Y_pred, Y, title_of_curve) {\n",
    "    thresholds <- seq(0,0.99,0.05)\n",
    "    FPR <- c()\n",
    "    TPR <- c()\n",
    "\n",
    "    for(threshold in thresholds){\n",
    "      Y_hat <- ifelse(Y_pred > threshold,1,0) \n",
    "      confusion_matrix <- table(Y_hat,Y)\n",
    "\n",
    "      if(dim(confusion_matrix)[1] < 2){ \n",
    "        if(rownames(confusion_matrix) == 0){\n",
    "          confusion_matrix <- rbind(confusion_matrix,c(0,0))\n",
    "          rownames(confusion_matrix)[2] <- 1\n",
    "        }\n",
    "        if(rownames(confusion_matrix) == 1){\n",
    "          confusion_matrix <- rbind(c(0,0),confusion_matrix)\n",
    "          rownames(confusion_matrix)[1] <- 0\n",
    "        }\n",
    "      }\n",
    "\n",
    "      FP <- confusion_matrix[2,1]\n",
    "      TP <- confusion_matrix[2,2]\n",
    "      N_N <- sum(confusion_matrix[,1]) # Total number of 0's\n",
    "      N_P <- sum(confusion_matrix[,2]) # Total number of 1's\n",
    "\n",
    "      FPR <- c(FPR,FP/N_N)\n",
    "      TPR <- c(TPR,TP/N_P)\n",
    "    }\n",
    "    FPR <- c(1, FPR, 0)\n",
    "    TPR <- c(1, TPR, 0)\n",
    "    plot.new()\n",
    "    plot(FPR,TPR)\n",
    "    lines(FPR,TPR,col=\"blue\")\n",
    "    lines(thresholds,thresholds,lty=2)\n",
    "    title(title_of_curve)\n",
    "    AUC <- sum(abs(diff(FPR)) * (head(TPR,-1)+tail(TPR,-1)))/2\n",
    "    return (AUC)\n",
    "}"
   ]
  },
  {
   "cell_type": "markdown",
   "metadata": {},
   "source": [
    "## Model 1\n",
    "First the linear model is going to be used. It is one the fastest model to train and it will give a good idea of the kind of relation that exists between features and labels. The only difference with the model viewed in practicals is that two outputs are predicted at a time, it means that the train set needs to have the two labels."
   ]
  },
  {
   "cell_type": "code",
   "execution_count": 20,
   "metadata": {},
   "outputs": [],
   "source": [
    "total_train_set <- cbind(pca_tr_set, labels)"
   ]
  },
  {
   "cell_type": "markdown",
   "metadata": {},
   "source": [
    "Before making the prediction for the given test values, it is important to check that the model fits by doing a cross-validation and calculating the AUC and ROC. First, the cross-validation with the multivariate linear model."
   ]
  },
  {
   "cell_type": "code",
   "execution_count": 21,
   "metadata": {},
   "outputs": [],
   "source": [
    "# Separation of the train in two groups in order to calculate the error between prediction and reality.\n",
    "vaccine_idx <- sample(1:nrow(total_train_set))\n",
    "half_split <- floor(nrow(total_train_set)/2)\n",
    "train_data_set <- total_train_set[vaccine_idx[1:half_split],]\n",
    "test_data <- total_train_set[vaccine_idx[(half_split+1):nrow(total_train_set)],]\n",
    "target_idx <- ncol(train_data_set)\n",
    "targets <- c(target_idx, target_idx-1)\n",
    "\n",
    "# Linear model & prediction\n",
    "model <- lm(cbind(h1n1_vaccine, seasonal_vaccine)~., data=train_data_set)\n",
    "Y_pred <- predict(model,test_data[,-targets])"
   ]
  },
  {
   "cell_type": "code",
   "execution_count": 22,
   "metadata": {},
   "outputs": [
    {
     "name": "stdout",
     "output_type": "stream",
     "text": [
      "[1] \"[INFO] - Training set size: 12017 - Testing set size 1336\"\n",
      "[1] \"[INFO] - Misclassification rate h1n1 - 1 fold: 0.159431137724551\"\n",
      "[1] \"[INFO] - Misclassification rate seasonal - 1 fold: 0.225299401197605\"\n",
      "[1] \"[INFO] - Training set size: 12017 - Testing set size 1336\"\n",
      "[1] \"[INFO] - Misclassification rate h1n1 - 2 fold: 0.152694610778443\"\n",
      "[1] \"[INFO] - Misclassification rate seasonal - 2 fold: 0.229041916167665\"\n",
      "[1] \"[INFO] - Training set size: 12017 - Testing set size 1336\"\n",
      "[1] \"[INFO] - Misclassification rate h1n1 - 3 fold: 0.169161676646707\"\n",
      "[1] \"[INFO] - Misclassification rate seasonal - 3 fold: 0.224550898203593\"\n",
      "[1] \"[INFO] - Training set size: 12017 - Testing set size 1336\"\n",
      "[1] \"[INFO] - Misclassification rate h1n1 - 4 fold: 0.155688622754491\"\n",
      "[1] \"[INFO] - Misclassification rate seasonal - 4 fold: 0.237275449101796\"\n",
      "[1] \"[INFO] - Training set size: 12017 - Testing set size 1336\"\n",
      "[1] \"[INFO] - Misclassification rate h1n1 - 5 fold: 0.166916167664671\"\n",
      "[1] \"[INFO] - Misclassification rate seasonal - 5 fold: 0.199101796407186\"\n",
      "[1] \"[INFO] - Training set size: 12017 - Testing set size 1336\"\n",
      "[1] \"[INFO] - Misclassification rate h1n1 - 6 fold: 0.163173652694611\"\n",
      "[1] \"[INFO] - Misclassification rate seasonal - 6 fold: 0.226796407185629\"\n",
      "[1] \"[INFO] - Training set size: 12017 - Testing set size 1336\"\n",
      "[1] \"[INFO] - Misclassification rate h1n1 - 7 fold: 0.139970059880239\"\n",
      "[1] \"[INFO] - Misclassification rate seasonal - 7 fold: 0.24251497005988\"\n",
      "[1] \"[INFO] - Training set size: 12017 - Testing set size 1336\"\n",
      "[1] \"[INFO] - Misclassification rate h1n1 - 8 fold: 0.159431137724551\"\n",
      "[1] \"[INFO] - Misclassification rate seasonal - 8 fold: 0.228293413173653\"\n",
      "[1] \"[INFO] - Training set size: 12017 - Testing set size 1336\"\n",
      "[1] \"[INFO] - Misclassification rate h1n1 - 9 fold: 0.160928143712575\"\n",
      "[1] \"[INFO] - Misclassification rate seasonal - 9 fold: 0.219311377245509\"\n",
      "[1] \"[INFO] - Training set size: 12024 - Testing set size 1329\"\n",
      "[1] \"[INFO] - Misclassification rate h1n1 - 10 fold: 0.154251316779534\"\n",
      "[1] \"[INFO] - Misclassification rate seasonal - 10 fold: 0.221218961625282\"\n",
      "[1] \"[INFO] - Mean misclassification rate h1n1: 0.158164652636037\"\n",
      "[1] \"[INFO] - Mean misclassification rate seasonal: 0.22534045903678\"\n"
     ]
    }
   ],
   "source": [
    "k = 10\n",
    "accuracy_vec_h1n1 <- array(0,k)\n",
    "accuracy_vec_seasonal <- array(0,k)\n",
    "threshold <- 0.5\n",
    "\n",
    "# 1. Shuffle the dataset randomly.\n",
    "vaccine_idx <- sample(1:nrow(train_data_set))\n",
    "\n",
    "# 2. Split the dataset into k groups\n",
    "max <- ceiling(nrow(train_data_set)/k)\n",
    "splits <- split(vaccine_idx, ceiling(seq_along(vaccine_idx)/max))\n",
    "\n",
    "# 3. For each unique group:\n",
    "for (i in 1:k){\n",
    "  #3.1 Take the group as a hold out or test data set\n",
    "  test_data <- train_data_set[splits[[i]],]\n",
    "  \n",
    "  #3.2 Take the remaining groups as a training data set\n",
    "  train_data <- train_data_set[-splits[[i]],]\n",
    "  print(paste(\"[INFO] - Training set size:\",dim(train_data)[1],\"- Testing set size\",dim(test_data)[1]))\n",
    "  \n",
    "  #3.3 Fit a model on the training set and evaluate it on the test set\n",
    "  model <- lm(cbind(h1n1_vaccine, seasonal_vaccine) ~ ., data=train_data)\n",
    "  Y_pred <- predict(model,test_data[,-targets])\n",
    "  Y_h1n1 <- test_data[,targets[2]]\n",
    "  Y_seasonal <- test_data[,targets[1]]\n",
    "  \n",
    "  #3.4 Store the prediction of the tree (2 is to take only the P(Y=\"spam\"|x))\n",
    "  Y_hat <- ifelse(Y_pred > threshold,1,0) \n",
    "  # Need one confusion matrix for h1n1 and one for seasonal\n",
    "  confusion_matrix_h1n1 <- table(Y_hat[,1],Y_h1n1)\n",
    "  confusion_matrix_seasonal <- table(Y_hat[,2],Y_seasonal)\n",
    "  \n",
    "  #3.5 Retain the evaluation score and discard the model\n",
    "  accuracy_vec_h1n1[i] = (confusion_matrix_h1n1[1,1]+confusion_matrix_h1n1[2,2])/sum(confusion_matrix_h1n1)\n",
    "  misclassification_rate = 1 - accuracy_vec_h1n1[i]\n",
    "  print(paste(\"[INFO] - Misclassification rate h1n1 -\",i,\"fold:\",misclassification_rate))\n",
    "  \n",
    "  accuracy_vec_seasonal[i] = (confusion_matrix_seasonal[1,1]+confusion_matrix_seasonal[2,2])/sum(confusion_matrix_seasonal)\n",
    "  misclassification_rate = 1 - accuracy_vec_seasonal[i]\n",
    "  print(paste(\"[INFO] - Misclassification rate seasonal -\",i,\"fold:\",misclassification_rate))\n",
    "  \n",
    "}\n",
    "\n",
    "#4. Summarize the skill of the model using the sample of model evaluation scores\n",
    "print(paste(\"[INFO] - Mean misclassification rate h1n1:\",1-mean(accuracy_vec_h1n1)))\n",
    "print(paste(\"[INFO] - Mean misclassification rate seasonal:\",1-mean(accuracy_vec_seasonal)))"
   ]
  },
  {
   "cell_type": "markdown",
   "metadata": {},
   "source": [
    "This gives us the misclassification rate for each of the targets. The missclassification rate is not perfect but is enough to decide to use this model for the first try.\n",
    "Then, the ROC and AUC for each of the target."
   ]
  },
  {
   "cell_type": "code",
   "execution_count": 23,
   "metadata": {},
   "outputs": [
    {
     "data": {
      "image/png": "[encoded data removed]",
      "text/plain": [
       "Plot with title “ROC Curve for seasonal vaccine”"
      ]
     },
     "metadata": {
      "image/png": {
       "height": 420,
       "width": 420
      }
     },
     "output_type": "display_data"
    },
    {
     "data": {
      "image/png": "[encoded data removed]",
      "text/plain": [
       "Plot with title “ROC Curve for h1n1 vaccine”"
      ]
     },
     "metadata": {
      "image/png": {
       "height": 420,
       "width": 420
      }
     },
     "output_type": "display_data"
    }
   ],
   "source": [
    "# ROC for seasonal vaccine\n",
    "\n",
    "AUC_seasonal = AUCROC(Y_pred[,2], test_data[,targets[1]],\"ROC Curve for seasonal vaccine\")\n",
    "\n",
    "# ROC for h1n1 vaccine\n",
    "\n",
    "AUC_h1n1 =  AUCROC(Y_pred[,1], test_data[,targets[2]],\"ROC Curve for h1n1 vaccine\")"
   ]
  },
  {
   "cell_type": "markdown",
   "metadata": {},
   "source": [
    "Now that the linear model is validated, it can be used to predict the outcome with the test set."
   ]
  },
  {
   "cell_type": "code",
   "execution_count": 24,
   "metadata": {},
   "outputs": [
    {
     "data": {
      "text/plain": [
       "Response h1n1_vaccine :\n",
       "\n",
       "Call:\n",
       "lm(formula = h1n1_vaccine ~ PC1 + PC2 + PC3 + PC4 + PC5 + PC6 + \n",
       "    PC7 + PC8 + PC9 + PC10 + PC11 + PC12 + PC13 + PC14 + PC15 + \n",
       "    PC16 + PC17 + PC18 + PC19 + PC20 + PC21 + PC22 + PC23 + PC24 + \n",
       "    PC25 + PC26 + PC27 + PC28 + PC29 + PC30 + PC31 + PC32 + PC33 + \n",
       "    PC34 + PC35 + PC36 + PC37 + PC38 + PC39 + PC40 + PC41 + PC42 + \n",
       "    PC43 + PC44 + PC45 + PC46 + PC47 + PC48 + PC49 + PC50 + PC51 + \n",
       "    PC52 + PC53 + PC54, data = total_train_set)\n",
       "\n",
       "Residuals:\n",
       "     Min       1Q   Median       3Q      Max \n",
       "-0.95156 -0.21001 -0.07254  0.10617  1.19323 \n",
       "\n",
       "Coefficients:\n",
       "             Estimate Std. Error t value Pr(>|t|)    \n",
       "(Intercept)  0.242945   0.067698   3.589 0.000333 ***\n",
       "PC1          0.011476   0.007131   1.609 0.107551    \n",
       "PC2          0.642089   0.012395  51.802  < 2e-16 ***\n",
       "PC3          0.018383   0.013342   1.378 0.168265    \n",
       "PC4         -0.298355   0.009788 -30.481  < 2e-16 ***\n",
       "PC5          0.432738   0.012652  34.203  < 2e-16 ***\n",
       "PC6          0.139736   0.014799   9.442  < 2e-16 ***\n",
       "PC7         -0.685847   0.013915 -49.290  < 2e-16 ***\n",
       "PC8          0.309569   0.017442  17.748  < 2e-16 ***\n",
       "PC9         -0.086075   0.015361  -5.603 2.12e-08 ***\n",
       "PC10        -0.077230   0.015162  -5.094 3.54e-07 ***\n",
       "PC11        -0.502557   0.017707 -28.381  < 2e-16 ***\n",
       "PC12         0.007963   0.017828   0.447 0.655117    \n",
       "PC13         0.270290   0.017218  15.698  < 2e-16 ***\n",
       "PC14        -0.219152   0.017271 -12.689  < 2e-16 ***\n",
       "PC15         0.036907   0.012597   2.930 0.003394 ** \n",
       "PC16         0.009751   0.017685   0.551 0.581383    \n",
       "PC17         0.135331   0.016963   7.978 1.55e-15 ***\n",
       "PC18        -0.320230   0.017471 -18.330  < 2e-16 ***\n",
       "PC19        -0.168743   0.014691 -11.486  < 2e-16 ***\n",
       "PC20        -0.029306   0.011665  -2.512 0.012003 *  \n",
       "PC21         0.136964   0.016517   8.292  < 2e-16 ***\n",
       "PC22        -0.021659   0.014467  -1.497 0.134383    \n",
       "PC23        -0.095870   0.016590  -5.779 7.60e-09 ***\n",
       "PC24         0.021243   0.017099   1.242 0.214134    \n",
       "PC25        -0.068856   0.018705  -3.681 0.000233 ***\n",
       "PC26         0.012389   0.019190   0.646 0.518539    \n",
       "PC27        -0.104800   0.017599  -5.955 2.64e-09 ***\n",
       "PC28        -0.020355   0.016285  -1.250 0.211327    \n",
       "PC29        -0.012597   0.017375  -0.725 0.468465    \n",
       "PC30         0.012025   0.015748   0.764 0.445115    \n",
       "PC31        -0.298436   0.018713 -15.948  < 2e-16 ***\n",
       "PC32         0.169272   0.019596   8.638  < 2e-16 ***\n",
       "PC33         0.591490   0.018250  32.410  < 2e-16 ***\n",
       "PC34        -0.040289   0.016929  -2.380 0.017327 *  \n",
       "PC35         0.371411   0.019385  19.160  < 2e-16 ***\n",
       "PC36        -0.060368   0.021688  -2.783 0.005382 ** \n",
       "PC37        -0.100364   0.020072  -5.000 5.76e-07 ***\n",
       "PC38         0.037353   0.020955   1.783 0.074679 .  \n",
       "PC39        -0.024623   0.018598  -1.324 0.185532    \n",
       "PC40        -0.081703   0.019142  -4.268 1.98e-05 ***\n",
       "PC41         0.000279   0.019937   0.014 0.988836    \n",
       "PC42        -0.002403   0.018610  -0.129 0.897263    \n",
       "PC43         0.076253   0.019188   3.974 7.08e-05 ***\n",
       "PC44         0.009633   0.018585   0.518 0.604224    \n",
       "PC45        -0.153762   0.021662  -7.098 1.30e-12 ***\n",
       "PC46        -0.023974   0.019137  -1.253 0.210316    \n",
       "PC47        -0.016317   0.020724  -0.787 0.431075    \n",
       "PC48        -0.033158   0.021123  -1.570 0.116472    \n",
       "PC49        -0.016472   0.022736  -0.724 0.468771    \n",
       "PC50         0.018016   0.021252   0.848 0.396598    \n",
       "PC51        -0.058510   0.019595  -2.986 0.002829 ** \n",
       "PC52         0.122160   0.020503   5.958 2.58e-09 ***\n",
       "PC53         0.095244   0.021562   4.417 1.00e-05 ***\n",
       "PC54         0.027945   0.022375   1.249 0.211701    \n",
       "---\n",
       "Signif. codes:  0 ‘***’ 0.001 ‘**’ 0.01 ‘*’ 0.05 ‘.’ 0.1 ‘ ’ 1\n",
       "\n",
       "Residual standard error: 0.3417 on 26652 degrees of freedom\n",
       "Multiple R-squared:  0.3036,\tAdjusted R-squared:  0.3021 \n",
       "F-statistic: 215.1 on 54 and 26652 DF,  p-value: < 2.2e-16\n",
       "\n",
       "\n",
       "Response seasonal_vaccine :\n",
       "\n",
       "Call:\n",
       "lm(formula = seasonal_vaccine ~ PC1 + PC2 + PC3 + PC4 + PC5 + \n",
       "    PC6 + PC7 + PC8 + PC9 + PC10 + PC11 + PC12 + PC13 + PC14 + \n",
       "    PC15 + PC16 + PC17 + PC18 + PC19 + PC20 + PC21 + PC22 + PC23 + \n",
       "    PC24 + PC25 + PC26 + PC27 + PC28 + PC29 + PC30 + PC31 + PC32 + \n",
       "    PC33 + PC34 + PC35 + PC36 + PC37 + PC38 + PC39 + PC40 + PC41 + \n",
       "    PC42 + PC43 + PC44 + PC45 + PC46 + PC47 + PC48 + PC49 + PC50 + \n",
       "    PC51 + PC52 + PC53 + PC54, data = total_train_set)\n",
       "\n",
       "Residuals:\n",
       "     Min       1Q   Median       3Q      Max \n",
       "-1.17219 -0.30913 -0.03445  0.31128  1.33298 \n",
       "\n",
       "Coefficients:\n",
       "             Estimate Std. Error t value Pr(>|t|)    \n",
       "(Intercept)  0.126158   0.079784   1.581 0.113833    \n",
       "PC1         -0.202403   0.008404 -24.084  < 2e-16 ***\n",
       "PC2          0.947346   0.014608  64.852  < 2e-16 ***\n",
       "PC3         -0.069870   0.015724  -4.444 8.88e-06 ***\n",
       "PC4         -0.151544   0.011536 -13.137  < 2e-16 ***\n",
       "PC5          0.292400   0.014911  19.610  < 2e-16 ***\n",
       "PC6          0.796191   0.017441  45.650  < 2e-16 ***\n",
       "PC7         -0.661509   0.016399 -40.339  < 2e-16 ***\n",
       "PC8          0.294241   0.020556  14.314  < 2e-16 ***\n",
       "PC9         -0.112334   0.018104  -6.205 5.55e-10 ***\n",
       "PC10         0.148040   0.017869   8.285  < 2e-16 ***\n",
       "PC11        -0.187248   0.020868  -8.973  < 2e-16 ***\n",
       "PC12         0.119125   0.021010   5.670 1.44e-08 ***\n",
       "PC13         0.059439   0.020292   2.929 0.003402 ** \n",
       "PC14        -0.404454   0.020355 -19.870  < 2e-16 ***\n",
       "PC15         0.117271   0.014846   7.899 2.91e-15 ***\n",
       "PC16         0.568513   0.020842  27.277  < 2e-16 ***\n",
       "PC17         0.504025   0.019991  25.212  < 2e-16 ***\n",
       "PC18        -0.569889   0.020590 -27.679  < 2e-16 ***\n",
       "PC19        -0.415889   0.017314 -24.020  < 2e-16 ***\n",
       "PC20        -0.018841   0.013748  -1.370 0.170551    \n",
       "PC21        -0.015129   0.019465  -0.777 0.437049    \n",
       "PC22         0.142351   0.017050   8.349  < 2e-16 ***\n",
       "PC23        -0.185199   0.019551  -9.473  < 2e-16 ***\n",
       "PC24         0.173105   0.020152   8.590  < 2e-16 ***\n",
       "PC25         0.005813   0.022044   0.264 0.792030    \n",
       "PC26         0.044265   0.022615   1.957 0.050322 .  \n",
       "PC27        -0.075091   0.020741  -3.620 0.000295 ***\n",
       "PC28        -0.016627   0.019192  -0.866 0.386304    \n",
       "PC29         0.185139   0.020477   9.041  < 2e-16 ***\n",
       "PC30         0.005776   0.018559   0.311 0.755635    \n",
       "PC31         0.230004   0.022054  10.429  < 2e-16 ***\n",
       "PC32        -0.116495   0.023094  -5.044 4.58e-07 ***\n",
       "PC33        -0.377476   0.021508 -17.550  < 2e-16 ***\n",
       "PC34         0.009670   0.019952   0.485 0.627910    \n",
       "PC35        -0.415836   0.022846 -18.202  < 2e-16 ***\n",
       "PC36        -0.136788   0.025560  -5.352 8.79e-08 ***\n",
       "PC37         0.014009   0.023655   0.592 0.553698    \n",
       "PC38        -0.014044   0.024696  -0.569 0.569573    \n",
       "PC39        -0.043757   0.021918  -1.996 0.045906 *  \n",
       "PC40        -0.053982   0.022560  -2.393 0.016725 *  \n",
       "PC41         0.074770   0.023496   3.182 0.001463 ** \n",
       "PC42        -0.067358   0.021932  -3.071 0.002134 ** \n",
       "PC43         0.109690   0.022613   4.851 1.24e-06 ***\n",
       "PC44         0.101953   0.021902   4.655 3.26e-06 ***\n",
       "PC45         0.388756   0.025529  15.228  < 2e-16 ***\n",
       "PC46         0.124978   0.022554   5.541 3.03e-08 ***\n",
       "PC47         0.022955   0.024423   0.940 0.347289    \n",
       "PC48        -0.047737   0.024893  -1.918 0.055164 .  \n",
       "PC49        -0.137492   0.026795  -5.131 2.90e-07 ***\n",
       "PC50        -0.001039   0.025046  -0.041 0.966908    \n",
       "PC51        -0.083337   0.023093  -3.609 0.000308 ***\n",
       "PC52        -0.188861   0.024163  -7.816 5.64e-15 ***\n",
       "PC53         0.112263   0.025411   4.418 1.00e-05 ***\n",
       "PC54        -0.067995   0.026369  -2.579 0.009926 ** \n",
       "---\n",
       "Signif. codes:  0 ‘***’ 0.001 ‘**’ 0.01 ‘*’ 0.05 ‘.’ 0.1 ‘ ’ 1\n",
       "\n",
       "Residual standard error: 0.4027 on 26652 degrees of freedom\n",
       "Multiple R-squared:  0.3495,\tAdjusted R-squared:  0.3482 \n",
       "F-statistic: 265.2 on 54 and 26652 DF,  p-value: < 2.2e-16\n",
       "\n"
      ]
     },
     "metadata": {},
     "output_type": "display_data"
    }
   ],
   "source": [
    "model <- lm(cbind(h1n1_vaccine, seasonal_vaccine)~., data=total_train_set)\n",
    "summary(model)\n",
    "Y_pred <- predict(model,pca_ts_set)"
   ]
  },
  {
   "cell_type": "markdown",
   "metadata": {},
   "source": [
    "The summary of the model gives a better understanding of how it works with 26607 lines and 54 features. In reality, the outputs are split in two to present one and then the other. The p-value is a good indicator of the quality of the model and the features selected. Indeed, for the h1n1 vaccine, 32 features have a p-value indicating that they are statistically highly significant. For the seasonal vaccine, 37 features are in this case. The AUC of the seasonal vaccine is indeed higher. In all cases, the summary confirms that the chosen linear model is not the best one but works quite well for this problem."
   ]
  },
  {
   "cell_type": "markdown",
   "metadata": {},
   "source": [
    "## Model 2\n",
    "Then we use the nnet package to make single layer neural network.\n",
    "\n",
    "Let's define a function to compute neural networks effectiveness based on the number of hidden notes using cross-validation."
   ]
  },
  {
   "cell_type": "code",
   "execution_count": 25,
   "metadata": {},
   "outputs": [],
   "source": [
    "library(nnet)"
   ]
  },
  {
   "cell_type": "code",
   "execution_count": 26,
   "metadata": {},
   "outputs": [],
   "source": [
    "auc_nnet_cross_valid <- function(X, Y, hidden_nodes=10,k=5){\n",
    "    # Targe 0 for h1n1, 1 for seasonal\n",
    "    accuracy_vec <- c()\n",
    "\n",
    "    # 1. Shuffle the dataset randomly.\n",
    "    shuffled_idx <- sample(1:nrow(X))\n",
    "    half_split <- floor(nrow(X)/2)\n",
    "\n",
    "    # 2. Split the dataset into k groups\n",
    "    max <- ceiling(nrow(X)/k)\n",
    "    splits <- split(shuffled_idx, ceiling(seq_along(shuffled_idx)/max))\n",
    "    \n",
    "    # 3. For each unique group:\n",
    "    for (i in 1:k){\n",
    "        #3.1 Take the group as a hold out or test data set\n",
    "        X_test <- X[splits[[i]],]\n",
    "        Y_test <- Y[splits[[i]]]\n",
    "        \n",
    "        #3.2 Take the remaining groups as a training data set\n",
    "        X_train <- X[-splits[[i]],]\n",
    "        Y_train <- Y[-splits[[i]]]\n",
    "        # print(paste(\"[INFO] - Training set size:\",dim(train_data)[1],\"- Testing set size\",dim(test_data)[1]))\n",
    "        \n",
    "        #3.3 Fit a model on the training set and evaluate it on the test set\n",
    "        model <- nnet(x=X,\n",
    "                     y=Y,\n",
    "                     size=hidden_nodes,\n",
    "                     skip=FALSE, maxit=1000,rang=1,MaxNWts=10000,trace=FALSE)\n",
    "        print(paste(\"reached maxit ?\",model$convergence))\n",
    "        Y_pred<-predict(model,X_test)\n",
    "        \n",
    "        #3.4 Retain the evaluation score and discard the model\n",
    "        accuracy_vec[i] <- compute_AUC(Y_pred, Y_test)\n",
    "        break\n",
    "    }\n",
    "    \n",
    "    return(mean(accuracy_vec))\n",
    "}"
   ]
  },
  {
   "cell_type": "code",
   "execution_count": 41,
   "metadata": {},
   "outputs": [
    {
     "name": "stdout",
     "output_type": "stream",
     "text": [
      "[1] \"[INFO] - Testing h= 10\"\n",
      "[1] \"reached maxit ? 0\"\n",
      "[1] \"reached maxit ? 1\"\n",
      "[1] \"[INFO] - Testing h= 20\"\n",
      "[1] \"reached maxit ? 0\"\n",
      "[1] \"reached maxit ? 1\"\n",
      "[1] \"[INFO] - Testing h= 30\"\n",
      "[1] \"reached maxit ? 0\"\n",
      "[1] \"reached maxit ? 0\"\n",
      "[1] \"[INFO] - Testing h= 40\"\n",
      "[1] \"reached maxit ? 1\"\n",
      "[1] \"reached maxit ? 1\"\n"
     ]
    },
    {
     "data": {
      "image/png": "[encoded data removed]",
      "text/plain": [
       "Plot with title “h1n1 estimation”"
      ]
     },
     "metadata": {
      "image/png": {
       "height": 420,
       "width": 420
      }
     },
     "output_type": "display_data"
    },
    {
     "data": {
      "image/png": "[encoded data removed]",
      "text/plain": [
       "Plot with title “seasonal estimation”"
      ]
     },
     "metadata": {
      "image/png": {
       "height": 420,
       "width": 420
      }
     },
     "output_type": "display_data"
    }
   ],
   "source": [
    "label_1 <- training_set_labels[,\"h1n1_vaccine\"]\n",
    "label_2 <- training_set_labels[, \"seasonal_vaccine\"]\n",
    "labels <- cbind(h1n1_vaccine=label_1, seasonal_vaccine=label_2)\n",
    "\n",
    "\n",
    "k <- 2\n",
    "\n",
    "hidden_nodes_vec <- seq(10, 40, 10)\n",
    "\n",
    "results_h1n1 <- c()\n",
    "results_season <- c()\n",
    "\n",
    "for(hidden_nodes in hidden_nodes_vec){\n",
    "    print(paste(\"[INFO] - Testing h=\",hidden_nodes))\n",
    "    results_h1n1 <- c(results_h1n1, auc_nnet_cross_valid(pca_tr_set, label_1, hidden_nodes=hidden_nodes,k=k))\n",
    "    results_season <- c(results_season, auc_nnet_cross_valid(pca_tr_set, label_2, hidden_nodes=hidden_nodes,k=k))\n",
    "}\n",
    "# mean(AUC) according to the nb of hidden nodes \n",
    "plot(hidden_nodes_vec, results_h1n1, xlab=\"Number of hidden nodes\", ylab=\"AUCROC\", main=\"h1n1 estimation\")\n",
    "lines(hidden_nodes_vec, results_h1n1)\n",
    "\n",
    "plot.new()\n",
    "\n",
    "plot(hidden_nodes_vec, results_season, xlab=\"Number of hidden nodes\", ylab=\"AUCROC\", main=\"seasonal estimation\")\n",
    "lines(hidden_nodes_vec, results_season)"
   ]
  },
  {
   "cell_type": "markdown",
   "metadata": {},
   "source": [
    "We see that the results are much better when predicting the seasonal vaccines."
   ]
  },
  {
   "cell_type": "code",
   "execution_count": null,
   "metadata": {},
   "outputs": [],
   "source": [
    "# Rename for the following\n",
    "h1n1_nnet_pca <- results_h1n1\n",
    "seasonal_nnet_pca <- results_season"
   ]
  },
  {
   "cell_type": "markdown",
   "metadata": {},
   "source": [
    "# Model 3"
   ]
  },
  {
   "cell_type": "markdown",
   "metadata": {},
   "source": [
    "The third model chosen is the SVM (Support Vector Machine), using the e1071 package. This method has usually good results even for data sets with many dimensions, which will be practical with the 54 features set selected by the PCA. The kernel and its parameters are also easily modular which allows us to test multiple combinations in order to find the one with the better results. The fact that the kernel can take other types then the linear one (polynomial, sigmoid or radial) also allows to evaluate efficiently data that are difficult to separate."
   ]
  },
  {
   "cell_type": "code",
   "execution_count": 43,
   "metadata": {},
   "outputs": [],
   "source": [
    "library(\"e1071\")\n",
    "\n",
    "#prediction for H1N1 column\n",
    "model_svm1 = svm(label_1 ~ ., data = pca_tr_set, kernel = \"radial\", cost = 0.1, scale = FALSE)\n",
    "Y_pred1 <- predict(model_svm1,pca_ts_set)\n",
    "ss <- preProcess(as.data.frame(Y_pred1), method=c(\"range\"))\n",
    "Y_pred1 <- predict(ss, as.data.frame(Y_pred1))\n",
    "\n",
    "#prediction for Seasonal Flu column\n",
    "model_svm2 = svm(label_2 ~ ., data = pca_tr_set, kernel = \"radial\", cost = 0.1, scale = FALSE)\n",
    "Y_pred2 <- predict(model_svm2,pca_ts_set)\n",
    "ss <- preProcess(as.data.frame(Y_pred2), method=c(\"range\"))\n",
    "Y_pred2 <- predict(ss, as.data.frame(Y_pred2))\n",
    "\n",
    "final_pred_SVM <- cbind(testing_features[, c(1)], Y_pred1, Y_pred2)\n",
    "write.csv(final_pred_SVM, \"test_submission_SVM.csv\", row.names = F)"
   ]
  },
  {
   "cell_type": "markdown",
   "metadata": {},
   "source": [
    "The function \"svm()\" can take a large amount of  different arguments,like the kernel type and its parameters. The arguments chosen in the code were selected after testing multiple combinations by computing their ROC and the AUC. Those results are shown in the following table. If some parameters are not specified hereunder, it means that the default values were used. Some values of the AUC for the \"seasonal flue vaccines\" are also missing because in view of the bad results of the \"H1N1\" column for this line, it was not deemed necessary to compute it."
   ]
  },
  {
   "cell_type": "markdown",
   "metadata": {},
   "source": [
    "| cost   | kernel       | gamma | coef0 | AUC H1N1 | AUC Flue |\n",
    "|--------|--------------|-------|-------|----------|----------|\n",
    "|0,00001 | linear       |       |       |   0,804  |   0,738  |\n",
    "|0,00001 | polynomial 2 |       |       |   0,804  |   0,739  |\n",
    "|0,00001 | polynomial 3 |       |       |   0,840  |   0,732  |\n",
    "|0,00001 | polynomial 3 | 0,0001|   5   |   0,812  |   0,732  |\n",
    "|0,000001| polynomial 3 |       |       |   0,813  |          |\n",
    "|0,00001 | polynomial 4 |       |       |   0,811  |   0,725  |\n",
    "|0,1     | polynomial 3 |       |       |   0,849  |   0,729  |\n",
    "|0,01    | polynomial 3 |       |       |   0,844  |          |\n",
    "|10      | polynomial 3 |       |       |   0,840  |   0,732  |\n",
    "|1       | polynomial 3 |       |       |   0,849  |   0,739  |\n",
    "|0,01    | radial       |       |       |   0,849  |   0,735  |\n",
    "|0,1     | radial       |       |       |   0,849  |   0,741  |\n",
    "|1       | radial       |       |       |   0,839  |   0,733  |\n",
    "|10      | radial       |       |       |   0,842  |   0,733  |\n",
    "|100     | radial       |       |       |   0,849  |   0,730  |\n",
    "|0,01    | sigmoid      |       |       |   0,848  |   0,736  |\n",
    "|0,1     | sigmoid      |       |       |   0,849  |   0,740  |\n",
    "|1       | sigmoid      |       |       |   0,839  |   0,734  |\n",
    "|10      | sigmoid      |       |       |   0,838  |   0,731  |"
   ]
  },
  {
   "cell_type": "markdown",
   "metadata": {},
   "source": [
    "It can be deduced from the above table that this method generally gives better estimation for the H1N1 column than for the other."
   ]
  },
  {
   "cell_type": "markdown",
   "metadata": {},
   "source": [
    "# Alternative models\n",
    "\n",
    "\n",
    "As an alternative model we chose to change our feature selection method. We tried to impplement multivariate neural networks but the computation times were so high we did not consider it interesting for our purposes.\n"
   ]
  },
  {
   "cell_type": "markdown",
   "metadata": {},
   "source": [
    "## MRMR"
   ]
  },
  {
   "cell_type": "markdown",
   "metadata": {},
   "source": [
    "The MRMR features selection method is chosen as an alternative to the PCA, to implement a method without using a library contained in the guidelines' list. This selection is the Minimum redundancy maximal relevancy filter (MRMR). It allows to have less features than the PCA but with a prediction that is normally just as good, maybe even better."
   ]
  },
  {
   "cell_type": "code",
   "execution_count": 28,
   "metadata": {},
   "outputs": [
    {
     "data": {
      "text/plain": [
       " respondent_id    h1n1_vaccine    seasonal_vaccine\n",
       " Min.   :    0   Min.   :0.0000   Min.   :0.0000  \n",
       " 1st Qu.: 6676   1st Qu.:0.0000   1st Qu.:0.0000  \n",
       " Median :13353   Median :0.0000   Median :0.0000  \n",
       " Mean   :13353   Mean   :0.2125   Mean   :0.4656  \n",
       " 3rd Qu.:20030   3rd Qu.:0.0000   3rd Qu.:1.0000  \n",
       " Max.   :26706   Max.   :1.0000   Max.   :1.0000  "
      ]
     },
     "metadata": {},
     "output_type": "display_data"
    },
    {
     "data": {
      "text/html": [
       "<style>\n",
       ".dl-inline {width: auto; margin:0; padding: 0}\n",
       ".dl-inline>dt, .dl-inline>dd {float: none; width: auto; display: inline-block}\n",
       ".dl-inline>dt::after {content: \":\\0020\"; padding-right: .5ex}\n",
       ".dl-inline>dt:not(:first-of-type) {padding-left: .5ex}\n",
       "</style><dl class=dl-inline><dt>doctor_recc_h1n1</dt><dd>10</dd><dt>opinion_h1n1_vacc_effective</dt><dd>15</dd><dt>health_insurance_1</dt><dd>28</dd><dt>health_worker</dt><dd>14</dd><dt>opinion_h1n1_risk</dt><dd>16</dd><dt>employment_industry_haxffmxo</dt><dd>35</dd><dt>race_Black</dt><dd>76</dd><dt>chronic_med_condition</dt><dd>12</dd><dt>child_under_6_months</dt><dd>13</dd><dt>h1n1_knowledge</dt><dd>2</dd><dt>employment_occupation_xgwztkwe</dt><dd>71</dd><dt>doctor_recc_seasonal</dt><dd>11</dd><dt>behavioral_face_mask</dt><dd>5</dd><dt>employment_occupation_rcertsgn</dt><dd>66</dd><dt>opinion_seas_risk</dt><dd>19</dd><dt>employment_occupation_qxajmpny</dt><dd>65</dd><dt>employment_occupation_uqqtjvyb</dt><dd>69</dd><dt>employment_occupation_cmhcxjea</dt><dd>54</dd><dt>employment_industry_atmlpfrs</dt><dd>31</dd><dt>employment_occupation_dcjcmpih</dt><dd>55</dd><dt>health_insurance_NA</dt><dd>29</dd><dt>hhs_geo_region_bhuqouqj</dt><dd>93</dd><dt>behavioral_touch_face</dt><dd>9</dd><dt>employment_industry_mcubkhph</dt><dd>37</dd><dt>employment_industry_rucpziij</dt><dd>44</dd><dt>opinion_seas_vacc_effective</dt><dd>18</dd></dl>\n"
      ],
      "text/latex": [
       "\\begin{description*}\n",
       "\\item[doctor\\textbackslash{}\\_recc\\textbackslash{}\\_h1n1] 10\n",
       "\\item[opinion\\textbackslash{}\\_h1n1\\textbackslash{}\\_vacc\\textbackslash{}\\_effective] 15\n",
       "\\item[health\\textbackslash{}\\_insurance\\textbackslash{}\\_1] 28\n",
       "\\item[health\\textbackslash{}\\_worker] 14\n",
       "\\item[opinion\\textbackslash{}\\_h1n1\\textbackslash{}\\_risk] 16\n",
       "\\item[employment\\textbackslash{}\\_industry\\textbackslash{}\\_haxffmxo] 35\n",
       "\\item[race\\textbackslash{}\\_Black] 76\n",
       "\\item[chronic\\textbackslash{}\\_med\\textbackslash{}\\_condition] 12\n",
       "\\item[child\\textbackslash{}\\_under\\textbackslash{}\\_6\\textbackslash{}\\_months] 13\n",
       "\\item[h1n1\\textbackslash{}\\_knowledge] 2\n",
       "\\item[employment\\textbackslash{}\\_occupation\\textbackslash{}\\_xgwztkwe] 71\n",
       "\\item[doctor\\textbackslash{}\\_recc\\textbackslash{}\\_seasonal] 11\n",
       "\\item[behavioral\\textbackslash{}\\_face\\textbackslash{}\\_mask] 5\n",
       "\\item[employment\\textbackslash{}\\_occupation\\textbackslash{}\\_rcertsgn] 66\n",
       "\\item[opinion\\textbackslash{}\\_seas\\textbackslash{}\\_risk] 19\n",
       "\\item[employment\\textbackslash{}\\_occupation\\textbackslash{}\\_qxajmpny] 65\n",
       "\\item[employment\\textbackslash{}\\_occupation\\textbackslash{}\\_uqqtjvyb] 69\n",
       "\\item[employment\\textbackslash{}\\_occupation\\textbackslash{}\\_cmhcxjea] 54\n",
       "\\item[employment\\textbackslash{}\\_industry\\textbackslash{}\\_atmlpfrs] 31\n",
       "\\item[employment\\textbackslash{}\\_occupation\\textbackslash{}\\_dcjcmpih] 55\n",
       "\\item[health\\textbackslash{}\\_insurance\\textbackslash{}\\_NA] 29\n",
       "\\item[hhs\\textbackslash{}\\_geo\\textbackslash{}\\_region\\textbackslash{}\\_bhuqouqj] 93\n",
       "\\item[behavioral\\textbackslash{}\\_touch\\textbackslash{}\\_face] 9\n",
       "\\item[employment\\textbackslash{}\\_industry\\textbackslash{}\\_mcubkhph] 37\n",
       "\\item[employment\\textbackslash{}\\_industry\\textbackslash{}\\_rucpziij] 44\n",
       "\\item[opinion\\textbackslash{}\\_seas\\textbackslash{}\\_vacc\\textbackslash{}\\_effective] 18\n",
       "\\end{description*}\n"
      ],
      "text/markdown": [
       "doctor_recc_h1n1\n",
       ":   10opinion_h1n1_vacc_effective\n",
       ":   15health_insurance_1\n",
       ":   28health_worker\n",
       ":   14opinion_h1n1_risk\n",
       ":   16employment_industry_haxffmxo\n",
       ":   35race_Black\n",
       ":   76chronic_med_condition\n",
       ":   12child_under_6_months\n",
       ":   13h1n1_knowledge\n",
       ":   2employment_occupation_xgwztkwe\n",
       ":   71doctor_recc_seasonal\n",
       ":   11behavioral_face_mask\n",
       ":   5employment_occupation_rcertsgn\n",
       ":   66opinion_seas_risk\n",
       ":   19employment_occupation_qxajmpny\n",
       ":   65employment_occupation_uqqtjvyb\n",
       ":   69employment_occupation_cmhcxjea\n",
       ":   54employment_industry_atmlpfrs\n",
       ":   31employment_occupation_dcjcmpih\n",
       ":   55health_insurance_NA\n",
       ":   29hhs_geo_region_bhuqouqj\n",
       ":   93behavioral_touch_face\n",
       ":   9employment_industry_mcubkhph\n",
       ":   37employment_industry_rucpziij\n",
       ":   44opinion_seas_vacc_effective\n",
       ":   18\n",
       "\n"
      ],
      "text/plain": [
       "              doctor_recc_h1n1    opinion_h1n1_vacc_effective \n",
       "                            10                             15 \n",
       "            health_insurance_1                  health_worker \n",
       "                            28                             14 \n",
       "             opinion_h1n1_risk   employment_industry_haxffmxo \n",
       "                            16                             35 \n",
       "                    race_Black          chronic_med_condition \n",
       "                            76                             12 \n",
       "          child_under_6_months                 h1n1_knowledge \n",
       "                            13                              2 \n",
       "employment_occupation_xgwztkwe           doctor_recc_seasonal \n",
       "                            71                             11 \n",
       "          behavioral_face_mask employment_occupation_rcertsgn \n",
       "                             5                             66 \n",
       "             opinion_seas_risk employment_occupation_qxajmpny \n",
       "                            19                             65 \n",
       "employment_occupation_uqqtjvyb employment_occupation_cmhcxjea \n",
       "                            69                             54 \n",
       "  employment_industry_atmlpfrs employment_occupation_dcjcmpih \n",
       "                            31                             55 \n",
       "           health_insurance_NA        hhs_geo_region_bhuqouqj \n",
       "                            29                             93 \n",
       "         behavioral_touch_face   employment_industry_mcubkhph \n",
       "                             9                             37 \n",
       "  employment_industry_rucpziij    opinion_seas_vacc_effective \n",
       "                            44                             18 "
      ]
     },
     "metadata": {},
     "output_type": "display_data"
    },
    {
     "data": {
      "text/html": [
       "<style>\n",
       ".dl-inline {width: auto; margin:0; padding: 0}\n",
       ".dl-inline>dt, .dl-inline>dd {float: none; width: auto; display: inline-block}\n",
       ".dl-inline>dt::after {content: \":\\0020\"; padding-right: .5ex}\n",
       ".dl-inline>dt:not(:first-of-type) {padding-left: .5ex}\n",
       "</style><dl class=dl-inline><dt>doctor_recc_h1n1</dt><dd>0.0672554970233712</dd><dt>opinion_h1n1_vacc_effective</dt><dd>0.0286271042545648</dd><dt>health_insurance_1</dt><dd>0.0230518121710877</dd><dt>health_worker</dt><dd>0.00974901030958142</dd><dt>opinion_h1n1_risk</dt><dd>0.0160501175881368</dd><dt>employment_industry_haxffmxo</dt><dd>0.00203105212467776</dd><dt>race_Black</dt><dd>0.000667559383915008</dd><dt>chronic_med_condition</dt><dd>0.000668868925544474</dd><dt>child_under_6_months</dt><dd>0.000533546383357987</dd><dt>h1n1_knowledge</dt><dd>0.00066992456460111</dd><dt>employment_occupation_xgwztkwe</dt><dd>0.000508598374715301</dd><dt>doctor_recc_seasonal</dt><dd>0.00192792773396779</dd><dt>behavioral_face_mask</dt><dd>0.000442873587204902</dd><dt>employment_occupation_rcertsgn</dt><dd>0.000314518618813596</dd><dt>opinion_seas_risk</dt><dd>0.00119682221636896</dd><dt>employment_occupation_qxajmpny</dt><dd>0.000247132904007946</dd><dt>employment_occupation_uqqtjvyb</dt><dd>0.000215059608211895</dd><dt>employment_occupation_cmhcxjea</dt><dd>0.00052898637119635</dd><dt>employment_industry_atmlpfrs</dt><dd>0.000152468688664272</dd><dt>employment_occupation_dcjcmpih</dt><dd>0.000218583743512599</dd><dt>health_insurance_NA</dt><dd>0.000702613602663445</dd><dt>hhs_geo_region_bhuqouqj</dt><dd>0.000218211157302893</dd><dt>behavioral_touch_face</dt><dd>0.000131793639068998</dd><dt>employment_industry_mcubkhph</dt><dd>0.000102554969138165</dd><dt>employment_industry_rucpziij</dt><dd>5.94332478559693e-05</dd><dt>opinion_seas_vacc_effective</dt><dd>0.000101476105548455</dd></dl>\n"
      ],
      "text/latex": [
       "\\begin{description*}\n",
       "\\item[doctor\\textbackslash{}\\_recc\\textbackslash{}\\_h1n1] 0.0672554970233712\n",
       "\\item[opinion\\textbackslash{}\\_h1n1\\textbackslash{}\\_vacc\\textbackslash{}\\_effective] 0.0286271042545648\n",
       "\\item[health\\textbackslash{}\\_insurance\\textbackslash{}\\_1] 0.0230518121710877\n",
       "\\item[health\\textbackslash{}\\_worker] 0.00974901030958142\n",
       "\\item[opinion\\textbackslash{}\\_h1n1\\textbackslash{}\\_risk] 0.0160501175881368\n",
       "\\item[employment\\textbackslash{}\\_industry\\textbackslash{}\\_haxffmxo] 0.00203105212467776\n",
       "\\item[race\\textbackslash{}\\_Black] 0.000667559383915008\n",
       "\\item[chronic\\textbackslash{}\\_med\\textbackslash{}\\_condition] 0.000668868925544474\n",
       "\\item[child\\textbackslash{}\\_under\\textbackslash{}\\_6\\textbackslash{}\\_months] 0.000533546383357987\n",
       "\\item[h1n1\\textbackslash{}\\_knowledge] 0.00066992456460111\n",
       "\\item[employment\\textbackslash{}\\_occupation\\textbackslash{}\\_xgwztkwe] 0.000508598374715301\n",
       "\\item[doctor\\textbackslash{}\\_recc\\textbackslash{}\\_seasonal] 0.00192792773396779\n",
       "\\item[behavioral\\textbackslash{}\\_face\\textbackslash{}\\_mask] 0.000442873587204902\n",
       "\\item[employment\\textbackslash{}\\_occupation\\textbackslash{}\\_rcertsgn] 0.000314518618813596\n",
       "\\item[opinion\\textbackslash{}\\_seas\\textbackslash{}\\_risk] 0.00119682221636896\n",
       "\\item[employment\\textbackslash{}\\_occupation\\textbackslash{}\\_qxajmpny] 0.000247132904007946\n",
       "\\item[employment\\textbackslash{}\\_occupation\\textbackslash{}\\_uqqtjvyb] 0.000215059608211895\n",
       "\\item[employment\\textbackslash{}\\_occupation\\textbackslash{}\\_cmhcxjea] 0.00052898637119635\n",
       "\\item[employment\\textbackslash{}\\_industry\\textbackslash{}\\_atmlpfrs] 0.000152468688664272\n",
       "\\item[employment\\textbackslash{}\\_occupation\\textbackslash{}\\_dcjcmpih] 0.000218583743512599\n",
       "\\item[health\\textbackslash{}\\_insurance\\textbackslash{}\\_NA] 0.000702613602663445\n",
       "\\item[hhs\\textbackslash{}\\_geo\\textbackslash{}\\_region\\textbackslash{}\\_bhuqouqj] 0.000218211157302893\n",
       "\\item[behavioral\\textbackslash{}\\_touch\\textbackslash{}\\_face] 0.000131793639068998\n",
       "\\item[employment\\textbackslash{}\\_industry\\textbackslash{}\\_mcubkhph] 0.000102554969138165\n",
       "\\item[employment\\textbackslash{}\\_industry\\textbackslash{}\\_rucpziij] 5.94332478559693e-05\n",
       "\\item[opinion\\textbackslash{}\\_seas\\textbackslash{}\\_vacc\\textbackslash{}\\_effective] 0.000101476105548455\n",
       "\\end{description*}\n"
      ],
      "text/markdown": [
       "doctor_recc_h1n1\n",
       ":   0.0672554970233712opinion_h1n1_vacc_effective\n",
       ":   0.0286271042545648health_insurance_1\n",
       ":   0.0230518121710877health_worker\n",
       ":   0.00974901030958142opinion_h1n1_risk\n",
       ":   0.0160501175881368employment_industry_haxffmxo\n",
       ":   0.00203105212467776race_Black\n",
       ":   0.000667559383915008chronic_med_condition\n",
       ":   0.000668868925544474child_under_6_months\n",
       ":   0.000533546383357987h1n1_knowledge\n",
       ":   0.00066992456460111employment_occupation_xgwztkwe\n",
       ":   0.000508598374715301doctor_recc_seasonal\n",
       ":   0.00192792773396779behavioral_face_mask\n",
       ":   0.000442873587204902employment_occupation_rcertsgn\n",
       ":   0.000314518618813596opinion_seas_risk\n",
       ":   0.00119682221636896employment_occupation_qxajmpny\n",
       ":   0.000247132904007946employment_occupation_uqqtjvyb\n",
       ":   0.000215059608211895employment_occupation_cmhcxjea\n",
       ":   0.00052898637119635employment_industry_atmlpfrs\n",
       ":   0.000152468688664272employment_occupation_dcjcmpih\n",
       ":   0.000218583743512599health_insurance_NA\n",
       ":   0.000702613602663445hhs_geo_region_bhuqouqj\n",
       ":   0.000218211157302893behavioral_touch_face\n",
       ":   0.000131793639068998employment_industry_mcubkhph\n",
       ":   0.000102554969138165employment_industry_rucpziij\n",
       ":   5.94332478559693e-05opinion_seas_vacc_effective\n",
       ":   0.000101476105548455\n",
       "\n"
      ],
      "text/plain": [
       "              doctor_recc_h1n1    opinion_h1n1_vacc_effective \n",
       "                  6.725550e-02                   2.862710e-02 \n",
       "            health_insurance_1                  health_worker \n",
       "                  2.305181e-02                   9.749010e-03 \n",
       "             opinion_h1n1_risk   employment_industry_haxffmxo \n",
       "                  1.605012e-02                   2.031052e-03 \n",
       "                    race_Black          chronic_med_condition \n",
       "                  6.675594e-04                   6.688689e-04 \n",
       "          child_under_6_months                 h1n1_knowledge \n",
       "                  5.335464e-04                   6.699246e-04 \n",
       "employment_occupation_xgwztkwe           doctor_recc_seasonal \n",
       "                  5.085984e-04                   1.927928e-03 \n",
       "          behavioral_face_mask employment_occupation_rcertsgn \n",
       "                  4.428736e-04                   3.145186e-04 \n",
       "             opinion_seas_risk employment_occupation_qxajmpny \n",
       "                  1.196822e-03                   2.471329e-04 \n",
       "employment_occupation_uqqtjvyb employment_occupation_cmhcxjea \n",
       "                  2.150596e-04                   5.289864e-04 \n",
       "  employment_industry_atmlpfrs employment_occupation_dcjcmpih \n",
       "                  1.524687e-04                   2.185837e-04 \n",
       "           health_insurance_NA        hhs_geo_region_bhuqouqj \n",
       "                  7.026136e-04                   2.182112e-04 \n",
       "         behavioral_touch_face   employment_industry_mcubkhph \n",
       "                  1.317936e-04                   1.025550e-04 \n",
       "  employment_industry_rucpziij    opinion_seas_vacc_effective \n",
       "                  5.943325e-05                   1.014761e-04 "
      ]
     },
     "metadata": {},
     "output_type": "display_data"
    },
    {
     "data": {
      "text/html": [
       "<style>\n",
       ".dl-inline {width: auto; margin:0; padding: 0}\n",
       ".dl-inline>dt, .dl-inline>dd {float: none; width: auto; display: inline-block}\n",
       ".dl-inline>dt::after {content: \":\\0020\"; padding-right: .5ex}\n",
       ".dl-inline>dt:not(:first-of-type) {padding-left: .5ex}\n",
       "</style><dl class=dl-inline><dt>opinion_seas_vacc_effective</dt><dd>18</dd><dt>doctor_recc_seasonal</dt><dd>11</dd><dt>age_group</dt><dd>21</dd><dt>opinion_seas_risk</dt><dd>19</dd><dt>health_insurance_1</dt><dd>28</dd><dt>health_worker</dt><dd>14</dd><dt>chronic_med_condition</dt><dd>12</dd><dt>behavioral_touch_face</dt><dd>9</dd><dt>race_White</dt><dd>79</dd><dt>employment_occupation_qxajmpny</dt><dd>65</dd><dt>employment_status_Unemployed</dt><dd>90</dd><dt>employment_industry_rucpziij</dt><dd>44</dd><dt>health_insurance_0</dt><dd>27</dd><dt>doctor_recc_h1n1</dt><dd>10</dd><dt>employment_industry_haxffmxo</dt><dd>35</dd><dt>h1n1_knowledge</dt><dd>2</dd><dt>employment_occupation_uqqtjvyb</dt><dd>69</dd><dt>opinion_h1n1_vacc_effective</dt><dd>15</dd><dt>employment_occupation_xgwztkwe</dt><dd>71</dd><dt>rent_or_own_Rent</dt><dd>86</dd><dt>employment_industry_vjjrobsf</dt><dd>46</dd><dt>behavioral_wash_hands</dt><dd>6</dd><dt>employment_industry_saaquncn</dt><dd>45</dd><dt>opinion_h1n1_risk</dt><dd>16</dd><dt>employment_industry_mcubkhph</dt><dd>37</dd><dt>employment_industry_nduyfdeo</dt><dd>40</dd><dt>employment_industry_xicduogh</dt><dd>49</dd><dt>employment_occupation_xqwwgdyp</dt><dd>72</dd><dt>hhs_geo_region_lrircsnp</dt><dd>97</dd><dt>employment_occupation_dcjcmpih</dt><dd>55</dd><dt>household_children</dt><dd>26</dd><dt>employment_occupation_cmhcxjea</dt><dd>54</dd><dt>h1n1_concern</dt><dd>1</dd></dl>\n"
      ],
      "text/latex": [
       "\\begin{description*}\n",
       "\\item[opinion\\textbackslash{}\\_seas\\textbackslash{}\\_vacc\\textbackslash{}\\_effective] 18\n",
       "\\item[doctor\\textbackslash{}\\_recc\\textbackslash{}\\_seasonal] 11\n",
       "\\item[age\\textbackslash{}\\_group] 21\n",
       "\\item[opinion\\textbackslash{}\\_seas\\textbackslash{}\\_risk] 19\n",
       "\\item[health\\textbackslash{}\\_insurance\\textbackslash{}\\_1] 28\n",
       "\\item[health\\textbackslash{}\\_worker] 14\n",
       "\\item[chronic\\textbackslash{}\\_med\\textbackslash{}\\_condition] 12\n",
       "\\item[behavioral\\textbackslash{}\\_touch\\textbackslash{}\\_face] 9\n",
       "\\item[race\\textbackslash{}\\_White] 79\n",
       "\\item[employment\\textbackslash{}\\_occupation\\textbackslash{}\\_qxajmpny] 65\n",
       "\\item[employment\\textbackslash{}\\_status\\textbackslash{}\\_Unemployed] 90\n",
       "\\item[employment\\textbackslash{}\\_industry\\textbackslash{}\\_rucpziij] 44\n",
       "\\item[health\\textbackslash{}\\_insurance\\textbackslash{}\\_0] 27\n",
       "\\item[doctor\\textbackslash{}\\_recc\\textbackslash{}\\_h1n1] 10\n",
       "\\item[employment\\textbackslash{}\\_industry\\textbackslash{}\\_haxffmxo] 35\n",
       "\\item[h1n1\\textbackslash{}\\_knowledge] 2\n",
       "\\item[employment\\textbackslash{}\\_occupation\\textbackslash{}\\_uqqtjvyb] 69\n",
       "\\item[opinion\\textbackslash{}\\_h1n1\\textbackslash{}\\_vacc\\textbackslash{}\\_effective] 15\n",
       "\\item[employment\\textbackslash{}\\_occupation\\textbackslash{}\\_xgwztkwe] 71\n",
       "\\item[rent\\textbackslash{}\\_or\\textbackslash{}\\_own\\textbackslash{}\\_Rent] 86\n",
       "\\item[employment\\textbackslash{}\\_industry\\textbackslash{}\\_vjjrobsf] 46\n",
       "\\item[behavioral\\textbackslash{}\\_wash\\textbackslash{}\\_hands] 6\n",
       "\\item[employment\\textbackslash{}\\_industry\\textbackslash{}\\_saaquncn] 45\n",
       "\\item[opinion\\textbackslash{}\\_h1n1\\textbackslash{}\\_risk] 16\n",
       "\\item[employment\\textbackslash{}\\_industry\\textbackslash{}\\_mcubkhph] 37\n",
       "\\item[employment\\textbackslash{}\\_industry\\textbackslash{}\\_nduyfdeo] 40\n",
       "\\item[employment\\textbackslash{}\\_industry\\textbackslash{}\\_xicduogh] 49\n",
       "\\item[employment\\textbackslash{}\\_occupation\\textbackslash{}\\_xqwwgdyp] 72\n",
       "\\item[hhs\\textbackslash{}\\_geo\\textbackslash{}\\_region\\textbackslash{}\\_lrircsnp] 97\n",
       "\\item[employment\\textbackslash{}\\_occupation\\textbackslash{}\\_dcjcmpih] 55\n",
       "\\item[household\\textbackslash{}\\_children] 26\n",
       "\\item[employment\\textbackslash{}\\_occupation\\textbackslash{}\\_cmhcxjea] 54\n",
       "\\item[h1n1\\textbackslash{}\\_concern] 1\n",
       "\\end{description*}\n"
      ],
      "text/markdown": [
       "opinion_seas_vacc_effective\n",
       ":   18doctor_recc_seasonal\n",
       ":   11age_group\n",
       ":   21opinion_seas_risk\n",
       ":   19health_insurance_1\n",
       ":   28health_worker\n",
       ":   14chronic_med_condition\n",
       ":   12behavioral_touch_face\n",
       ":   9race_White\n",
       ":   79employment_occupation_qxajmpny\n",
       ":   65employment_status_Unemployed\n",
       ":   90employment_industry_rucpziij\n",
       ":   44health_insurance_0\n",
       ":   27doctor_recc_h1n1\n",
       ":   10employment_industry_haxffmxo\n",
       ":   35h1n1_knowledge\n",
       ":   2employment_occupation_uqqtjvyb\n",
       ":   69opinion_h1n1_vacc_effective\n",
       ":   15employment_occupation_xgwztkwe\n",
       ":   71rent_or_own_Rent\n",
       ":   86employment_industry_vjjrobsf\n",
       ":   46behavioral_wash_hands\n",
       ":   6employment_industry_saaquncn\n",
       ":   45opinion_h1n1_risk\n",
       ":   16employment_industry_mcubkhph\n",
       ":   37employment_industry_nduyfdeo\n",
       ":   40employment_industry_xicduogh\n",
       ":   49employment_occupation_xqwwgdyp\n",
       ":   72hhs_geo_region_lrircsnp\n",
       ":   97employment_occupation_dcjcmpih\n",
       ":   55household_children\n",
       ":   26employment_occupation_cmhcxjea\n",
       ":   54h1n1_concern\n",
       ":   1\n",
       "\n"
      ],
      "text/plain": [
       "   opinion_seas_vacc_effective           doctor_recc_seasonal \n",
       "                            18                             11 \n",
       "                     age_group              opinion_seas_risk \n",
       "                            21                             19 \n",
       "            health_insurance_1                  health_worker \n",
       "                            28                             14 \n",
       "         chronic_med_condition          behavioral_touch_face \n",
       "                            12                              9 \n",
       "                    race_White employment_occupation_qxajmpny \n",
       "                            79                             65 \n",
       "  employment_status_Unemployed   employment_industry_rucpziij \n",
       "                            90                             44 \n",
       "            health_insurance_0               doctor_recc_h1n1 \n",
       "                            27                             10 \n",
       "  employment_industry_haxffmxo                 h1n1_knowledge \n",
       "                            35                              2 \n",
       "employment_occupation_uqqtjvyb    opinion_h1n1_vacc_effective \n",
       "                            69                             15 \n",
       "employment_occupation_xgwztkwe               rent_or_own_Rent \n",
       "                            71                             86 \n",
       "  employment_industry_vjjrobsf          behavioral_wash_hands \n",
       "                            46                              6 \n",
       "  employment_industry_saaquncn              opinion_h1n1_risk \n",
       "                            45                             16 \n",
       "  employment_industry_mcubkhph   employment_industry_nduyfdeo \n",
       "                            37                             40 \n",
       "  employment_industry_xicduogh employment_occupation_xqwwgdyp \n",
       "                            49                             72 \n",
       "       hhs_geo_region_lrircsnp employment_occupation_dcjcmpih \n",
       "                            97                             55 \n",
       "            household_children employment_occupation_cmhcxjea \n",
       "                            26                             54 \n",
       "                  h1n1_concern \n",
       "                             1 "
      ]
     },
     "metadata": {},
     "output_type": "display_data"
    },
    {
     "data": {
      "text/html": [
       "<style>\n",
       ".dl-inline {width: auto; margin:0; padding: 0}\n",
       ".dl-inline>dt, .dl-inline>dd {float: none; width: auto; display: inline-block}\n",
       ".dl-inline>dt::after {content: \":\\0020\"; padding-right: .5ex}\n",
       ".dl-inline>dt:not(:first-of-type) {padding-left: .5ex}\n",
       "</style><dl class=dl-inline><dt>opinion_seas_vacc_effective</dt><dd>0.0824999989488168</dd><dt>doctor_recc_seasonal</dt><dd>0.0453961955814061</dd><dt>age_group</dt><dd>0.0242695699941343</dd><dt>opinion_seas_risk</dt><dd>0.0276436675744228</dd><dt>health_insurance_1</dt><dd>0.00512855297255444</dd><dt>health_worker</dt><dd>0.00502353515789651</dd><dt>chronic_med_condition</dt><dd>0.00302641413940451</dd><dt>behavioral_touch_face</dt><dd>0.00323860985119644</dd><dt>race_White</dt><dd>0.00217540240180521</dd><dt>employment_occupation_qxajmpny</dt><dd>0.00205222833955751</dd><dt>employment_status_Unemployed</dt><dd>0.00158518981406862</dd><dt>employment_industry_rucpziij</dt><dd>0.00137402832048569</dd><dt>health_insurance_0</dt><dd>0.00128244872562062</dd><dt>doctor_recc_h1n1</dt><dd>0.00230159286811162</dd><dt>employment_industry_haxffmxo</dt><dd>0.0012728175324389</dd><dt>h1n1_knowledge</dt><dd>0.00164797732258759</dd><dt>employment_occupation_uqqtjvyb</dt><dd>0.0011839911092338</dd><dt>opinion_h1n1_vacc_effective</dt><dd>0.00228441386322677</dd><dt>employment_occupation_xgwztkwe</dt><dd>0.000809363352447744</dd><dt>rent_or_own_Rent</dt><dd>0.000989886153800435</dd><dt>employment_industry_vjjrobsf</dt><dd>0.000711116658859902</dd><dt>behavioral_wash_hands</dt><dd>0.000759700080235259</dd><dt>employment_industry_saaquncn</dt><dd>0.000536851291666408</dd><dt>opinion_h1n1_risk</dt><dd>0.000663758020751769</dd><dt>employment_industry_mcubkhph</dt><dd>0.000416730405629331</dd><dt>employment_industry_nduyfdeo</dt><dd>0.000351310504894981</dd><dt>employment_industry_xicduogh</dt><dd>0.00033014215317875</dd><dt>employment_occupation_xqwwgdyp</dt><dd>0.000309728606750769</dd><dt>hhs_geo_region_lrircsnp</dt><dd>0.000311397615276785</dd><dt>employment_occupation_dcjcmpih</dt><dd>0.000210431604209741</dd><dt>household_children</dt><dd>0.000331623068180113</dd><dt>employment_occupation_cmhcxjea</dt><dd>0.000144117924936871</dd><dt>h1n1_concern</dt><dd>1.54402690318457e-05</dd></dl>\n"
      ],
      "text/latex": [
       "\\begin{description*}\n",
       "\\item[opinion\\textbackslash{}\\_seas\\textbackslash{}\\_vacc\\textbackslash{}\\_effective] 0.0824999989488168\n",
       "\\item[doctor\\textbackslash{}\\_recc\\textbackslash{}\\_seasonal] 0.0453961955814061\n",
       "\\item[age\\textbackslash{}\\_group] 0.0242695699941343\n",
       "\\item[opinion\\textbackslash{}\\_seas\\textbackslash{}\\_risk] 0.0276436675744228\n",
       "\\item[health\\textbackslash{}\\_insurance\\textbackslash{}\\_1] 0.00512855297255444\n",
       "\\item[health\\textbackslash{}\\_worker] 0.00502353515789651\n",
       "\\item[chronic\\textbackslash{}\\_med\\textbackslash{}\\_condition] 0.00302641413940451\n",
       "\\item[behavioral\\textbackslash{}\\_touch\\textbackslash{}\\_face] 0.00323860985119644\n",
       "\\item[race\\textbackslash{}\\_White] 0.00217540240180521\n",
       "\\item[employment\\textbackslash{}\\_occupation\\textbackslash{}\\_qxajmpny] 0.00205222833955751\n",
       "\\item[employment\\textbackslash{}\\_status\\textbackslash{}\\_Unemployed] 0.00158518981406862\n",
       "\\item[employment\\textbackslash{}\\_industry\\textbackslash{}\\_rucpziij] 0.00137402832048569\n",
       "\\item[health\\textbackslash{}\\_insurance\\textbackslash{}\\_0] 0.00128244872562062\n",
       "\\item[doctor\\textbackslash{}\\_recc\\textbackslash{}\\_h1n1] 0.00230159286811162\n",
       "\\item[employment\\textbackslash{}\\_industry\\textbackslash{}\\_haxffmxo] 0.0012728175324389\n",
       "\\item[h1n1\\textbackslash{}\\_knowledge] 0.00164797732258759\n",
       "\\item[employment\\textbackslash{}\\_occupation\\textbackslash{}\\_uqqtjvyb] 0.0011839911092338\n",
       "\\item[opinion\\textbackslash{}\\_h1n1\\textbackslash{}\\_vacc\\textbackslash{}\\_effective] 0.00228441386322677\n",
       "\\item[employment\\textbackslash{}\\_occupation\\textbackslash{}\\_xgwztkwe] 0.000809363352447744\n",
       "\\item[rent\\textbackslash{}\\_or\\textbackslash{}\\_own\\textbackslash{}\\_Rent] 0.000989886153800435\n",
       "\\item[employment\\textbackslash{}\\_industry\\textbackslash{}\\_vjjrobsf] 0.000711116658859902\n",
       "\\item[behavioral\\textbackslash{}\\_wash\\textbackslash{}\\_hands] 0.000759700080235259\n",
       "\\item[employment\\textbackslash{}\\_industry\\textbackslash{}\\_saaquncn] 0.000536851291666408\n",
       "\\item[opinion\\textbackslash{}\\_h1n1\\textbackslash{}\\_risk] 0.000663758020751769\n",
       "\\item[employment\\textbackslash{}\\_industry\\textbackslash{}\\_mcubkhph] 0.000416730405629331\n",
       "\\item[employment\\textbackslash{}\\_industry\\textbackslash{}\\_nduyfdeo] 0.000351310504894981\n",
       "\\item[employment\\textbackslash{}\\_industry\\textbackslash{}\\_xicduogh] 0.00033014215317875\n",
       "\\item[employment\\textbackslash{}\\_occupation\\textbackslash{}\\_xqwwgdyp] 0.000309728606750769\n",
       "\\item[hhs\\textbackslash{}\\_geo\\textbackslash{}\\_region\\textbackslash{}\\_lrircsnp] 0.000311397615276785\n",
       "\\item[employment\\textbackslash{}\\_occupation\\textbackslash{}\\_dcjcmpih] 0.000210431604209741\n",
       "\\item[household\\textbackslash{}\\_children] 0.000331623068180113\n",
       "\\item[employment\\textbackslash{}\\_occupation\\textbackslash{}\\_cmhcxjea] 0.000144117924936871\n",
       "\\item[h1n1\\textbackslash{}\\_concern] 1.54402690318457e-05\n",
       "\\end{description*}\n"
      ],
      "text/markdown": [
       "opinion_seas_vacc_effective\n",
       ":   0.0824999989488168doctor_recc_seasonal\n",
       ":   0.0453961955814061age_group\n",
       ":   0.0242695699941343opinion_seas_risk\n",
       ":   0.0276436675744228health_insurance_1\n",
       ":   0.00512855297255444health_worker\n",
       ":   0.00502353515789651chronic_med_condition\n",
       ":   0.00302641413940451behavioral_touch_face\n",
       ":   0.00323860985119644race_White\n",
       ":   0.00217540240180521employment_occupation_qxajmpny\n",
       ":   0.00205222833955751employment_status_Unemployed\n",
       ":   0.00158518981406862employment_industry_rucpziij\n",
       ":   0.00137402832048569health_insurance_0\n",
       ":   0.00128244872562062doctor_recc_h1n1\n",
       ":   0.00230159286811162employment_industry_haxffmxo\n",
       ":   0.0012728175324389h1n1_knowledge\n",
       ":   0.00164797732258759employment_occupation_uqqtjvyb\n",
       ":   0.0011839911092338opinion_h1n1_vacc_effective\n",
       ":   0.00228441386322677employment_occupation_xgwztkwe\n",
       ":   0.000809363352447744rent_or_own_Rent\n",
       ":   0.000989886153800435employment_industry_vjjrobsf\n",
       ":   0.000711116658859902behavioral_wash_hands\n",
       ":   0.000759700080235259employment_industry_saaquncn\n",
       ":   0.000536851291666408opinion_h1n1_risk\n",
       ":   0.000663758020751769employment_industry_mcubkhph\n",
       ":   0.000416730405629331employment_industry_nduyfdeo\n",
       ":   0.000351310504894981employment_industry_xicduogh\n",
       ":   0.00033014215317875employment_occupation_xqwwgdyp\n",
       ":   0.000309728606750769hhs_geo_region_lrircsnp\n",
       ":   0.000311397615276785employment_occupation_dcjcmpih\n",
       ":   0.000210431604209741household_children\n",
       ":   0.000331623068180113employment_occupation_cmhcxjea\n",
       ":   0.000144117924936871h1n1_concern\n",
       ":   1.54402690318457e-05\n",
       "\n"
      ],
      "text/plain": [
       "   opinion_seas_vacc_effective           doctor_recc_seasonal \n",
       "                  8.250000e-02                   4.539620e-02 \n",
       "                     age_group              opinion_seas_risk \n",
       "                  2.426957e-02                   2.764367e-02 \n",
       "            health_insurance_1                  health_worker \n",
       "                  5.128553e-03                   5.023535e-03 \n",
       "         chronic_med_condition          behavioral_touch_face \n",
       "                  3.026414e-03                   3.238610e-03 \n",
       "                    race_White employment_occupation_qxajmpny \n",
       "                  2.175402e-03                   2.052228e-03 \n",
       "  employment_status_Unemployed   employment_industry_rucpziij \n",
       "                  1.585190e-03                   1.374028e-03 \n",
       "            health_insurance_0               doctor_recc_h1n1 \n",
       "                  1.282449e-03                   2.301593e-03 \n",
       "  employment_industry_haxffmxo                 h1n1_knowledge \n",
       "                  1.272818e-03                   1.647977e-03 \n",
       "employment_occupation_uqqtjvyb    opinion_h1n1_vacc_effective \n",
       "                  1.183991e-03                   2.284414e-03 \n",
       "employment_occupation_xgwztkwe               rent_or_own_Rent \n",
       "                  8.093634e-04                   9.898862e-04 \n",
       "  employment_industry_vjjrobsf          behavioral_wash_hands \n",
       "                  7.111167e-04                   7.597001e-04 \n",
       "  employment_industry_saaquncn              opinion_h1n1_risk \n",
       "                  5.368513e-04                   6.637580e-04 \n",
       "  employment_industry_mcubkhph   employment_industry_nduyfdeo \n",
       "                  4.167304e-04                   3.513105e-04 \n",
       "  employment_industry_xicduogh employment_occupation_xqwwgdyp \n",
       "                  3.301422e-04                   3.097286e-04 \n",
       "       hhs_geo_region_lrircsnp employment_occupation_dcjcmpih \n",
       "                  3.113976e-04                   2.104316e-04 \n",
       "            household_children employment_occupation_cmhcxjea \n",
       "                  3.316231e-04                   1.441179e-04 \n",
       "                  h1n1_concern \n",
       "                  1.544027e-05 "
      ]
     },
     "metadata": {},
     "output_type": "display_data"
    }
   ],
   "source": [
    "#install.packages(praznik)\n",
    "library(praznik)\n",
    "\n",
    "test_set <- ts_set_enc\n",
    "\n",
    "\n",
    "X <- tr_set_enc\n",
    "Y <- read.csv(\"training_set_labels.csv\")\n",
    "summary(Y)\n",
    "\n",
    "results <- MRMR(X[, -c(1)], Y[, c(2)], 40, positive = T) # arbitrary number of cols to keep for h1n1\n",
    "results$selection\n",
    "results$score\n",
    "\n",
    "results <- MRMR(X[, -c(1)], Y[, c(3)], 40, positive = T) # arbitrary number of cols to keep for seasonal\n",
    "results$selection\n",
    "results$score\n",
    "\n",
    "features_to_keep = c(3,6,7,10,11,12,13,14,15,16,17,19,20,22,28,29,30,32,36,38,41,45,46,47,55,56,66,67,70,72,77,80,87,91,94)\n",
    "\n",
    "mrmr_tr_set <- X[, features_to_keep]\n",
    "mrmr_ts_set <- test_set[, features_to_keep]"
   ]
  },
  {
   "cell_type": "markdown",
   "metadata": {},
   "source": [
    "The selection of features is made for one output and then the other. It remained to choose which features to keep from all those that emerged. 19 features were common to both labels so they were kept. For the h1n1_vaccine label, 8 additional features were selected but only 7 had a sufficient score to be considered interesting. For seasonal_vaccine, 13 additional features and 9 are interesting. In total there will be 35 features for both outputs. This is less than with the PCA."
   ]
  },
  {
   "cell_type": "markdown",
   "metadata": {},
   "source": [
    "### Linear model with MRMR"
   ]
  },
  {
   "cell_type": "markdown",
   "metadata": {},
   "source": [
    "The steps are the same than with PCA, only the results will eventually change."
   ]
  },
  {
   "cell_type": "code",
   "execution_count": 29,
   "metadata": {},
   "outputs": [],
   "source": [
    "total_train_set <- cbind(mrmr_tr_set, labels)"
   ]
  },
  {
   "cell_type": "code",
   "execution_count": 30,
   "metadata": {},
   "outputs": [],
   "source": [
    "# Separation of the train in two groups in order to calculate the error between prediction and reality.\n",
    "vaccine_idx <- sample(1:nrow(total_train_set))\n",
    "half_split <- floor(nrow(total_train_set)/2)\n",
    "train_data_set <- total_train_set[vaccine_idx[1:half_split],]\n",
    "test_data <- total_train_set[vaccine_idx[(half_split+1):nrow(total_train_set)],]\n",
    "target_idx <- ncol(train_data_set)\n",
    "targets <- c(target_idx, target_idx-1)\n",
    "\n",
    "# Linear model & prediction\n",
    "model <- lm(cbind(h1n1_vaccine, seasonal_vaccine)~., data=train_data_set)\n",
    "Y_pred <- predict(model,test_data[,-targets])"
   ]
  },
  {
   "cell_type": "code",
   "execution_count": 31,
   "metadata": {},
   "outputs": [
    {
     "name": "stdout",
     "output_type": "stream",
     "text": [
      "[1] \"[INFO] - Training set size: 12017 - Testing set size 1336\"\n",
      "[1] \"[INFO] - Misclassification rate h1n1 - 1 fold: 0.147455089820359\"\n",
      "[1] \"[INFO] - Misclassification rate seasonal - 1 fold: 0.229041916167665\"\n",
      "[1] \"[INFO] - Training set size: 12017 - Testing set size 1336\"\n",
      "[1] \"[INFO] - Misclassification rate h1n1 - 2 fold: 0.150449101796407\"\n",
      "[1] \"[INFO] - Misclassification rate seasonal - 2 fold: 0.230538922155689\"\n",
      "[1] \"[INFO] - Training set size: 12017 - Testing set size 1336\"\n",
      "[1] \"[INFO] - Misclassification rate h1n1 - 3 fold: 0.141467065868264\"\n",
      "[1] \"[INFO] - Misclassification rate seasonal - 3 fold: 0.229041916167665\"\n",
      "[1] \"[INFO] - Training set size: 12017 - Testing set size 1336\"\n",
      "[1] \"[INFO] - Misclassification rate h1n1 - 4 fold: 0.148952095808383\"\n",
      "[1] \"[INFO] - Misclassification rate seasonal - 4 fold: 0.226047904191617\"\n",
      "[1] \"[INFO] - Training set size: 12017 - Testing set size 1336\"\n",
      "[1] \"[INFO] - Misclassification rate h1n1 - 5 fold: 0.154940119760479\"\n",
      "[1] \"[INFO] - Misclassification rate seasonal - 5 fold: 0.233532934131736\"\n",
      "[1] \"[INFO] - Training set size: 12017 - Testing set size 1336\"\n",
      "[1] \"[INFO] - Misclassification rate h1n1 - 6 fold: 0.161676646706587\"\n",
      "[1] \"[INFO] - Misclassification rate seasonal - 6 fold: 0.214071856287425\"\n",
      "[1] \"[INFO] - Training set size: 12017 - Testing set size 1336\"\n",
      "[1] \"[INFO] - Misclassification rate h1n1 - 7 fold: 0.184131736526946\"\n",
      "[1] \"[INFO] - Misclassification rate seasonal - 7 fold: 0.229041916167665\"\n",
      "[1] \"[INFO] - Training set size: 12017 - Testing set size 1336\"\n",
      "[1] \"[INFO] - Misclassification rate h1n1 - 8 fold: 0.142215568862275\"\n",
      "[1] \"[INFO] - Misclassification rate seasonal - 8 fold: 0.231287425149701\"\n",
      "[1] \"[INFO] - Training set size: 12017 - Testing set size 1336\"\n",
      "[1] \"[INFO] - Misclassification rate h1n1 - 9 fold: 0.167664670658683\"\n",
      "[1] \"[INFO] - Misclassification rate seasonal - 9 fold: 0.235778443113772\"\n",
      "[1] \"[INFO] - Training set size: 12024 - Testing set size 1329\"\n",
      "[1] \"[INFO] - Misclassification rate h1n1 - 10 fold: 0.17456734386757\"\n",
      "[1] \"[INFO] - Misclassification rate seasonal - 10 fold: 0.254326561324304\"\n",
      "[1] \"[INFO] - Mean misclassification rate h1n1: 0.157351943967595\"\n",
      "[1] \"[INFO] - Mean misclassification rate seasonal: 0.231270979485724\"\n"
     ]
    }
   ],
   "source": [
    "k = 10\n",
    "accuracy_vec_h1n1 <- array(0,k)\n",
    "accuracy_vec_seasonal <- array(0,k)\n",
    "threshold <- 0.5\n",
    "\n",
    "# 1. Shuffle the dataset randomly.\n",
    "vaccine_idx <- sample(1:nrow(train_data_set))\n",
    "\n",
    "# 2. Split the dataset into k groups\n",
    "max <- ceiling(nrow(train_data_set)/k)\n",
    "splits <- split(vaccine_idx, ceiling(seq_along(vaccine_idx)/max))\n",
    "\n",
    "# 3. For each unique group:\n",
    "for (i in 1:k){\n",
    "  #3.1 Take the group as a hold out or test data set\n",
    "  test_data <- train_data_set[splits[[i]],]\n",
    "  \n",
    "  #3.2 Take the remaining groups as a training data set\n",
    "  train_data <- train_data_set[-splits[[i]],]\n",
    "  print(paste(\"[INFO] - Training set size:\",dim(train_data)[1],\"- Testing set size\",dim(test_data)[1]))\n",
    "  \n",
    "  #3.3 Fit a model on the training set and evaluate it on the test set\n",
    "  model <- lm(cbind(h1n1_vaccine, seasonal_vaccine) ~ ., data=train_data)\n",
    "  Y_pred <- predict(model,test_data[,-targets])\n",
    "  Y_h1n1 <- test_data[,targets[2]]\n",
    "  Y_seasonal <- test_data[,targets[1]]\n",
    "  \n",
    "  #3.4 Store the prediction of the tree (2 is to take only the P(Y=\"spam\"|x))\n",
    "  Y_hat <- ifelse(Y_pred > threshold,1,0) \n",
    "  # Need one confusion matrix for h1n1 and one for seasonal\n",
    "  confusion_matrix_h1n1 <- table(Y_hat[,1],Y_h1n1)\n",
    "  confusion_matrix_seasonal <- table(Y_hat[,2],Y_seasonal)\n",
    "  \n",
    "  #3.5 Retain the evaluation score and discard the model\n",
    "  accuracy_vec_h1n1[i] = (confusion_matrix_h1n1[1,1]+confusion_matrix_h1n1[2,2])/sum(confusion_matrix_h1n1)\n",
    "  misclassification_rate = 1 - accuracy_vec_h1n1[i]\n",
    "  print(paste(\"[INFO] - Misclassification rate h1n1 -\",i,\"fold:\",misclassification_rate))\n",
    "  \n",
    "  accuracy_vec_seasonal[i] = (confusion_matrix_seasonal[1,1]+confusion_matrix_seasonal[2,2])/sum(confusion_matrix_seasonal)\n",
    "  misclassification_rate = 1 - accuracy_vec_seasonal[i]\n",
    "  print(paste(\"[INFO] - Misclassification rate seasonal -\",i,\"fold:\",misclassification_rate))\n",
    "  \n",
    "}\n",
    "\n",
    "#4. Summarize the skill of the model using the sample of model evaluation scores\n",
    "print(paste(\"[INFO] - Mean misclassification rate h1n1:\",1-mean(accuracy_vec_h1n1)))\n",
    "print(paste(\"[INFO] - Mean misclassification rate seasonal:\",1-mean(accuracy_vec_seasonal)))"
   ]
  },
  {
   "cell_type": "code",
   "execution_count": 32,
   "metadata": {},
   "outputs": [
    {
     "name": "stderr",
     "output_type": "stream",
     "text": [
      "Warning message in if (rownames(confusion_matrix) == 1) {:\n",
      "“the condition has length > 1 and only the first element will be used”\n"
     ]
    },
    {
     "data": {
      "image/png": "[encoded data removed]",
      "text/plain": [
       "Plot with title “ROC Curve for seasonal vaccine”"
      ]
     },
     "metadata": {
      "image/png": {
       "height": 420,
       "width": 420
      }
     },
     "output_type": "display_data"
    },
    {
     "name": "stdout",
     "output_type": "stream",
     "text": [
      "[1] \"AUC for h1n1 : 0.834994556864754 AUC for seasonal : 0.819988636363636\"\n"
     ]
    },
    {
     "data": {
      "image/png": "[encoded data removed]",
      "text/plain": [
       "Plot with title “ROC Curve for h1n1 vaccine”"
      ]
     },
     "metadata": {
      "image/png": {
       "height": 420,
       "width": 420
      }
     },
     "output_type": "display_data"
    }
   ],
   "source": [
    "# ROC for seasonal vaccine\n",
    "\n",
    "AUC_seasonal = AUCROC(Y_pred[,2], test_data[,targets[1]],\"ROC Curve for seasonal vaccine\")\n",
    "\n",
    "# ROC for h1n1 vaccine\n",
    "\n",
    "AUC_h1n1 =  AUCROC(Y_pred[,1], test_data[,targets[2]],\"ROC Curve for h1n1 vaccine\")\n",
    "\n",
    "print(paste(\"AUC for h1n1 :\", AUC_h1n1, \"AUC for seasonal :\", AUC_seasonal)) "
   ]
  },
  {
   "cell_type": "markdown",
   "metadata": {},
   "source": [
    "The AUC is better for seasonal_vaccine but worse for h1n1_vaccine. The linear model is therefore better suited with PCA to predict h1n1_vaccine."
   ]
  },
  {
   "cell_type": "code",
   "execution_count": 33,
   "metadata": {},
   "outputs": [
    {
     "data": {
      "text/plain": [
       "Response h1n1_vaccine :\n",
       "\n",
       "Call:\n",
       "lm(formula = h1n1_vaccine ~ h1n1_knowledge + behavioral_face_mask + \n",
       "    behavioral_wash_hands + behavioral_touch_face + doctor_recc_h1n1 + \n",
       "    doctor_recc_seasonal + chronic_med_condition + child_under_6_months + \n",
       "    health_worker + opinion_h1n1_vacc_effective + opinion_h1n1_risk + \n",
       "    opinion_seas_vacc_effective + opinion_seas_risk + age_group + \n",
       "    health_insurance_0 + health_insurance_1 + health_insurance_NA + \n",
       "    employment_industry_atmlpfrs + employment_industry_haxffmxo + \n",
       "    employment_industry_mcubkhph + employment_industry_nduyfdeo + \n",
       "    employment_industry_rucpziij + employment_industry_saaquncn + \n",
       "    employment_industry_vjjrobsf + employment_occupation_cmhcxjea + \n",
       "    employment_occupation_dcjcmpih + employment_occupation_qxajmpny + \n",
       "    employment_occupation_rcertsgn + employment_occupation_uqqtjvyb + \n",
       "    employment_occupation_xgwztkwe + race_Black + race_White + \n",
       "    rent_or_own_Rent + employment_status_Unemployed + hhs_geo_region_bhuqouqj, \n",
       "    data = total_train_set)\n",
       "\n",
       "Residuals:\n",
       "     Min       1Q   Median       3Q      Max \n",
       "-0.92600 -0.20908 -0.07376  0.10350  1.26153 \n",
       "\n",
       "Coefficients: (2 not defined because of singularities)\n",
       "                                Estimate Std. Error t value Pr(>|t|)    \n",
       "(Intercept)                    -0.200234   0.010936 -18.310  < 2e-16 ***\n",
       "h1n1_knowledge                  0.044812   0.007137   6.279 3.47e-10 ***\n",
       "behavioral_face_mask            0.024712   0.008472   2.917 0.003538 ** \n",
       "behavioral_wash_hands          -0.003016   0.006039  -0.500 0.617422    \n",
       "behavioral_touch_face          -0.003920   0.004878  -0.804 0.421588    \n",
       "doctor_recc_h1n1                0.329778   0.006789  48.577  < 2e-16 ***\n",
       "doctor_recc_seasonal           -0.064390   0.005960 -10.804  < 2e-16 ***\n",
       "chronic_med_condition           0.002588   0.004986   0.519 0.603666    \n",
       "child_under_6_months            0.031770   0.007855   4.045 5.25e-05 ***\n",
       "health_worker                   0.104702   0.008313  12.595  < 2e-16 ***\n",
       "opinion_h1n1_vacc_effective     0.189520   0.009644  19.651  < 2e-16 ***\n",
       "opinion_h1n1_risk               0.225827   0.008323  27.132  < 2e-16 ***\n",
       "opinion_seas_vacc_effective    -0.007826   0.009127  -0.857 0.391233    \n",
       "opinion_seas_risk               0.057923   0.007806   7.420 1.20e-13 ***\n",
       "age_group                       0.051306   0.006465   7.936 2.16e-15 ***\n",
       "health_insurance_0              0.070732   0.009174   7.710 1.30e-14 ***\n",
       "health_insurance_1              0.170078   0.004430  38.395  < 2e-16 ***\n",
       "health_insurance_NA                   NA         NA      NA       NA    \n",
       "employment_industry_atmlpfrs   -0.045713   0.011622  -3.933 8.40e-05 ***\n",
       "employment_industry_haxffmxo    0.382845   0.028556  13.407  < 2e-16 ***\n",
       "employment_industry_mcubkhph   -0.038440   0.020882  -1.841 0.065651 .  \n",
       "employment_industry_nduyfdeo    0.005591   0.020498   0.273 0.785031    \n",
       "employment_industry_rucpziij   -0.046783   0.015420  -3.034 0.002416 ** \n",
       "employment_industry_saaquncn   -0.001131   0.018875  -0.060 0.952207    \n",
       "employment_industry_vjjrobsf   -0.046431   0.015511  -2.993 0.002761 ** \n",
       "employment_occupation_cmhcxjea  0.047086   0.012206   3.858 0.000115 ***\n",
       "employment_occupation_dcjcmpih        NA         NA      NA       NA    \n",
       "employment_occupation_qxajmpny -0.039555   0.015029  -2.632 0.008495 ** \n",
       "employment_occupation_rcertsgn -0.027621   0.021312  -1.296 0.194987    \n",
       "employment_occupation_uqqtjvyb -0.035655   0.016393  -2.175 0.029640 *  \n",
       "employment_occupation_xgwztkwe -0.049748   0.010761  -4.623 3.80e-06 ***\n",
       "race_Black                     -0.048818   0.009606  -5.082 3.76e-07 ***\n",
       "race_White                     -0.002576   0.006646  -0.388 0.698311    \n",
       "rent_or_own_Rent               -0.025198   0.005374  -4.689 2.76e-06 ***\n",
       "employment_status_Unemployed   -0.012326   0.009595  -1.285 0.198926    \n",
       "hhs_geo_region_bhuqouqj         0.010930   0.006863   1.592 0.111287    \n",
       "---\n",
       "Signif. codes:  0 ‘***’ 0.001 ‘**’ 0.01 ‘*’ 0.05 ‘.’ 0.1 ‘ ’ 1\n",
       "\n",
       "Residual standard error: 0.3433 on 26673 degrees of freedom\n",
       "Multiple R-squared:  0.2966,\tAdjusted R-squared:  0.2957 \n",
       "F-statistic: 340.8 on 33 and 26673 DF,  p-value: < 2.2e-16\n",
       "\n",
       "\n",
       "Response seasonal_vaccine :\n",
       "\n",
       "Call:\n",
       "lm(formula = seasonal_vaccine ~ h1n1_knowledge + behavioral_face_mask + \n",
       "    behavioral_wash_hands + behavioral_touch_face + doctor_recc_h1n1 + \n",
       "    doctor_recc_seasonal + chronic_med_condition + child_under_6_months + \n",
       "    health_worker + opinion_h1n1_vacc_effective + opinion_h1n1_risk + \n",
       "    opinion_seas_vacc_effective + opinion_seas_risk + age_group + \n",
       "    health_insurance_0 + health_insurance_1 + health_insurance_NA + \n",
       "    employment_industry_atmlpfrs + employment_industry_haxffmxo + \n",
       "    employment_industry_mcubkhph + employment_industry_nduyfdeo + \n",
       "    employment_industry_rucpziij + employment_industry_saaquncn + \n",
       "    employment_industry_vjjrobsf + employment_occupation_cmhcxjea + \n",
       "    employment_occupation_dcjcmpih + employment_occupation_qxajmpny + \n",
       "    employment_occupation_rcertsgn + employment_occupation_uqqtjvyb + \n",
       "    employment_occupation_xgwztkwe + race_Black + race_White + \n",
       "    rent_or_own_Rent + employment_status_Unemployed + hhs_geo_region_bhuqouqj, \n",
       "    data = total_train_set)\n",
       "\n",
       "Residuals:\n",
       "     Min       1Q   Median       3Q      Max \n",
       "-1.32320 -0.31577 -0.02156  0.31403  1.34739 \n",
       "\n",
       "Coefficients: (2 not defined because of singularities)\n",
       "                                 Estimate Std. Error t value Pr(>|t|)    \n",
       "(Intercept)                    -0.2054797  0.0129107 -15.915  < 2e-16 ***\n",
       "h1n1_knowledge                  0.0634060  0.0084262   7.525 5.44e-14 ***\n",
       "behavioral_face_mask            0.0005072  0.0100018   0.051 0.959557    \n",
       "behavioral_wash_hands           0.0115341  0.0071293   1.618 0.105707    \n",
       "behavioral_touch_face           0.0269679  0.0057589   4.683 2.84e-06 ***\n",
       "doctor_recc_h1n1               -0.0555257  0.0080147  -6.928 4.36e-12 ***\n",
       "doctor_recc_seasonal            0.2628725  0.0070362  37.360  < 2e-16 ***\n",
       "chronic_med_condition           0.0269891  0.0058861   4.585 4.55e-06 ***\n",
       "child_under_6_months            0.0080338  0.0092730   0.866 0.386294    \n",
       "health_worker                   0.1137089  0.0098141  11.586  < 2e-16 ***\n",
       "opinion_h1n1_vacc_effective    -0.0185305  0.0113858  -1.628 0.103639    \n",
       "opinion_h1n1_risk               0.0017258  0.0098263   0.176 0.860586    \n",
       "opinion_seas_vacc_effective     0.3105618  0.0107756  28.821  < 2e-16 ***\n",
       "opinion_seas_risk               0.3450384  0.0092155  37.441  < 2e-16 ***\n",
       "age_group                       0.2529327  0.0076319  33.141  < 2e-16 ***\n",
       "health_insurance_0             -0.0401052  0.0108309  -3.703 0.000214 ***\n",
       "health_insurance_1              0.0595186  0.0052296  11.381  < 2e-16 ***\n",
       "health_insurance_NA                    NA         NA      NA       NA    \n",
       "employment_industry_atmlpfrs   -0.0291152  0.0137211  -2.122 0.033852 *  \n",
       "employment_industry_haxffmxo    0.4782424  0.0337121  14.186  < 2e-16 ***\n",
       "employment_industry_mcubkhph   -0.0724641  0.0246522  -2.939 0.003291 ** \n",
       "employment_industry_nduyfdeo   -0.0911509  0.0241995  -3.767 0.000166 ***\n",
       "employment_industry_rucpziij   -0.1012974  0.0182044  -5.564 2.66e-08 ***\n",
       "employment_industry_saaquncn   -0.0997474  0.0222838  -4.476 7.63e-06 ***\n",
       "employment_industry_vjjrobsf   -0.0922499  0.0183118  -5.038 4.74e-07 ***\n",
       "employment_occupation_cmhcxjea  0.0478830  0.0144101   3.323 0.000892 ***\n",
       "employment_occupation_dcjcmpih         NA         NA      NA       NA    \n",
       "employment_occupation_qxajmpny -0.1116964  0.0177425  -6.295 3.11e-10 ***\n",
       "employment_occupation_rcertsgn -0.0012224  0.0251607  -0.049 0.961250    \n",
       "employment_occupation_uqqtjvyb -0.1072653  0.0193535  -5.542 3.01e-08 ***\n",
       "employment_occupation_xgwztkwe -0.0693265  0.0127047  -5.457 4.89e-08 ***\n",
       "race_Black                     -0.0527556  0.0113411  -4.652 3.31e-06 ***\n",
       "race_White                      0.0175003  0.0078460   2.230 0.025723 *  \n",
       "rent_or_own_Rent               -0.0414201  0.0063446  -6.528 6.77e-11 ***\n",
       "employment_status_Unemployed   -0.0727699  0.0113275  -6.424 1.35e-10 ***\n",
       "hhs_geo_region_bhuqouqj        -0.0046885  0.0081027  -0.579 0.562840    \n",
       "---\n",
       "Signif. codes:  0 ‘***’ 0.001 ‘**’ 0.01 ‘*’ 0.05 ‘.’ 0.1 ‘ ’ 1\n",
       "\n",
       "Residual standard error: 0.4053 on 26673 degrees of freedom\n",
       "Multiple R-squared:  0.3407,\tAdjusted R-squared:  0.3399 \n",
       "F-statistic: 417.8 on 33 and 26673 DF,  p-value: < 2.2e-16\n",
       "\n"
      ]
     },
     "metadata": {},
     "output_type": "display_data"
    }
   ],
   "source": [
    "model <- lm(cbind(h1n1_vaccine, seasonal_vaccine)~., data=total_train_set)\n",
    "summary(model)\n",
    "Y_pred <- predict(model,mrmr_ts_set)"
   ]
  },
  {
   "cell_type": "markdown",
   "metadata": {},
   "source": [
    "### Single layer neural network with mrmr\n",
    "\n",
    "Once again the steps are very similar to what was done previously for the neural networks. We observe better results for the estimation of seasonal flue vaccines than for h1n1. "
   ]
  },
  {
   "cell_type": "code",
   "execution_count": 39,
   "metadata": {},
   "outputs": [
    {
     "name": "stdout",
     "output_type": "stream",
     "text": [
      "[1] \"[INFO] - Testing h= 5\"\n",
      "[1] \"reached maxit ? 0\"\n",
      "[1] \"reached maxit ? 1\"\n",
      "[1] \"[INFO] - Testing h= 10\"\n",
      "[1] \"reached maxit ? 0\"\n",
      "[1] \"reached maxit ? 0\"\n",
      "[1] \"[INFO] - Testing h= 15\"\n",
      "[1] \"reached maxit ? 0\"\n",
      "[1] \"reached maxit ? 0\"\n"
     ]
    },
    {
     "data": {
      "image/png": "[encoded data removed]",
      "text/plain": [
       "Plot with title “h1n1 estimation”"
      ]
     },
     "metadata": {
      "image/png": {
       "height": 420,
       "width": 420
      }
     },
     "output_type": "display_data"
    },
    {
     "data": {
      "image/png": "[encoded data removed]",
      "text/plain": [
       "Plot with title “seasonal estimation”"
      ]
     },
     "metadata": {
      "image/png": {
       "height": 420,
       "width": 420
      }
     },
     "output_type": "display_data"
    }
   ],
   "source": [
    "k <- 2\n",
    "\n",
    "hidden_nodes_vec <- c(5, 10, 15)\n",
    "results1 <- c()\n",
    "results2 <- c()\n",
    "for(hidden_nodes in hidden_nodes_vec){\n",
    "    print(paste(\"[INFO] - Testing h=\",hidden_nodes))\n",
    "    results1 <- c(results1, auc_nnet_cross_valid(mrmr_tr_set, label_1, hidden_nodes=hidden_nodes,k=k))\n",
    "    results2 <- c(results2, auc_nnet_cross_valid(mrmr_tr_set, label_2, hidden_nodes=hidden_nodes,k=k))\n",
    "}\n",
    "#mean(AUC) according to the nb of hidden nodes \n",
    "plot(hidden_nodes_vec, results1, xlab=\"Number of hidden nodes\", ylab=\"AUCROC\", main=\"h1n1 estimation\")\n",
    "lines(hidden_nodes_vec, results1)\n",
    "\n",
    "plot.new()\n",
    "\n",
    "plot(hidden_nodes_vec, results2, xlab=\"Number of hidden nodes\", ylab=\"AUCROC\", main=\"seasonal estimation\")\n",
    "lines(hidden_nodes_vec, results2)\n"
   ]
  },
  {
   "cell_type": "markdown",
   "metadata": {},
   "source": [
    "### SVM with mrmrm\n",
    "\n",
    "The code is the same as above. The results for the estimation of seasonal flue vaccines are better than when the features selection was done by PCA, but the AUC for the H1N1 column are a slightly less good."
   ]
  },
  {
   "cell_type": "code",
   "execution_count": null,
   "metadata": {
    "tags": []
   },
   "outputs": [],
   "source": [
    "library(\"e1071\")\n",
    "\n",
    "model_svm1 = svm(label_1 ~ ., data = mrmr_tr_set, kernel = \"polynomial\", degree=3, cost = 1, scale = FALSE)\n",
    "Y_pred1 <- predict(model_svm1,mrmr_ts_set)\n",
    "ss <- preProcess(as.data.frame(Y_pred1), method=c(\"range\"))\n",
    "Y_pred1 <- predict(ss, as.data.frame(Y_pred1))\n",
    "\n",
    "model_svm2 = svm(label_2 ~ ., data = mrmr_tr_set, kernel = \"polynomial\", degree=3, cost = 0.01, scale = FALSE)\n",
    "Y_pred2 <- predict(model_svm2,mrmr_ts_set)\n",
    "ss <- preProcess(as.data.frame(Y_pred2), method=c(\"range\"))\n",
    "Y_pred2 <- predict(ss, as.data.frame(Y_pred2))\n",
    "\n",
    "final_pred_SVM <- cbind(testing_features[, c(1)], Y_pred1, Y_pred2)"
   ]
  },
  {
   "cell_type": "markdown",
   "metadata": {},
   "source": [
    "Compared to the SVM code applied after the PCA, the kernel parameters and the cost have changed because the previous values werent optimal anymore."
   ]
  },
  {
   "cell_type": "markdown",
   "metadata": {},
   "source": [
    "### Combination of the three methods\n",
    "To optimise the results, we'll be taking all three methods' results and we'll taking their mean."
   ]
  },
  {
   "cell_type": "code",
   "execution_count": null,
   "metadata": {},
   "outputs": [],
   "source": [
    "# H1N1 column\n",
    "pred_linear_H1N1<-Y_pred[,2]\n",
    "pred_svm_H1N1<-results_1\n",
    "pred_svm_H1N1<- final_pred_SVM[,2]\n",
    "\n",
    "#Seasonal flue column\n",
    "pred_linear_seasonable<-Y_pred[,3]\n",
    "pred_svm_seasonable<-results_seasonal\n",
    "pred_svm_seasonable<- final_pred_SVM[,3]\n",
    "\n"
   ]
  },
  {
   "cell_type": "markdown",
   "metadata": {},
   "source": [
    "# Conclusions"
   ]
  },
  {
   "cell_type": "markdown",
   "metadata": {},
   "source": [
    "The linear model was very easy and fast to use. The results of this method are pretty good despite of how simple it is. In the end, it was the most efficient method that we used and submitted on Driven Data.\n",
    "\n",
    "Then, the neural netmork was an intereseting model but it was too heavy to run and prevents us to proceed to further tests. The final ressults were good for the \"Seasonal Flue\" column but it's wasn't satisfying for the \"H1N1\" column.\n",
    "\n",
    "The SVM was an in-between in term of running time. But the large possibility of combinations of the kernel's parameters prevented from making an efficient exhaustive testing. The final parameter choice suggested the possibility to have a good model with this technique. The \"AUC\" computed for the final model instance present in the notebook is significantly better \"H1N1 vaccines\" than for \"Seasonal Flue Vaccines\".\n",
    "\n",
    "Concerning MRMR, it has eliminated more features than PCA and therefore may be more suitable for models that do not support many features. In the future, if another model is proposed, the selection of features can be chosen to give the best results. In the case of this project for example, svm is able to handle a lot of features so MRMR barely improves or worsens the prediction whereas neural networks was more efficient with less features and returned better results.\n",
    "\n",
    "Finally, a combination of the neural network to predict the \"Seasonal Flue\" column and of the SVM to estimate the \"H1N1\" column was submited on Driven Data. The team thought it would get the best score among all the subitted files, but this score ended up being lower than the linear model's one which was surpising. The difference between this result and the one we computed ourself with the AUC could be due to overfitting.\n",
    "\n",
    "A second submission was made by computing the mean between the previous submission and the linear model prediction. We didn't had the results for this last solution because we didn't have any submission left.To conclude, it's a good thing to adapt our features selection technique to the need of the used machine learning method and more computational power could have allowed to study more complex models (like multi-variate random forest or more complex kernel types for the SVM). It would also allow us to execute more extensive testing.\n",
    "\n"
   ]
  },
  {
   "cell_type": "code",
   "execution_count": null,
   "metadata": {},
   "outputs": [],
   "source": []
  }
 ],
 "metadata": {
  "kernelspec": {
   "display_name": "R",
   "language": "R",
   "name": "ir"
  },
  "language_info": {
   "codemirror_mode": "r",
   "file_extension": ".r",
   "mimetype": "text/x-r-source",
   "name": "R",
   "pygments_lexer": "r",
   "version": "4.1.2"
  }
 },
 "nbformat": 4,
 "nbformat_minor": 4
}
